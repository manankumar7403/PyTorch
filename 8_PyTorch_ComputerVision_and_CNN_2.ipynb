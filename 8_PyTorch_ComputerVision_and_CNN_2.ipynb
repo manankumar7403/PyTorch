{
 "cells": [
  {
   "cell_type": "markdown",
   "metadata": {
    "id": "Vex99np2wFVt"
   },
   "source": [
    "# 8. PyTorch Computer Vision"
   ]
  },
  {
   "cell_type": "code",
   "execution_count": null,
   "metadata": {
    "colab": {
     "base_uri": "https://localhost:8080/"
    },
    "id": "GaeYzOTLwWh2",
    "outputId": "a07e2e1b-f4ab-4f58-8680-4ac8fc6a375f"
   },
   "outputs": [
    {
     "name": "stdout",
     "output_type": "stream",
     "text": [
      "Sat Aug 26 12:10:50 2023       \n",
      "+-----------------------------------------------------------------------------+\n",
      "| NVIDIA-SMI 525.105.17   Driver Version: 525.105.17   CUDA Version: 12.0     |\n",
      "|-------------------------------+----------------------+----------------------+\n",
      "| GPU  Name        Persistence-M| Bus-Id        Disp.A | Volatile Uncorr. ECC |\n",
      "| Fan  Temp  Perf  Pwr:Usage/Cap|         Memory-Usage | GPU-Util  Compute M. |\n",
      "|                               |                      |               MIG M. |\n",
      "|===============================+======================+======================|\n",
      "|   0  Tesla T4            Off  | 00000000:00:04.0 Off |                    0 |\n",
      "| N/A   41C    P8     9W /  70W |      0MiB / 15360MiB |      0%      Default |\n",
      "|                               |                      |                  N/A |\n",
      "+-------------------------------+----------------------+----------------------+\n",
      "                                                                               \n",
      "+-----------------------------------------------------------------------------+\n",
      "| Processes:                                                                  |\n",
      "|  GPU   GI   CI        PID   Type   Process name                  GPU Memory |\n",
      "|        ID   ID                                                   Usage      |\n",
      "|=============================================================================|\n",
      "|  No running processes found                                                 |\n",
      "+-----------------------------------------------------------------------------+\n"
     ]
    }
   ],
   "source": [
    "# Check for GPU\n",
    "!nvidia-smi"
   ]
  },
  {
   "cell_type": "code",
   "execution_count": null,
   "metadata": {
    "colab": {
     "base_uri": "https://localhost:8080/"
    },
    "id": "DNwZLMbCzJLk",
    "outputId": "ee8f0eac-f235-4a56-86f2-17d6d7f2cdaa"
   },
   "outputs": [
    {
     "name": "stdout",
     "output_type": "stream",
     "text": [
      "2.0.1+cu118\n",
      "cuda\n"
     ]
    }
   ],
   "source": [
    "# Import torch\n",
    "import torch\n",
    "\n",
    "# Exercises require PyTorch > 1.10.0\n",
    "print(torch.__version__)\n",
    "\n",
    "# TODO: Setup device agnostic code\n",
    "device = \"cuda\" if torch.cuda.is_available() else \"cpu\"\n",
    "print(device)"
   ]
  },
  {
   "cell_type": "markdown",
   "metadata": {
    "id": "FSFX7tc1w-en"
   },
   "source": [
    "## 1. What are 3 areas in industry where computer vision is currently being used?"
   ]
  },
  {
   "cell_type": "markdown",
   "metadata": {
    "id": "VyWRkvWGbCXj"
   },
   "source": [
    "1. Self-driving cars, such as Tesla using computer vision to percieve what's happening on the road. See Tesla AI day for more - https://youtu.be/j0z4FweCy4M\n",
    "2. Healthcare imaging, such as using computer vision to help interpret X-rays. Google also uses computer vision for detecting polyps in the intenstines - https://ai.googleblog.com/2021/08/improved-detection-of-elusive-polyps.html\n",
    "3. Security, computer vision can be used to detect whether someone is invading your home or not - https://store.google.com/au/product/nest_cam_battery?hl=en-GB\n",
    "\n",
    "\n",
    "Here are a few examples of established computer vision tasks:\n",
    "\n",
    "- **Image classification** sees an image and can classify it (a dog, an apple, a person’s face). More precisely, it is able to accurately predict that a given image belongs to a certain class. For example, a social media company might want to use it to automatically identify and segregate objectionable images uploaded by users.\n",
    "\n",
    "- **Object detection** can use image classification to identify a certain class of image and then detect and tabulate their appearance in an image or video. Examples include detecting damages on an assembly line or identifying machinery that requires maintenance.\n",
    "\n",
    "- **Object tracking** follows or tracks an object once it is detected. This task is often executed with images captured in sequence or real-time video feeds. Autonomous vehicles, for example, need to not only classify and detect objects such as pedestrians, other cars and road infrastructure, they need to track them in motion to avoid collisions and obey traffic laws.\n",
    "\n",
    "- **Content-based image retrieval** uses computer vision to browse, search and retrieve images from large data stores, based on the content of the images rather than metadata tags associated with them. This task can incorporate automatic image annotation that replaces manual image tagging. These tasks can be used for [digital asset management](https://www.ibm.com/topics/digital-asset-management) systems and can increase the accuracy of search and retrieval."
   ]
  },
  {
   "cell_type": "markdown",
   "metadata": {
    "id": "oBK-WI6YxDYa"
   },
   "source": [
    "## 2. Search \"what is overfitting in machine learning\" and write down a sentence about what you find."
   ]
  },
  {
   "cell_type": "markdown",
   "metadata": {
    "id": "d1rxD6GObCqh"
   },
   "source": [
    "- Overfitting is like memorizing for a test but then you can't answer a question that's slightly different.\n",
    "\n",
    "In other words, if a model is overfitting, it's learning the training data too well and these patterns don't generalize to unseen data.\n",
    "\n",
    "- Overfitting is a concept in data science, which occurs when a statistical model fits exactly against its training data. When this happens, the algorithm unfortunately cannot perform accurately against unseen data, defeating its purpose. Generalization of a model to new data is ultimately what allows us to use machine learning algorithms every day to make predictions and classify data.\n",
    "\n",
    "When machine learning algorithms are constructed, they leverage a sample dataset to train the model. However, when the model trains for too long on sample data or when the model is too complex, it can start to learn the “noise,” or irrelevant information, within the dataset. When the model memorizes the noise and fits too closely to the training set, the model becomes “overfitted,” and it is unable to generalize well to new data. If a model cannot generalize well to new data, then it will not be able to perform the classification or prediction tasks that it was intended for.\n",
    "\n",
    "Low error rates and a high variance are good indicators of overfitting. In order to prevent this type of behavior, part of the training dataset is typically set aside as the “test set” to check for overfitting. If the training data has a low error rate and the test data has a high error rate, it signals overfitting."
   ]
  },
  {
   "cell_type": "markdown",
   "metadata": {
    "id": "XeYFEqw8xK26"
   },
   "source": [
    "## 3. Search \"ways to prevent overfitting in machine learning\", write down 3 of the things you find and a sentence about each.\n",
    "> **Note:** there are lots of these, so don't worry too much about all of them, just pick 3 and start with those."
   ]
  },
  {
   "cell_type": "markdown",
   "metadata": {
    "id": "ocvOdWKcbEKr"
   },
   "source": [
    "See this article for some ideas: https://elitedatascience.com/overfitting-in-machine-learning\n",
    "\n",
    "3 ways to prevent overfitting:\n",
    "1. **Regularization techniques** - You could use [dropout on your neural networks](https://en.wikipedia.org/wiki/Dilution_(neural_networks)), dropout involves randomly removing neurons in different layers so that the remaining neurons hopefully learn more robust weights/patterns.\n",
    "2. **Use a different model** - maybe the model you're using for a specific problem is too complicated, as in, it's learning the data too well because it has so many layers. You could remove some layers to simplify your model. Or you could pick a totally different model altogether, one that may be more suited to your particular problem. Or... you could also use [transfer learning](https://en.wikipedia.org/wiki/Transfer_learning) (taking the patterns from one model and applying them to your own problem).\n",
    "3. **Reduce noise in data/cleanup dataset/introduce data augmentation techniques** - If the model is learning the data too well, it might be just memorizing the data, including the noise. One option would be to remove the noise/clean up the dataset or if this doesn't, you can introduce artificial noise through the use of data augmentation to artificially increase the diversity of your training dataset.\n",
    "\n",
    "\n",
    "**OTHER METHODS ARE:**\n",
    "\n",
    "You can prevent overfitting by diversifying and scaling your training data set or using some other data science strategies, like those given below.\n",
    "\n",
    "***Early stopping***\n",
    "\n",
    "Early stopping pauses the training phase before the machine learning model learns the noise in the data. However, getting the timing right is important; else the model will still not give accurate results.\n",
    "\n",
    "***Pruning***\n",
    "\n",
    "You might identify several features or parameters that impact the final prediction when you build a model. Feature selection—or pruning—identifies the most important features within the training set and eliminates irrelevant ones. For example, to predict if an image is an animal or human, you can look at various input parameters like face shape, ear position, body structure, etc. You may prioritize face shape and ignore the shape of the eyes.\n",
    "\n",
    "***Regularization***\n",
    "\n",
    "Regularization is a collection of training/optimization techniques that seek to reduce overfitting. These methods try to eliminate those factors that do not impact the prediction outcomes by grading features based on importance. For example, mathematical calculations apply a penalty value to features with minimal impact. Consider a statistical model attempting to predict the housing prices of a city in 20 years. Regularization would give a lower penalty value to features like population growth and average annual income but a higher penalty value to the average annual temperature of the city.\n",
    "\n",
    "***Ensembling***\n",
    "\n",
    "Ensembling combines predictions from several separate machine learning algorithms. Some models are called weak learners because their results are often inaccurate. Ensemble methods combine all the weak learners to get more accurate results. They use multiple models to analyze sample data and pick the most accurate outcomes. The two main ensemble methods are bagging and boosting. Boosting trains different machine learning models one after another to get the final result, while bagging trains them in parallel.\n",
    "\n",
    "***Data augmentation***\n",
    "\n",
    "Data augmentation is a machine learning technique that changes the sample data slightly every time the model processes it. You can do this by changing the input data in small ways. When done in moderation, data augmentation makes the training sets appear unique to the model and prevents the model from learning their characteristics. For example, applying transformations such as translation, flipping, and rotation to input images."
   ]
  },
  {
   "cell_type": "markdown",
   "metadata": {
    "id": "DKdEEFEqxM-8"
   },
   "source": [
    "## 4. Spend 20-minutes reading and clicking through the [CNN Explainer website](https://poloclub.github.io/cnn-explainer/).\n",
    "\n",
    "* Upload your own example image using the \"upload\" button on the website and see what happens in each layer of a CNN as your image passes through it.\n",
    "\n",
    "The CNN explainer website is a great insight into all of the nuts and bolts of a convolutional neural network."
   ]
  },
  {
   "cell_type": "markdown",
   "metadata": {
    "id": "TqZaJIRMbFtS"
   },
   "source": [
    "Uploaded the image of CR7."
   ]
  },
  {
   "cell_type": "markdown",
   "metadata": {
    "id": "lvf-3pODxXYI"
   },
   "source": [
    "## 5. Load the [`torchvision.datasets.MNIST()`](https://pytorch.org/vision/stable/generated/torchvision.datasets.MNIST.html#torchvision.datasets.MNIST) train and test datasets."
   ]
  },
  {
   "cell_type": "code",
   "execution_count": null,
   "metadata": {
    "colab": {
     "base_uri": "https://localhost:8080/"
    },
    "id": "SHjeuN81bHza",
    "outputId": "e9325707-77db-40c9-fd7b-3ed27411e17b"
   },
   "outputs": [
    {
     "name": "stdout",
     "output_type": "stream",
     "text": [
      "2.0.1+cu118\n",
      "0.15.2+cu118\n"
     ]
    }
   ],
   "source": [
    "# Import torch\n",
    "import torch\n",
    "from torch import nn\n",
    "\n",
    "# Import torchvision\n",
    "import torchvision\n",
    "from torchvision import datasets\n",
    "from torchvision import transforms\n",
    "from torchvision.transforms import ToTensor\n",
    "\n",
    "# Import matplotlib for visualization\n",
    "import matplotlib.pyplot as plt\n",
    "\n",
    "# Check version\n",
    "print(torch.__version__)\n",
    "print(torchvision.__version__)"
   ]
  },
  {
   "cell_type": "code",
   "execution_count": null,
   "metadata": {
    "colab": {
     "base_uri": "https://localhost:8080/"
    },
    "id": "YdtkwLheygp-",
    "outputId": "881da8f0-4c5b-4b8c-8c2f-87e3b828e0ba"
   },
   "outputs": [
    {
     "name": "stdout",
     "output_type": "stream",
     "text": [
      "Downloading http://yann.lecun.com/exdb/mnist/train-images-idx3-ubyte.gz\n",
      "Downloading http://yann.lecun.com/exdb/mnist/train-images-idx3-ubyte.gz to data/MNIST/raw/train-images-idx3-ubyte.gz\n"
     ]
    },
    {
     "name": "stderr",
     "output_type": "stream",
     "text": [
      "100%|██████████| 9912422/9912422 [00:00<00:00, 121460218.24it/s]\n"
     ]
    },
    {
     "name": "stdout",
     "output_type": "stream",
     "text": [
      "Extracting data/MNIST/raw/train-images-idx3-ubyte.gz to data/MNIST/raw\n",
      "\n",
      "Downloading http://yann.lecun.com/exdb/mnist/train-labels-idx1-ubyte.gz\n",
      "Downloading http://yann.lecun.com/exdb/mnist/train-labels-idx1-ubyte.gz to data/MNIST/raw/train-labels-idx1-ubyte.gz\n"
     ]
    },
    {
     "name": "stderr",
     "output_type": "stream",
     "text": [
      "100%|██████████| 28881/28881 [00:00<00:00, 36942877.04it/s]"
     ]
    },
    {
     "name": "stdout",
     "output_type": "stream",
     "text": [
      "Extracting data/MNIST/raw/train-labels-idx1-ubyte.gz to data/MNIST/raw\n",
      "\n",
      "Downloading http://yann.lecun.com/exdb/mnist/t10k-images-idx3-ubyte.gz\n",
      "Downloading http://yann.lecun.com/exdb/mnist/t10k-images-idx3-ubyte.gz to data/MNIST/raw/t10k-images-idx3-ubyte.gz\n"
     ]
    },
    {
     "name": "stderr",
     "output_type": "stream",
     "text": [
      "\n",
      "100%|██████████| 1648877/1648877 [00:00<00:00, 31299716.22it/s]\n"
     ]
    },
    {
     "name": "stdout",
     "output_type": "stream",
     "text": [
      "Extracting data/MNIST/raw/t10k-images-idx3-ubyte.gz to data/MNIST/raw\n",
      "\n",
      "Downloading http://yann.lecun.com/exdb/mnist/t10k-labels-idx1-ubyte.gz\n",
      "Downloading http://yann.lecun.com/exdb/mnist/t10k-labels-idx1-ubyte.gz to data/MNIST/raw/t10k-labels-idx1-ubyte.gz\n"
     ]
    },
    {
     "name": "stderr",
     "output_type": "stream",
     "text": [
      "100%|██████████| 4542/4542 [00:00<00:00, 17240297.53it/s]\n"
     ]
    },
    {
     "name": "stdout",
     "output_type": "stream",
     "text": [
      "Extracting data/MNIST/raw/t10k-labels-idx1-ubyte.gz to data/MNIST/raw\n",
      "\n"
     ]
    }
   ],
   "source": [
    "# Setup training data\n",
    "from torchvision import datasets\n",
    "\n",
    "# Get the MNIST dataset\n",
    "train_data = datasets.MNIST(\n",
    "    root=\"data\",                                 # Where to download data to?\n",
    "    train=True,                                  # Do we want training dataset? - If it's false we'll get testing dataset\n",
    "    download=True,                               # Do we want to download the dataset and put it in root directory?\n",
    "    transform=torchvision.transforms.ToTensor(), # Transforming the dataset to tensor\n",
    "    target_transform=None                        # Do we want to transform the labels/targets/image?\n",
    ")\n",
    "\n",
    "test_data = datasets.MNIST(\n",
    "    root=\"data\",\n",
    "    train=False,\n",
    "    download=True,\n",
    "    transform=torchvision.transforms.ToTensor(),\n",
    "    target_transform=None\n",
    ")"
   ]
  },
  {
   "cell_type": "code",
   "execution_count": null,
   "metadata": {
    "colab": {
     "base_uri": "https://localhost:8080/"
    },
    "id": "aHzSr20j1u96",
    "outputId": "d55f1c57-9166-4ae9-b7f8-73e67bd5729a"
   },
   "outputs": [
    {
     "data": {
      "text/plain": [
       "(Dataset MNIST\n",
       "     Number of datapoints: 60000\n",
       "     Root location: data\n",
       "     Split: Train\n",
       "     StandardTransform\n",
       " Transform: ToTensor(),\n",
       " Dataset MNIST\n",
       "     Number of datapoints: 10000\n",
       "     Root location: data\n",
       "     Split: Test\n",
       "     StandardTransform\n",
       " Transform: ToTensor())"
      ]
     },
     "execution_count": 5,
     "metadata": {},
     "output_type": "execute_result"
    }
   ],
   "source": [
    "train_data, test_data"
   ]
  },
  {
   "cell_type": "code",
   "execution_count": null,
   "metadata": {
    "colab": {
     "base_uri": "https://localhost:8080/"
    },
    "id": "CvDaMPo71vB8",
    "outputId": "20e300c5-22a4-4422-80c3-9df9b02dd19a"
   },
   "outputs": [
    {
     "data": {
      "text/plain": [
       "(60000, 10000)"
      ]
     },
     "execution_count": 6,
     "metadata": {},
     "output_type": "execute_result"
    }
   ],
   "source": [
    "len(train_data), len(test_data)"
   ]
  },
  {
   "cell_type": "code",
   "execution_count": null,
   "metadata": {
    "colab": {
     "base_uri": "https://localhost:8080/"
    },
    "id": "veOb0C131vFg",
    "outputId": "f70fec6e-a5d9-48f7-d399-dc5d7e91bb44"
   },
   "outputs": [
    {
     "name": "stdout",
     "output_type": "stream",
     "text": [
      "Image:\n",
      " tensor([[[0.0000, 0.0000, 0.0000, 0.0000, 0.0000, 0.0000, 0.0000, 0.0000,\n",
      "          0.0000, 0.0000, 0.0000, 0.0000, 0.0000, 0.0000, 0.0000, 0.0000,\n",
      "          0.0000, 0.0000, 0.0000, 0.0000, 0.0000, 0.0000, 0.0000, 0.0000,\n",
      "          0.0000, 0.0000, 0.0000, 0.0000],\n",
      "         [0.0000, 0.0000, 0.0000, 0.0000, 0.0000, 0.0000, 0.0000, 0.0000,\n",
      "          0.0000, 0.0000, 0.0000, 0.0000, 0.0000, 0.0000, 0.0000, 0.0000,\n",
      "          0.0000, 0.0000, 0.0000, 0.0000, 0.0000, 0.0000, 0.0000, 0.0000,\n",
      "          0.0000, 0.0000, 0.0000, 0.0000],\n",
      "         [0.0000, 0.0000, 0.0000, 0.0000, 0.0000, 0.0000, 0.0000, 0.0000,\n",
      "          0.0000, 0.0000, 0.0000, 0.0000, 0.0000, 0.0000, 0.0000, 0.0000,\n",
      "          0.0000, 0.0000, 0.0000, 0.0000, 0.0000, 0.0000, 0.0000, 0.0000,\n",
      "          0.0000, 0.0000, 0.0000, 0.0000],\n",
      "         [0.0000, 0.0000, 0.0000, 0.0000, 0.0000, 0.0000, 0.0000, 0.0000,\n",
      "          0.0000, 0.0000, 0.0000, 0.0000, 0.0000, 0.0000, 0.0000, 0.0000,\n",
      "          0.0000, 0.0000, 0.0000, 0.0000, 0.0000, 0.0000, 0.0000, 0.0000,\n",
      "          0.0000, 0.0000, 0.0000, 0.0000],\n",
      "         [0.0000, 0.0000, 0.0000, 0.0000, 0.0000, 0.0000, 0.0000, 0.0000,\n",
      "          0.0000, 0.0000, 0.0000, 0.0000, 0.0000, 0.0000, 0.0000, 0.0000,\n",
      "          0.0000, 0.0000, 0.0000, 0.0000, 0.0000, 0.0000, 0.0000, 0.0000,\n",
      "          0.0000, 0.0000, 0.0000, 0.0000],\n",
      "         [0.0000, 0.0000, 0.0000, 0.0000, 0.0000, 0.0000, 0.0000, 0.0000,\n",
      "          0.0000, 0.0000, 0.0000, 0.0000, 0.0118, 0.0706, 0.0706, 0.0706,\n",
      "          0.4941, 0.5333, 0.6863, 0.1020, 0.6510, 1.0000, 0.9686, 0.4980,\n",
      "          0.0000, 0.0000, 0.0000, 0.0000],\n",
      "         [0.0000, 0.0000, 0.0000, 0.0000, 0.0000, 0.0000, 0.0000, 0.0000,\n",
      "          0.1176, 0.1412, 0.3686, 0.6039, 0.6667, 0.9922, 0.9922, 0.9922,\n",
      "          0.9922, 0.9922, 0.8824, 0.6745, 0.9922, 0.9490, 0.7647, 0.2510,\n",
      "          0.0000, 0.0000, 0.0000, 0.0000],\n",
      "         [0.0000, 0.0000, 0.0000, 0.0000, 0.0000, 0.0000, 0.0000, 0.1922,\n",
      "          0.9333, 0.9922, 0.9922, 0.9922, 0.9922, 0.9922, 0.9922, 0.9922,\n",
      "          0.9922, 0.9843, 0.3647, 0.3216, 0.3216, 0.2196, 0.1529, 0.0000,\n",
      "          0.0000, 0.0000, 0.0000, 0.0000],\n",
      "         [0.0000, 0.0000, 0.0000, 0.0000, 0.0000, 0.0000, 0.0000, 0.0706,\n",
      "          0.8588, 0.9922, 0.9922, 0.9922, 0.9922, 0.9922, 0.7765, 0.7137,\n",
      "          0.9686, 0.9451, 0.0000, 0.0000, 0.0000, 0.0000, 0.0000, 0.0000,\n",
      "          0.0000, 0.0000, 0.0000, 0.0000],\n",
      "         [0.0000, 0.0000, 0.0000, 0.0000, 0.0000, 0.0000, 0.0000, 0.0000,\n",
      "          0.3137, 0.6118, 0.4196, 0.9922, 0.9922, 0.8039, 0.0431, 0.0000,\n",
      "          0.1686, 0.6039, 0.0000, 0.0000, 0.0000, 0.0000, 0.0000, 0.0000,\n",
      "          0.0000, 0.0000, 0.0000, 0.0000],\n",
      "         [0.0000, 0.0000, 0.0000, 0.0000, 0.0000, 0.0000, 0.0000, 0.0000,\n",
      "          0.0000, 0.0549, 0.0039, 0.6039, 0.9922, 0.3529, 0.0000, 0.0000,\n",
      "          0.0000, 0.0000, 0.0000, 0.0000, 0.0000, 0.0000, 0.0000, 0.0000,\n",
      "          0.0000, 0.0000, 0.0000, 0.0000],\n",
      "         [0.0000, 0.0000, 0.0000, 0.0000, 0.0000, 0.0000, 0.0000, 0.0000,\n",
      "          0.0000, 0.0000, 0.0000, 0.5451, 0.9922, 0.7451, 0.0078, 0.0000,\n",
      "          0.0000, 0.0000, 0.0000, 0.0000, 0.0000, 0.0000, 0.0000, 0.0000,\n",
      "          0.0000, 0.0000, 0.0000, 0.0000],\n",
      "         [0.0000, 0.0000, 0.0000, 0.0000, 0.0000, 0.0000, 0.0000, 0.0000,\n",
      "          0.0000, 0.0000, 0.0000, 0.0431, 0.7451, 0.9922, 0.2745, 0.0000,\n",
      "          0.0000, 0.0000, 0.0000, 0.0000, 0.0000, 0.0000, 0.0000, 0.0000,\n",
      "          0.0000, 0.0000, 0.0000, 0.0000],\n",
      "         [0.0000, 0.0000, 0.0000, 0.0000, 0.0000, 0.0000, 0.0000, 0.0000,\n",
      "          0.0000, 0.0000, 0.0000, 0.0000, 0.1373, 0.9451, 0.8824, 0.6275,\n",
      "          0.4235, 0.0039, 0.0000, 0.0000, 0.0000, 0.0000, 0.0000, 0.0000,\n",
      "          0.0000, 0.0000, 0.0000, 0.0000],\n",
      "         [0.0000, 0.0000, 0.0000, 0.0000, 0.0000, 0.0000, 0.0000, 0.0000,\n",
      "          0.0000, 0.0000, 0.0000, 0.0000, 0.0000, 0.3176, 0.9412, 0.9922,\n",
      "          0.9922, 0.4667, 0.0980, 0.0000, 0.0000, 0.0000, 0.0000, 0.0000,\n",
      "          0.0000, 0.0000, 0.0000, 0.0000],\n",
      "         [0.0000, 0.0000, 0.0000, 0.0000, 0.0000, 0.0000, 0.0000, 0.0000,\n",
      "          0.0000, 0.0000, 0.0000, 0.0000, 0.0000, 0.0000, 0.1765, 0.7294,\n",
      "          0.9922, 0.9922, 0.5882, 0.1059, 0.0000, 0.0000, 0.0000, 0.0000,\n",
      "          0.0000, 0.0000, 0.0000, 0.0000],\n",
      "         [0.0000, 0.0000, 0.0000, 0.0000, 0.0000, 0.0000, 0.0000, 0.0000,\n",
      "          0.0000, 0.0000, 0.0000, 0.0000, 0.0000, 0.0000, 0.0000, 0.0627,\n",
      "          0.3647, 0.9882, 0.9922, 0.7333, 0.0000, 0.0000, 0.0000, 0.0000,\n",
      "          0.0000, 0.0000, 0.0000, 0.0000],\n",
      "         [0.0000, 0.0000, 0.0000, 0.0000, 0.0000, 0.0000, 0.0000, 0.0000,\n",
      "          0.0000, 0.0000, 0.0000, 0.0000, 0.0000, 0.0000, 0.0000, 0.0000,\n",
      "          0.0000, 0.9765, 0.9922, 0.9765, 0.2510, 0.0000, 0.0000, 0.0000,\n",
      "          0.0000, 0.0000, 0.0000, 0.0000],\n",
      "         [0.0000, 0.0000, 0.0000, 0.0000, 0.0000, 0.0000, 0.0000, 0.0000,\n",
      "          0.0000, 0.0000, 0.0000, 0.0000, 0.0000, 0.0000, 0.1804, 0.5098,\n",
      "          0.7176, 0.9922, 0.9922, 0.8118, 0.0078, 0.0000, 0.0000, 0.0000,\n",
      "          0.0000, 0.0000, 0.0000, 0.0000],\n",
      "         [0.0000, 0.0000, 0.0000, 0.0000, 0.0000, 0.0000, 0.0000, 0.0000,\n",
      "          0.0000, 0.0000, 0.0000, 0.0000, 0.1529, 0.5804, 0.8980, 0.9922,\n",
      "          0.9922, 0.9922, 0.9804, 0.7137, 0.0000, 0.0000, 0.0000, 0.0000,\n",
      "          0.0000, 0.0000, 0.0000, 0.0000],\n",
      "         [0.0000, 0.0000, 0.0000, 0.0000, 0.0000, 0.0000, 0.0000, 0.0000,\n",
      "          0.0000, 0.0000, 0.0941, 0.4471, 0.8667, 0.9922, 0.9922, 0.9922,\n",
      "          0.9922, 0.7882, 0.3059, 0.0000, 0.0000, 0.0000, 0.0000, 0.0000,\n",
      "          0.0000, 0.0000, 0.0000, 0.0000],\n",
      "         [0.0000, 0.0000, 0.0000, 0.0000, 0.0000, 0.0000, 0.0000, 0.0000,\n",
      "          0.0902, 0.2588, 0.8353, 0.9922, 0.9922, 0.9922, 0.9922, 0.7765,\n",
      "          0.3176, 0.0078, 0.0000, 0.0000, 0.0000, 0.0000, 0.0000, 0.0000,\n",
      "          0.0000, 0.0000, 0.0000, 0.0000],\n",
      "         [0.0000, 0.0000, 0.0000, 0.0000, 0.0000, 0.0000, 0.0706, 0.6706,\n",
      "          0.8588, 0.9922, 0.9922, 0.9922, 0.9922, 0.7647, 0.3137, 0.0353,\n",
      "          0.0000, 0.0000, 0.0000, 0.0000, 0.0000, 0.0000, 0.0000, 0.0000,\n",
      "          0.0000, 0.0000, 0.0000, 0.0000],\n",
      "         [0.0000, 0.0000, 0.0000, 0.0000, 0.2157, 0.6745, 0.8863, 0.9922,\n",
      "          0.9922, 0.9922, 0.9922, 0.9569, 0.5216, 0.0431, 0.0000, 0.0000,\n",
      "          0.0000, 0.0000, 0.0000, 0.0000, 0.0000, 0.0000, 0.0000, 0.0000,\n",
      "          0.0000, 0.0000, 0.0000, 0.0000],\n",
      "         [0.0000, 0.0000, 0.0000, 0.0000, 0.5333, 0.9922, 0.9922, 0.9922,\n",
      "          0.8314, 0.5294, 0.5176, 0.0627, 0.0000, 0.0000, 0.0000, 0.0000,\n",
      "          0.0000, 0.0000, 0.0000, 0.0000, 0.0000, 0.0000, 0.0000, 0.0000,\n",
      "          0.0000, 0.0000, 0.0000, 0.0000],\n",
      "         [0.0000, 0.0000, 0.0000, 0.0000, 0.0000, 0.0000, 0.0000, 0.0000,\n",
      "          0.0000, 0.0000, 0.0000, 0.0000, 0.0000, 0.0000, 0.0000, 0.0000,\n",
      "          0.0000, 0.0000, 0.0000, 0.0000, 0.0000, 0.0000, 0.0000, 0.0000,\n",
      "          0.0000, 0.0000, 0.0000, 0.0000],\n",
      "         [0.0000, 0.0000, 0.0000, 0.0000, 0.0000, 0.0000, 0.0000, 0.0000,\n",
      "          0.0000, 0.0000, 0.0000, 0.0000, 0.0000, 0.0000, 0.0000, 0.0000,\n",
      "          0.0000, 0.0000, 0.0000, 0.0000, 0.0000, 0.0000, 0.0000, 0.0000,\n",
      "          0.0000, 0.0000, 0.0000, 0.0000],\n",
      "         [0.0000, 0.0000, 0.0000, 0.0000, 0.0000, 0.0000, 0.0000, 0.0000,\n",
      "          0.0000, 0.0000, 0.0000, 0.0000, 0.0000, 0.0000, 0.0000, 0.0000,\n",
      "          0.0000, 0.0000, 0.0000, 0.0000, 0.0000, 0.0000, 0.0000, 0.0000,\n",
      "          0.0000, 0.0000, 0.0000, 0.0000]]])\n",
      "Label:\n",
      " 5\n"
     ]
    }
   ],
   "source": [
    "# Data is in tuple form\n",
    "img = train_data[0][0]\n",
    "label = train_data[0][1]\n",
    "print(f\"Image:\\n {img}\")\n",
    "print(f\"Label:\\n {label}\")"
   ]
  },
  {
   "cell_type": "code",
   "execution_count": null,
   "metadata": {
    "colab": {
     "base_uri": "https://localhost:8080/"
    },
    "id": "P7wgUkAT27Kv",
    "outputId": "544ae6d9-3f1a-43be-b7ae-f3c32577bc8f"
   },
   "outputs": [
    {
     "data": {
      "text/plain": [
       "['0 - zero',\n",
       " '1 - one',\n",
       " '2 - two',\n",
       " '3 - three',\n",
       " '4 - four',\n",
       " '5 - five',\n",
       " '6 - six',\n",
       " '7 - seven',\n",
       " '8 - eight',\n",
       " '9 - nine']"
      ]
     },
     "execution_count": 8,
     "metadata": {},
     "output_type": "execute_result"
    }
   ],
   "source": [
    "# Get the class names from the dataset\n",
    "class_names = train_data.classes\n",
    "class_names"
   ]
  },
  {
   "cell_type": "code",
   "execution_count": null,
   "metadata": {
    "colab": {
     "base_uri": "https://localhost:8080/"
    },
    "id": "EI49KTHO27Mi",
    "outputId": "4dd8b06c-61cc-41ac-cb2a-b72dcf04a6ff"
   },
   "outputs": [
    {
     "data": {
      "text/plain": [
       "{'0 - zero': 0,\n",
       " '1 - one': 1,\n",
       " '2 - two': 2,\n",
       " '3 - three': 3,\n",
       " '4 - four': 4,\n",
       " '5 - five': 5,\n",
       " '6 - six': 6,\n",
       " '7 - seven': 7,\n",
       " '8 - eight': 8,\n",
       " '9 - nine': 9}"
      ]
     },
     "execution_count": 9,
     "metadata": {},
     "output_type": "execute_result"
    }
   ],
   "source": [
    "# Get the corresponding index to the class names\n",
    "class_to_idx = train_data.class_to_idx\n",
    "class_to_idx"
   ]
  },
  {
   "cell_type": "code",
   "execution_count": null,
   "metadata": {
    "colab": {
     "base_uri": "https://localhost:8080/"
    },
    "id": "YaGla2t427P5",
    "outputId": "62a8e01d-9a2c-4104-ac27-1ea33936ddbc"
   },
   "outputs": [
    {
     "data": {
      "text/plain": [
       "tensor([5, 0, 4,  ..., 5, 6, 8])"
      ]
     },
     "execution_count": 10,
     "metadata": {},
     "output_type": "execute_result"
    }
   ],
   "source": [
    "train_data.targets"
   ]
  },
  {
   "cell_type": "code",
   "execution_count": null,
   "metadata": {
    "colab": {
     "base_uri": "https://localhost:8080/"
    },
    "id": "un4yY6pG2Rey",
    "outputId": "d2ba82a1-8acd-4870-ed1d-22f386cd21a4"
   },
   "outputs": [
    {
     "name": "stdout",
     "output_type": "stream",
     "text": [
      "Image shape: torch.Size([1, 28, 28]) -> [color_channels, height, width]\n",
      "Image label: 5 - five\n"
     ]
    }
   ],
   "source": [
    "# Check the shapes of our image\n",
    "print(f\"Image shape: {img.shape} -> [color_channels, height, width]\")\n",
    "print(f\"Image label: {class_names[label]}\")"
   ]
  },
  {
   "cell_type": "markdown",
   "metadata": {
    "id": "uLr4rqssSeHG"
   },
   "source": [
    "**NOTE:** There are two main agreed upon ways for representing images in Machine Learning:\n",
    "\n",
    "1. Color channels first: [color_channels, height, width] (CHW) -> PyTorch default\n",
    "\n",
    "2. Color channels last: [height, width, color_channels] (HWC) -> Matplotlib/TensorFlow default"
   ]
  },
  {
   "cell_type": "markdown",
   "metadata": {
    "id": "qxZW-uAbxe_F"
   },
   "source": [
    "## 6. Visualize at least 5 different samples of the MNIST training dataset."
   ]
  },
  {
   "cell_type": "code",
   "execution_count": null,
   "metadata": {
    "colab": {
     "base_uri": "https://localhost:8080/",
     "height": 1000
    },
    "id": "QVFsYi1PbItE",
    "outputId": "c68997a1-c8a1-4068-bd2e-62d4c73dc57b"
   },
   "outputs": [
    {
     "name": "stdout",
     "output_type": "stream",
     "text": [
      "torch.Size([1, 28, 28])\n",
      "torch.Size([28, 28])\n"
     ]
    },
    {
     "data": {
      "image/png": "[encoded data removed]",
      "text/plain": [
       "<Figure size 200x200 with 1 Axes>"
      ]
     },
     "metadata": {},
     "output_type": "display_data"
    },
    {
     "name": "stdout",
     "output_type": "stream",
     "text": [
      "torch.Size([1, 28, 28])\n",
      "torch.Size([28, 28])\n"
     ]
    },
    {
     "data": {
      "image/png": "[encoded data removed]",
      "text/plain": [
       "<Figure size 200x200 with 1 Axes>"
      ]
     },
     "metadata": {},
     "output_type": "display_data"
    },
    {
     "name": "stdout",
     "output_type": "stream",
     "text": [
      "torch.Size([1, 28, 28])\n",
      "torch.Size([28, 28])\n"
     ]
    },
    {
     "data": {
      "image/png": "[encoded data removed]",
      "text/plain": [
       "<Figure size 200x200 with 1 Axes>"
      ]
     },
     "metadata": {},
     "output_type": "display_data"
    },
    {
     "name": "stdout",
     "output_type": "stream",
     "text": [
      "torch.Size([1, 28, 28])\n",
      "torch.Size([28, 28])\n"
     ]
    },
    {
     "data": {
      "image/png": "[encoded data removed]",
      "text/plain": [
       "<Figure size 200x200 with 1 Axes>"
      ]
     },
     "metadata": {},
     "output_type": "display_data"
    },
    {
     "name": "stdout",
     "output_type": "stream",
     "text": [
      "torch.Size([1, 28, 28])\n",
      "torch.Size([28, 28])\n"
     ]
    },
    {
     "data": {
      "image/png": "[encoded data removed]",
      "text/plain": [
       "<Figure size 200x200 with 1 Axes>"
      ]
     },
     "metadata": {},
     "output_type": "display_data"
    }
   ],
   "source": [
    "import matplotlib.pyplot as plt\n",
    "for i in range(5):\n",
    "  img = train_data[i][0]\n",
    "  print(img.shape)\n",
    "  img_squeeze = img.squeeze()\n",
    "  print(img_squeeze.shape)\n",
    "  label=train_data[i][1]\n",
    "  plt.figure(figsize=(2, 2))\n",
    "  plt.imshow(img_squeeze, cmap=\"gray\")\n",
    "  plt.title(label)\n",
    "  plt.axis(False)\n",
    "  plt.show()"
   ]
  },
  {
   "cell_type": "code",
   "execution_count": null,
   "metadata": {
    "colab": {
     "base_uri": "https://localhost:8080/",
     "height": 752
    },
    "id": "jdj_522i5zu1",
    "outputId": "2a847301-6a8e-42d8-9216-09bf58cced99"
   },
   "outputs": [
    {
     "data": {
      "image/png": "[encoded data removed]",
      "text/plain": [
       "<Figure size 900x900 with 9 Axes>"
      ]
     },
     "metadata": {},
     "output_type": "display_data"
    }
   ],
   "source": [
    "# Plot more images\n",
    "torch.manual_seed(42)\n",
    "fig = plt.figure(figsize=(9, 9))\n",
    "rows, cols = 3, 3\n",
    "for i in range(1, rows*cols+1):\n",
    "  random_idx = torch.randint(0, len(train_data), size=[1]).item()\n",
    "  img, label = train_data[random_idx]\n",
    "  fig.add_subplot(rows, cols, i)\n",
    "  plt.imshow(img.squeeze(), cmap=\"gray\")\n",
    "  plt.title(class_names[label])\n",
    "  plt.axis(False);"
   ]
  },
  {
   "cell_type": "markdown",
   "metadata": {
    "id": "JAPDzW0wxhi3"
   },
   "source": [
    "## 7. Turn the MNIST train and test datasets into dataloaders using `torch.utils.data.DataLoader`, set the `batch_size=32`.\n",
    "\n",
    "It's difficult for a model and time consuming to learn patterns every 60,000 images etc., so to make it memory and time efficient, we create batches of images for a set sample size (BATCH SIZE) and update the model to learn patterns accordingly."
   ]
  },
  {
   "cell_type": "code",
   "execution_count": null,
   "metadata": {
    "id": "ALA6MPcFbJXQ"
   },
   "outputs": [],
   "source": [
    "# Create train dataloader\n",
    "from torch.utils.data import DataLoader\n",
    "\n",
    "# Setup the batch size 32\n",
    "BATCH_SIZE = 32\n",
    "\n",
    "# Turn datasets into iterables\n",
    "train_dataloader = DataLoader(dataset=train_data,\n",
    "                              batch_size=BATCH_SIZE,\n",
    "                              shuffle=True)\n",
    "\n",
    "test_dataloader = DataLoader(dataset=test_data,\n",
    "                              batch_size=BATCH_SIZE,\n",
    "                              shuffle=False)"
   ]
  },
  {
   "cell_type": "markdown",
   "metadata": {
    "id": "fcyHLmg_-Hw1"
   },
   "source": [
    "The shuffle argument in the PyTorch DataLoader class controls whether or not the data is shuffled before each epoch. Setting shuffle=True randomizes the order of the data, which helps to prevent the model from overfitting to the training data. Overfitting occurs when the model learns the specific features of the training data too well, and is not able to generalize to new data.\n",
    "\n",
    "For the training dataloader, we want to shuffle the data so that the model does not learn to predict the labels based on the order of the data. This helps to ensure that the model is learning the underlying patterns in the data, rather than simply memorizing the order of the data.\n",
    "\n",
    "For the test_dataloader, we do not want to shuffle the data. This is because we want to evaluate the model's performance on the data in the order that it will be encountered in the real world. Shuffling the data would give the model an unfair advantage, as it would not be able to see the data in the same order as it would be presented to it in the real world.\n",
    "Our model never sees the test dataloader.\n",
    "\n",
    "In general, it is a good practice to shuffle the data for the training dataloader and not shuffle the data for the test_dataloader. This helps to prevent overfitting and ensures that the model is evaluated on its ability to generalize to new data.\n",
    "\n",
    "Here is a table summarizing the effects of shuffling the data on overfitting:\n",
    "\n",
    "![image.png](data:image/png;base64,iVBORw0KGgoAAAANSUhEUgAAAVYAAADWCAYAAACKaKrvAAAAAXNSR0IArs4c6QAAAARnQU1BAACxjwv8YQUAAAAJcEhZcwAAEnQAABJ0Ad5mH3gAADOHSURBVHhe7Z0PXFRV3v8/m/wxcjQb1JzxL+oGVoCmo+aoLbQWaY+gW0iFf34atTpsm9gq1COy+SdLsH0Ye5L08Q+lsq2ATxKbK24GrTRWCpVMzypmCKbAFoyijNb+vufeOzoMgwFeAfX7fr2uM/fcM/eee873fM73/MNfaLW+/wbDMAyjGrconwzDMIxKsLAyDMOoDAsrwzCMyrCwMgzDqAwLK8MwjMqwsDIMw6gMCyvDMIzKsLAyDMOoDAsrwzCMyqi28+q2Ll2g6doFPj4+8O7cGZ6enujUqZNylWEYpuPz448/4sKFC6g/fx51dXWw1Z7B2TNnlKvN56qE1dvbG749fNH9ju748aefcJESdMstt8DDwwOdxMHCyjDMdYQQ1h8vXsRFOn4iTfMQDiJp2vf/+h5VlVWor69XYl6ZVgmrh6cHeut64w6tFnVnz8LLywteJLIMwzA3GnYSU7vdDp/bbsO/qqtxsuIkOZEXlavuabGwantooe/TB+fITb6Vuv3slTIMczMgvFmH7pWfOIHqymrlSmNaJKx9+/dFF40G+Pe/0fnWW5VQhmGYm4fz586Rcv4CZ2w2lB0vU0Ib0mxh9RvsJ42dikkqhmGYmx0xqSXGYkuPlCohl2nWcishqmIyikWVYRhGRuih0EWhj678rLCK7r/wVLuwqDIMwzRA6KLQR6GTzlxRWMVElRhTZU+VYRjGPUIfhU4KvXTQpLCKJVVi9l9MVDEMwzBXgHRS6KXQTUGTwirWqYqlBTz7zzAMc2WETgq9FLopcCusYkeVWPwv1msxDMMwP4/QS6GbQj/dCqvYpip2VPHif4ZhmOYh9FLoptBPt8Iq9v6LbaoMwzBM8xG6KfSzkbCKGS7xB1V47z/DMEzLELop9LORsIo//Sf+ShXDMAzTcqS/8qd8v4T4e6riT/8xDMMwLUfoZyMFFX+kWuwkYBiGYVqO0M9Gwir95X8WVoZhmFYh9LORsIolA7zMimEYpnUI/eTBVIZhGJVhYWUYhlEZFlaGYRiVYWFlGIZRGRZWhmEYlWFhZRiGURkWVoZhGJVhYWUYhlGZRv/99bARw5Vv7cUozF48GYNv/Q77E9dilxKqCj1D8EzMowi881Z4ogYlWYuwJk9c6I+QqHCM8feF65/2rju6C8u3fAIEP4k/RPjD89u/Y92GvahSrjM3D74PxMA06V7obvUEzpZg+6I/ofih+TDdr0XNl9lY826xErNl+KpwD6Zj0bYe64AQzF74Ml7/rzeRZqbj9VV4cU4IyZoz3dBDp4NOfyd6KCHqEIBnfv8kRg/oCp/OnvD09IGntMEsELNfjkd0aCAG68VzXY6e3aRfP/TgaATQ+eAxv8KjUghzLfA1TIVpsYuNzJ+K8QOUCO3F0Fl4PnIU+ncnu/Ek+yFxJXnFo8bh6K/vj8CxExEix2wxatyD6Vi0nbAGz8LyRU9ivL8O3XzIKIW4dfEloXoSL748i+TtWjMK/XrSx49VKDTPwexnkvA/h+g8dCJG9KYqcqEKn2WmkTcqHx+U1km/cvDZF8dRc/4C6kq/RKESxqiJL0KeXYUVMZNw32AXGxk2CbPj1+APkxs2wW3KqEHQCSU9/QnWPEP2s2wTPqPTz0orUHe+DlX/LMZeKSIQYlolNQqvmRrKZPRLcmOx9CklQMHdPZjrmzYSVl9E/8c4yTDrvs3HxmVkmHPnYOnGfBwn/fLsPQ7RMQFK3GvERF/cLj7rK/GNEFTqzFedpo9+3eTuf1UJzO9/gsL98vG9XQRepuqD1fi96VnMX5GBEiWMUY/A2c9h+ghf8gLrUHEwBxtXL5JtxJyJwnIykk5dERD+ezw/VvlBG/OQVrIe1P3rG0id9dNkP/RRvPE/Md8UixfW7hahEp6dyaulRsGnc8M/ZuThrTQWQqCdcHcP5vqmk4+Pz1Llu4TjfxlUFyMennYPenjWojh9Fd61yqE1ZYfwpeYeGHv9hB+qa/Hhp/+k0EEYGybi2nD8f79A/UMRmPbAGIwYfi8GeJ5AiahkCr7+wxE4pB/u8CjHqR+UQMI1vH/wKATohiBo8B3wvFCL8h/s6NK3D/qIQ38PRuhIWs9V41TdLehzZ1ecr6iC7v5HcI+vJzmyX+H9fxwFegbgvsBB6O/rgRPf1UjPke47UItOJ07h9tAnMT1ESafP9ygpk+M403/sVEydOA6jHHHqdY3ueVPSMxK/fSoYd3S6gIqP1+HFtA9xvEou55rv/onPPjyA878cS+XRBb30d+L/8shXVMq4j5u8c5R/g2tUfg/9x1Q8OOo+92WklK+uSz1OdhmN6Gm/xpi7tagrvgjdGH/0GxyIwd3JHmor8K+LXS7fe0AgRgcMQC/xu6oeCHQXV7G1Af73QXcbte2nT8Hm2eey3Ta4h3hvXwSMuBeDdcIWqdEJfxyTxhoo3f7wPXcSR5W8uUx/jJ8agYfvpzj39sdtNSU4e6f7usG0DW00eRUA06qFuE9LLb41E6+uzsFx5UpjJuIP/xWJAO8qHCn3weB+ztNJouK9gRc3ygP8Dy1MxXR/HwqbQ2FSkIRr+OyXN2B8c9uLuhJs/91qQLlHnTUD81eTJzFxIdY+HgCfk/mY/Z+bpKjyfatQctgLAUO7SmEyDdMpxnGnL56NhwY7xyHRKK+Cp963wT1vSma8jI3jdVI3+9WENPc9gp5PYunLIejfqQqfpSyCuftzeH12ILqdP4pdphXYoUSTekdLViGkH/UyLKvxQloJfB96Di+FU1wXT7Hum71Yt+wd2QNVyhfflOAHfYDc7ZdsoQrj11NvS8RxxlFmsyntY3WKneiw3F3cJrhktw3uIbxWpQ5QLSn5XocAvVPCf6xFSeZyvPqBMn0aHIkXZ0xEA9OiOBXVHtD1bFw3mLahjYYCyED3llAnD/Dxn0rduzVYvjAG08ZeYcysky+JKhkfdQvTt+XgM8lT9YTuvsmYLMdoNkcPUvf+iwqSO4JcgGKluy8dpbVSHNQelc8txfhWDmkm5F0M9bhiOgNmPyaL6o9yNzd9QyY+OlILHyGqSpybmYd6yt3smoqipodZTr+D42LohvK79wj6+LgQx0XRdR6Eex8X4Qo9J8Of7AY/HkdxNt1NTDpJokp5vz9THkPP/AQVVEw+A0IQObvhEJTPgAD0OHMUnwlbOFiKGhzF5/S9+KT83xVdOFks28lB6sU0oom4ykFFLlFTKp9//n/yeZP49EdAz3M48hGlOzMfR76n+4ohkQlTSXQFAZg9TRHVugp89v47crzaWyVRZdqPNpu8EmOUr24jgz5DxtG5K3T+ozB59hJsNK/CHx5zP3UleX1rM7E3LxPmxPdQIjSrc28MDZWvN5ePxKRUSY0srD/V4LAyQSUdJ89IcXC2Qj5/e3eLx1BrvvizUzr/jiPnKbBzDwwZI66OwsP3yj7M8Q+T5Hj7c7DxleXYYRUvxOi6ySJw9uwn0mdTVNQo+SWt5vgEf7XKXlt//0jpUxAQTt4mfV44/iXSSYjH/zpI8j6lMtqQI4vc+2l4cfdRyR50Q8aRVDtBgpz/2gqYhS1szEQh8rGDvh+uUcSSutmyOOdL5w1pIq5yVJyVgnH2pHy+42P5/Eoc/2g5lm+hdL+/Ccs3fiEv89PeiSDxOWYigkRPjNK8d9l/wpy5V473WqZcV5h2o02XWx3PI4P+/bN4YfUm7NpfQiJLgZ3J43toHpbPcJ28qsK3Oc4StxuVjiGxDvV3uMkTKnGuZGdw4Sfx6QFPjfgMgK/UTavA8W3Oq1+r8MEXxyUv/man9pwsRF63NJC4RnT3aeiFlWQX4/iP9EV/F6LFig/K6/EDxD0u4HhxpgjAIDnz4dlrIpYnvXz5GKks5uvSFffJ32ROfysJcsfAxWYOn4U0p9rJE7eKzyG+kBYDfueS5tO7UfQtW1Z70qbC6qDKKlr21SSyi7BuvzAc6joHT8Ro+bKCHfYOY+AqcP4clJ7gZRqMbt+8lNeekz679RovfbpnFHpLIwZ1qKmQAkhAPsDRcvrs1B+DQklQyYMLEAJbW4J8aWdJCHpIjRtZWNce6KF1Pkiazl/ABRJ1WdavQxQH40J9I8ti2pm2EdbQGCx//U2krXrORTyrULiBPFfxtSt5rlJYy/k5T6d9qYDUg+3cDb2HyiEOfLU+PMZKFB78BqIz4tn/HsXzbIzvQ+PkscTzJ3H4AzlM2E/653KXvv/QyQgxDJA8uCrrbnwkXd+LSpv4rMOR955FjMnNsehP1+/a0Yoaqcfj2a23S93xRU8X755pW9pGWL84iwtip4o2AI/Objie2v+xfvIOqzM1V1gp4J6a8xelz269Qy+Pk/WcihEDOpJR7cbhClH1fREYFYPRDuEIjoRpTDsueO9IfExd13LKI/I8x/1+PkJcdln5GmLwfHiA1AjVUG+nwTbnXZ/iiFCX3vdh2iChvFU4UnB5CKnkO+HN+WDwfVMbjKX6PpaAta+vwtI5bb/XSTVH4ANySsR4vvZePDVn1KX3C3xsHkaLCTym3WgbYT39DvZ/LbWt0I19DmmvKeNcq1Kx9KH+FCp7GS31HC55OgMmIunlhTA9uxDLX5qEwZ3l6x2FXX8thNBWz96j8MzL8u6bjaaJ6O953XZCVaYEG9dmouQM5VHP4YiOfxOvv6zYyGupeC1mlDQBdaE8H/9jzld+42A3Co/K4ik5ad8WY8dh6YJE4bv50mSip98krEhZgufnxMC08GUkPTgIPl18UFemvr/6wbeV0qdYASO9x/yJ0nnJKbnL7mtIxGtJq/DiDOn0KsjBe5+J1S5Ur8bE4LX/Jtv67w14XtQpNq12pc3GWD9IWY30/RWo+5GMvLuyD5+6wtISpP3vYNWbrfjjEx+/g9xDtVJX0Kd3AO4bIWaEj2PvQccgXAfh0Ca8uG43ik/WSZVA7LypK/8E6TlHePLKwendeHXFO8ouK0/qhSg20v2yjSxP3CSvOXXho7+VkJ8quIAjn7+jfFc4nYnl6/fKO/y69kfgmFG4z19HMlyH43lv4dVrsdnpz9nY+43sSIj3uF2aaSKR/3MuiquFZ+4DX7HUToVJWLFry/xBsbzaRvwNA3ovkVf/e5Qtqz1ph79uJYz7TmVs8RxO7i9u8RCAK2Knjdjpggu1OPKpo5J1MAYEIKCuBCXOE3LhCUibPAie3+7G7D9mKIGMtAuKuvWiJ6OWjQjETrneksipd88rIt5DV4fPDrk8aUAg7utcgc+U5WJXS3//AJy1NrT7aQlvYrKfJ47vnoOlf1YCmTajA/7ZwBsPh5GLnTWJq3crFSAQz6x4ThpzdewQYpiWMRUvmsXQVx1K3k1y2o0Vg9d+Owq+napQmLII65yGRpi2gYW1LRirbL8U389UoaLGjtu0OnQTY8FnSrB9xWp8cCMtLWPajPGmNZgdLK/VrauuwA/2LujRk7z9TnTeoCFn2pI2+iMsNzlln+DT2jtxV99euL2bBpquGnT+xQXUnfwU299MxR6xFpNhWsFxy2ew9fglBvS4XbIrjcYbncSYtOXP+K+1e3BSice0LeyxMgzDqEy77LxiGIa5kWFhZRiGURkWVoZhGJVhYWUYhlEZFlaGYRiVYWFlGIZRGRZWhmEYlWFhZRiGURkWVoZhGJVhYWUYhlEZFlaGYRiVYWFlGIZRGRZWhmEYlWFhZRiGURkWVoZhGJVhYWUYhlEZFlaGYRiVYWFlGIZRGRZWhmEYlWFhZRiGURkWVoZhGJVhYWUYhlEZFlaGYRiVYWFlGIZRGRZWhmEYlWFhZRiGUZlfaLW+/1a+SwwbMRwHP/1cOWMYhmFaCnusDMMwKsPCyjAMozIsrAzDMCrDwsowDKMyLKwMwzAqw8LKMAyjMiysDMMwKsPCyjAMozIsrAzDMCrDwsowDKMyLKwMwzAqw8LKMAyjMiysDMMwKsPCyjAMozIsrAzDMCrDwsowDKMyLKwMwzAqw8LKMAyjMiysDMMwKsPCyjAMozIsrAzDMCrDwsowDKMyLKwMwzAqc3MK6+REbP7LDiTHKOcq4R+zGpl//wSWf3yC/C0LlFAdwuatQNrWHcikZ14+NiFxshJlwgKYt65D/ATlnLkOCEPiRirHlDnKuRFx5m1IW2RUzl2vt565KXSfjYl0R+bKiDLYgXyqf5Z/5MAcRUHtVLfaTFjDlmySBMUcq1NCGtKmxtNdB7/BfhioV87VYEoq1s4LhZ9HFU5UnEBtvZcUHJGyBStjwmAY3Ad9dMrRz096vr67FAXRT4XDONSAR56KlgNuOuYg2dHYTFGC3KCPTZUbpQ4hMr7QUxn6Dewjn0ZHI9zoD8PkaMil6HL9KtAPFPaiozsyVyLiT0sRbfQDfjhBdbASNgprr7rVZsLq21cWE2PUCpj6KoFOXPfGM1wHLapRsHoSpv5mGiY9/QoFRiJsmBY4lQeTYRQM9ytHbqn8G4X0t7NRcLAA2W+nKyE3G30wUIjQ4CCM/3W4EuaKAaaJRsmGOqSdpKcju6AIBZnp6KilGPmnHPLktiFeOb+xMMA4hOpadQFWPDKN6uAsxG9zX7fit5JH+34q1c5rR9sOBVy0w+4ThMglN6pnVoPKncpXCfJaPeijzoYCOcA9+1Jgmh2L5H3K+c3KRUA7PBxzldMGjA5HoGiQKU7HpADJplkwrbliSbcrXj4aOryEVd6A3AWNhj5qq5ArB8i4qVtet1IeaK5tPohq33acO4Q8awDCRs6EeUo6TA1EyD36keGICDNAL3LBXgHLX8zIOixfaxodDDNnIGJIV+ns/CkLMlKzYZXOnPhR3D8aM6YEQMSs/Wc2tmy2oFy+Cgw1IszPG9VFebCUKWGCBuH+ME4eCM2tnaVLXSeHOXVTe8BbfHhoEEbhsFejeLfT/R30NSA0SAOb4zlO57XDTYgcqUNn1KP8QAbMOxu9BfynOOLQO3y1BSuppRZpQmkuCn42rzoO5Uet0N8VgHExwPo0JVAhLIpsABUoP62DXlQgF37WTqQyA47tKsXAeU9jvM6b8jOB8lO+7GwHsB1FznsbWph3ZHMTg6D5vgh5ByqUsMboR4YisJcXbE5l0/xny88QPaPGdnSla7KN9pSMsbNiozbKi4LLdYLyZ+6jj2CQlLe1OLxzC9Kv8B7ONJ33P58m71NO+TU0HKbfON0nNxNZzmlwrhfGxZh5d1epzq484EVl20Rdc65b5NWGBmnRVVI9b/QU+dBUnbxKfqHV+v5b+S4xbMRwHPz0c+VMPaLf+ghxIyuR9ejf4ZcxB0E/UPf4kYWXPLnErIOI8LUgedwzSldKh7BlqUia7Ce1LPY6u9TakuXBui0B01c15RkYkfiXZEQMprh28pDp117iZ9V071l0byFc0euQHxdAFasSfiPp/iLeLRSPMtx2OB1xT6RQIRBJO3BoSg9Ykscjxrl/1yA8EZmHwkF19uexKe/nel8lPSUu587pk1/Cjuq9ZoQucCTGiLiNSxEthhsIR7TqQgvOjzagfucwTE2ULnVw5Dz03pWOqpBoBBzZAMMMs3JNEA5zXiKMtdnkjYQjrDV2IuV5ZxQd1CBomKzMpVL+OP1e9KhEHorfX6yGJXUGYjY3JS7RSMtfAENVNoIjki6dB1hTMO5pqRBdrpMAPbYaaS+Eokd5LhJ/l4DcsuY927lunDHvQaKxHnnPTkJcoXRZZvRq5LwZis4FSQg1ZSuBDtzZaCmygqdBpMw/Zh3WxhigFYLjbGv7zJjxXPoVROfn816u9zbkUnrjndMbtw2Hov1Q9MYozKRG1DkNl+9jpzKKozJSytBRLw7a4DdMJz3TdoDyuyKcytalBjrqmnPdgvhuQIN22RFPOVWLtl8VUGZGwg4r7LpQxC9zzKA2Rj8zEQlUYCjLw8onhkljk8FPvIK8Mm/4Ry0lj1eJ6ErcfElUy3clYJIY1zQMw/TN9DytAdPnG5RIAg38R/bAoTeiECziRZChH7NDQ63m3BaNVGQg5aUExO8WlaACeeL7pSMdRWIEnd5BOn95A/ZKv2kOlL4gIG/xJCl94t0LTnlBGxKORGWM2rDkeUSSqNqK0xH/KOWReNfEXNQMF97d9UfXXpXI/5oq1dCxiHceh48OAzkasBa+hfNKkIOW2YkOQXdXIjeRyjw4CgkZFBQt/75e5GGEPAY+abEoNy0M85MR52Y+oFVMSESqENVTeUiWRJXCWvHsrL+VkP+nQ/BTDceiI54Kljz6Q2+7iqpAttH0YmGMDhtdQ6HEhBVIFoJmK0K6w9YeFXHroZ1gQnKc+8lmQXPyPn1XkZTewHDnukfV1OAP1JUgX/RMRidiBaVBc9L1PoDfFNcypHpBDeOhtGcwKXgSnl6TR6+3pnl17cMNWErXxH3JhUV6i+tk82mX5VblyWuQc4wKZuL8JgxXh7lUEJq6ImyZtxAZjm7R4QzEzcuC9SIZ3jSTEujCbXJLZ6suutTSWtckYcFLsYhbLPmhl6guSEFMmtIZKstF/AYLGYEGvoPloOZhRcGuXOSeE1X+PGrF90tHJXXgiYvUYovzFnY5yj9chfi/Kh4TvbupUEx69YD+ARFgQORo8hSoxU2bkSJXVMK6MwGx1HBdr6zPpjLw8EfQE5cr9NyQYGguWnFglav32HI7se6IRbw0nGKF9bAO8ZPl3292ysPyv6Zg5rtFsHv5Y+TjcthVQaKa+Rp5jFRWqSKd0nNa+eyd6dJwkTYoTFl9IAhHaAC1PGVFyHD2Ci8h2+hpyRgdNioPA0Q/ZYTeg8R26SwkO2yN6kIypamg2gv+oeR1y6EuNDPvd+ahpJrq+t3hl+/TdzFGDqL693k21tNpxFPj4CfSsNzlPsvzqb5oERDScA2IVG/fEHWpgsqQ0ny4oHl1rcyCPLpWK43T1+N0K+pkc2kXYQV1tJNez0M5GU/kcpMb7yoUejHtW1YMs2JwlyjbgmMnqbfS9173s3obP4bVTgYxMwt5WZtgXrYYcyd2bTiepFBT7dK676pCjfK1I1B/rmFD0BB5sN5+7ItG3ZjyrceuibG0CUpF9DealIpowri7vGD/Yg+SpXNnWmonNtRWOItzKAZK+t0Hj1xaX6wcYXL3tke/q1zY5eOP7ctIVL2qkfeaMhQl0dpnW2AuIEvWBONBxzrsGBIt4dEXmOUhrBbg50tGVF2KPY0mTrPxSSm5gLqBTSxta27eZyPnSyrQvkGIGC1f1j8RBH+PapT8Ta5/gXpK/EUNAhe65MPCYHIjqBG5M0CK56BRve2AtJOwEvsWYv2+angFPo7Ema7dDT+I8rbVVirnzlTgvGhxPKjg5ICGlKVg+qxXkHXgBLx6BcA4ORKmV9chJ3/bDbYAX86j+no3TUFZvdx6X5dkY8tnJH5KRdQvGosgHztK9m9QrjtzFXYiIf+eMlE+daa+EqVHSnH0WxKFq6GXP/wvVqOaPLhxcxOdvL/WP7t8axF5hF4IoMZHMHdMALzIc9zTyKP/OSKhv50+XGfSm0Xz8z53m/AKdQicKt5ehxnD/UnMS5AjTRwqabDb3dhsDU5QPliPuXtGx6b9hJXIem4zLN9rYJiVCP2PSqBEKaqosdT4+rnxZg3oKqb/qCCq5IDGUDci6elpGCfGaoKjkLStCDYNecfzFl+XY4/usaLqe8ojas0bvdMUX3RTvl6PWDLFMI6oiEalElqQ7bJKQOYq7UT5vbi/WHvs7ohJbqkP6IKtCOb5D8L8MTkRgx/B/HkOJ+Iqnl32CvZ8oYxFD12MB+/1gu2rPKlb3TIyUP4DffjqnIYVLtPNmzLwoh1nlPOGtCDvC7NRTF6t/p7HYej7NEbeRY3DgXRFzJU01B9Fhps8EMf0xWpPLV172lVYQZ3YJDGe1N2A4H5KkEQ6LEfs0vIKk6uXOSUawWSbtlKL21ZW2uGVtc5p7NaKrFWzsOcYfaVuTYgc2DxqKQ3QoGtP+VRGh7ghV7+b5urJgOUbkUdGF4/fH/FPGCCvE7hOKaQurRiDH7MCj1AlrP7yfWQplxrSejuRUX4/IBCJSjfVgX5eKjI3rkB0oBLQWqqOYf1hhxPhhaCoRERLtnl1z3aMRRsTR0rd6qJdrROf3K/Jy9UEYJxrr7HvAhj9yd8ss2K7EtSQluS9BebPS6nqBCAyNpB83QoUU/odSGnoHoBQV3WfILaeU11+WDm/jmhnYaWW640EZIiZYJf+2vpNeZLXErZsB1bOMZJckBHNWYHMhUZo7aXYs8G9IeV+B/QZaEDkG6sRPVIYiz8iFm3CgwOpAS37msyhBXxsRSl1afwnb0I8dWP0Yq1fyluIHNp057ItWb/ufZTayeOPzULe1lSsXJaK7XmbEdmzHsIZun6pwPpCMY6ooWatApZtTUtja+3EwfpN+Sj38EPEcqWMpd+vRtosI/z6aXCmWIl41ShOhMaAWQvlGf2revbO9+VJobvErLwFW5qxJvzramEVfjCYTYicswCmySR5a7fDYiMbmr8FaYvCyaPUwTB1MdLWR8Lfy0a9h6Qmx+tbkvfl6w/AelGH0ImU3mMktE6TbJa1uSiqE3acg2TpPnIaNi8NR1C/rsBXSkSVKP+BGgRqTCYtmYPIRQvceutXS7sLq6hEyWuEQCinDvYlICa1AOWd/BAWS4JxaBvMsWFkFqXIfS0WSW5nP4m0BCTvKkV971DEvZWDQ/S7xKggeFcUIHVRihKpmRQmIeVdK2zdxW6xdcgh8TIZyRCauXD6mkPpm/pCOgrK6qH5pRFhD1PlrM2nrmcerr9RqYaUrxIVkb6UFSGrqbIWtNZOHOxbiLg36PcapYyl34dCX29Fxh9jm/CUW4fDidBOeBrJwsu7qmfnYotih82dtBIiWlBhh944B/Gx4QgUf6uiLB0xL2XAelYLA3nTae/lIG1JJAzdq2DZTHl7pXapJXlftgVFR+WvYtlcA7EWSzD/SGmoJ+GV7iOnIei2ChSsjUOy6+TYVbJ+Uxas1Jj4TzUhPmospVd92myDQOtRdm8IJ7EluySkHRdaafDc7ry7ozVIu3bETIPLbpWOirJY/PrZIKAGrbSTS5C3JXbQia+2Y8jd15al3LpnR4jNAqMrkT4iys2KiabxnxAGfV3jOiHCB8qJaKGdX23eO1DrPs1BfpbXiWuzO/E6EFamKUJfoS5YSGfkvzAJcU7LZYyv5sA8UdN4xxhz49B3AbbviIbfV2YYZrtbMcG0Jyys1zOOheeoQNGH+cj/GggwjsO4YTrgSDZMv0lq8bpGpoPzfCoyx+rg3csPeu9SZP1u2s8PdzBtTgcYY2Vazb4kxC5Jh6XKF0ETI2GKjUTovb6oPJCOxOdZVG9IzgLdevVB1zpr88aQmXaBPVaGYRiVYY+VYRhGZVhYGYZhVIaFlWEYRmVYWBmGYVSGhZVhGEZlWFgZhmFUhoWVYRhGZVhYGYZhVIaFlWEYRmVYWBmGYVSGhZVhGEZlWFgZhmFUhoWVYRhGZVhYGYZhVIaFlWEYRmVYWBmGYVSGhZVhGEZlWFgZhmFUhoWVYRhGZVhYGYZhVIaFlWEYRmVYWBmGYVTG7X9/zTAMw7Qet8J68NPPlTOGYRimpfBQAMMwjMqwsDIMw6gMCyvDMIzKsLAyDMOoDAsrwzCMyrCwMgzDqAwLK8MwjMqwsDIMw6gMCyvDMIzKsLAyDMOoDAsrwzCMyrCwMgzDqAwLK8MwjMqwsDIMw6gMCyvDMIzKsLAyDMOoDAsrwzCMyrCwMgzDqAwLK8MwjMqwsDIMw6gMCyvDMIzKsLAyDMOoDAsrwzCMynQ8YZ2ciM1/2YHkGOVcJfxjViPz75/A8o9PkL9lgRKqQ9i8FUjbugOZ9MzLxyYkTlaiTFgA89Z1iJ+gnDM3J6526WoXKtrt3BSywY2JCFPOmSboG4mVW/cgn+q05R/bEE9B+sdWYPPW1YjuK0dpL9pWWIdSRmzcgbx8ReA+2AFzXBj0ymWJ7jr4DfbDwAaBV8mUVKydFwo/jyqcqDiB2novKTgiZQtWxoTBMLgP+uiUo5+f9Hx9dykKop8Kh3GoAY88FS0HMNeAOUgmUdq8pANLiYtdNrILFe1WP1DYoA6+yjnjDh3iVi9A2FAN7KdO4MSpKtgpdO4TYQgaGoqIuXKs9qLNhFU/MxV5mxYjbJgfvGyUESRwdo0fjNErsP2t6IbiqjbDddCiGgWrJ2Hqb6Zh0tOvUGAkpUULnMqDyTAKhvuVI7dU/o1C+tvZKDhYgOy305UQRn36YCCJkl/f60dKrge7iPxTziVP7sZjKgL7koP0dQZCI6ZhakQskil0/dZcFB3MRcZ6OZYgfis5cu+nUo1vO9pIWA0w/cZI4laKrOeGYdwjlBEkcKH3RyH9sB2akTMRP0WJes2oQeVO5asEFYoHfdTZUCAHuGdfCkyzqdD2KecMI7gO7MLLR0OHl7D0GxAtND6ArbZSOZcpfzcBM2cnIKNMCSC8bqU80LRtPnTy8fFZqnyX6K3rje8qTipnahGCyHljoD+1D1GrnC2xCvvr9RjTzwfV3+xAXjEFBT2K/3e/HnWH16GgLhqmedMxKSQUhr42HCsqh03+ITDUiLBRQ3DHuWMor1XCBA3C/WGcPBJ3D74fDw7yQMWJ79Hpl0MwRDr6I9gYhDvt5Thu64QhA+7AuaN0/19F4ln/21C+fyPeE+npa0DoeH/0cDzH6VzzKxPmR4fj4RAjAjSnYPm6SkqCM/5THHHoHXqVo+BLXylN/TyO4NuGNnET8wAin/XHbRX7sVHK9Cuhg2HmfJgeewQPijwdWI+qg9+SJTXEOd8fHKmD7dvihnZC5Rj92/mICqPrVyi/Szjs8ut1yPiQzl3twvW6BKV1ohGBAXfC4/8cafz59D8w/VkE+JRj/8bP0Vn8fpBim8p1GeXebq/Jdn9X0DgE9fpJsXvnNFAPcmQ4Zs6dgYhf0/sbA9C10gJrs+yRnjt1JuY+Keet8W4NTlmsl9/tZ9I0pFsdjlUoV4aGw/RbpzTUnYDVcU0g1eV+lO6LGDlvAeZMeYjKKQ/lXem5w+/G/SF+8K4+gu8u3I4hvT1w5Dil4tJv6F2lMgrEPYZQ+HWuwtHKetzuqOfKI64Vv9Bqff+tfJcYNmI4Dn76uXKmFmEw562AUVOK3CWxiP9rhRLuhuh1yI8LQPmBSviN9IOX3Q77LdTakHdpO5yOuCdSYBHxknbg0JQesCSPR4xzb6xBeCIyD4XDT7l0RWwWJI97Bumu91XSU+Jy7pw+eIm20I7qvWaELnAkxoi4jUsRLYYbCEe06kILzo82oH7nMExNlC4xkMupx4EUjHv6Cl3rvmFYuWYpwgZTRgq7IB9EyvpqKrtZVHaSl6JD9JtbEDea8v0ixflJiWOn3tIL05Ak2vUJ9LzXyC7EberkghH2VV2YghnPpqNc3MYVqdwN1OtRys2tXThdp3REvvoW4ib64sSupYh9KRflzUo/5UbWQUT4yvZ4xrwHicZ65D07CXGF8nWJ0auR82YoOhckIdSUrQQ6cGf39P7B9P6UrrBlqUiaTLZLoeL9hVdLFQDWbQmYvuoK/Tfn9Dvnrc2KjJeisJLyNvqtjxA30oZcSm+8c3rjtuFQtB+K3hiFmWliMnkd1sYYoKV8v5wGO0p3xlH+KWmQ6mJn6tprEDRMIwWVUv5m6cQz5PNLHMtGcESS8hvI76qUSYOYjnqunF4r2mgoIBcrt1hg8/JD2Cs5yM9ah8Q5RmrDmkID/5E9cOiNKASL8c+IBOQes0NDLdzcFs0hZSDlpQTE7xZCXoE88f3SkY4i0WyV5cnnL2/AXuk3zYHSFwTkLZ4kpS/4iVdQcMoL2pBwJCqzkYYlzyOSRNVWnI74R4fBYBiG6Ym5qBluuLbjyTcw0UviqVLXoyg9AZOEXRio8qYXwaY1IHb1AjlfJ8djFomq7aAZ00eIOMMwaTF5OWR7k2bNke4TN49E55YK5FL5SePqI+QhKe3o6TCNlqJcNcakVElUK3enyKJKYc1KvwtZfytBNYlh8FPhSohMxFPBFL8Ch952FVWBbPfpxcLAHXa/hkLFXEciEkhUhd2vfILskt5f2G9emTf8o5bC3OSQHDVYUvqpu733lUt5O30V5a23PyKXpCKCYqXvKpLSGxhukH+mEGeg2l5XgnwSVYxOxAoSVc1J1zQAflNc06BD0N2VyE0kLQiOQgK9xN60JHofei5dleqXeL/Xxdu58OEGLKVr4r6wFSG9xfW89bTZ5FX55mcwfXE6Co7Z4E0uekRsKrZ/+gnytq5A5FAlkhPVBSmISbPKJ2W5iN9goQLTwJcKtvlYUbArF7nnztP386gV3y8dlagXUS5S6yrOd1vceypNUP7hqsue9+EMmArFpFcP6B8QAQZEjhaTdBakzUhBruKJWHcmIHaH8k5My+i7GJPIa7Ef3IyZybJQCdHITZ6FjGLyeAaNxHQRpIyl2b//mkpfpvyvKUj6w0KYlmyQzrt0on/staj6ytFzsiJ5WRzin6PD2ctqJUbymlKm+MFWaEbMHzLktDY3/a7sTIeF7EcbFIbLPkU4QgPIIy8rQobb9Mp2f1oycIfdF1CoDnNJ8DR1RdgybyEyDkuRJfuNm5cF60UtDNNMSqALfZ9GBHmJdhKymAUZl/LWum0hYoRNU+MQPo8CduahpJoE/O5wqgUK9O4jB1Gd/jwbYk4p4qlx8PMgwV/ukobl+ZQvWgSENFwdYt1Bvdyd4olWWCl++YE8eh+bXH/rSXTF++1zU6/KLMija7UXxUk9TreinreWNl1uJQzcFDGePNBnkLQhlwymHtqhYYjftAOJLp5CTbVLS7yrCjXK145A/TlpQKIJ7oKG+h/2Y1806nKUbz3WJgV7w/HAQOjFZKPuEZc1xzsQJmaHPXpgoFh7vC0XRVSxtSGpyH9/G9JeTYQpyg+1u/MkgRKs32+F3ccf0Tv2IHNjKlYumoPQ20rdV84W0s1/G1aSqHqdysNq52GF5qa/ERaYCyhdmmA86FgjG0OiRbpqLTDLw2LNJhR6sfCirBhmJS8uUbYFx04CXn3vdT97/oCO3AbqiheZG9mvbNNe8AsUv8xGzpdUAH2DEKHUaf0TQfD3qEbJ3+Q6HagXwzQaBC5smA+ZC4OlZ2jvDJDiydhQW3GFocMOSpsK6yWoJclKTUAMiez0N6grRN20B+fcSOtE/eBLwlpf76YpoMZEammZljHQVxorqxeLFV2ory5F6ZGjOCbNoGTDNCsB6/eSeGr8EBwSjrmLqHdkyYF5pk6KX54chRmrsmEp90Kfu40IizIh+a0c5G9dDKMUo/Vo76Iu7ykSll7j8PQSp+5ws9PfmPKtReRNeiHAKHuTc8cEwIu8zj2rWio4sl26zqTLVOC88OxI/IXH3wgp/SRyp5VzZxw23Un+Ze424RXqEDhVvL8OM4ZTnlSXIEdalRMJ/e30Ybe7qQc1OHGkFNZj1/+sbtsIa9QKbH5/DzY/r5w7YU2jroONGmTfZk0xXSdYUfU9vRO1vI3Gzab4opvylWkBpDpixLDygLxUr/HxDJId3eKyXJgXRCF0nBg/nYSYNWI8TgfjjHhpHFBg3ZYkNexinDD4iSTqjtugGRoJ0yJZfFuLGNt9+iEzCqrJg3t4HkyOHUAtSb8rZa9gzxd2eA0di/ihi/HgvV6wfZUndatbRimqlLrWeDzXgK7e9EGC51bfpfSLoTg3+TNaA+mndcovC7NRTB6x/p7HYej7NEbeRY3DgXTkShczUP4DfdQfRYbbfJgmDRle77SNsB4DfHVaBP16dWOPYDS1ordSodiolW8JtaLp16BrT/lURoe4IX2U7+1JBizfUPr6GpGoeEky/oh/wgB5nQDTItItKK0jn2tY4uWxOwkdTH/agc2vRCNInIqty1miOy5dJCpg2bwQ28VMpZa8KIQhcSN1O990miw6nI2VM/JIdkgMBofKYa2k8tsN1KyS17zJAptPECKXKJtfmpv+JlifbUG1hz+MiSOlbnXRrtaITzosR4RdGmBy3aI9JRrBZKq2UosigC440j/c1KgOR0SJiTQbjn7q+KUF5s8pN3UBiIwNJD+5AsWUfge5X5On3T0Aoa6d1AliW/A6xD2snF/HtI2wFiZgeyEZti4UKe+lwhQVhrDJYZTpVAnEshcPGw79zaxEbiYfW1FKXRf/yZsQT10O/VAj5qa8hcihbjsybc76de+j1K6BITYLeVtTsXIZdUfzNiOyZ73kuTCN8fY1UD6taHTEzxRStAFvFVCFHBiOlRsXI2IkqYBS5jMm+KHPrTYUiZsU2+E90B9hvye7mCLWnYh1o6sxPYj6wKeOUZUXE0d94Dc6Emkp0eRRUZSh4YjfEkoCYEf5YZW8pXThBTtvfmlm+pti5/vypNBdYkbfgi0NNru45+tqYWl+MJhNiJyzAKbJZJebZO89bNkOrJRW5pBYz1mBzIVGaO2l2LOhqfen9O+l9IslV39ZgbkTKG9F+uk+CyZoYT9CHrTTT8vXH4D1og6hEym9x0honbxxy9pcFNWJupGDZCkNYm3sYmxeGo6gfl2Br5SIKlH+AzUmmgBMWjIHkYsWOE0CXjvabIw1/dkYmIVh9abCWKRUmDlkzN7Co0houBa1ORQmIeVdK2zdhVewDjkkXiZqSi0H6BkdAUrf1BfSUVBWD80vjQh7mMS/Nh/m+XngfQHu8RpI+UQNruvxiJH6kkTBH+IkG9IMi0TiWzk4JMo8RIf6wxlIfE6Z7KRGfOVmC8pvI7tI2oZDh3KQ9nwo9PVWZKxYKHlj65ekIPdIPfQhC5D23kG6TyIiA71Rvs+MuDXyba6eCphfzIDVroXxGbmn1qz0N0kutii23dxJK8va7SiosENvnIP42HAEir9/sY/qWmoByjv5IUyszDm0DebYMJLfUuS+FoukK6yKKHjpaSTvq4D3gDDysilvRfrF0q0juUh+Pqlhmsq2oOio/NVa+BaJuRNlZiT8kfKmnoRXSgOV0ZJIBN1WgYK1cUh2nVi7StZvyoLVpoH/VBPio8bSu1572miDgBNiN0SQVh4gt1ej+GqXP4idFn5iWsCGY9KSkg6OsrCbNwhcBZfKXHRdc1HgWLLTALHTZ6A0YQTbMbcz/vqRoQjsJSzRjuqiy6sGrjnNSn9jIsRmgdGVSB8RJe2Lby7+E8KgrytCXgOnQ+ySCoJWev0W1kOnOmw/5XrflnAVaWgx8rO8TjQ/v6+GthfWm4TQV6irFdIZ+S9MQpzTLl7jqzkwT9Q03jHGMFei7wJs3xENv6/MMMyW1+MyHRcW1muFY9skdQmLPsxH/tdAgHEcxg3TUdcpG6bfuHSdGMYdz6cic6wO3r38oPcuRdbvpl2xu850DNpnHevNwL4kxC5Jh6XKF0ETI2GKjUTovb6oPJCORNfxKIZpirNAt1590LXO+rNjoEzHgT1WhmEYlWGPlWEYRmVYWBmGYVSGhZVhGEZlWFgZhmFUhoWVYRhGZVhYGYZhVIaFlWEYRmVYWBmGYVSGhZVhGEZlWFgZhmFUhoWVYRhGZVhYGYZhVIaFlWEYRmVYWBmGYVSGhZVhGEZlWFgZhmFUhoWVYRhGZVhYGYZhVIaFlWEYRmVYWBmGYVSGhZVhGEZlWFgZhmFUBfj/V+HV3wihjBwAAAAASUVORK5CYII=)"
   ]
  },
  {
   "cell_type": "code",
   "execution_count": null,
   "metadata": {
    "colab": {
     "base_uri": "https://localhost:8080/"
    },
    "id": "H07jJ2MP_HqW",
    "outputId": "9d21b7af-1f81-44a1-fa1b-08fb674e74a5"
   },
   "outputs": [
    {
     "data": {
      "text/plain": [
       "(<torch.utils.data.dataloader.DataLoader at 0x7fdb36fe7910>,\n",
       " <torch.utils.data.dataloader.DataLoader at 0x7fdb34a6b1c0>)"
      ]
     },
     "execution_count": 15,
     "metadata": {},
     "output_type": "execute_result"
    }
   ],
   "source": [
    "train_dataloader, test_dataloader"
   ]
  },
  {
   "cell_type": "code",
   "execution_count": null,
   "metadata": {
    "colab": {
     "base_uri": "https://localhost:8080/"
    },
    "id": "5fOeL1Hd_HtP",
    "outputId": "7f0a5f81-6201-4cd8-f01c-ccec061a62c4"
   },
   "outputs": [
    {
     "name": "stdout",
     "output_type": "stream",
     "text": [
      "Dataloaders: (<torch.utils.data.dataloader.DataLoader object at 0x7fdb36fe7910>, <torch.utils.data.dataloader.DataLoader object at 0x7fdb34a6b1c0>)\n",
      "Length of train dataloader: 1875 (BATCHES of 32).\n",
      "Length of test dataloader: 313 (BATCHES of 32).\n"
     ]
    }
   ],
   "source": [
    "# Let's check out what we have created\n",
    "print(f\"Dataloaders: {train_dataloader, test_dataloader}\")\n",
    "print(f\"Length of train dataloader: {len(train_dataloader)} (BATCHES of {BATCH_SIZE}).\")\n",
    "print(f\"Length of test dataloader: {len(test_dataloader)} (BATCHES of {BATCH_SIZE}).\")"
   ]
  },
  {
   "cell_type": "code",
   "execution_count": null,
   "metadata": {
    "colab": {
     "base_uri": "https://localhost:8080/"
    },
    "id": "eYrEZ3-o_Sqr",
    "outputId": "c56b67e0-8005-4ca0-ee6b-f805028831e0"
   },
   "outputs": [
    {
     "data": {
      "text/plain": [
       "[tensor([[[[0., 0., 0.,  ..., 0., 0., 0.],\n",
       "           [0., 0., 0.,  ..., 0., 0., 0.],\n",
       "           [0., 0., 0.,  ..., 0., 0., 0.],\n",
       "           ...,\n",
       "           [0., 0., 0.,  ..., 0., 0., 0.],\n",
       "           [0., 0., 0.,  ..., 0., 0., 0.],\n",
       "           [0., 0., 0.,  ..., 0., 0., 0.]]],\n",
       " \n",
       " \n",
       "         [[[0., 0., 0.,  ..., 0., 0., 0.],\n",
       "           [0., 0., 0.,  ..., 0., 0., 0.],\n",
       "           [0., 0., 0.,  ..., 0., 0., 0.],\n",
       "           ...,\n",
       "           [0., 0., 0.,  ..., 0., 0., 0.],\n",
       "           [0., 0., 0.,  ..., 0., 0., 0.],\n",
       "           [0., 0., 0.,  ..., 0., 0., 0.]]],\n",
       " \n",
       " \n",
       "         [[[0., 0., 0.,  ..., 0., 0., 0.],\n",
       "           [0., 0., 0.,  ..., 0., 0., 0.],\n",
       "           [0., 0., 0.,  ..., 0., 0., 0.],\n",
       "           ...,\n",
       "           [0., 0., 0.,  ..., 0., 0., 0.],\n",
       "           [0., 0., 0.,  ..., 0., 0., 0.],\n",
       "           [0., 0., 0.,  ..., 0., 0., 0.]]],\n",
       " \n",
       " \n",
       "         ...,\n",
       " \n",
       " \n",
       "         [[[0., 0., 0.,  ..., 0., 0., 0.],\n",
       "           [0., 0., 0.,  ..., 0., 0., 0.],\n",
       "           [0., 0., 0.,  ..., 0., 0., 0.],\n",
       "           ...,\n",
       "           [0., 0., 0.,  ..., 0., 0., 0.],\n",
       "           [0., 0., 0.,  ..., 0., 0., 0.],\n",
       "           [0., 0., 0.,  ..., 0., 0., 0.]]],\n",
       " \n",
       " \n",
       "         [[[0., 0., 0.,  ..., 0., 0., 0.],\n",
       "           [0., 0., 0.,  ..., 0., 0., 0.],\n",
       "           [0., 0., 0.,  ..., 0., 0., 0.],\n",
       "           ...,\n",
       "           [0., 0., 0.,  ..., 0., 0., 0.],\n",
       "           [0., 0., 0.,  ..., 0., 0., 0.],\n",
       "           [0., 0., 0.,  ..., 0., 0., 0.]]],\n",
       " \n",
       " \n",
       "         [[[0., 0., 0.,  ..., 0., 0., 0.],\n",
       "           [0., 0., 0.,  ..., 0., 0., 0.],\n",
       "           [0., 0., 0.,  ..., 0., 0., 0.],\n",
       "           ...,\n",
       "           [0., 0., 0.,  ..., 0., 0., 0.],\n",
       "           [0., 0., 0.,  ..., 0., 0., 0.],\n",
       "           [0., 0., 0.,  ..., 0., 0., 0.]]]]),\n",
       " tensor([6, 7, 3, 6, 9, 4, 8, 5, 7, 5, 8, 6, 9, 8, 1, 9, 5, 3, 8, 0, 8, 2, 8, 6,\n",
       "         7, 9, 9, 5, 1, 4, 7, 9])]"
      ]
     },
     "execution_count": 17,
     "metadata": {},
     "output_type": "execute_result"
    }
   ],
   "source": [
    "# Getting the next iterable for the train dataloader batch\n",
    "next(iter(train_dataloader))"
   ]
  },
  {
   "cell_type": "code",
   "execution_count": null,
   "metadata": {
    "colab": {
     "base_uri": "https://localhost:8080/"
    },
    "id": "UbsprY2p_RfT",
    "outputId": "7a6440be-ae25-4f40-ad58-257adf60581b"
   },
   "outputs": [
    {
     "data": {
      "text/plain": [
       "(torch.Size([32, 1, 28, 28]), torch.Size([32]))"
      ]
     },
     "execution_count": 18,
     "metadata": {},
     "output_type": "execute_result"
    }
   ],
   "source": [
    "# Check out what's inside the training dataloader\n",
    "\"\"\" NOTE: To check the shape of the data for output classifier in the\n",
    "MNIST model created below (question 8) for figuring out the input features.\"\"\"\n",
    "\n",
    "train_features_batch, train_labels_batch = next(iter(train_dataloader))   # Getting the next iterable for the train dataloader batch\n",
    "train_features_batch.shape, train_labels_batch.shape"
   ]
  },
  {
   "cell_type": "code",
   "execution_count": null,
   "metadata": {
    "colab": {
     "base_uri": "https://localhost:8080/",
     "height": 463
    },
    "id": "KB0ZQ7wK_Hus",
    "outputId": "f7d16d91-215f-4cd0-c320-7de54e4a0bdf"
   },
   "outputs": [
    {
     "name": "stdout",
     "output_type": "stream",
     "text": [
      "Image size: torch.Size([1, 28, 28])\n",
      "Label: 0\n"
     ]
    },
    {
     "data": {
      "image/png": "[encoded data removed]",
      "text/plain": [
       "<Figure size 640x480 with 1 Axes>"
      ]
     },
     "metadata": {},
     "output_type": "display_data"
    }
   ],
   "source": [
    "# Show a sample\n",
    "torch.manual_seed(42)\n",
    "random_idx = torch.randint(0, len(train_features_batch), size=[1]).item()\n",
    "img, label = train_features_batch[random_idx], train_labels_batch[random_idx]\n",
    "plt.imshow(img.squeeze(), cmap=\"gray\")\n",
    "plt.title(class_names[label])\n",
    "plt.axis(False)\n",
    "print(f\"Image size: {img.shape}\")\n",
    "print(f\"Label: {label}\")"
   ]
  },
  {
   "cell_type": "code",
   "execution_count": null,
   "metadata": {
    "id": "OdH7Hsov_Hzk"
   },
   "outputs": [],
   "source": []
  },
  {
   "cell_type": "markdown",
   "metadata": {
    "id": "bCCVfXk5xjYS"
   },
   "source": [
    "## 8. Recreate `model_2` used in notebook 03 (the same model from the [CNN Explainer website](https://poloclub.github.io/cnn-explainer/), also known as TinyVGG) capable of fitting on the MNIST dataset."
   ]
  },
  {
   "cell_type": "markdown",
   "metadata": {
    "id": "E_rr7ts28WbC"
   },
   "source": [
    "`MaxPool2d()` layer helps to select the pixel with the highest val, as it should contain the maximum information and we compress our inout by half, potentially we are still preserving the most important patterns in our image."
   ]
  },
  {
   "cell_type": "code",
   "execution_count": null,
   "metadata": {
    "id": "5IKNF22XbKYS"
   },
   "outputs": [],
   "source": [
    "from torch import nn\n",
    "class MNIST_model(nn.Module):\n",
    "  \"\"\"Model capable of predicting on MNIST dataset.\"\"\"\n",
    "  def __init__(self, input_shape: int, hidden_units: int, output_shape:int):\n",
    "    super().__init__()\n",
    "    self.conv_block_1 = nn.Sequential(\n",
    "        nn.Conv2d(in_channels=input_shape,\n",
    "                  out_channels=hidden_units,\n",
    "                  kernel_size=3,\n",
    "                  stride=1,\n",
    "                  padding=1),\n",
    "        nn.ReLU(),\n",
    "        nn.Conv2d(in_channels=hidden_units,\n",
    "                  out_channels=hidden_units,\n",
    "                  kernel_size=3,\n",
    "                  stride=1,\n",
    "                  padding=1),\n",
    "        nn.ReLU(),\n",
    "        nn.MaxPool2d(kernel_size=2)\n",
    "    )\n",
    "    self.conv_block_2 = nn.Sequential(\n",
    "        nn.Conv2d(in_channels=hidden_units,\n",
    "                  out_channels=hidden_units,\n",
    "                  kernel_size=3,\n",
    "                  stride=1,\n",
    "                  padding=1),\n",
    "        nn.ReLU(),\n",
    "        nn.Conv2d(in_channels=hidden_units,\n",
    "                  out_channels=hidden_units,\n",
    "                  kernel_size=3,\n",
    "                  stride=1,\n",
    "                  padding=1),\n",
    "        nn.ReLU(),\n",
    "        nn.MaxPool2d(kernel_size=2)\n",
    "    )\n",
    "    self.classifier = nn.Sequential(\n",
    "        nn.Flatten(),\n",
    "        nn.Linear(in_features=hidden_units*7*7,\n",
    "                  out_features=output_shape)\n",
    "    )\n",
    "    \"\"\" Where did this hidden_units*7*7 came from?\n",
    "    we multiplied the hidden units by 7*7 because the original image shape is\n",
    "    (1, 28, 28) and we passed it throught the first block so we get\n",
    "    (1, 10, 14, 14), after passing through the second block we get (1, 10, 7, 7).\n",
    "    When (1, 10, 7, 7) is flattened in the classifier layer, we get (1, 10*7*7*)\n",
    "    which equals (1, 490)\"\"\"\n",
    "\n",
    "  def forward(self, x):\n",
    "    x = self.conv_block_1(x)\n",
    "    #print(f\"Output shape of conv block 1: {x.shape}\")\n",
    "    x = self.conv_block_2(x)\n",
    "    #print(f\"Output shape of conv block 2: {x.shape}\")\n",
    "    x = self.classifier(x)\n",
    "    #print(f\"Output shape of classifier: {x.shape}\")\n",
    "    return x"
   ]
  },
  {
   "cell_type": "code",
   "execution_count": null,
   "metadata": {
    "colab": {
     "base_uri": "https://localhost:8080/",
     "height": 36
    },
    "id": "C2K0BAV5Y78F",
    "outputId": "8dc02f3e-53f8-4ed5-cc19-9f6ec2226f1b"
   },
   "outputs": [
    {
     "data": {
      "application/vnd.google.colaboratory.intrinsic+json": {
       "type": "string"
      },
      "text/plain": [
       "'cuda'"
      ]
     },
     "execution_count": 35,
     "metadata": {},
     "output_type": "execute_result"
    }
   ],
   "source": [
    "device"
   ]
  },
  {
   "cell_type": "code",
   "execution_count": null,
   "metadata": {
    "colab": {
     "base_uri": "https://localhost:8080/"
    },
    "id": "FGoFIP-4Y8AI",
    "outputId": "d8ddeb17-6991-475c-8d36-0caffe006b57"
   },
   "outputs": [
    {
     "data": {
      "text/plain": [
       "MNIST_model(\n",
       "  (conv_block_1): Sequential(\n",
       "    (0): Conv2d(1, 10, kernel_size=(3, 3), stride=(1, 1), padding=(1, 1))\n",
       "    (1): ReLU()\n",
       "    (2): Conv2d(10, 10, kernel_size=(3, 3), stride=(1, 1), padding=(1, 1))\n",
       "    (3): ReLU()\n",
       "    (4): MaxPool2d(kernel_size=2, stride=2, padding=0, dilation=1, ceil_mode=False)\n",
       "  )\n",
       "  (conv_block_2): Sequential(\n",
       "    (0): Conv2d(10, 10, kernel_size=(3, 3), stride=(1, 1), padding=(1, 1))\n",
       "    (1): ReLU()\n",
       "    (2): Conv2d(10, 10, kernel_size=(3, 3), stride=(1, 1), padding=(1, 1))\n",
       "    (3): ReLU()\n",
       "    (4): MaxPool2d(kernel_size=2, stride=2, padding=0, dilation=1, ceil_mode=False)\n",
       "  )\n",
       "  (classifier): Sequential(\n",
       "    (0): Flatten(start_dim=1, end_dim=-1)\n",
       "    (1): Linear(in_features=490, out_features=10, bias=True)\n",
       "  )\n",
       ")"
      ]
     },
     "execution_count": 36,
     "metadata": {},
     "output_type": "execute_result"
    }
   ],
   "source": [
    "model = MNIST_model(input_shape=1,\n",
    "                    hidden_units=10,\n",
    "                    output_shape=10).to(device)\n",
    "model"
   ]
  },
  {
   "cell_type": "code",
   "execution_count": null,
   "metadata": {
    "id": "sRVSe26lY8JW"
   },
   "outputs": [],
   "source": [
    "# # Check out the model state dict to find out what patterns our model wants to learn\n",
    "# model.state_dict()"
   ]
  },
  {
   "cell_type": "code",
   "execution_count": null,
   "metadata": {
    "colab": {
     "base_uri": "https://localhost:8080/"
    },
    "id": "NKxeCWGoZPUk",
    "outputId": "9673e412-eac2-4eda-99bd-5e0a543ee5bf"
   },
   "outputs": [
    {
     "name": "stdout",
     "output_type": "stream",
     "text": [
      "torch.Size([1, 1, 28, 28])\n",
      "Output shape of conv block 1: torch.Size([1, 10, 14, 14])\n",
      "Output shape of conv block 2: torch.Size([1, 10, 7, 7])\n",
      "Output shape of classifier: torch.Size([1, 10])\n"
     ]
    },
    {
     "data": {
      "text/plain": [
       "tensor([[-0.0420,  0.0305, -0.0042,  0.0290, -0.0294,  0.0473, -0.0575, -0.0570,\n",
       "          0.0464, -0.0279]], device='cuda:0', grad_fn=<AddmmBackward0>)"
      ]
     },
     "execution_count": 37,
     "metadata": {},
     "output_type": "execute_result"
    }
   ],
   "source": [
    "# Try a dummy forward pass by passing x to the model to see what shapes our data is\n",
    "dummy_x = torch.rand(size=(1, 28, 28)).unsqueeze(dim=0).to(device)\n",
    "print(dummy_x.shape)\n",
    "model(dummy_x)"
   ]
  },
  {
   "cell_type": "code",
   "execution_count": null,
   "metadata": {
    "colab": {
     "base_uri": "https://localhost:8080/"
    },
    "id": "E1PFM6LRZPX-",
    "outputId": "15b4b444-e33e-4370-e044-460719bc9e35"
   },
   "outputs": [
    {
     "data": {
      "text/plain": [
       "torch.Size([1, 10, 7, 7])"
      ]
     },
     "execution_count": 38,
     "metadata": {},
     "output_type": "execute_result"
    }
   ],
   "source": [
    "dummy_x_2 = torch.rand(size=([1, 10, 7, 7]))\n",
    "dummy_x_2.shape"
   ]
  },
  {
   "cell_type": "code",
   "execution_count": null,
   "metadata": {
    "colab": {
     "base_uri": "https://localhost:8080/"
    },
    "id": "R94hEKPoZgcH",
    "outputId": "9b372655-62b7-4398-b562-7aedaec921f9"
   },
   "outputs": [
    {
     "data": {
      "text/plain": [
       "torch.Size([1, 490])"
      ]
     },
     "execution_count": 39,
     "metadata": {},
     "output_type": "execute_result"
    }
   ],
   "source": [
    "flatten_layer = nn.Flatten()\n",
    "flatten_layer(dummy_x_2).shape"
   ]
  },
  {
   "cell_type": "markdown",
   "metadata": {
    "id": "sf_3zUr7xlhy"
   },
   "source": [
    "## 9. Train the model you built in exercise 8. for 5 epochs on CPU and GPU and see how long it takes on each.\n",
    "\n",
    "- You can simply use %%time at the start of every code block and it will automatically calculate the total time taken to execute the block.\n",
    "\n",
    "- Other method is to use `default_timer as timer`"
   ]
  },
  {
   "cell_type": "code",
   "execution_count": null,
   "metadata": {
    "id": "c6_QfCPydVNT"
   },
   "outputs": [],
   "source": [
    "from timeit import default_timer as timer\n",
    "def print_train_time(start: float,\n",
    "                     end: float,\n",
    "                     device: torch.device = None):\n",
    "  total_time = end - start\n",
    "  print(f\"Train time on {device}: {total_time:.10f} seconds.\")"
   ]
  },
  {
   "cell_type": "code",
   "execution_count": null,
   "metadata": {
    "colab": {
     "base_uri": "https://localhost:8080/",
     "height": 674,
     "referenced_widgets": [
      "0c518466722f469a8976462ad0a71470",
      "fe433c4adba542f29800014c8180a659",
      "3c4521e676e14ceea54e07caba27ef16",
      "d8a056c4a7174e9c9107f45caefdb361",
      "4616102b24544f2db52fc85c8daea70a",
      "f6b31a09e0a741ec8454cb85488d62d9",
      "f042a7458981401584a9a4493a288ee8",
      "3518c854776b4fc9a34402efe3d43839",
      "cb7f3e6dd0bc4d30914e37160eceeb4b",
      "090f239ed56447a78bf4d1ac62a2b89b",
      "dbed9d92bca54165bbcf8bde6d0d9ced"
     ]
    },
    "id": "jSo6vVWFbNLD",
    "outputId": "3ee1e94c-3c29-46de-a24c-ea4cbff39302"
   },
   "outputs": [
    {
     "data": {
      "application/vnd.jupyter.widget-view+json": {
       "model_id": "0c518466722f469a8976462ad0a71470",
       "version_major": 2,
       "version_minor": 0
      },
      "text/plain": [
       "  0%|          | 0/5 [00:00<?, ?it/s]"
      ]
     },
     "metadata": {},
     "output_type": "display_data"
    },
    {
     "name": "stdout",
     "output_type": "stream",
     "text": [
      "Looked at 0/60000 samples.\n",
      "Looked at 12800/60000 samples.\n",
      "Looked at 25600/60000 samples.\n",
      "Looked at 38400/60000 samples.\n",
      "Looked at 51200/60000 samples.\n",
      "\n",
      "Epoch: 0 | Train Loss: 0.2656 | Test loss: 0.0767\n",
      "Looked at 0/60000 samples.\n",
      "Looked at 12800/60000 samples.\n",
      "Looked at 25600/60000 samples.\n",
      "Looked at 38400/60000 samples.\n",
      "Looked at 51200/60000 samples.\n",
      "\n",
      "Epoch: 1 | Train Loss: 0.0684 | Test loss: 0.0439\n",
      "Looked at 0/60000 samples.\n",
      "Looked at 12800/60000 samples.\n",
      "Looked at 25600/60000 samples.\n",
      "Looked at 38400/60000 samples.\n",
      "Looked at 51200/60000 samples.\n",
      "\n",
      "Epoch: 2 | Train Loss: 0.0538 | Test loss: 0.0458\n",
      "Looked at 0/60000 samples.\n",
      "Looked at 12800/60000 samples.\n",
      "Looked at 25600/60000 samples.\n",
      "Looked at 38400/60000 samples.\n",
      "Looked at 51200/60000 samples.\n",
      "\n",
      "Epoch: 3 | Train Loss: 0.0442 | Test loss: 0.0423\n",
      "Looked at 0/60000 samples.\n",
      "Looked at 12800/60000 samples.\n",
      "Looked at 25600/60000 samples.\n",
      "Looked at 38400/60000 samples.\n",
      "Looked at 51200/60000 samples.\n",
      "\n",
      "Epoch: 4 | Train Loss: 0.0395 | Test loss: 0.0352\n",
      "Train time on cpu: 226.0598278110 seconds.\n"
     ]
    }
   ],
   "source": [
    "# CPU MODEL\n",
    "from tqdm.auto import tqdm\n",
    "\n",
    "# Set the seed and start the timer\n",
    "torch.manual_seed(42)\n",
    "train_time_start_on_cpu = timer()\n",
    "\n",
    "# Train on CPU\n",
    "model_cpu = MNIST_model(input_shape=1,\n",
    "                        hidden_units=10,\n",
    "                        output_shape=10).to(\"cpu\")\n",
    "\n",
    "# Create a loss function and optimizer\n",
    "loss_fn = nn.CrossEntropyLoss()\n",
    "optimizer = torch.optim.SGD(params=model_cpu.parameters(),\n",
    "                            lr=0.1)\n",
    "\n",
    "### Training loop\n",
    "epochs = 5\n",
    "\n",
    "for epoch in tqdm(range(epochs)):\n",
    "  train_loss = 0\n",
    "  for batch, (X, y) in enumerate(train_dataloader):\n",
    "\n",
    "    model_cpu.train()\n",
    "\n",
    "    # Put data on CPU\n",
    "    X, y = X.to(\"cpu\"), y.to(\"cpu\")\n",
    "\n",
    "    # Forward pass\n",
    "    y_pred = model_cpu(X)\n",
    "\n",
    "    # Calculate the loss\n",
    "    loss = loss_fn(y_pred, y)\n",
    "    train_loss += loss          # Accumulate train loss\n",
    "\n",
    "    # Optimizer zero grad\n",
    "    optimizer.zero_grad()\n",
    "\n",
    "    # Loss backward\n",
    "    loss.backward()\n",
    "\n",
    "    # Step the optimizer\n",
    "    optimizer.step()\n",
    "\n",
    "    # Print out what's happening\n",
    "    if batch % 400 == 0:\n",
    "      print(f\"Looked at {batch * len(X)}/{len(train_dataloader.dataset)} samples.\")\n",
    "\n",
    "  # Divide total train loss by length of train dataloader (becuase the train loss above is accumulated per batch and now we are averaging it)\n",
    "  train_loss /= len(train_dataloader)\n",
    "\n",
    "  ### Testing\n",
    "  test_loss_total = 0\n",
    "\n",
    "  model_cpu.eval()\n",
    "  with torch.inference_mode():\n",
    "    for batch, (X_test, y_test) in enumerate(test_dataloader):\n",
    "      # Make sure test data is on cpu\n",
    "      X_test, y_test = X_test.to(\"cpu\"), y_test.to(\"cpu\")\n",
    "\n",
    "      # 1. Forward pass\n",
    "      test_pred = model_cpu(X_test)\n",
    "\n",
    "      # 2. Calculate the loss (accumulatively)\n",
    "      test_loss = loss_fn(test_pred, y_test)\n",
    "      test_loss_total += test_loss\n",
    "\n",
    "    # Calculate the test loss average per batch\n",
    "    test_loss_total /= len(test_dataloader)\n",
    "\n",
    "  # Print out what's happening\n",
    "  print(f\"\\nEpoch: {epoch} | Train Loss: {train_loss:.4f} | Test loss: {test_loss_total:.4f}\")\n",
    "\n",
    "# Calculate training time\n",
    "train_time_end_on_cpu = timer()\n",
    "total_train_time_model_cpu = print_train_time(start=train_time_start_on_cpu,\n",
    "                                              end=train_time_end_on_cpu,\n",
    "                                              device=str(next(model_cpu.parameters()).device))\n"
   ]
  },
  {
   "cell_type": "code",
   "execution_count": null,
   "metadata": {
    "colab": {
     "base_uri": "https://localhost:8080/",
     "height": 674,
     "referenced_widgets": [
      "08831382d0dd45fbb5ef84d1d6388522",
      "cb42c5003b9a42188ca6a04bc247ca83",
      "b41b3760a1844e9985e4d803bc160af2",
      "0607fc5875fa457ea1c42ab98dd16ca0",
      "29dc97efb80c4221bb5d4f0a3ab0d51b",
      "00cafee5f3ed453bb628d6d4fb09c573",
      "a98bc8f475df46ffa0ed482daf4c549f",
      "f30eb883f86b4140b9122c6d42705544",
      "3a6791943012487d9ed7651b60765dbc",
      "060e10e949604246975774828d2f11f7",
      "a1da5e072341423a9f863770fd513b33"
     ]
    },
    "id": "O_fqZ_eGAtE7",
    "outputId": "ac57e7ac-1568-48ae-c0a6-b5e373bbe1a9"
   },
   "outputs": [
    {
     "data": {
      "application/vnd.jupyter.widget-view+json": {
       "model_id": "08831382d0dd45fbb5ef84d1d6388522",
       "version_major": 2,
       "version_minor": 0
      },
      "text/plain": [
       "  0%|          | 0/5 [00:00<?, ?it/s]"
      ]
     },
     "metadata": {},
     "output_type": "display_data"
    },
    {
     "name": "stdout",
     "output_type": "stream",
     "text": [
      "Looked at 0/60000 samples.\n",
      "Looked at 12800/60000 samples.\n",
      "Looked at 25600/60000 samples.\n",
      "Looked at 38400/60000 samples.\n",
      "Looked at 51200/60000 samples.\n",
      "\n",
      "Epoch: 0 | Train Loss: 0.2659 | Test loss: 0.0790\n",
      "Looked at 0/60000 samples.\n",
      "Looked at 12800/60000 samples.\n",
      "Looked at 25600/60000 samples.\n",
      "Looked at 38400/60000 samples.\n",
      "Looked at 51200/60000 samples.\n",
      "\n",
      "Epoch: 1 | Train Loss: 0.0693 | Test loss: 0.0414\n",
      "Looked at 0/60000 samples.\n",
      "Looked at 12800/60000 samples.\n",
      "Looked at 25600/60000 samples.\n",
      "Looked at 38400/60000 samples.\n",
      "Looked at 51200/60000 samples.\n",
      "\n",
      "Epoch: 2 | Train Loss: 0.0540 | Test loss: 0.0427\n",
      "Looked at 0/60000 samples.\n",
      "Looked at 12800/60000 samples.\n",
      "Looked at 25600/60000 samples.\n",
      "Looked at 38400/60000 samples.\n",
      "Looked at 51200/60000 samples.\n",
      "\n",
      "Epoch: 3 | Train Loss: 0.0444 | Test loss: 0.0367\n",
      "Looked at 0/60000 samples.\n",
      "Looked at 12800/60000 samples.\n",
      "Looked at 25600/60000 samples.\n",
      "Looked at 38400/60000 samples.\n",
      "Looked at 51200/60000 samples.\n",
      "\n",
      "Epoch: 4 | Train Loss: 0.0398 | Test loss: 0.0343\n",
      "Train time on cuda:0: 63.7293534490 seconds.\n"
     ]
    }
   ],
   "source": [
    "# GPU MODEL\n",
    "from tqdm.auto import tqdm\n",
    "\n",
    "device = \"cuda\" if torch.cuda.is_available() else \"cpu\"\n",
    "\n",
    "# Set the seed and start the timer\n",
    "torch.manual_seed(42)\n",
    "train_time_start_on_gpu = timer()\n",
    "\n",
    "# Train on GPU\n",
    "model_gpu = MNIST_model(input_shape=1,\n",
    "                        hidden_units=10,\n",
    "                        output_shape=10).to(device)\n",
    "\n",
    "# Create a loss function and optimizer\n",
    "loss_fn = nn.CrossEntropyLoss()\n",
    "optimizer = torch.optim.SGD(params=model_gpu.parameters(),\n",
    "                            lr=0.1)\n",
    "\n",
    "### Training loop\n",
    "epochs = 5\n",
    "\n",
    "for epoch in tqdm(range(epochs)):\n",
    "  train_loss = 0\n",
    "  for batch, (X, y) in enumerate(train_dataloader):\n",
    "\n",
    "    model_gpu.train()\n",
    "\n",
    "    # Put data on GPU\n",
    "    X, y = X.to(device), y.to(device)\n",
    "\n",
    "    # Forward pass\n",
    "    y_pred = model_gpu(X)\n",
    "\n",
    "    # Calculate the loss\n",
    "    loss = loss_fn(y_pred, y)\n",
    "    train_loss += loss          # Accumulate train loss\n",
    "\n",
    "    # Optimizer zero grad\n",
    "    optimizer.zero_grad()\n",
    "\n",
    "    # Loss backward\n",
    "    loss.backward()\n",
    "\n",
    "    # Step the optimizer\n",
    "    optimizer.step()\n",
    "\n",
    "    # Print out what's happening\n",
    "    if batch % 400 == 0:\n",
    "      print(f\"Looked at {batch * len(X)}/{len(train_dataloader.dataset)} samples.\")\n",
    "\n",
    "  # Divide total train loss by length of train dataloader (becuase the train loss above is accumulated per batch and now we are averaging it)\n",
    "  train_loss /= len(train_dataloader)\n",
    "\n",
    "  ### Testing\n",
    "  test_loss_total = 0\n",
    "\n",
    "  model_gpu.eval()\n",
    "  with torch.inference_mode():\n",
    "    for batch, (X_test, y_test) in enumerate(test_dataloader):\n",
    "      # Make sure test data is on device (gpu)\n",
    "      X_test, y_test = X_test.to(device), y_test.to(device)\n",
    "\n",
    "      # 1. Forward pass\n",
    "      test_pred = model_gpu(X_test)\n",
    "\n",
    "      # 2. Calculate the loss (accumulatively)\n",
    "      test_loss = loss_fn(test_pred, y_test)\n",
    "      test_loss_total += test_loss\n",
    "\n",
    "    # Calculate the test loss average per batch\n",
    "    test_loss_total /= len(test_dataloader)\n",
    "\n",
    "  # Print out what's happening\n",
    "  print(f\"\\nEpoch: {epoch} | Train Loss: {train_loss:.4f} | Test loss: {test_loss_total:.4f}\")\n",
    "\n",
    "# Calculate training time\n",
    "train_time_end_on_gpu = timer()\n",
    "total_train_time_model_gpu = print_train_time(start=train_time_start_on_gpu,\n",
    "                                              end=train_time_end_on_gpu,\n",
    "                                              device=str(next(model_gpu.parameters()).device))\n"
   ]
  },
  {
   "cell_type": "markdown",
   "metadata": {
    "id": "w1CsHhPpxp1w"
   },
   "source": [
    "## 10. Make predictions using your trained model and visualize at least 5 of them comparing the prediciton to the target label."
   ]
  },
  {
   "cell_type": "code",
   "execution_count": null,
   "metadata": {
    "colab": {
     "base_uri": "https://localhost:8080/",
     "height": 406
    },
    "id": "_YGgZvSobNxu",
    "outputId": "349d234d-b74a-4f9f-fb05-d8c5cab797f2"
   },
   "outputs": [
    {
     "data": {
      "image/png": "[encoded data removed]",
      "text/plain": [
       "<Figure size 640x480 with 1 Axes>"
      ]
     },
     "metadata": {},
     "output_type": "display_data"
    }
   ],
   "source": [
    "# Make predictions with the trained model\n",
    "plt.imshow(test_data[0][0].squeeze(),cmap=\"gray\")\n",
    "plt.axis(False)\n",
    "plt.show()"
   ]
  },
  {
   "cell_type": "code",
   "execution_count": null,
   "metadata": {
    "colab": {
     "base_uri": "https://localhost:8080/"
    },
    "id": "SY40IFIjyldF",
    "outputId": "397a6889-2749-49e7-9055-2e26007774dc"
   },
   "outputs": [
    {
     "data": {
      "text/plain": [
       "tensor([7], device='cuda:0')"
      ]
     },
     "execution_count": 43,
     "metadata": {},
     "output_type": "execute_result"
    }
   ],
   "source": [
    "# Logits -> Prediction probabilities -> Prediction labels\n",
    "model_pred_logits = model_gpu(test_data[0][0].unsqueeze(dim=0).to(device)) # Make sure image is right shape + right device\n",
    "model_pred_probs = torch.softmax(model_pred_logits, dim=1)\n",
    "model_pred_label = torch.argmax(model_pred_probs, dim=1)\n",
    "model_pred_label"
   ]
  },
  {
   "cell_type": "code",
   "execution_count": null,
   "metadata": {
    "colab": {
     "base_uri": "https://localhost:8080/",
     "height": 1000
    },
    "id": "emF-umzwylg1",
    "outputId": "9909967f-cf32-4548-dfae-cf1dec597b33"
   },
   "outputs": [
    {
     "data": {
      "image/png": "[encoded data removed]",
      "text/plain": [
       "<Figure size 300x300 with 1 Axes>"
      ]
     },
     "metadata": {},
     "output_type": "display_data"
    },
    {
     "data": {
      "image/png": "[encoded data removed]",
      "text/plain": [
       "<Figure size 300x300 with 1 Axes>"
      ]
     },
     "metadata": {},
     "output_type": "display_data"
    },
    {
     "data": {
      "image/png": "[encoded data removed]",
      "text/plain": [
       "<Figure size 300x300 with 1 Axes>"
      ]
     },
     "metadata": {},
     "output_type": "display_data"
    },
    {
     "data": {
      "image/png": "[encoded data removed]",
      "text/plain": [
       "<Figure size 300x300 with 1 Axes>"
      ]
     },
     "metadata": {},
     "output_type": "display_data"
    },
    {
     "data": {
      "image/png": "[encoded data removed]",
      "text/plain": [
       "<Figure size 300x300 with 1 Axes>"
      ]
     },
     "metadata": {},
     "output_type": "display_data"
    }
   ],
   "source": [
    "# Making a plot version for the truth and prediction images and labels\n",
    "num_to_plot = 5\n",
    "for i in range(num_to_plot):\n",
    "  img = test_data[i][0]\n",
    "  label = test_data[i][1]\n",
    "\n",
    "  # Make prediction on image\n",
    "  model_pred_logits = model_gpu(img.unsqueeze(dim=0).to(device))\n",
    "  model_pred_probs = torch.softmax(model_pred_logits, dim=1)\n",
    "  model_pred_label = torch.argmax(model_pred_probs, dim=1)\n",
    "\n",
    "  # Plot the image and prediction\n",
    "  plt.figure(figsize=(3, 3))\n",
    "  plt.imshow(img.squeeze(), cmap=\"gray\")\n",
    "  plt.title(f\"Truth: {label} | Pred: {model_pred_label.cpu().item()}\")\n",
    "  plt.axis(False)\n",
    "  plt.show()"
   ]
  },
  {
   "cell_type": "markdown",
   "metadata": {
    "id": "qQwzqlBWxrpG"
   },
   "source": [
    "## 11. Plot a confusion matrix comparing your model's predictions to the truth labels."
   ]
  },
  {
   "cell_type": "code",
   "execution_count": null,
   "metadata": {
    "colab": {
     "base_uri": "https://localhost:8080/"
    },
    "id": "vSrXiT_AbQ6e",
    "outputId": "120bfecd-4dac-4697-eaa9-d8db1e146d91"
   },
   "outputs": [
    {
     "name": "stdout",
     "output_type": "stream",
     "text": [
      "\u001b[?25l     \u001b[90m━━━━━━━━━━━━━━━━━━━━━━━━━━━━━━━━━━━━━━━━\u001b[0m \u001b[32m0.0/761.3 kB\u001b[0m \u001b[31m?\u001b[0m eta \u001b[36m-:--:--\u001b[0m\r\u001b[2K     \u001b[91m━\u001b[0m\u001b[91m╸\u001b[0m\u001b[90m━━━━━━━━━━━━━━━━━━━━━━━━━━━━━━━━━━━━━━\u001b[0m \u001b[32m30.7/761.3 kB\u001b[0m \u001b[31m1.1 MB/s\u001b[0m eta \u001b[36m0:00:01\u001b[0m\r\u001b[2K     \u001b[91m━━━━━━━━━━━━\u001b[0m\u001b[91m╸\u001b[0m\u001b[90m━━━━━━━━━━━━━━━━━━━━━━━━━━\u001b[0m \u001b[32m245.8/761.3 kB\u001b[0m \u001b[31m3.8 MB/s\u001b[0m eta \u001b[36m0:00:01\u001b[0m\r\u001b[2K     \u001b[91m━━━━━━━━━━━━━━━━━━━━━━━━━━━━\u001b[0m\u001b[90m╺\u001b[0m\u001b[90m━━━━━━━━━━\u001b[0m \u001b[32m553.0/761.3 kB\u001b[0m \u001b[31m5.5 MB/s\u001b[0m eta \u001b[36m0:00:01\u001b[0m\r\u001b[2K     \u001b[90m━━━━━━━━━━━━━━━━━━━━━━━━━━━━━━━━━━━━━━━\u001b[0m \u001b[32m761.3/761.3 kB\u001b[0m \u001b[31m5.6 MB/s\u001b[0m eta \u001b[36m0:00:00\u001b[0m\n",
      "\u001b[?25hmlxtend version: 0.22.0\n"
     ]
    }
   ],
   "source": [
    "# See if torchmetrics exists, if not, install it\n",
    "try:\n",
    "  import torchmetrics, mlxtend\n",
    "  print(f\"mlxtend version: {mlxtend.__version__}\")\n",
    "  assert int(mlxtend.__version__.split(\".\")[1]) >= 19 # mlxtend version should be greater than 19\n",
    "except:\n",
    "  !pip install -q torchmetrics -U mlxtend\n",
    "  import torchmetrics, mlxtend\n",
    "  print(f\"mlxtend version: {mlxtend.__version__}\")"
   ]
  },
  {
   "cell_type": "code",
   "execution_count": null,
   "metadata": {
    "colab": {
     "base_uri": "https://localhost:8080/"
    },
    "id": "QdoupaMT2sML",
    "outputId": "18a60203-eab8-4a43-ec87-4f9770efc6f1"
   },
   "outputs": [
    {
     "name": "stdout",
     "output_type": "stream",
     "text": [
      "0.22.0\n"
     ]
    }
   ],
   "source": [
    "import mlxtend\n",
    "print(mlxtend.__version__)\n",
    "assert int(mlxtend.__version__.split(\".\")[1]) >=19"
   ]
  },
  {
   "cell_type": "code",
   "execution_count": null,
   "metadata": {
    "colab": {
     "base_uri": "https://localhost:8080/",
     "height": 66,
     "referenced_widgets": [
      "bb52f4de377a43978aa30855dcb50531",
      "ec9a787e78db49f3b8e36b0d46b42745",
      "6efc93538e6143bfb71a08af278072b6",
      "680607c82ce84ef19402d8e306641e90",
      "38feea9970724ef384d1aabada99f0cd",
      "35c671a5b0bb4de78ab4b7dca82116de",
      "46fca20982cf4225b026b368da0ec3e2",
      "76ee0c852ba54b1fbf1a9cebe68f08ee",
      "e819b809f40e45718ed8bba231b74dac",
      "2ce8576cf6094ed6b2c83fdef0c71b5f",
      "91041a29cc0c4765a2b30a4f8ccd1250"
     ]
    },
    "id": "SF5jUSBR2sPt",
    "outputId": "d79fa954-ba6a-47b0-8cc0-e451a2a912a2"
   },
   "outputs": [
    {
     "data": {
      "application/vnd.jupyter.widget-view+json": {
       "model_id": "bb52f4de377a43978aa30855dcb50531",
       "version_major": 2,
       "version_minor": 0
      },
      "text/plain": [
       "0it [00:00, ?it/s]"
      ]
     },
     "metadata": {},
     "output_type": "display_data"
    },
    {
     "data": {
      "text/plain": [
       "10000"
      ]
     },
     "execution_count": 51,
     "metadata": {},
     "output_type": "execute_result"
    }
   ],
   "source": [
    "# Make predictions across all test data\n",
    "from tqdm.auto import tqdm\n",
    "model_gpu.eval()\n",
    "y_preds = []\n",
    "with torch.inference_mode():\n",
    "  for batch, (X, y) in tqdm(enumerate(test_dataloader)):\n",
    "    # Make sure data is on right device\n",
    "    X, y = X.to(device), y.to(device)\n",
    "    # Forward pass\n",
    "    y_pred_logits = model_gpu(X)\n",
    "    # Logits -> Preb Probs -> Pred Labels\n",
    "    y_pred_labels = torch.argmax(torch.softmax(y_pred_logits, dim=1), dim=1)\n",
    "    # Append the labels to the preds list\n",
    "    y_preds.append(y_pred_labels)\n",
    "\n",
    "  y_preds=torch.cat(y_preds).cpu()\n",
    "len(y_preds)"
   ]
  },
  {
   "cell_type": "code",
   "execution_count": null,
   "metadata": {
    "colab": {
     "base_uri": "https://localhost:8080/"
    },
    "id": "SzKvtf5_26Q-",
    "outputId": "f8c19010-06d2-4a8d-9d4d-3a9110085ab4"
   },
   "outputs": [
    {
     "data": {
      "text/plain": [
       "(tensor([7, 2, 1, 0, 4, 1, 4, 9, 5, 9]),\n",
       " tensor([7, 2, 1, 0, 4, 1, 4, 9, 5, 9]))"
      ]
     },
     "execution_count": 52,
     "metadata": {},
     "output_type": "execute_result"
    }
   ],
   "source": [
    "test_data.targets[:10], y_preds[:10]"
   ]
  },
  {
   "cell_type": "code",
   "execution_count": null,
   "metadata": {
    "colab": {
     "base_uri": "https://localhost:8080/",
     "height": 660
    },
    "id": "WO3-tHXr26TR",
    "outputId": "bc91da64-9b95-4229-e138-31c1ac640ab7"
   },
   "outputs": [
    {
     "data": {
      "image/png": "[encoded data removed]",
      "text/plain": [
       "<Figure size 1000x700 with 1 Axes>"
      ]
     },
     "metadata": {},
     "output_type": "display_data"
    }
   ],
   "source": [
    "from torchmetrics import ConfusionMatrix\n",
    "from mlxtend.plotting import plot_confusion_matrix\n",
    "\n",
    "# Setup confusion matrix\n",
    "confmat = ConfusionMatrix(task=\"multiclass\", num_classes=len(class_names))\n",
    "confmat_tensor = confmat(preds=y_preds,\n",
    "                         target=test_data.targets)\n",
    "\n",
    "# Plot the confusion matrix\n",
    "fig, ax = plot_confusion_matrix(\n",
    "    conf_mat = confmat_tensor.numpy(),\n",
    "    class_names = class_names,\n",
    "    figsize=(10, 7)\n",
    ")"
   ]
  },
  {
   "cell_type": "code",
   "execution_count": null,
   "metadata": {
    "id": "-PGxyFYI26Wc"
   },
   "outputs": [],
   "source": []
  },
  {
   "cell_type": "markdown",
   "metadata": {
    "id": "lj6bDhoWxt2y"
   },
   "source": [
    "## 12. Create a random tensor of shape `[1, 3, 64, 64]` and pass it through a `nn.Conv2d()` layer with various hyperparameter settings (these can be any settings you choose), what do you notice if the `kernel_size` parameter goes up and down?"
   ]
  },
  {
   "cell_type": "code",
   "execution_count": null,
   "metadata": {
    "colab": {
     "base_uri": "https://localhost:8080/"
    },
    "id": "leCTsqtSbR5P",
    "outputId": "3f249cb6-f43e-471d-933f-61d90be8fffa"
   },
   "outputs": [
    {
     "data": {
      "text/plain": [
       "torch.Size([1, 3, 64, 64])"
      ]
     },
     "execution_count": 54,
     "metadata": {},
     "output_type": "execute_result"
    }
   ],
   "source": [
    "random_tensor = torch.rand([1, 3, 64, 64])\n",
    "random_tensor.shape"
   ]
  },
  {
   "cell_type": "code",
   "execution_count": null,
   "metadata": {
    "colab": {
     "base_uri": "https://localhost:8080/"
    },
    "id": "UE-YrQFe8JEJ",
    "outputId": "3f6721d2-76de-42ff-cded-652f2396d47c"
   },
   "outputs": [
    {
     "name": "stdout",
     "output_type": "stream",
     "text": [
      "Random tensor original shape: torch.Size([1, 3, 64, 64])\n",
      "\n",
      "Random tensor shape after passing through conv2d: torch.Size([1, 10, 64, 64])\n"
     ]
    }
   ],
   "source": [
    "conv_layer = nn.Conv2d(in_channels=3,\n",
    "                       out_channels=10,\n",
    "                       kernel_size=3,\n",
    "                       stride=1,\n",
    "                       padding=1)\n",
    "\n",
    "print(f\"Random tensor original shape: {random_tensor.shape}\\n\")\n",
    "random_tensor_through_conv2d = conv_layer(random_tensor)\n",
    "print(f\"Random tensor shape after passing through conv2d: {random_tensor_through_conv2d.shape}\")"
   ]
  },
  {
   "cell_type": "markdown",
   "metadata": {
    "id": "VHS20cNTxwSi"
   },
   "source": [
    "## 13. Use a model similar to the trained `model_2` from notebook 03 to make predictions on the test [`torchvision.datasets.FashionMNIST`](https://pytorch.org/vision/main/generated/torchvision.datasets.FashionMNIST.html) dataset.\n",
    "* Then plot some predictions where the model was wrong alongside what the label of the image should've been.\n",
    "* After visualing these predictions do you think it's more of a modelling error or a data error?\n",
    "* As in, could the model do better or are the labels of the data too close to each other (e.g. a \"Shirt\" label is too close to \"T-shirt/top\")?"
   ]
  },
  {
   "cell_type": "code",
   "execution_count": null,
   "metadata": {
    "colab": {
     "base_uri": "https://localhost:8080/"
    },
    "id": "tMQx7wSb8IGD",
    "outputId": "7f73f225-bf67-46a8-eb88-0db06cf0d8df"
   },
   "outputs": [
    {
     "name": "stdout",
     "output_type": "stream",
     "text": [
      "Downloading http://fashion-mnist.s3-website.eu-central-1.amazonaws.com/train-images-idx3-ubyte.gz\n",
      "Downloading http://fashion-mnist.s3-website.eu-central-1.amazonaws.com/train-images-idx3-ubyte.gz to data/FashionMNIST/raw/train-images-idx3-ubyte.gz\n"
     ]
    },
    {
     "name": "stderr",
     "output_type": "stream",
     "text": [
      "100%|██████████| 26421880/26421880 [00:01<00:00, 15976657.39it/s]\n"
     ]
    },
    {
     "name": "stdout",
     "output_type": "stream",
     "text": [
      "Extracting data/FashionMNIST/raw/train-images-idx3-ubyte.gz to data/FashionMNIST/raw\n",
      "\n",
      "Downloading http://fashion-mnist.s3-website.eu-central-1.amazonaws.com/train-labels-idx1-ubyte.gz\n",
      "Downloading http://fashion-mnist.s3-website.eu-central-1.amazonaws.com/train-labels-idx1-ubyte.gz to data/FashionMNIST/raw/train-labels-idx1-ubyte.gz\n"
     ]
    },
    {
     "name": "stderr",
     "output_type": "stream",
     "text": [
      "100%|██████████| 29515/29515 [00:00<00:00, 273937.63it/s]\n"
     ]
    },
    {
     "name": "stdout",
     "output_type": "stream",
     "text": [
      "Extracting data/FashionMNIST/raw/train-labels-idx1-ubyte.gz to data/FashionMNIST/raw\n",
      "\n",
      "Downloading http://fashion-mnist.s3-website.eu-central-1.amazonaws.com/t10k-images-idx3-ubyte.gz\n",
      "Downloading http://fashion-mnist.s3-website.eu-central-1.amazonaws.com/t10k-images-idx3-ubyte.gz to data/FashionMNIST/raw/t10k-images-idx3-ubyte.gz\n"
     ]
    },
    {
     "name": "stderr",
     "output_type": "stream",
     "text": [
      "100%|██████████| 4422102/4422102 [00:00<00:00, 5052666.13it/s]\n"
     ]
    },
    {
     "name": "stdout",
     "output_type": "stream",
     "text": [
      "Extracting data/FashionMNIST/raw/t10k-images-idx3-ubyte.gz to data/FashionMNIST/raw\n",
      "\n",
      "Downloading http://fashion-mnist.s3-website.eu-central-1.amazonaws.com/t10k-labels-idx1-ubyte.gz\n",
      "Downloading http://fashion-mnist.s3-website.eu-central-1.amazonaws.com/t10k-labels-idx1-ubyte.gz to data/FashionMNIST/raw/t10k-labels-idx1-ubyte.gz\n"
     ]
    },
    {
     "name": "stderr",
     "output_type": "stream",
     "text": [
      "100%|██████████| 5148/5148 [00:00<00:00, 12568263.67it/s]"
     ]
    },
    {
     "name": "stdout",
     "output_type": "stream",
     "text": [
      "Extracting data/FashionMNIST/raw/t10k-labels-idx1-ubyte.gz to data/FashionMNIST/raw\n",
      "\n"
     ]
    },
    {
     "name": "stderr",
     "output_type": "stream",
     "text": [
      "\n"
     ]
    },
    {
     "data": {
      "text/plain": [
       "(60000, 10000)"
      ]
     },
     "execution_count": 56,
     "metadata": {},
     "output_type": "execute_result"
    }
   ],
   "source": [
    "# Download FashionMNIST train and test\n",
    "from torchvision import datasets\n",
    "from torchvision import transforms\n",
    "\n",
    "fashion_mnist_train = datasets.FashionMNIST(root=\"data\",\n",
    "                                            download=True,\n",
    "                                            train=True,\n",
    "                                            transform=transforms.ToTensor(),\n",
    "                                            target_transform=None)\n",
    "\n",
    "fashion_mnist_test = datasets.FashionMNIST(root=\"data\",\n",
    "                                           download=True,\n",
    "                                           train=False,\n",
    "                                           transform=transforms.ToTensor(),\n",
    "                                           target_transform=None)\n",
    "\n",
    "len(fashion_mnist_train), len(fashion_mnist_test)"
   ]
  },
  {
   "cell_type": "code",
   "execution_count": null,
   "metadata": {
    "colab": {
     "base_uri": "https://localhost:8080/"
    },
    "id": "78a8LjtdbSZj",
    "outputId": "57a230fc-4124-472e-a365-fc4032129f77"
   },
   "outputs": [
    {
     "data": {
      "text/plain": [
       "['T-shirt/top',\n",
       " 'Trouser',\n",
       " 'Pullover',\n",
       " 'Dress',\n",
       " 'Coat',\n",
       " 'Sandal',\n",
       " 'Shirt',\n",
       " 'Sneaker',\n",
       " 'Bag',\n",
       " 'Ankle boot']"
      ]
     },
     "execution_count": 57,
     "metadata": {},
     "output_type": "execute_result"
    }
   ],
   "source": [
    "# Get the class names of the Fashion MNIST dataset\n",
    "fashion_mnist_class_names = fashion_mnist_train.classes\n",
    "fashion_mnist_class_names"
   ]
  },
  {
   "cell_type": "code",
   "execution_count": null,
   "metadata": {
    "colab": {
     "base_uri": "https://localhost:8080/"
    },
    "id": "T3hePkkhARC9",
    "outputId": "8685d9b8-a4e4-4b49-d477-cec9e6c66abf"
   },
   "outputs": [
    {
     "data": {
      "text/plain": [
       "(1875, 313)"
      ]
     },
     "execution_count": 58,
     "metadata": {},
     "output_type": "execute_result"
    }
   ],
   "source": [
    "# Turn FashionMNIST datasets into dataloaders\n",
    "from torch.utils.data import DataLoader\n",
    "\n",
    "fashion_mnist_train_dataloader = DataLoader(dataset=fashion_mnist_train,\n",
    "                                            batch_size=32,\n",
    "                                            shuffle=True)\n",
    "\n",
    "fashion_mnist_test_dataloader = DataLoader(dataset=fashion_mnist_test,\n",
    "                                            batch_size=32,\n",
    "                                            shuffle=False)\n",
    "\n",
    "len(fashion_mnist_train_dataloader), len(fashion_mnist_test_dataloader)"
   ]
  },
  {
   "cell_type": "code",
   "execution_count": null,
   "metadata": {
    "colab": {
     "base_uri": "https://localhost:8080/"
    },
    "id": "Ojgj4-3_A1Vn",
    "outputId": "6919061a-9ea3-4d14-858f-c014e9dff884"
   },
   "outputs": [
    {
     "data": {
      "text/plain": [
       "MNIST_model(\n",
       "  (conv_block_1): Sequential(\n",
       "    (0): Conv2d(1, 10, kernel_size=(3, 3), stride=(1, 1), padding=(1, 1))\n",
       "    (1): ReLU()\n",
       "    (2): Conv2d(10, 10, kernel_size=(3, 3), stride=(1, 1), padding=(1, 1))\n",
       "    (3): ReLU()\n",
       "    (4): MaxPool2d(kernel_size=2, stride=2, padding=0, dilation=1, ceil_mode=False)\n",
       "  )\n",
       "  (conv_block_2): Sequential(\n",
       "    (0): Conv2d(10, 10, kernel_size=(3, 3), stride=(1, 1), padding=(1, 1))\n",
       "    (1): ReLU()\n",
       "    (2): Conv2d(10, 10, kernel_size=(3, 3), stride=(1, 1), padding=(1, 1))\n",
       "    (3): ReLU()\n",
       "    (4): MaxPool2d(kernel_size=2, stride=2, padding=0, dilation=1, ceil_mode=False)\n",
       "  )\n",
       "  (classifier): Sequential(\n",
       "    (0): Flatten(start_dim=1, end_dim=-1)\n",
       "    (1): Linear(in_features=490, out_features=10, bias=True)\n",
       "  )\n",
       ")"
      ]
     },
     "execution_count": 59,
     "metadata": {},
     "output_type": "execute_result"
    }
   ],
   "source": [
    "# model_2 is the same architecture as MNIST_model\n",
    "model_2 = MNIST_model(input_shape=1,\n",
    "                      hidden_units=10,\n",
    "                      output_shape=10).to(device)\n",
    "model_2"
   ]
  },
  {
   "cell_type": "code",
   "execution_count": null,
   "metadata": {
    "id": "UdW1D9flBQyR"
   },
   "outputs": [],
   "source": [
    "# Setup loss and optimizer\n",
    "from torch import nn\n",
    "loss_fn = nn.CrossEntropyLoss()\n",
    "optimizer = torch.optim.SGD(model_2.parameters(), lr=0.01)"
   ]
  },
  {
   "cell_type": "code",
   "execution_count": null,
   "metadata": {
    "colab": {
     "base_uri": "https://localhost:8080/",
     "height": 136,
     "referenced_widgets": [
      "c644daca74e6417e9b4b130e250fc3b0",
      "e8041ca3b5c548e6b5da0e09892d595d",
      "d18477ccc0c7430ba7d905b6b110e323",
      "438374c0c84b4c51aa0f216e05e395dd",
      "e58df4b81e56432681ea098282aba1be",
      "cce76da16ad04416a1d85601a064ad7a",
      "856ad47987b74bc284b796a2b5ad0554",
      "37d0b63fe66c4474a7fb7679ee2f9728",
      "ba5539d3b5c040358d92fde5e28fabd9",
      "4004af396ac14fefa3c3f32f4ceadfe2",
      "e52dc60e452f4decb0625acde26078b8"
     ]
    },
    "id": "2j7cN0ERBeXA",
    "outputId": "f32aa9fc-e4fe-4a80-8fd9-b599251688bb"
   },
   "outputs": [
    {
     "data": {
      "application/vnd.jupyter.widget-view+json": {
       "model_id": "c644daca74e6417e9b4b130e250fc3b0",
       "version_major": 2,
       "version_minor": 0
      },
      "text/plain": [
       "  0%|          | 0/5 [00:00<?, ?it/s]"
      ]
     },
     "metadata": {},
     "output_type": "display_data"
    },
    {
     "name": "stdout",
     "output_type": "stream",
     "text": [
      "Epoch: 0 | Train loss: 1.151 | Train acc: 0.59 | Test loss: 218.907 | Test acc: 0.75\n",
      "Epoch: 1 | Train loss: 0.531 | Train acc: 0.81 | Test loss: 158.769 | Test acc: 0.81\n",
      "Epoch: 2 | Train loss: 0.448 | Train acc: 0.84 | Test loss: 135.730 | Test acc: 0.85\n",
      "Epoch: 3 | Train loss: 0.407 | Train acc: 0.85 | Test loss: 131.146 | Test acc: 0.85\n",
      "Epoch: 4 | Train loss: 0.377 | Train acc: 0.86 | Test loss: 126.967 | Test acc: 0.85\n"
     ]
    }
   ],
   "source": [
    "# Setup metrics\n",
    "from tqdm.auto import tqdm\n",
    "from torchmetrics import Accuracy\n",
    "\n",
    "acc_fn = Accuracy(num_classes=len(fashion_mnist_class_names), task=\"multiclass\").to(device)\n",
    "\n",
    "# Setup training/testing loop\n",
    "epochs = 5\n",
    "for epoch in tqdm(range(epochs)):\n",
    "  train_loss, test_loss_total = 0, 0\n",
    "  train_acc, test_acc = 0, 0\n",
    "\n",
    "  ### Training\n",
    "  model_2.train()\n",
    "  for batch, (X_train, y_train) in enumerate(fashion_mnist_train_dataloader):\n",
    "    X_train, y_train = X_train.to(device), y_train.to(device)\n",
    "\n",
    "    # Forward pass and loss\n",
    "    y_pred = model_2(X_train)\n",
    "    loss = loss_fn(y_pred, y_train)\n",
    "    train_loss +=loss\n",
    "    train_acc += acc_fn(y_pred, y_train)\n",
    "\n",
    "    # Backpropagation and gradient descent\n",
    "    optimizer.zero_grad()\n",
    "    loss.backward()\n",
    "    optimizer.step()\n",
    "\n",
    "  # Adjust the loss/acc (find the loss/acc per epoch)\n",
    "  train_loss /= len(fashion_mnist_train_dataloader)\n",
    "  train_acc /= len(fashion_mnist_train_dataloader)\n",
    "\n",
    "  ### Testing\n",
    "  model_2.eval()\n",
    "  with torch.inference_mode():\n",
    "    for batch, (X_test, y_test) in enumerate(fashion_mnist_test_dataloader):\n",
    "      X_test, y_test = X_test.to(device), y_test.to(device)\n",
    "\n",
    "      # Forward pass and loss\n",
    "      y_pred_test = model_2(X_test)\n",
    "      test_loss = loss_fn(y_pred_test, y_test)\n",
    "      test_loss_total += test_loss\n",
    "      test_acc += acc_fn(y_pred_test, y_test)\n",
    "\n",
    "    # Adjust the loss/acc (find the loss/acc per epoch)\n",
    "    test_loss /= len(fashion_mnist_test_dataloader)\n",
    "    test_acc /= len(fashion_mnist_test_dataloader)\n",
    "\n",
    "  # Print out what's happening\n",
    "  print(f\"Epoch: {epoch} | Train loss: {train_loss:.3f} | Train acc: {train_acc:.2f} | Test loss: {test_loss_total:.3f} | Test acc: {test_acc:.2f}\")"
   ]
  },
  {
   "cell_type": "code",
   "execution_count": null,
   "metadata": {
    "colab": {
     "base_uri": "https://localhost:8080/",
     "height": 66,
     "referenced_widgets": [
      "d25b4122c8c14df684bce367a4ba9567",
      "4eb27d9961bb45fc982b848121e0a2c7",
      "eb7a73e8ff0f42ec8d962b1ec8ff64b0",
      "cc26ea0818034fa4bf739bba7240a60f",
      "ec5e155c610f4eb9987ff97ec48d3c1e",
      "d7c9fd2ed45240519bcffa0bc369f0b0",
      "e2f7da858f6048809c8a754d565affba",
      "e6e22491a10948b0a9780a6d79122f26",
      "61a54edcd9d4430abd03858f4e3a4621",
      "511644fb222c4767835265d5cfdb1069",
      "abb9fd0d5adf4e4faabf126c9c3a2d66"
     ]
    },
    "id": "zaw_DZL2Eokl",
    "outputId": "003a61e8-8f10-4a4e-a1d9-cdaa8fd75f57"
   },
   "outputs": [
    {
     "data": {
      "application/vnd.jupyter.widget-view+json": {
       "model_id": "d25b4122c8c14df684bce367a4ba9567",
       "version_major": 2,
       "version_minor": 0
      },
      "text/plain": [
       "  0%|          | 0/313 [00:00<?, ?it/s]"
      ]
     },
     "metadata": {},
     "output_type": "display_data"
    },
    {
     "data": {
      "text/plain": [
       "(tensor([9, 2, 1, 1, 6, 1, 4, 6, 5, 7]), 10000)"
      ]
     },
     "execution_count": 63,
     "metadata": {},
     "output_type": "execute_result"
    }
   ],
   "source": [
    "# Make predictions with trained model_2\n",
    "test_preds = []\n",
    "model_2.eval()\n",
    "with torch.inference_mode():\n",
    "  for X_test, y_test in tqdm(fashion_mnist_test_dataloader):\n",
    "    y_logits = model_2(X_test.to(device))\n",
    "    y_pred_probs = torch.softmax(y_logits, dim=1)\n",
    "    y_pred_labels = torch.argmax(y_pred_probs, dim=1)\n",
    "    test_preds.append(y_pred_labels)\n",
    "\n",
    "test_preds = torch.cat(test_preds).cpu()\n",
    "test_preds[:10], len(test_preds)"
   ]
  },
  {
   "cell_type": "code",
   "execution_count": null,
   "metadata": {
    "colab": {
     "base_uri": "https://localhost:8080/"
    },
    "id": "wDbj1_ABFwbq",
    "outputId": "6bb448bd-49fe-4cd7-b738-25cea59761da"
   },
   "outputs": [
    {
     "data": {
      "text/plain": [
       "1522"
      ]
     },
     "execution_count": 67,
     "metadata": {},
     "output_type": "execute_result"
    }
   ],
   "source": [
    "# Get wrong prediction indexes\n",
    "import numpy as np\n",
    "wrong_pred_indexes = np.where(test_preds != fashion_mnist_test.targets)[0]\n",
    "len(wrong_pred_indexes)"
   ]
  },
  {
   "cell_type": "markdown",
   "metadata": {
    "id": "LQ-S4WpSG1Ad"
   },
   "source": [
    "- `random.sample()`\n",
    "\n",
    "`sample()` is an inbuilt function of random module in Python that returns a particular length list of items chosen from the sequence i.e. list, tuple, string or set. Used for random sampling without replacement.\n",
    "\n",
    "Syntax : random.sample(sequence, k)\n",
    "\n",
    "Parameters:\n",
    "sequence: Can be a list, tuple, string, or set.\n",
    "k: An Integer value, it specify the length of a sample.\n",
    "\n",
    "Returns: k length new list of elements chosen from the sequence."
   ]
  },
  {
   "cell_type": "code",
   "execution_count": null,
   "metadata": {
    "colab": {
     "base_uri": "https://localhost:8080/"
    },
    "id": "AZ6VByJBKY27",
    "outputId": "eb4aa0e8-ffbc-486e-b093-0eb819e52d24"
   },
   "outputs": [
    {
     "data": {
      "text/plain": [
       "[8111, 2905, 8814, 8080, 6024, 8323, 255, 2626, 4274]"
      ]
     },
     "execution_count": 68,
     "metadata": {},
     "output_type": "execute_result"
    }
   ],
   "source": [
    "# Select random 9 wrong predictions and plot them\n",
    "import random\n",
    "random_selection = random.sample(list(wrong_pred_indexes), k=9)\n",
    "random_selection"
   ]
  },
  {
   "cell_type": "code",
   "execution_count": null,
   "metadata": {
    "colab": {
     "base_uri": "https://localhost:8080/",
     "height": 829
    },
    "id": "W1Cct9AQGKJJ",
    "outputId": "70895384-f79f-4f40-be5e-2051b040b2b4"
   },
   "outputs": [
    {
     "data": {
      "image/png": "[encoded data removed]",
      "text/plain": [
       "<Figure size 1000x1000 with 9 Axes>"
      ]
     },
     "metadata": {},
     "output_type": "display_data"
    }
   ],
   "source": [
    "plt.figure(figsize=(10,10))\n",
    "for i, idx in enumerate(random_selection):\n",
    "  # Get true and pred labels\n",
    "  true_label = fashion_mnist_class_names[fashion_mnist_test[idx][1]]\n",
    "  pred_label = fashion_mnist_class_names[test_preds[idx]]\n",
    "\n",
    "  # Plot the wrong prediction with its original label\n",
    "  plt.subplot(3, 3, i+1)\n",
    "  plt.imshow(fashion_mnist_test[idx][0].squeeze(), cmap=\"gray\")\n",
    "  plt.title(f\"True: {true_label} | Pred: {pred_label}\", c=\"r\")\n",
    "  plt.axis(False);"
   ]
  },
  {
   "cell_type": "code",
   "execution_count": null,
   "metadata": {
    "colab": {
     "base_uri": "https://localhost:8080/"
    },
    "id": "JPVC5wu6LBXn",
    "outputId": "89bd115b-c6a3-4a15-ae6e-93987ec83675"
   },
   "outputs": [
    {
     "data": {
      "text/plain": [
       "(tensor([[[0.0000, 0.0000, 0.0000, 0.0000, 0.0000, 0.0000, 0.0000, 0.0000,\n",
       "           0.0000, 0.0000, 0.0000, 0.0000, 0.0000, 0.0000, 0.0000, 0.0000,\n",
       "           0.0000, 0.0000, 0.0000, 0.0000, 0.0000, 0.0000, 0.0000, 0.0000,\n",
       "           0.0000, 0.0000, 0.0000, 0.0000],\n",
       "          [0.0000, 0.0000, 0.7098, 0.5608, 0.4706, 0.4196, 0.4510, 0.4980,\n",
       "           0.5294, 0.5882, 0.6000, 0.6627, 0.8353, 0.7176, 0.8157, 0.7686,\n",
       "           0.5922, 0.4314, 0.4549, 0.4941, 0.5255, 0.5137, 0.4902, 0.4824,\n",
       "           0.5333, 0.3333, 0.0000, 0.0000],\n",
       "          [0.0000, 0.0000, 0.7216, 0.7725, 0.7490, 0.7608, 0.7569, 0.7529,\n",
       "           0.7529, 0.7569, 0.7373, 0.7529, 0.8549, 0.8510, 0.8431, 0.8784,\n",
       "           0.8275, 0.7373, 0.7490, 0.7490, 0.7451, 0.7490, 0.7451, 0.7451,\n",
       "           0.7255, 0.8039, 0.6667, 0.0000],\n",
       "          [0.0000, 0.1569, 0.7765, 0.7451, 0.7255, 0.7216, 0.7216, 0.7255,\n",
       "           0.7255, 0.7294, 0.7255, 0.7490, 0.8078, 0.8078, 0.8039, 0.8078,\n",
       "           0.7843, 0.6980, 0.6863, 0.7098, 0.7137, 0.7098, 0.7020, 0.7059,\n",
       "           0.6745, 0.7647, 0.7843, 0.0000],\n",
       "          [0.0000, 0.4431, 0.9216, 0.7294, 0.7490, 0.7569, 0.7529, 0.7451,\n",
       "           0.7412, 0.7373, 0.7216, 0.7490, 0.8706, 0.8392, 0.8314, 0.8510,\n",
       "           0.8314, 0.7137, 0.7294, 0.7255, 0.7333, 0.7294, 0.7137, 0.7176,\n",
       "           0.6902, 0.7882, 0.1255, 0.0000],\n",
       "          [0.0000, 0.5098, 0.8824, 0.6941, 0.7608, 0.7569, 0.7490, 0.7451,\n",
       "           0.7412, 0.7412, 0.7255, 0.7412, 0.8588, 0.8431, 0.8353, 0.8431,\n",
       "           0.8157, 0.7059, 0.7255, 0.7176, 0.7255, 0.7255, 0.7059, 0.7020,\n",
       "           0.7059, 0.8471, 0.0000, 0.0000],\n",
       "          [0.0000, 0.8667, 0.9373, 0.6941, 0.7569, 0.7569, 0.7569, 0.7490,\n",
       "           0.7451, 0.7490, 0.7294, 0.7451, 0.8588, 0.8471, 0.8392, 0.8471,\n",
       "           0.8196, 0.7137, 0.7333, 0.7255, 0.7255, 0.7294, 0.7098, 0.6941,\n",
       "           0.7137, 0.8314, 0.0000, 0.0000],\n",
       "          [0.0000, 0.5569, 0.9843, 0.7137, 0.7647, 0.7647, 0.7608, 0.7529,\n",
       "           0.7490, 0.7529, 0.7333, 0.7451, 0.8588, 0.8431, 0.8392, 0.8588,\n",
       "           0.8392, 0.7255, 0.7373, 0.7255, 0.7216, 0.7412, 0.7255, 0.6902,\n",
       "           0.7333, 0.6941, 0.0000, 0.0000],\n",
       "          [0.0000, 0.4353, 0.6510, 0.7490, 0.7608, 0.7647, 0.7608, 0.7569,\n",
       "           0.7529, 0.7647, 0.7333, 0.7294, 0.8510, 0.8471, 0.8353, 0.8510,\n",
       "           0.8314, 0.7216, 0.7412, 0.7333, 0.7176, 0.7216, 0.7412, 0.7137,\n",
       "           0.7412, 0.5961, 0.0000, 0.0000],\n",
       "          [0.0000, 0.5804, 0.5843, 0.7686, 0.7686, 0.7686, 0.7608, 0.7569,\n",
       "           0.7529, 0.7647, 0.7373, 0.7373, 0.8549, 0.8510, 0.8392, 0.8549,\n",
       "           0.8353, 0.7255, 0.7451, 0.7333, 0.7137, 0.7137, 0.7294, 0.7176,\n",
       "           0.7569, 0.6235, 0.0000, 0.0000],\n",
       "          [0.0000, 0.5804, 0.6118, 0.7961, 0.7569, 0.7686, 0.7608, 0.7529,\n",
       "           0.7529, 0.7647, 0.7412, 0.7451, 0.8549, 0.8471, 0.8392, 0.8549,\n",
       "           0.8353, 0.7294, 0.7529, 0.7490, 0.7412, 0.7216, 0.7216, 0.7137,\n",
       "           0.7647, 0.6353, 0.0000, 0.0000],\n",
       "          [0.0000, 0.5961, 0.7294, 0.7686, 0.7451, 0.7686, 0.7608, 0.7569,\n",
       "           0.7529, 0.7608, 0.7451, 0.7529, 0.8549, 0.8471, 0.8392, 0.8549,\n",
       "           0.8353, 0.7137, 0.7373, 0.7490, 0.7569, 0.7294, 0.7098, 0.7020,\n",
       "           0.7608, 0.6314, 0.0000, 0.0000],\n",
       "          [0.0000, 0.6471, 0.7686, 0.7647, 0.7529, 0.7686, 0.7686, 0.7647,\n",
       "           0.7647, 0.7647, 0.7490, 0.7451, 0.8588, 0.8431, 0.8471, 0.8588,\n",
       "           0.8275, 0.7373, 0.7373, 0.7255, 0.7412, 0.7451, 0.7176, 0.7059,\n",
       "           0.7608, 0.5922, 0.0000, 0.0000],\n",
       "          [0.0000, 0.6941, 0.7725, 0.7608, 0.7608, 0.7647, 0.7608, 0.7608,\n",
       "           0.7608, 0.7569, 0.7490, 0.7451, 0.8510, 0.8431, 0.8431, 0.8549,\n",
       "           0.8353, 0.7333, 0.7294, 0.7216, 0.7255, 0.7451, 0.7412, 0.7098,\n",
       "           0.7608, 0.5882, 0.0000, 0.0000],\n",
       "          [0.0000, 0.7176, 0.8549, 0.7412, 0.7804, 0.7686, 0.7647, 0.7608,\n",
       "           0.7647, 0.7569, 0.7569, 0.7569, 0.8549, 0.8471, 0.8431, 0.8549,\n",
       "           0.8471, 0.7333, 0.7294, 0.7255, 0.7176, 0.7137, 0.7255, 0.7137,\n",
       "           0.7647, 0.5882, 0.0000, 0.0000],\n",
       "          [0.0000, 0.7098, 0.9608, 0.7137, 0.7922, 0.7725, 0.7725, 0.7725,\n",
       "           0.7725, 0.7647, 0.7725, 0.7725, 0.8667, 0.8510, 0.8392, 0.8510,\n",
       "           0.8549, 0.7608, 0.7647, 0.7608, 0.7490, 0.7333, 0.7490, 0.7216,\n",
       "           0.7608, 0.5804, 0.0000, 0.0000],\n",
       "          [0.0000, 0.5765, 0.9882, 0.6941, 0.7765, 0.7647, 0.7686, 0.7686,\n",
       "           0.7686, 0.7647, 0.7686, 0.7804, 0.8706, 0.8549, 0.8392, 0.8549,\n",
       "           0.8471, 0.7451, 0.7608, 0.7686, 0.7490, 0.7412, 0.7412, 0.7333,\n",
       "           0.7843, 0.6157, 0.0000, 0.0000],\n",
       "          [0.0000, 0.3529, 1.0000, 0.7020, 0.7765, 0.7686, 0.7686, 0.7686,\n",
       "           0.7686, 0.7569, 0.7490, 0.7608, 0.8510, 0.8510, 0.8392, 0.8510,\n",
       "           0.8510, 0.7373, 0.7451, 0.7529, 0.7333, 0.7333, 0.7373, 0.7294,\n",
       "           0.7765, 0.6353, 0.0000, 0.0000],\n",
       "          [0.0000, 0.1373, 1.0000, 0.7608, 0.7804, 0.7686, 0.7686, 0.7686,\n",
       "           0.7686, 0.7686, 0.7569, 0.7608, 0.8588, 0.8510, 0.8392, 0.8510,\n",
       "           0.8510, 0.7451, 0.7451, 0.7451, 0.7373, 0.7333, 0.7255, 0.7176,\n",
       "           0.7647, 0.6314, 0.0000, 0.0000],\n",
       "          [0.0000, 0.0000, 0.9490, 0.7647, 0.7882, 0.7647, 0.7686, 0.7686,\n",
       "           0.7686, 0.7765, 0.7569, 0.7529, 0.8549, 0.8549, 0.8392, 0.8510,\n",
       "           0.8471, 0.7529, 0.7569, 0.7529, 0.7490, 0.7451, 0.7412, 0.7294,\n",
       "           0.7686, 0.6275, 0.0000, 0.0000],\n",
       "          [0.0000, 0.0000, 0.9333, 0.7725, 0.7765, 0.7725, 0.7725, 0.7725,\n",
       "           0.7725, 0.7804, 0.7608, 0.7529, 0.8627, 0.8588, 0.8392, 0.8510,\n",
       "           0.8510, 0.7647, 0.7686, 0.7647, 0.7451, 0.7529, 0.7686, 0.7333,\n",
       "           0.7765, 0.5882, 0.0000, 0.0000],\n",
       "          [0.0000, 0.0000, 0.9333, 0.7647, 0.7843, 0.7686, 0.7647, 0.7686,\n",
       "           0.7647, 0.7725, 0.7608, 0.7490, 0.8667, 0.8588, 0.8392, 0.8510,\n",
       "           0.8549, 0.7569, 0.7608, 0.7647, 0.7490, 0.7412, 0.7373, 0.7137,\n",
       "           0.7765, 0.5725, 0.0000, 0.0000],\n",
       "          [0.0000, 0.0000, 0.8588, 0.7765, 0.7686, 0.7608, 0.7608, 0.7608,\n",
       "           0.7608, 0.7686, 0.7529, 0.7451, 0.8667, 0.8588, 0.8392, 0.8510,\n",
       "           0.8549, 0.7490, 0.7569, 0.7647, 0.7608, 0.7569, 0.7451, 0.7216,\n",
       "           0.7882, 0.5176, 0.0000, 0.0000],\n",
       "          [0.0000, 0.0000, 0.7176, 0.7922, 0.7490, 0.7529, 0.7608, 0.7569,\n",
       "           0.7569, 0.7608, 0.7490, 0.7490, 0.8627, 0.8588, 0.8392, 0.8510,\n",
       "           0.8588, 0.7490, 0.7529, 0.7686, 0.7647, 0.7569, 0.7725, 0.7412,\n",
       "           0.7961, 0.4471, 0.0000, 0.0000],\n",
       "          [0.0000, 0.0000, 0.3451, 0.7922, 0.7451, 0.7608, 0.7608, 0.7569,\n",
       "           0.7608, 0.7569, 0.7333, 0.7490, 0.8588, 0.8588, 0.8235, 0.8471,\n",
       "           0.8431, 0.7294, 0.7451, 0.7255, 0.7765, 0.7843, 0.7412, 0.7020,\n",
       "           0.8000, 0.4157, 0.0000, 0.0000],\n",
       "          [0.0000, 0.0000, 0.1882, 0.8235, 0.7451, 0.7451, 0.7490, 0.7451,\n",
       "           0.7373, 0.7294, 0.7098, 0.7333, 0.8353, 0.8157, 0.8196, 0.8235,\n",
       "           0.8510, 0.7490, 0.7686, 0.7490, 0.7529, 0.7490, 0.7529, 0.7137,\n",
       "           0.8078, 0.4588, 0.0000, 0.0000],\n",
       "          [0.0000, 0.0000, 0.0000, 0.6000, 0.7137, 0.7843, 0.7922, 0.9255,\n",
       "           0.9137, 0.9255, 0.9333, 0.8549, 0.9333, 0.8745, 0.8745, 0.8588,\n",
       "           0.9373, 0.7686, 0.8549, 0.8706, 0.8549, 0.8745, 0.7490, 0.7255,\n",
       "           0.6863, 0.2039, 0.0000, 0.0000],\n",
       "          [0.0000, 0.0000, 0.0000, 0.0000, 0.0000, 0.2039, 0.1922, 0.1961,\n",
       "           0.1961, 0.1882, 0.0784, 0.0471, 0.8039, 0.8078, 0.7686, 0.8275,\n",
       "           0.7882, 0.0000, 0.0000, 0.0000, 0.0000, 0.0196, 0.0706, 0.0000,\n",
       "           0.0000, 0.0000, 0.0000, 0.0000]]]),\n",
       " 8)"
      ]
     },
     "execution_count": 80,
     "metadata": {},
     "output_type": "execute_result"
    }
   ],
   "source": [
    "fashion_mnist_test[idx]"
   ]
  },
  {
   "cell_type": "code",
   "execution_count": null,
   "metadata": {
    "colab": {
     "base_uri": "https://localhost:8080/"
    },
    "id": "xct4bGBcLyCs",
    "outputId": "2f22926d-f925-4313-8a2c-4fdaa5b6fa11"
   },
   "outputs": [
    {
     "data": {
      "text/plain": [
       "8"
      ]
     },
     "execution_count": 81,
     "metadata": {},
     "output_type": "execute_result"
    }
   ],
   "source": [
    "fashion_mnist_test[idx][1]"
   ]
  },
  {
   "cell_type": "markdown",
   "metadata": {
    "id": "L_oKZXm1Uw-T"
   },
   "source": [
    "#### Manan Kumar"
   ]
  }
 ],
 "metadata": {
  "accelerator": "GPU",
  "colab": {
   "gpuType": "T4",
   "provenance": []
  },
  "kernelspec": {
   "display_name": "Python 3",
   "name": "python3"
  },
  "language_info": {
   "name": "python"
  },
  "widgets": {
   "application/vnd.jupyter.widget-state+json": {
    "00cafee5f3ed453bb628d6d4fb09c573": {
     "model_module": "@jupyter-widgets/base",
     "model_module_version": "1.2.0",
     "model_name": "LayoutModel",
     "state": {
      "_model_module": "@jupyter-widgets/base",
      "_model_module_version": "1.2.0",
      "_model_name": "LayoutModel",
      "_view_count": null,
      "_view_module": "@jupyter-widgets/base",
      "_view_module_version": "1.2.0",
      "_view_name": "LayoutView",
      "align_content": null,
      "align_items": null,
      "align_self": null,
      "border": null,
      "bottom": null,
      "display": null,
      "flex": null,
      "flex_flow": null,
      "grid_area": null,
      "grid_auto_columns": null,
      "grid_auto_flow": null,
      "grid_auto_rows": null,
      "grid_column": null,
      "grid_gap": null,
      "grid_row": null,
      "grid_template_areas": null,
      "grid_template_columns": null,
      "grid_template_rows": null,
      "height": null,
      "justify_content": null,
      "justify_items": null,
      "left": null,
      "margin": null,
      "max_height": null,
      "max_width": null,
      "min_height": null,
      "min_width": null,
      "object_fit": null,
      "object_position": null,
      "order": null,
      "overflow": null,
      "overflow_x": null,
      "overflow_y": null,
      "padding": null,
      "right": null,
      "top": null,
      "visibility": null,
      "width": null
     }
    },
    "0607fc5875fa457ea1c42ab98dd16ca0": {
     "model_module": "@jupyter-widgets/controls",
     "model_module_version": "1.5.0",
     "model_name": "HTMLModel",
     "state": {
      "_dom_classes": [],
      "_model_module": "@jupyter-widgets/controls",
      "_model_module_version": "1.5.0",
      "_model_name": "HTMLModel",
      "_view_count": null,
      "_view_module": "@jupyter-widgets/controls",
      "_view_module_version": "1.5.0",
      "_view_name": "HTMLView",
      "description": "",
      "description_tooltip": null,
      "layout": "IPY_MODEL_060e10e949604246975774828d2f11f7",
      "placeholder": "​",
      "style": "IPY_MODEL_a1da5e072341423a9f863770fd513b33",
      "value": " 5/5 [01:03&lt;00:00, 12.74s/it]"
     }
    },
    "060e10e949604246975774828d2f11f7": {
     "model_module": "@jupyter-widgets/base",
     "model_module_version": "1.2.0",
     "model_name": "LayoutModel",
     "state": {
      "_model_module": "@jupyter-widgets/base",
      "_model_module_version": "1.2.0",
      "_model_name": "LayoutModel",
      "_view_count": null,
      "_view_module": "@jupyter-widgets/base",
      "_view_module_version": "1.2.0",
      "_view_name": "LayoutView",
      "align_content": null,
      "align_items": null,
      "align_self": null,
      "border": null,
      "bottom": null,
      "display": null,
      "flex": null,
      "flex_flow": null,
      "grid_area": null,
      "grid_auto_columns": null,
      "grid_auto_flow": null,
      "grid_auto_rows": null,
      "grid_column": null,
      "grid_gap": null,
      "grid_row": null,
      "grid_template_areas": null,
      "grid_template_columns": null,
      "grid_template_rows": null,
      "height": null,
      "justify_content": null,
      "justify_items": null,
      "left": null,
      "margin": null,
      "max_height": null,
      "max_width": null,
      "min_height": null,
      "min_width": null,
      "object_fit": null,
      "object_position": null,
      "order": null,
      "overflow": null,
      "overflow_x": null,
      "overflow_y": null,
      "padding": null,
      "right": null,
      "top": null,
      "visibility": null,
      "width": null
     }
    },
    "08831382d0dd45fbb5ef84d1d6388522": {
     "model_module": "@jupyter-widgets/controls",
     "model_module_version": "1.5.0",
     "model_name": "HBoxModel",
     "state": {
      "_dom_classes": [],
      "_model_module": "@jupyter-widgets/controls",
      "_model_module_version": "1.5.0",
      "_model_name": "HBoxModel",
      "_view_count": null,
      "_view_module": "@jupyter-widgets/controls",
      "_view_module_version": "1.5.0",
      "_view_name": "HBoxView",
      "box_style": "",
      "children": [
       "IPY_MODEL_cb42c5003b9a42188ca6a04bc247ca83",
       "IPY_MODEL_b41b3760a1844e9985e4d803bc160af2",
       "IPY_MODEL_0607fc5875fa457ea1c42ab98dd16ca0"
      ],
      "layout": "IPY_MODEL_29dc97efb80c4221bb5d4f0a3ab0d51b"
     }
    },
    "090f239ed56447a78bf4d1ac62a2b89b": {
     "model_module": "@jupyter-widgets/base",
     "model_module_version": "1.2.0",
     "model_name": "LayoutModel",
     "state": {
      "_model_module": "@jupyter-widgets/base",
      "_model_module_version": "1.2.0",
      "_model_name": "LayoutModel",
      "_view_count": null,
      "_view_module": "@jupyter-widgets/base",
      "_view_module_version": "1.2.0",
      "_view_name": "LayoutView",
      "align_content": null,
      "align_items": null,
      "align_self": null,
      "border": null,
      "bottom": null,
      "display": null,
      "flex": null,
      "flex_flow": null,
      "grid_area": null,
      "grid_auto_columns": null,
      "grid_auto_flow": null,
      "grid_auto_rows": null,
      "grid_column": null,
      "grid_gap": null,
      "grid_row": null,
      "grid_template_areas": null,
      "grid_template_columns": null,
      "grid_template_rows": null,
      "height": null,
      "justify_content": null,
      "justify_items": null,
      "left": null,
      "margin": null,
      "max_height": null,
      "max_width": null,
      "min_height": null,
      "min_width": null,
      "object_fit": null,
      "object_position": null,
      "order": null,
      "overflow": null,
      "overflow_x": null,
      "overflow_y": null,
      "padding": null,
      "right": null,
      "top": null,
      "visibility": null,
      "width": null
     }
    },
    "0c518466722f469a8976462ad0a71470": {
     "model_module": "@jupyter-widgets/controls",
     "model_module_version": "1.5.0",
     "model_name": "HBoxModel",
     "state": {
      "_dom_classes": [],
      "_model_module": "@jupyter-widgets/controls",
      "_model_module_version": "1.5.0",
      "_model_name": "HBoxModel",
      "_view_count": null,
      "_view_module": "@jupyter-widgets/controls",
      "_view_module_version": "1.5.0",
      "_view_name": "HBoxView",
      "box_style": "",
      "children": [
       "IPY_MODEL_fe433c4adba542f29800014c8180a659",
       "IPY_MODEL_3c4521e676e14ceea54e07caba27ef16",
       "IPY_MODEL_d8a056c4a7174e9c9107f45caefdb361"
      ],
      "layout": "IPY_MODEL_4616102b24544f2db52fc85c8daea70a"
     }
    },
    "29dc97efb80c4221bb5d4f0a3ab0d51b": {
     "model_module": "@jupyter-widgets/base",
     "model_module_version": "1.2.0",
     "model_name": "LayoutModel",
     "state": {
      "_model_module": "@jupyter-widgets/base",
      "_model_module_version": "1.2.0",
      "_model_name": "LayoutModel",
      "_view_count": null,
      "_view_module": "@jupyter-widgets/base",
      "_view_module_version": "1.2.0",
      "_view_name": "LayoutView",
      "align_content": null,
      "align_items": null,
      "align_self": null,
      "border": null,
      "bottom": null,
      "display": null,
      "flex": null,
      "flex_flow": null,
      "grid_area": null,
      "grid_auto_columns": null,
      "grid_auto_flow": null,
      "grid_auto_rows": null,
      "grid_column": null,
      "grid_gap": null,
      "grid_row": null,
      "grid_template_areas": null,
      "grid_template_columns": null,
      "grid_template_rows": null,
      "height": null,
      "justify_content": null,
      "justify_items": null,
      "left": null,
      "margin": null,
      "max_height": null,
      "max_width": null,
      "min_height": null,
      "min_width": null,
      "object_fit": null,
      "object_position": null,
      "order": null,
      "overflow": null,
      "overflow_x": null,
      "overflow_y": null,
      "padding": null,
      "right": null,
      "top": null,
      "visibility": null,
      "width": null
     }
    },
    "2ce8576cf6094ed6b2c83fdef0c71b5f": {
     "model_module": "@jupyter-widgets/base",
     "model_module_version": "1.2.0",
     "model_name": "LayoutModel",
     "state": {
      "_model_module": "@jupyter-widgets/base",
      "_model_module_version": "1.2.0",
      "_model_name": "LayoutModel",
      "_view_count": null,
      "_view_module": "@jupyter-widgets/base",
      "_view_module_version": "1.2.0",
      "_view_name": "LayoutView",
      "align_content": null,
      "align_items": null,
      "align_self": null,
      "border": null,
      "bottom": null,
      "display": null,
      "flex": null,
      "flex_flow": null,
      "grid_area": null,
      "grid_auto_columns": null,
      "grid_auto_flow": null,
      "grid_auto_rows": null,
      "grid_column": null,
      "grid_gap": null,
      "grid_row": null,
      "grid_template_areas": null,
      "grid_template_columns": null,
      "grid_template_rows": null,
      "height": null,
      "justify_content": null,
      "justify_items": null,
      "left": null,
      "margin": null,
      "max_height": null,
      "max_width": null,
      "min_height": null,
      "min_width": null,
      "object_fit": null,
      "object_position": null,
      "order": null,
      "overflow": null,
      "overflow_x": null,
      "overflow_y": null,
      "padding": null,
      "right": null,
      "top": null,
      "visibility": null,
      "width": null
     }
    },
    "3518c854776b4fc9a34402efe3d43839": {
     "model_module": "@jupyter-widgets/base",
     "model_module_version": "1.2.0",
     "model_name": "LayoutModel",
     "state": {
      "_model_module": "@jupyter-widgets/base",
      "_model_module_version": "1.2.0",
      "_model_name": "LayoutModel",
      "_view_count": null,
      "_view_module": "@jupyter-widgets/base",
      "_view_module_version": "1.2.0",
      "_view_name": "LayoutView",
      "align_content": null,
      "align_items": null,
      "align_self": null,
      "border": null,
      "bottom": null,
      "display": null,
      "flex": null,
      "flex_flow": null,
      "grid_area": null,
      "grid_auto_columns": null,
      "grid_auto_flow": null,
      "grid_auto_rows": null,
      "grid_column": null,
      "grid_gap": null,
      "grid_row": null,
      "grid_template_areas": null,
      "grid_template_columns": null,
      "grid_template_rows": null,
      "height": null,
      "justify_content": null,
      "justify_items": null,
      "left": null,
      "margin": null,
      "max_height": null,
      "max_width": null,
      "min_height": null,
      "min_width": null,
      "object_fit": null,
      "object_position": null,
      "order": null,
      "overflow": null,
      "overflow_x": null,
      "overflow_y": null,
      "padding": null,
      "right": null,
      "top": null,
      "visibility": null,
      "width": null
     }
    },
    "35c671a5b0bb4de78ab4b7dca82116de": {
     "model_module": "@jupyter-widgets/base",
     "model_module_version": "1.2.0",
     "model_name": "LayoutModel",
     "state": {
      "_model_module": "@jupyter-widgets/base",
      "_model_module_version": "1.2.0",
      "_model_name": "LayoutModel",
      "_view_count": null,
      "_view_module": "@jupyter-widgets/base",
      "_view_module_version": "1.2.0",
      "_view_name": "LayoutView",
      "align_content": null,
      "align_items": null,
      "align_self": null,
      "border": null,
      "bottom": null,
      "display": null,
      "flex": null,
      "flex_flow": null,
      "grid_area": null,
      "grid_auto_columns": null,
      "grid_auto_flow": null,
      "grid_auto_rows": null,
      "grid_column": null,
      "grid_gap": null,
      "grid_row": null,
      "grid_template_areas": null,
      "grid_template_columns": null,
      "grid_template_rows": null,
      "height": null,
      "justify_content": null,
      "justify_items": null,
      "left": null,
      "margin": null,
      "max_height": null,
      "max_width": null,
      "min_height": null,
      "min_width": null,
      "object_fit": null,
      "object_position": null,
      "order": null,
      "overflow": null,
      "overflow_x": null,
      "overflow_y": null,
      "padding": null,
      "right": null,
      "top": null,
      "visibility": null,
      "width": null
     }
    },
    "37d0b63fe66c4474a7fb7679ee2f9728": {
     "model_module": "@jupyter-widgets/base",
     "model_module_version": "1.2.0",
     "model_name": "LayoutModel",
     "state": {
      "_model_module": "@jupyter-widgets/base",
      "_model_module_version": "1.2.0",
      "_model_name": "LayoutModel",
      "_view_count": null,
      "_view_module": "@jupyter-widgets/base",
      "_view_module_version": "1.2.0",
      "_view_name": "LayoutView",
      "align_content": null,
      "align_items": null,
      "align_self": null,
      "border": null,
      "bottom": null,
      "display": null,
      "flex": null,
      "flex_flow": null,
      "grid_area": null,
      "grid_auto_columns": null,
      "grid_auto_flow": null,
      "grid_auto_rows": null,
      "grid_column": null,
      "grid_gap": null,
      "grid_row": null,
      "grid_template_areas": null,
      "grid_template_columns": null,
      "grid_template_rows": null,
      "height": null,
      "justify_content": null,
      "justify_items": null,
      "left": null,
      "margin": null,
      "max_height": null,
      "max_width": null,
      "min_height": null,
      "min_width": null,
      "object_fit": null,
      "object_position": null,
      "order": null,
      "overflow": null,
      "overflow_x": null,
      "overflow_y": null,
      "padding": null,
      "right": null,
      "top": null,
      "visibility": null,
      "width": null
     }
    },
    "38feea9970724ef384d1aabada99f0cd": {
     "model_module": "@jupyter-widgets/base",
     "model_module_version": "1.2.0",
     "model_name": "LayoutModel",
     "state": {
      "_model_module": "@jupyter-widgets/base",
      "_model_module_version": "1.2.0",
      "_model_name": "LayoutModel",
      "_view_count": null,
      "_view_module": "@jupyter-widgets/base",
      "_view_module_version": "1.2.0",
      "_view_name": "LayoutView",
      "align_content": null,
      "align_items": null,
      "align_self": null,
      "border": null,
      "bottom": null,
      "display": null,
      "flex": null,
      "flex_flow": null,
      "grid_area": null,
      "grid_auto_columns": null,
      "grid_auto_flow": null,
      "grid_auto_rows": null,
      "grid_column": null,
      "grid_gap": null,
      "grid_row": null,
      "grid_template_areas": null,
      "grid_template_columns": null,
      "grid_template_rows": null,
      "height": null,
      "justify_content": null,
      "justify_items": null,
      "left": null,
      "margin": null,
      "max_height": null,
      "max_width": null,
      "min_height": null,
      "min_width": null,
      "object_fit": null,
      "object_position": null,
      "order": null,
      "overflow": null,
      "overflow_x": null,
      "overflow_y": null,
      "padding": null,
      "right": null,
      "top": null,
      "visibility": null,
      "width": null
     }
    },
    "3a6791943012487d9ed7651b60765dbc": {
     "model_module": "@jupyter-widgets/controls",
     "model_module_version": "1.5.0",
     "model_name": "ProgressStyleModel",
     "state": {
      "_model_module": "@jupyter-widgets/controls",
      "_model_module_version": "1.5.0",
      "_model_name": "ProgressStyleModel",
      "_view_count": null,
      "_view_module": "@jupyter-widgets/base",
      "_view_module_version": "1.2.0",
      "_view_name": "StyleView",
      "bar_color": null,
      "description_width": ""
     }
    },
    "3c4521e676e14ceea54e07caba27ef16": {
     "model_module": "@jupyter-widgets/controls",
     "model_module_version": "1.5.0",
     "model_name": "FloatProgressModel",
     "state": {
      "_dom_classes": [],
      "_model_module": "@jupyter-widgets/controls",
      "_model_module_version": "1.5.0",
      "_model_name": "FloatProgressModel",
      "_view_count": null,
      "_view_module": "@jupyter-widgets/controls",
      "_view_module_version": "1.5.0",
      "_view_name": "ProgressView",
      "bar_style": "success",
      "description": "",
      "description_tooltip": null,
      "layout": "IPY_MODEL_3518c854776b4fc9a34402efe3d43839",
      "max": 5,
      "min": 0,
      "orientation": "horizontal",
      "style": "IPY_MODEL_cb7f3e6dd0bc4d30914e37160eceeb4b",
      "value": 5
     }
    },
    "4004af396ac14fefa3c3f32f4ceadfe2": {
     "model_module": "@jupyter-widgets/base",
     "model_module_version": "1.2.0",
     "model_name": "LayoutModel",
     "state": {
      "_model_module": "@jupyter-widgets/base",
      "_model_module_version": "1.2.0",
      "_model_name": "LayoutModel",
      "_view_count": null,
      "_view_module": "@jupyter-widgets/base",
      "_view_module_version": "1.2.0",
      "_view_name": "LayoutView",
      "align_content": null,
      "align_items": null,
      "align_self": null,
      "border": null,
      "bottom": null,
      "display": null,
      "flex": null,
      "flex_flow": null,
      "grid_area": null,
      "grid_auto_columns": null,
      "grid_auto_flow": null,
      "grid_auto_rows": null,
      "grid_column": null,
      "grid_gap": null,
      "grid_row": null,
      "grid_template_areas": null,
      "grid_template_columns": null,
      "grid_template_rows": null,
      "height": null,
      "justify_content": null,
      "justify_items": null,
      "left": null,
      "margin": null,
      "max_height": null,
      "max_width": null,
      "min_height": null,
      "min_width": null,
      "object_fit": null,
      "object_position": null,
      "order": null,
      "overflow": null,
      "overflow_x": null,
      "overflow_y": null,
      "padding": null,
      "right": null,
      "top": null,
      "visibility": null,
      "width": null
     }
    },
    "438374c0c84b4c51aa0f216e05e395dd": {
     "model_module": "@jupyter-widgets/controls",
     "model_module_version": "1.5.0",
     "model_name": "HTMLModel",
     "state": {
      "_dom_classes": [],
      "_model_module": "@jupyter-widgets/controls",
      "_model_module_version": "1.5.0",
      "_model_name": "HTMLModel",
      "_view_count": null,
      "_view_module": "@jupyter-widgets/controls",
      "_view_module_version": "1.5.0",
      "_view_name": "HTMLView",
      "description": "",
      "description_tooltip": null,
      "layout": "IPY_MODEL_4004af396ac14fefa3c3f32f4ceadfe2",
      "placeholder": "​",
      "style": "IPY_MODEL_e52dc60e452f4decb0625acde26078b8",
      "value": " 5/5 [01:10&lt;00:00, 14.03s/it]"
     }
    },
    "4616102b24544f2db52fc85c8daea70a": {
     "model_module": "@jupyter-widgets/base",
     "model_module_version": "1.2.0",
     "model_name": "LayoutModel",
     "state": {
      "_model_module": "@jupyter-widgets/base",
      "_model_module_version": "1.2.0",
      "_model_name": "LayoutModel",
      "_view_count": null,
      "_view_module": "@jupyter-widgets/base",
      "_view_module_version": "1.2.0",
      "_view_name": "LayoutView",
      "align_content": null,
      "align_items": null,
      "align_self": null,
      "border": null,
      "bottom": null,
      "display": null,
      "flex": null,
      "flex_flow": null,
      "grid_area": null,
      "grid_auto_columns": null,
      "grid_auto_flow": null,
      "grid_auto_rows": null,
      "grid_column": null,
      "grid_gap": null,
      "grid_row": null,
      "grid_template_areas": null,
      "grid_template_columns": null,
      "grid_template_rows": null,
      "height": null,
      "justify_content": null,
      "justify_items": null,
      "left": null,
      "margin": null,
      "max_height": null,
      "max_width": null,
      "min_height": null,
      "min_width": null,
      "object_fit": null,
      "object_position": null,
      "order": null,
      "overflow": null,
      "overflow_x": null,
      "overflow_y": null,
      "padding": null,
      "right": null,
      "top": null,
      "visibility": null,
      "width": null
     }
    },
    "46fca20982cf4225b026b368da0ec3e2": {
     "model_module": "@jupyter-widgets/controls",
     "model_module_version": "1.5.0",
     "model_name": "DescriptionStyleModel",
     "state": {
      "_model_module": "@jupyter-widgets/controls",
      "_model_module_version": "1.5.0",
      "_model_name": "DescriptionStyleModel",
      "_view_count": null,
      "_view_module": "@jupyter-widgets/base",
      "_view_module_version": "1.2.0",
      "_view_name": "StyleView",
      "description_width": ""
     }
    },
    "4eb27d9961bb45fc982b848121e0a2c7": {
     "model_module": "@jupyter-widgets/controls",
     "model_module_version": "1.5.0",
     "model_name": "HTMLModel",
     "state": {
      "_dom_classes": [],
      "_model_module": "@jupyter-widgets/controls",
      "_model_module_version": "1.5.0",
      "_model_name": "HTMLModel",
      "_view_count": null,
      "_view_module": "@jupyter-widgets/controls",
      "_view_module_version": "1.5.0",
      "_view_name": "HTMLView",
      "description": "",
      "description_tooltip": null,
      "layout": "IPY_MODEL_d7c9fd2ed45240519bcffa0bc369f0b0",
      "placeholder": "​",
      "style": "IPY_MODEL_e2f7da858f6048809c8a754d565affba",
      "value": "100%"
     }
    },
    "511644fb222c4767835265d5cfdb1069": {
     "model_module": "@jupyter-widgets/base",
     "model_module_version": "1.2.0",
     "model_name": "LayoutModel",
     "state": {
      "_model_module": "@jupyter-widgets/base",
      "_model_module_version": "1.2.0",
      "_model_name": "LayoutModel",
      "_view_count": null,
      "_view_module": "@jupyter-widgets/base",
      "_view_module_version": "1.2.0",
      "_view_name": "LayoutView",
      "align_content": null,
      "align_items": null,
      "align_self": null,
      "border": null,
      "bottom": null,
      "display": null,
      "flex": null,
      "flex_flow": null,
      "grid_area": null,
      "grid_auto_columns": null,
      "grid_auto_flow": null,
      "grid_auto_rows": null,
      "grid_column": null,
      "grid_gap": null,
      "grid_row": null,
      "grid_template_areas": null,
      "grid_template_columns": null,
      "grid_template_rows": null,
      "height": null,
      "justify_content": null,
      "justify_items": null,
      "left": null,
      "margin": null,
      "max_height": null,
      "max_width": null,
      "min_height": null,
      "min_width": null,
      "object_fit": null,
      "object_position": null,
      "order": null,
      "overflow": null,
      "overflow_x": null,
      "overflow_y": null,
      "padding": null,
      "right": null,
      "top": null,
      "visibility": null,
      "width": null
     }
    },
    "61a54edcd9d4430abd03858f4e3a4621": {
     "model_module": "@jupyter-widgets/controls",
     "model_module_version": "1.5.0",
     "model_name": "ProgressStyleModel",
     "state": {
      "_model_module": "@jupyter-widgets/controls",
      "_model_module_version": "1.5.0",
      "_model_name": "ProgressStyleModel",
      "_view_count": null,
      "_view_module": "@jupyter-widgets/base",
      "_view_module_version": "1.2.0",
      "_view_name": "StyleView",
      "bar_color": null,
      "description_width": ""
     }
    },
    "680607c82ce84ef19402d8e306641e90": {
     "model_module": "@jupyter-widgets/controls",
     "model_module_version": "1.5.0",
     "model_name": "HTMLModel",
     "state": {
      "_dom_classes": [],
      "_model_module": "@jupyter-widgets/controls",
      "_model_module_version": "1.5.0",
      "_model_name": "HTMLModel",
      "_view_count": null,
      "_view_module": "@jupyter-widgets/controls",
      "_view_module_version": "1.5.0",
      "_view_name": "HTMLView",
      "description": "",
      "description_tooltip": null,
      "layout": "IPY_MODEL_2ce8576cf6094ed6b2c83fdef0c71b5f",
      "placeholder": "​",
      "style": "IPY_MODEL_91041a29cc0c4765a2b30a4f8ccd1250",
      "value": " 313/? [00:01&lt;00:00, 251.87it/s]"
     }
    },
    "6efc93538e6143bfb71a08af278072b6": {
     "model_module": "@jupyter-widgets/controls",
     "model_module_version": "1.5.0",
     "model_name": "FloatProgressModel",
     "state": {
      "_dom_classes": [],
      "_model_module": "@jupyter-widgets/controls",
      "_model_module_version": "1.5.0",
      "_model_name": "FloatProgressModel",
      "_view_count": null,
      "_view_module": "@jupyter-widgets/controls",
      "_view_module_version": "1.5.0",
      "_view_name": "ProgressView",
      "bar_style": "success",
      "description": "",
      "description_tooltip": null,
      "layout": "IPY_MODEL_76ee0c852ba54b1fbf1a9cebe68f08ee",
      "max": 1,
      "min": 0,
      "orientation": "horizontal",
      "style": "IPY_MODEL_e819b809f40e45718ed8bba231b74dac",
      "value": 1
     }
    },
    "76ee0c852ba54b1fbf1a9cebe68f08ee": {
     "model_module": "@jupyter-widgets/base",
     "model_module_version": "1.2.0",
     "model_name": "LayoutModel",
     "state": {
      "_model_module": "@jupyter-widgets/base",
      "_model_module_version": "1.2.0",
      "_model_name": "LayoutModel",
      "_view_count": null,
      "_view_module": "@jupyter-widgets/base",
      "_view_module_version": "1.2.0",
      "_view_name": "LayoutView",
      "align_content": null,
      "align_items": null,
      "align_self": null,
      "border": null,
      "bottom": null,
      "display": null,
      "flex": null,
      "flex_flow": null,
      "grid_area": null,
      "grid_auto_columns": null,
      "grid_auto_flow": null,
      "grid_auto_rows": null,
      "grid_column": null,
      "grid_gap": null,
      "grid_row": null,
      "grid_template_areas": null,
      "grid_template_columns": null,
      "grid_template_rows": null,
      "height": null,
      "justify_content": null,
      "justify_items": null,
      "left": null,
      "margin": null,
      "max_height": null,
      "max_width": null,
      "min_height": null,
      "min_width": null,
      "object_fit": null,
      "object_position": null,
      "order": null,
      "overflow": null,
      "overflow_x": null,
      "overflow_y": null,
      "padding": null,
      "right": null,
      "top": null,
      "visibility": null,
      "width": "20px"
     }
    },
    "856ad47987b74bc284b796a2b5ad0554": {
     "model_module": "@jupyter-widgets/controls",
     "model_module_version": "1.5.0",
     "model_name": "DescriptionStyleModel",
     "state": {
      "_model_module": "@jupyter-widgets/controls",
      "_model_module_version": "1.5.0",
      "_model_name": "DescriptionStyleModel",
      "_view_count": null,
      "_view_module": "@jupyter-widgets/base",
      "_view_module_version": "1.2.0",
      "_view_name": "StyleView",
      "description_width": ""
     }
    },
    "91041a29cc0c4765a2b30a4f8ccd1250": {
     "model_module": "@jupyter-widgets/controls",
     "model_module_version": "1.5.0",
     "model_name": "DescriptionStyleModel",
     "state": {
      "_model_module": "@jupyter-widgets/controls",
      "_model_module_version": "1.5.0",
      "_model_name": "DescriptionStyleModel",
      "_view_count": null,
      "_view_module": "@jupyter-widgets/base",
      "_view_module_version": "1.2.0",
      "_view_name": "StyleView",
      "description_width": ""
     }
    },
    "a1da5e072341423a9f863770fd513b33": {
     "model_module": "@jupyter-widgets/controls",
     "model_module_version": "1.5.0",
     "model_name": "DescriptionStyleModel",
     "state": {
      "_model_module": "@jupyter-widgets/controls",
      "_model_module_version": "1.5.0",
      "_model_name": "DescriptionStyleModel",
      "_view_count": null,
      "_view_module": "@jupyter-widgets/base",
      "_view_module_version": "1.2.0",
      "_view_name": "StyleView",
      "description_width": ""
     }
    },
    "a98bc8f475df46ffa0ed482daf4c549f": {
     "model_module": "@jupyter-widgets/controls",
     "model_module_version": "1.5.0",
     "model_name": "DescriptionStyleModel",
     "state": {
      "_model_module": "@jupyter-widgets/controls",
      "_model_module_version": "1.5.0",
      "_model_name": "DescriptionStyleModel",
      "_view_count": null,
      "_view_module": "@jupyter-widgets/base",
      "_view_module_version": "1.2.0",
      "_view_name": "StyleView",
      "description_width": ""
     }
    },
    "abb9fd0d5adf4e4faabf126c9c3a2d66": {
     "model_module": "@jupyter-widgets/controls",
     "model_module_version": "1.5.0",
     "model_name": "DescriptionStyleModel",
     "state": {
      "_model_module": "@jupyter-widgets/controls",
      "_model_module_version": "1.5.0",
      "_model_name": "DescriptionStyleModel",
      "_view_count": null,
      "_view_module": "@jupyter-widgets/base",
      "_view_module_version": "1.2.0",
      "_view_name": "StyleView",
      "description_width": ""
     }
    },
    "b41b3760a1844e9985e4d803bc160af2": {
     "model_module": "@jupyter-widgets/controls",
     "model_module_version": "1.5.0",
     "model_name": "FloatProgressModel",
     "state": {
      "_dom_classes": [],
      "_model_module": "@jupyter-widgets/controls",
      "_model_module_version": "1.5.0",
      "_model_name": "FloatProgressModel",
      "_view_count": null,
      "_view_module": "@jupyter-widgets/controls",
      "_view_module_version": "1.5.0",
      "_view_name": "ProgressView",
      "bar_style": "success",
      "description": "",
      "description_tooltip": null,
      "layout": "IPY_MODEL_f30eb883f86b4140b9122c6d42705544",
      "max": 5,
      "min": 0,
      "orientation": "horizontal",
      "style": "IPY_MODEL_3a6791943012487d9ed7651b60765dbc",
      "value": 5
     }
    },
    "ba5539d3b5c040358d92fde5e28fabd9": {
     "model_module": "@jupyter-widgets/controls",
     "model_module_version": "1.5.0",
     "model_name": "ProgressStyleModel",
     "state": {
      "_model_module": "@jupyter-widgets/controls",
      "_model_module_version": "1.5.0",
      "_model_name": "ProgressStyleModel",
      "_view_count": null,
      "_view_module": "@jupyter-widgets/base",
      "_view_module_version": "1.2.0",
      "_view_name": "StyleView",
      "bar_color": null,
      "description_width": ""
     }
    },
    "bb52f4de377a43978aa30855dcb50531": {
     "model_module": "@jupyter-widgets/controls",
     "model_module_version": "1.5.0",
     "model_name": "HBoxModel",
     "state": {
      "_dom_classes": [],
      "_model_module": "@jupyter-widgets/controls",
      "_model_module_version": "1.5.0",
      "_model_name": "HBoxModel",
      "_view_count": null,
      "_view_module": "@jupyter-widgets/controls",
      "_view_module_version": "1.5.0",
      "_view_name": "HBoxView",
      "box_style": "",
      "children": [
       "IPY_MODEL_ec9a787e78db49f3b8e36b0d46b42745",
       "IPY_MODEL_6efc93538e6143bfb71a08af278072b6",
       "IPY_MODEL_680607c82ce84ef19402d8e306641e90"
      ],
      "layout": "IPY_MODEL_38feea9970724ef384d1aabada99f0cd"
     }
    },
    "c644daca74e6417e9b4b130e250fc3b0": {
     "model_module": "@jupyter-widgets/controls",
     "model_module_version": "1.5.0",
     "model_name": "HBoxModel",
     "state": {
      "_dom_classes": [],
      "_model_module": "@jupyter-widgets/controls",
      "_model_module_version": "1.5.0",
      "_model_name": "HBoxModel",
      "_view_count": null,
      "_view_module": "@jupyter-widgets/controls",
      "_view_module_version": "1.5.0",
      "_view_name": "HBoxView",
      "box_style": "",
      "children": [
       "IPY_MODEL_e8041ca3b5c548e6b5da0e09892d595d",
       "IPY_MODEL_d18477ccc0c7430ba7d905b6b110e323",
       "IPY_MODEL_438374c0c84b4c51aa0f216e05e395dd"
      ],
      "layout": "IPY_MODEL_e58df4b81e56432681ea098282aba1be"
     }
    },
    "cb42c5003b9a42188ca6a04bc247ca83": {
     "model_module": "@jupyter-widgets/controls",
     "model_module_version": "1.5.0",
     "model_name": "HTMLModel",
     "state": {
      "_dom_classes": [],
      "_model_module": "@jupyter-widgets/controls",
      "_model_module_version": "1.5.0",
      "_model_name": "HTMLModel",
      "_view_count": null,
      "_view_module": "@jupyter-widgets/controls",
      "_view_module_version": "1.5.0",
      "_view_name": "HTMLView",
      "description": "",
      "description_tooltip": null,
      "layout": "IPY_MODEL_00cafee5f3ed453bb628d6d4fb09c573",
      "placeholder": "​",
      "style": "IPY_MODEL_a98bc8f475df46ffa0ed482daf4c549f",
      "value": "100%"
     }
    },
    "cb7f3e6dd0bc4d30914e37160eceeb4b": {
     "model_module": "@jupyter-widgets/controls",
     "model_module_version": "1.5.0",
     "model_name": "ProgressStyleModel",
     "state": {
      "_model_module": "@jupyter-widgets/controls",
      "_model_module_version": "1.5.0",
      "_model_name": "ProgressStyleModel",
      "_view_count": null,
      "_view_module": "@jupyter-widgets/base",
      "_view_module_version": "1.2.0",
      "_view_name": "StyleView",
      "bar_color": null,
      "description_width": ""
     }
    },
    "cc26ea0818034fa4bf739bba7240a60f": {
     "model_module": "@jupyter-widgets/controls",
     "model_module_version": "1.5.0",
     "model_name": "HTMLModel",
     "state": {
      "_dom_classes": [],
      "_model_module": "@jupyter-widgets/controls",
      "_model_module_version": "1.5.0",
      "_model_name": "HTMLModel",
      "_view_count": null,
      "_view_module": "@jupyter-widgets/controls",
      "_view_module_version": "1.5.0",
      "_view_name": "HTMLView",
      "description": "",
      "description_tooltip": null,
      "layout": "IPY_MODEL_511644fb222c4767835265d5cfdb1069",
      "placeholder": "​",
      "style": "IPY_MODEL_abb9fd0d5adf4e4faabf126c9c3a2d66",
      "value": " 313/313 [00:01&lt;00:00, 162.56it/s]"
     }
    },
    "cce76da16ad04416a1d85601a064ad7a": {
     "model_module": "@jupyter-widgets/base",
     "model_module_version": "1.2.0",
     "model_name": "LayoutModel",
     "state": {
      "_model_module": "@jupyter-widgets/base",
      "_model_module_version": "1.2.0",
      "_model_name": "LayoutModel",
      "_view_count": null,
      "_view_module": "@jupyter-widgets/base",
      "_view_module_version": "1.2.0",
      "_view_name": "LayoutView",
      "align_content": null,
      "align_items": null,
      "align_self": null,
      "border": null,
      "bottom": null,
      "display": null,
      "flex": null,
      "flex_flow": null,
      "grid_area": null,
      "grid_auto_columns": null,
      "grid_auto_flow": null,
      "grid_auto_rows": null,
      "grid_column": null,
      "grid_gap": null,
      "grid_row": null,
      "grid_template_areas": null,
      "grid_template_columns": null,
      "grid_template_rows": null,
      "height": null,
      "justify_content": null,
      "justify_items": null,
      "left": null,
      "margin": null,
      "max_height": null,
      "max_width": null,
      "min_height": null,
      "min_width": null,
      "object_fit": null,
      "object_position": null,
      "order": null,
      "overflow": null,
      "overflow_x": null,
      "overflow_y": null,
      "padding": null,
      "right": null,
      "top": null,
      "visibility": null,
      "width": null
     }
    },
    "d18477ccc0c7430ba7d905b6b110e323": {
     "model_module": "@jupyter-widgets/controls",
     "model_module_version": "1.5.0",
     "model_name": "FloatProgressModel",
     "state": {
      "_dom_classes": [],
      "_model_module": "@jupyter-widgets/controls",
      "_model_module_version": "1.5.0",
      "_model_name": "FloatProgressModel",
      "_view_count": null,
      "_view_module": "@jupyter-widgets/controls",
      "_view_module_version": "1.5.0",
      "_view_name": "ProgressView",
      "bar_style": "success",
      "description": "",
      "description_tooltip": null,
      "layout": "IPY_MODEL_37d0b63fe66c4474a7fb7679ee2f9728",
      "max": 5,
      "min": 0,
      "orientation": "horizontal",
      "style": "IPY_MODEL_ba5539d3b5c040358d92fde5e28fabd9",
      "value": 5
     }
    },
    "d25b4122c8c14df684bce367a4ba9567": {
     "model_module": "@jupyter-widgets/controls",
     "model_module_version": "1.5.0",
     "model_name": "HBoxModel",
     "state": {
      "_dom_classes": [],
      "_model_module": "@jupyter-widgets/controls",
      "_model_module_version": "1.5.0",
      "_model_name": "HBoxModel",
      "_view_count": null,
      "_view_module": "@jupyter-widgets/controls",
      "_view_module_version": "1.5.0",
      "_view_name": "HBoxView",
      "box_style": "",
      "children": [
       "IPY_MODEL_4eb27d9961bb45fc982b848121e0a2c7",
       "IPY_MODEL_eb7a73e8ff0f42ec8d962b1ec8ff64b0",
       "IPY_MODEL_cc26ea0818034fa4bf739bba7240a60f"
      ],
      "layout": "IPY_MODEL_ec5e155c610f4eb9987ff97ec48d3c1e"
     }
    },
    "d7c9fd2ed45240519bcffa0bc369f0b0": {
     "model_module": "@jupyter-widgets/base",
     "model_module_version": "1.2.0",
     "model_name": "LayoutModel",
     "state": {
      "_model_module": "@jupyter-widgets/base",
      "_model_module_version": "1.2.0",
      "_model_name": "LayoutModel",
      "_view_count": null,
      "_view_module": "@jupyter-widgets/base",
      "_view_module_version": "1.2.0",
      "_view_name": "LayoutView",
      "align_content": null,
      "align_items": null,
      "align_self": null,
      "border": null,
      "bottom": null,
      "display": null,
      "flex": null,
      "flex_flow": null,
      "grid_area": null,
      "grid_auto_columns": null,
      "grid_auto_flow": null,
      "grid_auto_rows": null,
      "grid_column": null,
      "grid_gap": null,
      "grid_row": null,
      "grid_template_areas": null,
      "grid_template_columns": null,
      "grid_template_rows": null,
      "height": null,
      "justify_content": null,
      "justify_items": null,
      "left": null,
      "margin": null,
      "max_height": null,
      "max_width": null,
      "min_height": null,
      "min_width": null,
      "object_fit": null,
      "object_position": null,
      "order": null,
      "overflow": null,
      "overflow_x": null,
      "overflow_y": null,
      "padding": null,
      "right": null,
      "top": null,
      "visibility": null,
      "width": null
     }
    },
    "d8a056c4a7174e9c9107f45caefdb361": {
     "model_module": "@jupyter-widgets/controls",
     "model_module_version": "1.5.0",
     "model_name": "HTMLModel",
     "state": {
      "_dom_classes": [],
      "_model_module": "@jupyter-widgets/controls",
      "_model_module_version": "1.5.0",
      "_model_name": "HTMLModel",
      "_view_count": null,
      "_view_module": "@jupyter-widgets/controls",
      "_view_module_version": "1.5.0",
      "_view_name": "HTMLView",
      "description": "",
      "description_tooltip": null,
      "layout": "IPY_MODEL_090f239ed56447a78bf4d1ac62a2b89b",
      "placeholder": "​",
      "style": "IPY_MODEL_dbed9d92bca54165bbcf8bde6d0d9ced",
      "value": " 5/5 [03:46&lt;00:00, 45.00s/it]"
     }
    },
    "dbed9d92bca54165bbcf8bde6d0d9ced": {
     "model_module": "@jupyter-widgets/controls",
     "model_module_version": "1.5.0",
     "model_name": "DescriptionStyleModel",
     "state": {
      "_model_module": "@jupyter-widgets/controls",
      "_model_module_version": "1.5.0",
      "_model_name": "DescriptionStyleModel",
      "_view_count": null,
      "_view_module": "@jupyter-widgets/base",
      "_view_module_version": "1.2.0",
      "_view_name": "StyleView",
      "description_width": ""
     }
    },
    "e2f7da858f6048809c8a754d565affba": {
     "model_module": "@jupyter-widgets/controls",
     "model_module_version": "1.5.0",
     "model_name": "DescriptionStyleModel",
     "state": {
      "_model_module": "@jupyter-widgets/controls",
      "_model_module_version": "1.5.0",
      "_model_name": "DescriptionStyleModel",
      "_view_count": null,
      "_view_module": "@jupyter-widgets/base",
      "_view_module_version": "1.2.0",
      "_view_name": "StyleView",
      "description_width": ""
     }
    },
    "e52dc60e452f4decb0625acde26078b8": {
     "model_module": "@jupyter-widgets/controls",
     "model_module_version": "1.5.0",
     "model_name": "DescriptionStyleModel",
     "state": {
      "_model_module": "@jupyter-widgets/controls",
      "_model_module_version": "1.5.0",
      "_model_name": "DescriptionStyleModel",
      "_view_count": null,
      "_view_module": "@jupyter-widgets/base",
      "_view_module_version": "1.2.0",
      "_view_name": "StyleView",
      "description_width": ""
     }
    },
    "e58df4b81e56432681ea098282aba1be": {
     "model_module": "@jupyter-widgets/base",
     "model_module_version": "1.2.0",
     "model_name": "LayoutModel",
     "state": {
      "_model_module": "@jupyter-widgets/base",
      "_model_module_version": "1.2.0",
      "_model_name": "LayoutModel",
      "_view_count": null,
      "_view_module": "@jupyter-widgets/base",
      "_view_module_version": "1.2.0",
      "_view_name": "LayoutView",
      "align_content": null,
      "align_items": null,
      "align_self": null,
      "border": null,
      "bottom": null,
      "display": null,
      "flex": null,
      "flex_flow": null,
      "grid_area": null,
      "grid_auto_columns": null,
      "grid_auto_flow": null,
      "grid_auto_rows": null,
      "grid_column": null,
      "grid_gap": null,
      "grid_row": null,
      "grid_template_areas": null,
      "grid_template_columns": null,
      "grid_template_rows": null,
      "height": null,
      "justify_content": null,
      "justify_items": null,
      "left": null,
      "margin": null,
      "max_height": null,
      "max_width": null,
      "min_height": null,
      "min_width": null,
      "object_fit": null,
      "object_position": null,
      "order": null,
      "overflow": null,
      "overflow_x": null,
      "overflow_y": null,
      "padding": null,
      "right": null,
      "top": null,
      "visibility": null,
      "width": null
     }
    },
    "e6e22491a10948b0a9780a6d79122f26": {
     "model_module": "@jupyter-widgets/base",
     "model_module_version": "1.2.0",
     "model_name": "LayoutModel",
     "state": {
      "_model_module": "@jupyter-widgets/base",
      "_model_module_version": "1.2.0",
      "_model_name": "LayoutModel",
      "_view_count": null,
      "_view_module": "@jupyter-widgets/base",
      "_view_module_version": "1.2.0",
      "_view_name": "LayoutView",
      "align_content": null,
      "align_items": null,
      "align_self": null,
      "border": null,
      "bottom": null,
      "display": null,
      "flex": null,
      "flex_flow": null,
      "grid_area": null,
      "grid_auto_columns": null,
      "grid_auto_flow": null,
      "grid_auto_rows": null,
      "grid_column": null,
      "grid_gap": null,
      "grid_row": null,
      "grid_template_areas": null,
      "grid_template_columns": null,
      "grid_template_rows": null,
      "height": null,
      "justify_content": null,
      "justify_items": null,
      "left": null,
      "margin": null,
      "max_height": null,
      "max_width": null,
      "min_height": null,
      "min_width": null,
      "object_fit": null,
      "object_position": null,
      "order": null,
      "overflow": null,
      "overflow_x": null,
      "overflow_y": null,
      "padding": null,
      "right": null,
      "top": null,
      "visibility": null,
      "width": null
     }
    },
    "e8041ca3b5c548e6b5da0e09892d595d": {
     "model_module": "@jupyter-widgets/controls",
     "model_module_version": "1.5.0",
     "model_name": "HTMLModel",
     "state": {
      "_dom_classes": [],
      "_model_module": "@jupyter-widgets/controls",
      "_model_module_version": "1.5.0",
      "_model_name": "HTMLModel",
      "_view_count": null,
      "_view_module": "@jupyter-widgets/controls",
      "_view_module_version": "1.5.0",
      "_view_name": "HTMLView",
      "description": "",
      "description_tooltip": null,
      "layout": "IPY_MODEL_cce76da16ad04416a1d85601a064ad7a",
      "placeholder": "​",
      "style": "IPY_MODEL_856ad47987b74bc284b796a2b5ad0554",
      "value": "100%"
     }
    },
    "e819b809f40e45718ed8bba231b74dac": {
     "model_module": "@jupyter-widgets/controls",
     "model_module_version": "1.5.0",
     "model_name": "ProgressStyleModel",
     "state": {
      "_model_module": "@jupyter-widgets/controls",
      "_model_module_version": "1.5.0",
      "_model_name": "ProgressStyleModel",
      "_view_count": null,
      "_view_module": "@jupyter-widgets/base",
      "_view_module_version": "1.2.0",
      "_view_name": "StyleView",
      "bar_color": null,
      "description_width": ""
     }
    },
    "eb7a73e8ff0f42ec8d962b1ec8ff64b0": {
     "model_module": "@jupyter-widgets/controls",
     "model_module_version": "1.5.0",
     "model_name": "FloatProgressModel",
     "state": {
      "_dom_classes": [],
      "_model_module": "@jupyter-widgets/controls",
      "_model_module_version": "1.5.0",
      "_model_name": "FloatProgressModel",
      "_view_count": null,
      "_view_module": "@jupyter-widgets/controls",
      "_view_module_version": "1.5.0",
      "_view_name": "ProgressView",
      "bar_style": "success",
      "description": "",
      "description_tooltip": null,
      "layout": "IPY_MODEL_e6e22491a10948b0a9780a6d79122f26",
      "max": 313,
      "min": 0,
      "orientation": "horizontal",
      "style": "IPY_MODEL_61a54edcd9d4430abd03858f4e3a4621",
      "value": 313
     }
    },
    "ec5e155c610f4eb9987ff97ec48d3c1e": {
     "model_module": "@jupyter-widgets/base",
     "model_module_version": "1.2.0",
     "model_name": "LayoutModel",
     "state": {
      "_model_module": "@jupyter-widgets/base",
      "_model_module_version": "1.2.0",
      "_model_name": "LayoutModel",
      "_view_count": null,
      "_view_module": "@jupyter-widgets/base",
      "_view_module_version": "1.2.0",
      "_view_name": "LayoutView",
      "align_content": null,
      "align_items": null,
      "align_self": null,
      "border": null,
      "bottom": null,
      "display": null,
      "flex": null,
      "flex_flow": null,
      "grid_area": null,
      "grid_auto_columns": null,
      "grid_auto_flow": null,
      "grid_auto_rows": null,
      "grid_column": null,
      "grid_gap": null,
      "grid_row": null,
      "grid_template_areas": null,
      "grid_template_columns": null,
      "grid_template_rows": null,
      "height": null,
      "justify_content": null,
      "justify_items": null,
      "left": null,
      "margin": null,
      "max_height": null,
      "max_width": null,
      "min_height": null,
      "min_width": null,
      "object_fit": null,
      "object_position": null,
      "order": null,
      "overflow": null,
      "overflow_x": null,
      "overflow_y": null,
      "padding": null,
      "right": null,
      "top": null,
      "visibility": null,
      "width": null
     }
    },
    "ec9a787e78db49f3b8e36b0d46b42745": {
     "model_module": "@jupyter-widgets/controls",
     "model_module_version": "1.5.0",
     "model_name": "HTMLModel",
     "state": {
      "_dom_classes": [],
      "_model_module": "@jupyter-widgets/controls",
      "_model_module_version": "1.5.0",
      "_model_name": "HTMLModel",
      "_view_count": null,
      "_view_module": "@jupyter-widgets/controls",
      "_view_module_version": "1.5.0",
      "_view_name": "HTMLView",
      "description": "",
      "description_tooltip": null,
      "layout": "IPY_MODEL_35c671a5b0bb4de78ab4b7dca82116de",
      "placeholder": "​",
      "style": "IPY_MODEL_46fca20982cf4225b026b368da0ec3e2",
      "value": ""
     }
    },
    "f042a7458981401584a9a4493a288ee8": {
     "model_module": "@jupyter-widgets/controls",
     "model_module_version": "1.5.0",
     "model_name": "DescriptionStyleModel",
     "state": {
      "_model_module": "@jupyter-widgets/controls",
      "_model_module_version": "1.5.0",
      "_model_name": "DescriptionStyleModel",
      "_view_count": null,
      "_view_module": "@jupyter-widgets/base",
      "_view_module_version": "1.2.0",
      "_view_name": "StyleView",
      "description_width": ""
     }
    },
    "f30eb883f86b4140b9122c6d42705544": {
     "model_module": "@jupyter-widgets/base",
     "model_module_version": "1.2.0",
     "model_name": "LayoutModel",
     "state": {
      "_model_module": "@jupyter-widgets/base",
      "_model_module_version": "1.2.0",
      "_model_name": "LayoutModel",
      "_view_count": null,
      "_view_module": "@jupyter-widgets/base",
      "_view_module_version": "1.2.0",
      "_view_name": "LayoutView",
      "align_content": null,
      "align_items": null,
      "align_self": null,
      "border": null,
      "bottom": null,
      "display": null,
      "flex": null,
      "flex_flow": null,
      "grid_area": null,
      "grid_auto_columns": null,
      "grid_auto_flow": null,
      "grid_auto_rows": null,
      "grid_column": null,
      "grid_gap": null,
      "grid_row": null,
      "grid_template_areas": null,
      "grid_template_columns": null,
      "grid_template_rows": null,
      "height": null,
      "justify_content": null,
      "justify_items": null,
      "left": null,
      "margin": null,
      "max_height": null,
      "max_width": null,
      "min_height": null,
      "min_width": null,
      "object_fit": null,
      "object_position": null,
      "order": null,
      "overflow": null,
      "overflow_x": null,
      "overflow_y": null,
      "padding": null,
      "right": null,
      "top": null,
      "visibility": null,
      "width": null
     }
    },
    "f6b31a09e0a741ec8454cb85488d62d9": {
     "model_module": "@jupyter-widgets/base",
     "model_module_version": "1.2.0",
     "model_name": "LayoutModel",
     "state": {
      "_model_module": "@jupyter-widgets/base",
      "_model_module_version": "1.2.0",
      "_model_name": "LayoutModel",
      "_view_count": null,
      "_view_module": "@jupyter-widgets/base",
      "_view_module_version": "1.2.0",
      "_view_name": "LayoutView",
      "align_content": null,
      "align_items": null,
      "align_self": null,
      "border": null,
      "bottom": null,
      "display": null,
      "flex": null,
      "flex_flow": null,
      "grid_area": null,
      "grid_auto_columns": null,
      "grid_auto_flow": null,
      "grid_auto_rows": null,
      "grid_column": null,
      "grid_gap": null,
      "grid_row": null,
      "grid_template_areas": null,
      "grid_template_columns": null,
      "grid_template_rows": null,
      "height": null,
      "justify_content": null,
      "justify_items": null,
      "left": null,
      "margin": null,
      "max_height": null,
      "max_width": null,
      "min_height": null,
      "min_width": null,
      "object_fit": null,
      "object_position": null,
      "order": null,
      "overflow": null,
      "overflow_x": null,
      "overflow_y": null,
      "padding": null,
      "right": null,
      "top": null,
      "visibility": null,
      "width": null
     }
    },
    "fe433c4adba542f29800014c8180a659": {
     "model_module": "@jupyter-widgets/controls",
     "model_module_version": "1.5.0",
     "model_name": "HTMLModel",
     "state": {
      "_dom_classes": [],
      "_model_module": "@jupyter-widgets/controls",
      "_model_module_version": "1.5.0",
      "_model_name": "HTMLModel",
      "_view_count": null,
      "_view_module": "@jupyter-widgets/controls",
      "_view_module_version": "1.5.0",
      "_view_name": "HTMLView",
      "description": "",
      "description_tooltip": null,
      "layout": "IPY_MODEL_f6b31a09e0a741ec8454cb85488d62d9",
      "placeholder": "​",
      "style": "IPY_MODEL_f042a7458981401584a9a4493a288ee8",
      "value": "100%"
     }
    }
   }
  }
 },
 "nbformat": 4,
 "nbformat_minor": 0
}
