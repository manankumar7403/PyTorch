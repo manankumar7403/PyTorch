{
 "cells": [
  {
   "cell_type": "code",
   "execution_count": null,
   "metadata": {
    "colab": {
     "base_uri": "https://localhost:8080/"
    },
    "id": "WVuc3Pu2Idtf",
    "outputId": "4711d771-b7ee-41f7-d33f-d46258bc4f8c"
   },
   "outputs": [
    {
     "name": "stdout",
     "output_type": "stream",
     "text": [
      "Sat Aug 12 08:34:56 2023       \n",
      "+-----------------------------------------------------------------------------+\n",
      "| NVIDIA-SMI 525.105.17   Driver Version: 525.105.17   CUDA Version: 12.0     |\n",
      "|-------------------------------+----------------------+----------------------+\n",
      "| GPU  Name        Persistence-M| Bus-Id        Disp.A | Volatile Uncorr. ECC |\n",
      "| Fan  Temp  Perf  Pwr:Usage/Cap|         Memory-Usage | GPU-Util  Compute M. |\n",
      "|                               |                      |               MIG M. |\n",
      "|===============================+======================+======================|\n",
      "|   0  Tesla T4            Off  | 00000000:00:04.0 Off |                    0 |\n",
      "| N/A   55C    P8    11W /  70W |      0MiB / 15360MiB |      0%      Default |\n",
      "|                               |                      |                  N/A |\n",
      "+-------------------------------+----------------------+----------------------+\n",
      "                                                                               \n",
      "+-----------------------------------------------------------------------------+\n",
      "| Processes:                                                                  |\n",
      "|  GPU   GI   CI        PID   Type   Process name                  GPU Memory |\n",
      "|        ID   ID                                                   Usage      |\n",
      "|=============================================================================|\n",
      "|  No running processes found                                                 |\n",
      "+-----------------------------------------------------------------------------+\n"
     ]
    }
   ],
   "source": [
    "!nvidia-smi"
   ]
  },
  {
   "cell_type": "code",
   "execution_count": null,
   "metadata": {
    "id": "V09NGiZWKBQJ"
   },
   "outputs": [],
   "source": []
  },
  {
   "cell_type": "markdown",
   "metadata": {
    "id": "VHlujM7_KGzQ"
   },
   "source": [
    "## 1- PyTorch Fundamentals"
   ]
  },
  {
   "cell_type": "code",
   "execution_count": null,
   "metadata": {
    "id": "1-_Z_q-lKIrr"
   },
   "outputs": [],
   "source": []
  },
  {
   "cell_type": "code",
   "execution_count": null,
   "metadata": {
    "colab": {
     "base_uri": "https://localhost:8080/"
    },
    "id": "5AEP9yOEKPkZ",
    "outputId": "31f40865-3b78-4975-e03a-9a3b488e92cb"
   },
   "outputs": [
    {
     "name": "stdout",
     "output_type": "stream",
     "text": [
      "True\n"
     ]
    }
   ],
   "source": [
    "import torch # Google Colab comes with torch already installed\n",
    "print(torch.cuda.is_available()) # will return True if PyTorch can use the GPU"
   ]
  },
  {
   "cell_type": "code",
   "execution_count": null,
   "metadata": {
    "colab": {
     "base_uri": "https://localhost:8080/"
    },
    "id": "8jrb63GTK68a",
    "outputId": "26cb4268-2220-4911-c1d4-d149156a4457"
   },
   "outputs": [
    {
     "name": "stdout",
     "output_type": "stream",
     "text": [
      "2.0.1+cu118\n"
     ]
    }
   ],
   "source": [
    "print(torch.__version__)"
   ]
  },
  {
   "cell_type": "code",
   "execution_count": null,
   "metadata": {
    "id": "cqNOWZpzLLvG"
   },
   "outputs": [],
   "source": []
  },
  {
   "cell_type": "markdown",
   "metadata": {
    "id": "e8_HvvrLS6Gz"
   },
   "source": [
    "INTRODUCTION TO TENSORS\n",
    "\n",
    "Creating Tensors\n",
    "\n",
    "PyTorch Tensors are created using `torch.tensor` = https://pytorch.org/docs/stable/tensors.html"
   ]
  },
  {
   "cell_type": "code",
   "execution_count": null,
   "metadata": {
    "id": "1REnGR2cTAmI"
   },
   "outputs": [],
   "source": [
    "#scalar\n",
    "scalar=torch.tensor(7)\n",
    "## torch.tensor is a multi-dimesional matrix containing elements of a single data type."
   ]
  },
  {
   "cell_type": "code",
   "execution_count": null,
   "metadata": {
    "colab": {
     "base_uri": "https://localhost:8080/"
    },
    "id": "l--_1-ZXTLTc",
    "outputId": "48a23554-fd0a-4faa-b49c-ee8f85010665"
   },
   "outputs": [
    {
     "data": {
      "text/plain": [
       "tensor(7)"
      ]
     },
     "execution_count": 5,
     "metadata": {},
     "output_type": "execute_result"
    }
   ],
   "source": [
    "scalar"
   ]
  },
  {
   "cell_type": "code",
   "execution_count": null,
   "metadata": {
    "colab": {
     "base_uri": "https://localhost:8080/"
    },
    "id": "Gsb_gdztTME_",
    "outputId": "ba21cb78-3e12-4d48-ac1e-50011123ae77"
   },
   "outputs": [
    {
     "data": {
      "text/plain": [
       "0"
      ]
     },
     "execution_count": 6,
     "metadata": {},
     "output_type": "execute_result"
    }
   ],
   "source": [
    "scalar.ndim"
   ]
  },
  {
   "cell_type": "code",
   "execution_count": null,
   "metadata": {
    "colab": {
     "base_uri": "https://localhost:8080/"
    },
    "id": "MH5KBnXDUU4E",
    "outputId": "baea6793-ec24-4a88-a2cd-de937f94f093"
   },
   "outputs": [
    {
     "data": {
      "text/plain": [
       "7"
      ]
     },
     "execution_count": 7,
     "metadata": {},
     "output_type": "execute_result"
    }
   ],
   "source": [
    "# Get tensor back as python int.\n",
    "scalar.item()"
   ]
  },
  {
   "cell_type": "code",
   "execution_count": null,
   "metadata": {
    "colab": {
     "base_uri": "https://localhost:8080/"
    },
    "id": "gPYZoISTUcIa",
    "outputId": "c87b88a6-1bc7-4b87-d2ff-600a6a6701f0"
   },
   "outputs": [
    {
     "data": {
      "text/plain": [
       "tensor([7, 7])"
      ]
     },
     "execution_count": 8,
     "metadata": {},
     "output_type": "execute_result"
    }
   ],
   "source": [
    "# Vector\n",
    "vector=torch.tensor([7,7])\n",
    "vector"
   ]
  },
  {
   "cell_type": "markdown",
   "metadata": {
    "id": "gvAxhnwnVPO4"
   },
   "source": [
    "Scalars only have magnitide while vectors have both magnitude and direction."
   ]
  },
  {
   "cell_type": "code",
   "execution_count": null,
   "metadata": {
    "colab": {
     "base_uri": "https://localhost:8080/"
    },
    "id": "aPOpS1L6Ul1N",
    "outputId": "988848ea-f0d5-483b-ce55-a9f474f8edd1"
   },
   "outputs": [
    {
     "data": {
      "text/plain": [
       "1"
      ]
     },
     "execution_count": 9,
     "metadata": {},
     "output_type": "execute_result"
    }
   ],
   "source": [
    "vector.ndim"
   ]
  },
  {
   "cell_type": "markdown",
   "metadata": {
    "id": "Minh2LbeVqTL"
   },
   "source": [
    "ndim is dimension-number of pairs of closing square brackets."
   ]
  },
  {
   "cell_type": "code",
   "execution_count": null,
   "metadata": {
    "colab": {
     "base_uri": "https://localhost:8080/"
    },
    "id": "ixxypUJHVkj3",
    "outputId": "cf56d120-e04a-4cd3-819a-e2c45d25d11c"
   },
   "outputs": [
    {
     "data": {
      "text/plain": [
       "torch.Size([2])"
      ]
     },
     "execution_count": 10,
     "metadata": {},
     "output_type": "execute_result"
    }
   ],
   "source": [
    "vector.shape"
   ]
  },
  {
   "cell_type": "markdown",
   "metadata": {
    "id": "hjFOeu2qV7Lx"
   },
   "source": [
    "Creating a matrix"
   ]
  },
  {
   "cell_type": "code",
   "execution_count": null,
   "metadata": {
    "colab": {
     "base_uri": "https://localhost:8080/"
    },
    "id": "KCrSyZBoV0tB",
    "outputId": "c0e10ee4-56e1-4a93-a346-3fccc6516b4d"
   },
   "outputs": [
    {
     "data": {
      "text/plain": [
       "tensor([[ 7,  8],\n",
       "        [ 9, 10]])"
      ]
     },
     "execution_count": 11,
     "metadata": {},
     "output_type": "execute_result"
    }
   ],
   "source": [
    "## MATRIX\n",
    "MATRIX = torch.tensor([[7,8],\n",
    "                      [9,10]])\n",
    "MATRIX"
   ]
  },
  {
   "cell_type": "code",
   "execution_count": null,
   "metadata": {
    "colab": {
     "base_uri": "https://localhost:8080/"
    },
    "id": "7--7jM-HWRkU",
    "outputId": "40690c2d-8bff-4e90-ff1c-c6fcaa34c7b0"
   },
   "outputs": [
    {
     "data": {
      "text/plain": [
       "2"
      ]
     },
     "execution_count": 12,
     "metadata": {},
     "output_type": "execute_result"
    }
   ],
   "source": [
    "MATRIX.ndim"
   ]
  },
  {
   "cell_type": "code",
   "execution_count": null,
   "metadata": {
    "colab": {
     "base_uri": "https://localhost:8080/"
    },
    "id": "1khkI0F7V0wZ",
    "outputId": "da4ddbc4-27fa-4160-9374-6c4a2c985e18"
   },
   "outputs": [
    {
     "data": {
      "text/plain": [
       "tensor([7, 8])"
      ]
     },
     "execution_count": 13,
     "metadata": {},
     "output_type": "execute_result"
    }
   ],
   "source": [
    "MATRIX[0]"
   ]
  },
  {
   "cell_type": "code",
   "execution_count": null,
   "metadata": {
    "colab": {
     "base_uri": "https://localhost:8080/"
    },
    "id": "XCRutP25WZoJ",
    "outputId": "3af68cb6-587a-4a25-b6cc-31770297af68"
   },
   "outputs": [
    {
     "data": {
      "text/plain": [
       "tensor([ 9, 10])"
      ]
     },
     "execution_count": 14,
     "metadata": {},
     "output_type": "execute_result"
    }
   ],
   "source": [
    "MATRIX[1]"
   ]
  },
  {
   "cell_type": "code",
   "execution_count": null,
   "metadata": {
    "colab": {
     "base_uri": "https://localhost:8080/"
    },
    "id": "SShGJrE0WVR1",
    "outputId": "8a97b3b2-8d6d-4246-f0c2-13412cc7d863"
   },
   "outputs": [
    {
     "data": {
      "text/plain": [
       "torch.Size([2, 2])"
      ]
     },
     "execution_count": 15,
     "metadata": {},
     "output_type": "execute_result"
    }
   ],
   "source": [
    "MATRIX.shape"
   ]
  },
  {
   "cell_type": "code",
   "execution_count": null,
   "metadata": {
    "id": "bsab2ocXWdvz"
   },
   "outputs": [],
   "source": []
  },
  {
   "cell_type": "markdown",
   "metadata": {
    "id": "0vKWTWSpWwcb"
   },
   "source": [
    "CREATING A TENSOR NOW"
   ]
  },
  {
   "cell_type": "code",
   "execution_count": null,
   "metadata": {
    "id": "-BHbEUTiWtl3"
   },
   "outputs": [],
   "source": [
    "## Tensor"
   ]
  },
  {
   "cell_type": "code",
   "execution_count": null,
   "metadata": {
    "colab": {
     "base_uri": "https://localhost:8080/"
    },
    "id": "aDDPn4s_WtpN",
    "outputId": "d0430036-16f6-49d1-a9bf-44537849f608"
   },
   "outputs": [
    {
     "data": {
      "text/plain": [
       "tensor([[[1, 2, 3],\n",
       "         [4, 5, 6],\n",
       "         [7, 8, 9]]])"
      ]
     },
     "execution_count": 17,
     "metadata": {},
     "output_type": "execute_result"
    }
   ],
   "source": [
    "TENSOR = torch.tensor([[[1,2,3],\n",
    "                        [4,5,6],\n",
    "                        [7,8,9]]])\n",
    "TENSOR"
   ]
  },
  {
   "cell_type": "code",
   "execution_count": null,
   "metadata": {
    "colab": {
     "base_uri": "https://localhost:8080/"
    },
    "id": "FA4POYgUW0f8",
    "outputId": "7ec14c29-6221-4756-caa4-47753fcd7565"
   },
   "outputs": [
    {
     "data": {
      "text/plain": [
       "3"
      ]
     },
     "execution_count": 18,
     "metadata": {},
     "output_type": "execute_result"
    }
   ],
   "source": [
    "TENSOR.ndim"
   ]
  },
  {
   "cell_type": "code",
   "execution_count": null,
   "metadata": {
    "colab": {
     "base_uri": "https://localhost:8080/"
    },
    "id": "nbXe0zftXkMk",
    "outputId": "aaff11c0-0023-4731-d1ec-f8a19d60b20f"
   },
   "outputs": [
    {
     "data": {
      "text/plain": [
       "torch.Size([1, 3, 3])"
      ]
     },
     "execution_count": 19,
     "metadata": {},
     "output_type": "execute_result"
    }
   ],
   "source": [
    "TENSOR.shape"
   ]
  },
  {
   "cell_type": "markdown",
   "metadata": {
    "id": "n2fZUIs2X_Jx"
   },
   "source": [
    "![image.png](data:image/png;base64,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)"
   ]
  },
  {
   "cell_type": "code",
   "execution_count": null,
   "metadata": {
    "colab": {
     "base_uri": "https://localhost:8080/"
    },
    "id": "9XlsM4HpZfj8",
    "outputId": "0b80d3af-68fb-455b-9ca6-da4e2c7f1490"
   },
   "outputs": [
    {
     "data": {
      "text/plain": [
       "tensor([[[[2, 3, 4, 5, 6],\n",
       "          [1, 2, 3, 4, 5],\n",
       "          [4, 4, 4, 4, 4],\n",
       "          [2, 2, 2, 2, 2]]]])"
      ]
     },
     "execution_count": 20,
     "metadata": {},
     "output_type": "execute_result"
    }
   ],
   "source": [
    "TENSOR = torch.tensor([[[[2,3,4,5,6],\n",
    "                         [1,2,3,4,5],\n",
    "                         [4,4,4,4,4],\n",
    "                         [2,2,2,2,2]]]])\n",
    "TENSOR"
   ]
  },
  {
   "cell_type": "code",
   "execution_count": null,
   "metadata": {
    "colab": {
     "base_uri": "https://localhost:8080/"
    },
    "id": "p7h0gCEmZgPz",
    "outputId": "d5e2edd2-3df1-417e-f2d6-014dff60c487"
   },
   "outputs": [
    {
     "data": {
      "text/plain": [
       "4"
      ]
     },
     "execution_count": 21,
     "metadata": {},
     "output_type": "execute_result"
    }
   ],
   "source": [
    "TENSOR.ndim"
   ]
  },
  {
   "cell_type": "code",
   "execution_count": null,
   "metadata": {
    "colab": {
     "base_uri": "https://localhost:8080/"
    },
    "id": "_3q_75ZgZgde",
    "outputId": "41acbbc4-857d-4f0a-814d-49296a11a9c1"
   },
   "outputs": [
    {
     "data": {
      "text/plain": [
       "torch.Size([1, 1, 4, 5])"
      ]
     },
     "execution_count": 22,
     "metadata": {},
     "output_type": "execute_result"
    }
   ],
   "source": [
    "TENSOR.shape"
   ]
  },
  {
   "cell_type": "code",
   "execution_count": null,
   "metadata": {
    "colab": {
     "base_uri": "https://localhost:8080/"
    },
    "id": "Z_eHKf34Xo8Z",
    "outputId": "a205064a-ad0c-4cd0-cbbf-4034365f73df"
   },
   "outputs": [
    {
     "data": {
      "text/plain": [
       "tensor([[[2, 3, 4, 5, 6],\n",
       "         [1, 2, 3, 4, 5],\n",
       "         [4, 4, 4, 4, 4],\n",
       "         [2, 2, 2, 2, 2]]])"
      ]
     },
     "execution_count": 23,
     "metadata": {},
     "output_type": "execute_result"
    }
   ],
   "source": [
    "TENSOR[0]"
   ]
  },
  {
   "cell_type": "markdown",
   "metadata": {
    "id": "ncPkiYgtU8ux"
   },
   "source": [
    "![image.png](data:image/png;base64,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)"
   ]
  },
  {
   "cell_type": "markdown",
   "metadata": {
    "id": "s8vu9ETObL37"
   },
   "source": [
    "![image.png](data:image/png;base64,iVBORw0KGgoAAAANSUhEUgAAA0EAAAHuCAYAAABZKAfLAAAAAXNSR0IArs4c6QAAAARnQU1BAACxjwv8YQUAAAAJcEhZcwAAEnQAABJ0Ad5mH3gAAKBXSURBVHhe7d0HmBRF2sDxAgMKKEkxgzkgmHPOnAEzZxZzDueZMZ85n+nMigrmeBgw55xzQl0DIkFACQoqfPcvp/Zrhtnd2WUXd+n/73nm2d2emZ6eDtX1Vr1V22zS/wRJkiRJyonmhZ+SJEmSlAsGQZIkSZJyxSBIkiRJUq4YBEmSJEnKFYMgSZIkSbliECRJkiQpV5qNHz9+0ogRI8L/fhYWSZIkSdL0q9ngwYMntWjRIrRp0yY0b27HkCRJkqTpW3N6gNq2bWsAJEmSJCkXYuTTrFmz+IckSZIkTe/s/pEkSZKUKwZBkiRJknLFIEiSJElSrhgESZIkScoVgyBJkiRJuWIQJEmSJClXDIIkSZIk5YpBkCRJkqRcMQiSJEmSlCsGQZIkSZJyxSBIkiRJUq4YBEmSJEnKFYMgSZIkSbliECRJkiQpVwyCJEmSJOWKQZAkSZKkXDEIkiRJkpQrBkHKlXHjxoWPPvoo/Prrr4UltTNhwoTw8ccfhzFjxhSWSFLj8sMPP4Qvv/wyTJw4sbCkcWtq2ytp+tBgQdBll10WFl544bDffvuFH3/8sbD0T+k5fmr68MEHH4TVVlst7LbbbmHEiBFx2R9//BHOP//8eKyfeOKJuAyvvfZaXLbnnnvGm9+JJ54Y/37zzTcLr2gYv/32Wzzntthii3DjjTcWltbO7bffHjbffPNw3nnnhfHjxxeWTmnUqFHhwgsvDGuvvXb8brvuumt48cUXvckr16jocv1wTTzwwAOFpX9Kz/Hg94ZEWcM27LHHHmHkyJGFpX89GmgOOeSQ0K1bt7D33nuHn376qfBM1Yr32/fffx+OOOKIsNVWW4V333238KrGq6ltr0rjeuaa4n5e10ZGaVpr8J4gKr+PP/54mDRpUmGJpkdzzjlnLAAHDRoUhg4dGpfRW/LJJ5/E3z/88MPKc+C7776LPxdZZJHQqlWr+PvUotBNwVRx5SqZccYZwzzzzBM6duwYOnfuXFhaO/PNN1/l+1lfqc9l2QUXXBCuuOKK+Pdyyy0XXnrppXDAAQeEV155JS6T8u7OO++MjSD6E+Xm2WefHR5++OEw11xzxXKmLihT55577rDkkkuG9u3bF5Y2Xk1teyVNP6ZJOtwtt9wSvvrqq8Jfmh7NPvvsMTCoqKgIw4cPj8v4SSsfvvnmm5iKRiD07bffxmUEDjPNNFP8fVpo1qxZ2H333WMgstlmmxWW1s6GG24Y308r7QwzzFBYOjn2AUEPwQ/n/j333BNOOOGEMHbs2Abv7ZKaipdffjncd999scdYfzYa0Yu+xBJLhKuvvjoGRG3atCk8Wz7ec/HFF4e77rqrzo0901JT215J049pEgQxhuLee++t8mZHxZh0qpQGQAoRqUSkFCHb2v7oo4+Gs846K6ywwgph0003DY899lgYOHBg5Xt32GGH8Pbbb8f3gc/kPaQj8f5tt9029O/f3xtvPZt11llDp06d4u8EPBg8eHD49NNP4+8s43gSCKXnF1100fgzIWjq3bt35XGkkpR6j0gjI50sHceNNtoo9OnTJ54bpLPQy3LrrbfG15JaUVWXfHEqZjo/+Ly0XlLl2M5Ssl3+tGKX+lx6iwh8WA/7hOCL/SNpcgRBn3/+eeGvyaU0r2zKWnHqV/Y1zzzzTNhnn33i9XnggQfG57i2KfMpUyhbUqpu8ssvv8QeKe45PC655JLJrn3KkH79+sV1sF7Kn2y5lMoTXnPmmWeGLbfcMn5uKdlUt3SPS9tDuULZw72SMnPjjTeusgyjHKWnmXsg5dZzzz03WZot+4r9wXbR6DI190+wPcccc0x8T/G9OaUV8jz7kXWW2tes46ijjorPsR6eTxkBxdubVLe/st+Jfcfn87r0ndLxSceP5bw23f8Z26m/RnXHlePP8nTuk8J+xhlnVF7vILuIY0mqPffvmup46RzlnCPQ5jOryhahzsLrOEeLz1OUc71nz810Phefr9m/b7jhhlhe8Ts/2T/F76nqNUl112i2jGQ/cS2k+o+mQRBEnu/qq68eD/w777xTWDq5t956Kx5YWs85geedd95AKtG///3veCJknXLKKfHEotucA3/yySfHiignLykEr7/+erjoootiagEF4UMPPRQLX06alVdeObbSc2KTcqD6tdhii8WfXHQUXp999llYcMEFw0477RTT4ggaaO3kWHXt2jUeryzOAY5p9jiSXgeOI8eZddCbQw/Sv/71r3DzzTfHtLQNNtggrLjiivG1W2+9dVh11VWr7KnJ4jzg/GB8z+GHHx7mn3/+cPrpp8dzr6Yb5cwzz1zyc2eZZZbQrl272MLZvHnzuB/uvvvuGBytscYa8bVSntHbscsuu8QKOOPsisv52uKecNJJJ4XRo0eHtm3bxps941HpTaGs4MHn3HTTTZM1gFHO9O3bNyywwAKxp5YgiL9T5YqGFtY7bNiweJ0zZoXKBvesLCoV119//WTrzmL79t9//1jeLL744qFFixbxHnf88cfHxh8aS3ieFDge/F6qDKNM+s9//hMfpJHx/KWXXhrLzXLU5v4Jjg/bSPm10EILVW538b2Z59kHlHvF+5p7Lut46qmnwo477hi6d+8eK6k0GmUrmFk17a8s1vPFF1/Eew3fiQCR7eazuT9w/PhulO8Ei/ykEpsCJU07NR3XlBb59ddfx8YIrmeOKY0DKdhIjSa8n/truXU8hmVQZ0h1imK87+CDD47nLvdqHvx+2GGHxfMpq6brvTYI8rjeCHAot7hGi6+L6l5T7jXKvieoKresyIsGD4I4aH//+9/jiXfbbbdNMasWJxGFI89zIp922mnxgNNLQIGc0qmSgw46KEbzPNZdd914YtD6xwnAzYuLgIuE5dy4eB03C06KO+64I1x33XXx7wEDBsQLTPWHAIIbETdUWnY4DqQ3rL/++vF5Lj5a/QhkqHQU539z8+U40ovCjZKLluNP5YRWXn6eeuqp8cGNjeNI4Pz777/Hc4yKFTgvevToUWOqHYEP5xjrPfbYY+PNkfOPlhIK5GxLZiktW7as8XMpoI477ri4L44++ujYUiPlHZUXrhV6P7jeuQ6nBmMSCQwo46+99tpYNvAZV111VVxG2QKux2xPT0pZpTeXewQBCGUN1z+VLjIYllpqqdirS0/HueeeG+9VjzzySGzoSWi4o2LNeopTuqiI0OPF+7i3cU/673//GwMCKmbc/5ZffvnQs2fP0KFDh/jg91JlGNtESzj3R74nn8c9rdzxQ7W5f3JvJlih8fKf//xn/P68b5NNNon3z2zFkPdRYWR7ivc1WR6sg5Z6KmtU4Hr16hXLTyq7xcrZX1ncD3gNn02jK5/LeqlrvPrqq3FfkY5M+c5raSknJbuq3n41jHKOK3UCjhev4Rzk/p+CHhpSWQf1C853xhTXpo7He2nAYGIm6hdZBMQPPvhgPE9pjKVMuv/+++N5zzKug2zAU931Xlvp/OXz6ASg3kPvblZVr6nNNUo9h31NnYl0fv1pmqTDMY6CA0cE+/TTTxeW/omWLCqHFO4777xzXDbHHHPEk6yU1LpOehGROuiBIOWICJjlXDxUcCnoSKFaeumlQ5cuXeJriZRpaSDq5wJS/aFg4piw3xkDxo2Igor9TRc3x5gH+55giZtgFoFROo5UBECBR4FG9y7vXWutteJyWoxS+l1d0ZOTCjBy8Dk/2abLL7883sj5jKlBJYmKAQUUvUtUavh+kv4s55lNElQmimcRrQ3KfcoJ0BtB2cA9JPU2zzbbbPEnFQEaTRLGMqZxN5RTPChnuDfQskwlgh6gVDbxPEERy7MNejT0kPHAuop7b/heNADRWELvDvcvyhl+B0FCdTNNZtH6S/nJNqWyi56vVF7WpDb3z59//jn2fLFf11xzzfi92LfcT3kNvS8J70vlefG+Zt9xb6Blnp61NBscPUWst1ht91f6TgSM6Rzgs9km9hHHijL9+eefj/d/PpcesPRaTRvlHFeWcT5yjtMQ8d5778XjyjVHbxANqNQt+DvVNcqt43HNMDMs5Q7ZGllcy6wfNA5QN+B855oG21bu9V5b6fxt3bp1ZaYIZVC2kaWq17BPy71G2WfbbLNNrNeka1XTKAjiwNFizoGiUsjBy6JFhqiatCl6jjhZiyPhuqACDQIvWtqy6yYX3Lzg+sXxpQCikKICwXGmYKLQYd+znMIEBEe1KTzolaFVl0CCdaX8+anBjX+77baL6SC0rNACRIG87777TpFzWxep1YrUP84/AyBpcvQg0HpPAwStwo1hCvkUBKQsBHpIqEBkyx3uHeXeP1gX9zgqMdkygJ5z8J3LTc2icg/KzoYuTwiCKHf5TMpJvj8PJjFA2paaUP7REwN6ANiHKSWuVDpRfe0vKrKU5WmMCL1PlMNknKS6gaadco8raW5gbBr34VVWWSXWDbnu3n///RgcUX+gXllfdTyC9ey1lRBQcO1znk6Lsil9NnWHUtcGsq9h3E99XKN5Nk2CIJB2wCAyBpVmB6VxoGmFJ72J1iJyeOnm5/VTi+mQwbpoeaIrND0IyopbAzR1aEmkh4cL75prrok/CYrYz1yYdEPTVctxTgVdOSg4zznnnPi/eQhSqJRwkfNZU4tWVM6HF154IbYQEmTRLU/Obzn/o6M6tIjSRU/lbmq7zKXpEWUDg/Fp1aUhrDHkq1M+UZalbATSp7L3Dh5U5KnMlYN10fJaXHlPOf3FlcLqpN4L7pvlBk51RS8Z6Un0MpEyV7wP0v21JlTaKFdJIaQs/Mc//hErbgwsT41iWfW5v9hGBtCTFnfllVeGddZZJ6Y4UsewEXTaKve4UmcgkCGd69lnn42/0/tBzx7pYJQRNK7SQ1RfdTzGFWevrYT0fYIvzuFyr/epkT6bnp/iVNgk+xquz/q4RvNsmgVBtMqQj0hUnZW63MFAWdKd6Mqr6gSoDbr9uIDoEl1ppZXigDxa/ZkemW7R+qhEa3IpuKE1lRS4VJFgOUER3bcEROTwl4sucP7PEN3otAhRIBbPLJeVLcSqk2YlYuYUtovKDsE462cGO5bVRvHnUtCTEkgu87RoRZKaIio0KRW6FHpkhgwZEn/nZ22vy+pwb0jr4zrlkconWpsJiBhXwAQo3Du4h5AKwyQo5ZZhVFAou6i8URmnLKBhh99BTwkVxHLQmELZR5oQ4yZQ3/skoaWdz2LdtIjvtddecR+QwkgZud566xVeWT0alNinpMPxXZkZjPFB3CNIWSpWX/uLTATKdrabSi69T/RI8Z14zlbyaavc40rDJOmsBB+khC2zzDIxrZUUN3p8so2o9VXH41xPdVMCLwJk7uc02oNt4zW1xXgm6gGUIVX1PtLYyr4g3Y7xOuA6z/ZIVfUaAqH6uEbzbJoFQSDC33777Qt//YnoO53QzOhBlzUFJANlpzZljQo4JwNdhgRYfDZdhpwYjDGxEKx/tDxQ0IEbHxcpyAunIAEXL62M5aLw5Nyh8KQVkWPKhc4NlPODB4VnGsNDLxHjzGrqyaGwJf+XwpZBhdysGYBIIUOaTlXj0rKq+1wqb6ReMMjZ/4QulZZ6CqjMZHFd0SDGmA7SmriOmPGNynN94drfc889YxDGzFCsm/sDKbxUimgkYUwf9w16rMhmYOIUZobKji2qDq3R5OLT28XsTHwP1kNqOFNhE2CVi7KT7WO7aelmm9J21zcaImm4pJWd3hQqltxHaSyiHKY8Lgfby3dn0hl6f5ixj9581rvssssWXvX/6mt/kWbFOAkqtfQSUL7z+ZxPVBBrcw9S+djfXK/U5dKDMbb08pRzXKkTpkZOrkFezzLKAmQbUeurjse2ETRxTtJjyDpo6GC7WUb5lA1KqsP5S+AGzjeuU1Iyi8fDJ9Q52Bd8Hr2Uqecrq6rX1Nc1mmfTNAjiROOkJ5UgoYeIGWt40EVOYU40y8FMg+PqKp3YjCWhsstUxWn9dBWm7k/Vn+ykFhRWqTuaLlsCIdDKQ9d2uQikaMGjgEuBDxc4gQq9RPTopAKWlj9aSAmga8J7KDCYFpeuboIYWoI5N1h/OV3p1X0uLUfciGnB4vtLKo3rhMavLFJnuC/Qgs+1xTVKpaTUYPq64tqld5kB1twPmEGM7aDCw4N7BeUDDTipYY7ygUoevQvlotJC2jf3Ne5DjI8geCEgoMwsV/Z+CTIpjjzyyCkqTfWFyihTcLOP2GZ6oBijwXanxq6asO+oWLKNVHiZeYs6AOuoqqW+PvYX+4pynN59Uq4o39lfTFLDv1kot1Kr2uFaZbICJqJID+p29IiUe1zJIgG9xClYJWBOARINmKjPOh7nIunrBBV8Bx78zvmfgrJysU2UJQQp1FFotGXMcSk8R+8WvZOUdTQWpHFSSXWvqY9rNM+a/a9SOYnWJUmSJEkNh0kNmCSEWTEJzpkcplg5r9HUm6Y9QZIkSZL0VzMIkiRJkpQrpsNJkiRJyhV7giRJkiTlikGQJEmSpFwxCJIkSZKUKwZBkiRJknLFIEiSJElSrhgESZIkScoVgyBJkiRJuWIQJEmSJClXDIIkSZIk5YpBkCRJkqbapEmTwqOPPhoeeOCBwhJNb0aPHh3OP//8MGjQoMKSpssgSJIkSVPttddeC+eee274/fffwx9//FFY+tcbOXJk2GOPPcLCCy8c3nzzzbjssssui3/zs7ZuvfXWsO2224Zvv/22sKTpImBlP5x44onh119/LSytGsd26NCh4V//+lcYPnx4YWnTZBAkSZKkqfLdd9+FCy64IGy22WZh6623DjPMMEPhmenL2LFjYyC1wgorhLnnnruwND/atWsXDj744DBs2LDQp0+fRhXs1pZBkCRJkuqMNLjHH388/PTTT2GrrbaabgMgfP/99+H9998PK6+8cphpppkKS/Olc+fOYfPNN4+9SB999FFhadNjECRJkqQ6GzNmTHjjjTdCt27dwrzzzhuXkVpFilU2BS27LI0bYlm/fv3CpptuGpeTZta/f/8wYcKEstcxceLE8OKLL4Zdd901Lt9oo41iLwWvLce7774bVltttdCzZ8/KsS5DhgwJO++8c/xOL730UlyGt99+O7Ru3Tp06dKlsCSEwYMHhzPOOCOsvfbasYeod+/ecRkIDlnHgQceGINEek7oMWM7L7/88vh3TdvPd2c563344YfDDjvsENfJ3z/88ENMz+M9fPYll1wSxo0bF9+XTfk75phj4nt478svvxwD16qkY8Kx4P1sV/Y9zZo1C6uuumr47bffYgpkdetqzAyCJEmSVGcEDh9//HFYdNFFQ6tWrQpLa0YAcPPNN4eTTjopzDXXXOHwww+PAQE/qYSXW7l+6KGHwgEHHBADgt133z320DBmhXWXk65FRX/FFVeMwcZXX30Vl5HeR4/PSiutFJZaaqm4jOCCYI8AaM4554zLGBdz6qmnhhtuuCG0bds2zDfffOH222+Pnz9ixIiw+uqrh+7du8cJI1555ZXYc0LwxueltMFyt5+A6rzzzov7CHzOvvvuG6688sqYpkZQQhD04IMPxueTiy++OB6fBRdcMLz++usxIPrggw8Kz06OzyMA45iQ8sZ2EiTynrfeeqvwqhCD3cUWWyx+nxR0NTUGQZIkSaozAoGKiorKXqBy0YP06quvxuDphBNOiMEPAQU9Kkw6UE7lmjE6zzzzTPzJe3lQgScYowfn559/LryyarPNNlus7IMeDwIBKv6sk+UENyBI+fDDD2Mq3CyzzBKXPfXUUzE42XHHHcMdd9wR7rrrrhjIEPQQNNBrRI8K20NQQ68MQeN2220XA6babD/BGsEhn0HPE2afffb495133hmOO+64uOyzzz6LAVFCoHTPPfeE+++/Pxx00EHx8wcMGFAyQPzyyy/DvffeGwO/G2+8Ma6XyS54zyOPPFK53llnnTXMP//84ZtvvgmjRo2Ky5oagyBJkiTV2Y8//hh/dujQIf4sFxVpxpcMHDgwpoY9//zzYaGFFgo33XRTOPnkk8vqVeI1F154Yay8r7XWWnEZExZ06tQp/l6uNdZYI/aU0LNBLxC9QqybnhzSv0DPEEgrA2lj7733Xvyd97ds2TIGR8svv3xcRu8LSFNjrBQB1hNPPBFT1zbeeOO43tpsP/uLzwABCNhfBGmsi4ALbFc2wGH5zDPPHHud1llnnbiMoLVUkMn353gQ/C2wwAJxvUsuuWQMilhO4AqWsz7WMX78+LisqTEIkiRJ0lSjkl4bVMzppUjjgHr16hUDiKOOOqpyTE05SDu76qqrQo8ePWJvCUFGCkDKRYWfz+Z9L7zwQvxJUEIvFQgsSCXjNanHi8p/2s7DDjssfjaPI444Ii5LwQiB0frrrx+XgfW2b9++8Ff9bH+50qQV9Dwx3XUxJn5A3759Y+CT3R7GafHIoqeK79kUGQRJkiRpqv3yyy+F38o3zzzzxH++SVocY1voqSAd69prr52iwl0KPRHnnHNOHCvDYH0q74yBoVenNuiRofeD/4FDyho9JYwHIt0MjI+hl2SZZZapTIVr0aJF3H4wiQLjZrIPelAYv8OECPfdd198HQj40gQM9bX95Uo9RPTaEYQWSwEeKYnF34dgqHnzyUMH9k/aH02NQZAkSZLqLKXBpbS4Yp9//nmc5GD06NGT9fCQAsZUy3vttVeYccYZ4wQCjA2i94XnsulaVa0jjdNZYoklwk477RTT0lLvTW0x1of3Egh17NgxBkEpFY4AiFSwlOoGKv/0lIDX7bbbbnGCA74PAQ3/M4lJDphB7dlnn40pcIwdItWOQIiApD63vypsNwEln/fcc8/FZaTTlQpeFllkkfjd2c8bbLBB/D77779/7MliIoc0IQTHgvWRnkcw2BQZBEmSJKnO5phjjthzkVKpQAWbXhOceeaZ4e9//3tMe3v66afjMlARX3PNNWOAQAoZPTC8lrEnBANUuGtaBwEY42I+/fTT8I9//KMyEKEnp1T6VnWYqGC55ZaLv9MrlAIc1kFPFWOBiid/2HLLLWNww4QFf/vb3+J00htuuGGcHIG0OgJDJi4Az+25554xyKFniMCuPre/KvSqMREDQcx//vOf+D3p1Sn1/5xIgdtjjz3CO++8E9/DlNp8R6Ywv/766ytT6Oj1Y+wUAVPqLWtqDIIkSZJUZ1Sq08B5xpokW2yxRZzxjd4Qejyo3PP/chLSsaj4MxsaFWrSwBhjcvrpp8cggkp6Teto06ZN7D3afvvtKwMH1kmvDq8fOXJk4ZU1o1cjTXpAEMSscSAVjkkRWFY8WQMB4Nlnnx0OPfTQ2CPCjG5M9sD/AiLAY+Y4JkMgiEiB1TbbbBP3FWl/jKOqr+2vSvq/Qqyf9ZJ617Vr18Kzk2Of05PFVNu8hnFQBDykwzF+ix47EPASxDHpQ5qQoalp9r8dMomDJUmSJNUWqVH8b5nbbrstXHHFFfH/xzRFpI0xRTU9ONddd11loMB010wTTS8K43yaCnrWCCzpZSNIqy8cb/4vEsecfZICx6bGniBJkiTVGeNhSAmjV4Z/BJoG3zcl9NiQLkbvDKli2XE5jFXi/wE1pQCoIX399dfxH7wy7Tf/OLapMgiSJEnSVGF8D1NbP/zww/Gfcja1QIjprocMGRLT0g4++OAmO+NZQyM9j94+xmsxdqjUuKKmwnQ4SZIkTTXSpB577LH4f2PoJdD0h1nj+J9GTAnOWLCmzCBIkiRJUq6YDidJkiQpVwyCJEmSJOWKQZAkSZKkXDEIkiRJkpQrBkGSJEmScsUgSJIkSVKuGARJkiRJyhWDIEmSJEm5YhAkSZIkKVcMgiRJkiTlikGQJEmSpFwxCJIkSZKUKwZBkiRJknLFIEiSJElSrhgESZIkScoVgyBJkiRJuWIQJEmSJClXDIIkSZIk5UqzioqKSYXfJUmSJGm6F4Ogzp07F/6UJEmSpOmb6XCSJEmScsUgSJIkSVKuGARJkiRJyhWDIEmSJEm5YhAkSZIkKVcMgiRJkiTlikGQJEmSpFwxCJIkSZKUKwZBkiRJknLFIEiSJElSrhgESZIkScoVgyBJkiRJuWIQJEmSJClXDIIkSZIk5YpBkCRJkqRcMQiSJEmSlCsGQZIkSZJyxSBIkiRJUq40q6iomNS5c+fCn5IkSVK+TZw4MUyYMCH+rI3mzZuHmWeeOf5U4+YRkiRJUu4R8PTv3z+8/PLLdQqAwHt++eWX0KdPn1BRUVFYqsaoSQdBDzzwQFh44YXDiSeeGH799dfCUk1PPv7443DnnXeGcePGFZZMvZEjR4Y99tgjnj9NUdr+N998s7BEajqoWNx6661ho402iuX3PvvsE95+++0wadKkwiskNTVffvll2HzzzZv8femhhx4KDz/8cFhsscXqFAAlzZo1C0sttVS46KKLwvDhwwtL1djYE6RG7YcffojByqhRowpLJDVl999/f7j77rvD6aefHl577bWw7rrrht69e4eBAwcWXiFJ0953330Xy6fDDz88zDHHHIWldbfKKquE5ZdfPvYI/fHHH4WlakwMgtSorb/++qFfv35h3nnnLSyR1FSNHj06PPvss6FXr15h9dVXjxWNnj17hhVXXDE8//zzhVdJ0rRFT/Sjjz4aunbtGnuB6gO9QfR409P90UcfFZaqMWmwIIj0NCqvm266aUx52HbbbWOeJakQCbmSxxxzTFhhhRXC2muvHS688MIwYsSIwrMh/s4ynuvWrVs45JBDajyRqnsP20TqHNtDd+cRRxwR04pIL1L9YF+zz9n3XPykvWSPebGxY8eGq6++uspjTC9QOkYpDez2228PN954Y3wPj6uuumqydMhsug3n1gUXXBBuuOGGatMmaaXh/OQ8TdvxxRdfFJ6d0mWXXRZbr5966qmwww47xPfQejRo0KD4fFUpd7yPB9JrOBdPOumkuK1cL2wHPV+XXHJJ5Xfk9+KUwCFDhkzxvmxrU03fiW3j+uvbt2/8jKaaHqimY9iwYbF3d5FFFiksCWGWWWaJZTLpNKY1S9O3wYMHx3tntt6XMj0oA7bbbrvwwQcfxL/xwgsvhJ133jne7xLu70ceeWSsPyC7zuJ6R7rP3nfffeHQQw+trE8UYxteeumlsOqqq4YZZpihsHTq0YC73HLLxV5vU34bnwYJgqh83XzzzbGCNtdcc8XKIbmV/CQw4kQgAPrnP/8Z0yIWWmih0KJFi3DFFVeEk08+Ofz0008xmDnhhBPismWXXTZssMEGsQWRimxVA81q855//etfVvrq2SeffBILprXWWivud9JdOL50L5fCeXLNNdfEwoGg5vHHH4/nwimnnBK7patC0MPMK6ybgo9zis8D5xZBxZVXXhm35bHHHguLLrpoXH9VeA95wGwL5+jTTz8dW4I4F6mwVYXt5bXnnXdeuOOOO8KYMWPC9ddfX23QVwrbttlmm8VtpbBnffvvv38sPCm4zzjjjLh9Dz74YOEdf+I8X2+99cIjjzwS9tprr3DxxRfHoAzlfieWv/fee+Hss88OK620UmGp1DC4Nrh2W7ZsWVjypw4dOhR+kzS94r5+2GGHhdlmmy020N10003hm2++ieNmaOSjvrjgggtWNtZxH3vnnXfC+++/X7ls/Pjxsa6x9NJLh1atWsXxNqeeemrlOrl/Uje499574/sTGkLpfeZ+yPuK0YBJI0xNsyWzzkE/DAn3PjQgPvg9+znFCKgYG/TWW2/FOoIalwYJgjjQr776aqx8EpRw0nGSEvV/++23MXqnQsfJTSDEwHdO2G222SZWZmkNoDeArkmWnXvuubGSRms373n33XcLnzS52ryHC4htoIW9TZs2haWaGrTebLjhhmHrrbcO7du3D6uttlrM96eSXaqF9+eff47HZcstt4znytxzzx0r8z169Ai///574VVT2m233WKwQIFJq0/37t3DZ599Fp+jNYfg9uCDDw5/+9vfYrrNVlttFQ444ID4fCm0It12222xp4Tt5T20Fs0+++zxPK4KQcNRRx0VC80uXbqEnXbaKZ67qXWqXGxrSg1i3y2zzDJx3fTgsIygcuONN47f8bfffiu8K8SbCfub/cBr2W9cP+zrcr8Tn8M1ymfMN998haVSw+Da4LqXlC8ECtTPuF/SI8P9hh5g7qHUHeiFITihbsa9jkZS7udMjkTvDEEE62AZAREN3aDRk6moDzrooLhOeoNoROSzUg8TuBdSb2CMDg0xxWgob9u2bbxHVoXPf2DA4+GfJ50eRv30cxj244hwyHEnx2XVmWeeeWLdN5vppMahQYKgWWedNZ7oDHS9/PLLY643LfxE/bREkyf51VdfxdcycIxImRPvwAMPDNdee23o2LFjrJRRoaSrlAuDlsMFFlggvqcqtXkPFW8qrgRAzuVeP7bffvtYoJHeAo5zdfuWY05BRi/KM888E8cLtGvXLuy+++6xNagqVOhZN2aaaabJgli6uX/88cewxBJLVL6Gn61bt46/l0LAQOVsySWXLCwJ8fUU0LRSVYXWa3owE7a9LmjBSvg+rId9mLrk+cnfBDfZdDf2Q8JrVl555djSxtSc5X6n4u8gSVJ94/5FnZB6V/Z+TOMngQvBDqgT0NNDYwm9MzPOOGPYc889w+effx4b2Emp5T45//zzx3USMNFwmK0HUP/kuWzaW/Z+WcrQoUPjvZd1V2X8hAlhwm+/hTN7Hx322vnvYf/ddw7/2G+v8MyLr4Sx434pvGpKrJftq65xV3+NBqn9E2Xvu+++leOAGARL9E0FmcoZKRFUVJEqeqA3gN4DonnS55inneidC4TKG+k+1anLe1R/OK4DBgwIu+66a9z3Ne1/jj2BL9NqXnrppbHwm9rpcilkCCpq07tHYUtLFJMwpO0mdYyUOgpcut+bAhof2F4K/unlO2n6QuNUdS2tkqZPKUOhOPW1uCGT4IaGS8YAkUVCgEM6Gfd2giKCHuqKZJuwjHvd+eefX3mf40F6Ofc/hlaUq5wMjllatAg9e2wWZp+tdXj1rXfCS6+/FSq+/S6MHPVTjWnw9AJle6bUODRYFwjdf5yYpN5Q8VpnnXViyhs9PUgXQrZlm5xQKnBcLK+88krYb7/9Yo/RaaedFge67bjjjoVXllaX96j+MPbnrrvuiuN0aLWhV66mIJQejl122SWeGwQ/pG4xlie1CtUWrUacP7X5v0JUygi+n3zyyfg/DrKPo48+umTXeWNEDxA3htSlPz18J01fOO+oLBRfn99//33sNU69t5KmL9zrqRcWBxs0yNEwlxAQ0TvEOCDqAUwqQE9KGldDKhwT/RA8cb/nXsf44+L73HPPPRdneitXOeMS43j3O+8Nx5x2dvh20PeFpeVhO0uNRdJfq0GCICq/tO4zvoOTlDEbjDsgeuc5WvlJjwOD4jmxuCkyAJypUon+OYm5WDbZZJOwxRZbxFSfmlr36/Ie1Q8CD44bBRbd3fTycJyrGwjIucAMfen/g3CsOG6dOnWKQVRdzDnnnLEApRUo9SbVtB2kX/IaJgygsE0PKmykitWlYsZ7KVSzBX46z+tL9h+wse7XX389pgGQBtoQ30maWun6zM4AyTVBwxUpsKZmStMngiDqgMUTBJCGxv2aIAe8jjoEkxvQG5R6hqhbMBkR9QzS3UF5QV3yww8/jL+n+xwBB3XP6lLbivEeGuGz426LDR8xIjz78qvh2EMPCNv32CyssfIKocviNU+nzXqpC5CtocalQYIgTto111wzDtKmksuUwGeeeWas7K6xxhqxssugdU5qZgX5+9//HqcZZupjujE5wRnLQNTMOCLSq3gNUymjuCUhqct7VD9SYcRsY7TAfP3113HfMz6rKlTUCZY4PwiIqNQzWQUFH4VgXZAKx7nFrGik5rEuClNmlKsKs7CRNkYQzjlLgUVwTlolY5XqgkAkFeQU+gQj9IIyHXV9IYWQnh6+Iz1ppJ7S4MBNpCG+kzS10vV5yy23xPOSa/6ee+6JYwCY6VBS00aAw/0m+6Chg0CG+xN1A+75pLZx3+dfWCy++OIxcyEhBY7X0SBKdgOoX7BugpU0iQ/rZHIgyg8muWKd6V7LrMC1ST+jEYbXVzdxSwyqJoUweMjQ2Mj444iR4e7+DxeerRppgIxPT99FjUeDjQn6xz/+EafIZqA2KVGcWHRZMuidii8tAgRADKanFZCTj1mymLqaIInprc8666w48xVdosyeRUAFTvRsGl1Sl/eoflAYkXpIOhu9fgShnAfHHXdcLMxK9YAwOJKCioKOcWNU2l988cV4DDk/6opAmrFFBGDMDsjnM7CyKpyPe++9d5xBjoKU3kjey/ehgK0L9gf/74Cgn23hH0ISKLJf6gvXCwEN35HpP4899tjY+ICG+E5SfeD65Ho/55xz4sQ4BEME6+TyS2rauNdyv8k++NcRoIGcxjsmQWI2U8oB7v/UE7KTJRDk0DNEYJR6c2g0Zdwwy7OvJXjh30WkdVK+kF7HOkkNLxefSQMi9YWqtPtf3XTXntuEi666Lmyw7c5hvyN7h4UX7BTrlmOryPLgOeqjjFPPbrcah2YVFRWTSKGRphdMkEEQwgMUQgTc5B4TKNSmi1ySJE3f6Nnp06dPbJDn30/QkFhV+vrE/7127NhxoVWrlqF5oZ5RChkhpPsxTpp/FcNYJjUuDTYxgvRXIACiIKOVmRYd0m1IFUs9JgZAkiQpi0ZT/h8f45NqGpNM4DNb61bVBkAgsOIfmDNUo64p/mpYBkGarjDDFFOzMziSdDDSbfjnqaTd0R0tSZJUjHQ9UsZvvPHG2CM0Nf9DkvcyDpd/Ass/KqdnSY2P6XCSJEnKPXpvHnvssdiQutJKK8Up/ckwqQ0CIIKefv36xQlfqvvn7/prGQRJkiRJyhXT4SRJkiTlikGQJEmSpFwxCJIkSZKUKwZBkiRJknLFIEiSJElSrhgESZIkScoVgyBJkiRJuWIQJEmSJClXDIIkSZIk5YpBkCRJkqRcMQiSJEmSlCsGQZIkSZJyxSBIkiRJUq4YBEmSJEnKFYMgSZIkSbliECRJkiQpVwyCJEmSJOVKs4qKikmF3yVJkiRpuheDoM6dOxf+lCRJkqTpm+lwkiRJknLFIEiSJElSrhgESZIkScoVgyBJkiRJuWIQJEmSJClXDIIkSZIk5YpBkCRJkqRcMQiSJEmSlCsGQZIkSZJyxSBIkiRJUq4YBEmSJEnKFYMgSZIkSbliECRJkiQpVwyCJEmSJOWKQZAkSZKkXDEIkiRJkpQrBkGSJEmScsUgSJIkSVKuNKuoqJjUuXPnwp+SJElSvk2cODFMmDAh/qyN5s2bh5lnnjn+VOPmEZKUW9zc+vfvH15++eXCEklSXmXvCXUJgMB7fvnll9CnT59QUVFRWKrGyCBIufXmm2+GPfbYI4wcObKwpPEYNGhQ6Nu3bxgxYkRhyZQeeOCBetn+L7/8MvTq1Sv+xMcffxzuvPPOMG7cuPj3tFTO965PDz30UHj44YfDYostVliiaYXz9rrrrov7X1LTxv1j8803j/fVpix7T6hLAJQ0a9YsLLXUUuGiiy4Kw4cPLyxVY9OkgyAutoUXXrjRVmSluvrpp5/CbbfdFn744Yf4N+c35/m0uMHwmQRYo0aNKixpGKW+U/H3bkjfffdduP/++8Phhx8e5phjjsJSNbShQ4eGyy+/PGy44YbhrLPOCr/99lvhGUn669T3PWGVVVYJyy+/fOwR+uOPPwpL1ZjYEyQ1Ql26dIktUvyc1tZff/3Qr1+/MO+88xaWTDvT6ntPmjQpPProo6Fr1672Ak1Dv/76a7jssstiisgll1wS1lhjjcIzkvTXaYh7Ar1BG220UXj77bfDRx99VFiqxqRBgqAXXngh9tAcfPDBYfTo0XFZ6irlkdJuPv3003DMMceEFVZYIay99trhwgsvnKz1mXzMu+66K2y77bZxfbvuumt48cUXYxclLdU9e/aMr3vuuefCiiuuWNmiPHjw4NC7d++4Xh78ToSfcBNmfVT0zjzzzLDllltWbpOmDhf6IYccErp16xYv/ltvvTUex1JST8Dtt98ebrzxxngO8LjqqqtiZQmluth57sQTT4znAHhut912C48//ng8Rzi2Bx54YNyWL774onJ7OI8ee+yxWNgltM688cYbU7wvi3OSczNtH5W3sWPHxufSttxwww3htNNOK3ku8T333HPP8MQTTxSWhPDJJ5/E7eFnwnWz8847hyFDhsTvlK4VvifnN+c553xxzyfby3az/XzOBx98UHimtOzr+Vn8+uI0O/7mOiVNje+f9nt1+wXsW24qO+ywQ/ws9jF51uz/qr5T9nsn2c9J1zPXeJK2l7Kh3P3AOl966aWw6qqrhhlmmKGw9M9tJh+cY8M5w7nDOVSd7DnGd33wwQfj+Zg9Z/WnmWaaKRx33HHhggsuiJWNGWecsfCMpDzI1s8o07P1Psr97bbbbrKyO3tfTKhXHHnkkZX3m+w6i+sdqZ5x3333hUMPPXSK+2dS1T1hatGYuNxyy4XXXnttsrqHGocGCYKIoldbbbU4toAcf3By8zddg5wUAwcODMcff3y4++67w0ILLRRatGgRrrjiivDvf/87ViypjNCFeOyxx4Zhw4bFCtO7774bDjjggPDkk0+GTp06hd133z2ue9FFF43dlx06dIgtjARfVKznm2+++OD3ww47LH5mFsHQ9ddfbzdlPaFCT8G01lprhWeffTacfvrp8fjSvVwdgh5mUuG1FGQEp7y/NqgAP/PMMzGoffrpp8Pss88ejjjiiHD++efH84Rl3bt3j5Wv7HnA+6i0EsjwGs6XU045pTJoZlwMOb3ffPNNuOmmm2Kw9t5774Urr7xysvPm5ptvDnPNNVc4+eST488stoWeDfZPKgRpAHjnnXfiupL3338/vq59+/aFJX9iu9k2Ws35fIKNNm3axOeoaJM+RuHOazp27BivI9LKSuH64LtyzVDgcz3dc889NeYss2629eyzzw4rrbRSjfuF70mPDmlPBx10UAw0t99++3DGGWeEt956q9rvlMX3YHvT5xCgzDbbbOHUU0+dbJtrux8olyhnsjNjpm2+5pprYnnCeijLOKZVpedRNpHS1apVq3gesX8IxjmvNCUqF+wrSfnDfZW6GGU4ZTllOmU79xLuKdw7F1xwwcqGJ8pk7pPcG9Oy8ePHx3vp0ksvHcsS7gPcD9I6zzvvvFiXuPfeeycLOmioXH311WPZXqoMKnVPKPbl19+ETwZ+Mdl6+Z1ln3/5VWHJ5CjzGBvEfW/MmDGFpWosGiQIohJHZY4KFyc9J8mHH34Yn1tmmWViayAnKyf3P//5zzgImx6fTTbZJAwYMCBWUr/++uvYwsvJQyWJ1xC04Pnnn4/r79GjR/yboIqKLicvFRHWS4swlTsq4HwGy/jMbMWV91HhptXAacKnHq035PlvvfXW8RwgEF533XVj5ZjCpSq0mtPSQwFIKw4V5M8++6zwbHlWXnnlWAHmOPJgnVSA6X0gL5f8XraLn5xbCS00Rx11VFhyySXj+/bbb78wyyyzVLbiv/rqqzF45zX0MBA8UIjTo5FdD5+3//77xwChuIClECT4/+qrr2JBz754/fXXwxZbbFG5b2jR4rynN4HrI4vtIZCi1bx169YxWEhTb1JJp6GA6yF9b8Zc/Pjjj/H5Yk899VT8Hmzr3HPPHZZddtnYy8P6q8P3OuGEE2KAS6BY036hVY2WN3pIOAc4H7baaquw6aabhkceeSTuk6q+U9Yrr7wSW+1oMOFz+GyCKl773//+t/Cq2u8Hyqa2bdtO9r1pTSSQStvMuUKrIa/h+5ZCIMnxI+Dmc9lGtpXzUZL0J+qBZAZQTnKvpiynvOQeQt2BspR7J8EN93/qatxHuM/QO0MQwTpYRkDEvQtMYsD9gPsC66Q3iPsbn5V6mEC5Tj2DezGNrsVK3ROK/Tx6TPjXBZeGb7///0yEocN/DGddfEX4YWjVDYnzzDNP+Pbbb6fZhD8qX4MEQVTiqACDXEhORE5qKkqcgD///HPs1eGEX3PNNWOFqF27dvHkp+LCCf7999/Hk5+giROb3EoqFgRE22yzTfy7GFE27wGVGE501k30Dy60bCTO2AeeowLG6zR1aOmnQKPSDo5ROfPkU9lMx5Nzp1SPQE1mnXXW2JuYtGzZMvYMsjzhfOCRTdmiwKMSnvAezjlap8A5QyBOz0JC8MBnZbvUs9+hFAp7Wqzo0qdiznspkPnJ31wj/FxiiSUK7yhP8fbzvbN/Z1FZp0d2kUUWmew17KNSN4Us9kt2/9a0X/ieBHxc8wn7hxsRPTvFgV4psYXtk0/i5/D5CecHZQHfJQXXtdkPoJyhzMluB0EQ5wYBccI6OHbpfCjGcvYn60rYB9nzTpLyjrKahj4aqrJlM/cNApdUdyO4odynnkjvDA1lpDd//vnnsf5G7zvl9vzzzx/XSd2Se3a23kCgxXPF9+jqlLonFFt8kYXC3B3nDC++9kZhSQjvfPBR6NC+XVi+W9XjWFkv2/f7778XlqixaJAgCFRcSGHjZCb1hxOcVm56Xzi5iYipcJD/SSWDx8UXXxzfy/LUgktwkiqXBE20SFcVyXOCpQpuNqjhBGR7aFmYmikPVT1ycOnJS+Nrsse0qeC8IYijEk+By/nEWBjOn/SdCJzpociOS6kJvVwUwgT39AjxN+vk3ORvCnvObwL+hsY1ODXSdVbdfuF59l91gWFNSHvghsfNo/jGlA2K6iKVE1mUSwR3NI6k70QPEyl+bAfbk0V5wrI555xzsgBRkjQ5ghLuDcVlN2V7NoAhuOG+wT2YTAkCHO4z3He4T6YGdbILWEa5Tdp7KrN5bLbZZrEsryodupRS94RiLWedNWyzWffw3EuvhVH/+1zqPC+99mbYeN21QuuiDJBi1HmzPVNqHBosCKJiQNBDBY8ceboaCYqo6NFqywnMxbDPPvvEdJzsg67DdKGk8QXpd05qHqWCGVoMWD94bUJrAEEYFdxyeiZUN6QektbIuB5abWipb2pBEOcNhTXnL+cSD8bNkB5X/CB1r1z0TDD2jUKd1Exau1KPBqlxNBRQ0FfXe1FfqkoRK1e6zqrbLzzPd0nXbl0QWHAcOB7Z6xkEk1OjVBBFuUQPNmMOi7/T0UcfPUXDC+UJ20h55DTPklQ1Ghep2xUHG6mxK+G+SO8Q44Cot5GynhqySYkjUyiljXMvotxm/HFxmc2kO0y+Uq5yG9a6dfkzW+P9jz4NX33zXRg8dFhYcdlucVl12M5UP1Xj0WARARUGKnoEP6SwkTZDRA8qR0TyVMY4uffaa69YoSKPn4HS6623Xmyt5qSn0kj0D2bXYLzIOeecM1mrbAqUWC/vAQPridJ5Lv03eC6IaVHJzCMqqhwrCiy6u6kgckyy6Yd1QaFBoch/X06ocJbTalMOWpGy28g5yfdgcCatUYsvvngMUGhx4lzlQd4wwXRtWv9ZF/uGwfaMaUtpb/ykYGesDs/X1HNSHAzUBjchWsmYHS77ndm3Vc3gV5Wa9gs9XQR+2UkoOB8Yf/ef//wnvi+p6juxL0hNI2jM3iQJOjhGfJeUellb3JBoHMkGL5RRbCOTIKTvxIOyjO9U6thQ3nCjzgaWlE3Z81WS8o6ymnpf8QQBpKGl9GrwOuoQTG5Ab1DqGeL+SIM6ZX+6f1Iu07jImHN+T2U25TsBUnWpbcVK3RNKafu/1/XovmF49OnnwoCnng0rL79M6DhH9QEU66XOYpp049Og3SJE6+nEpheIPE1wYu64447xpKYbk67LXXbZJU6X+I9//CNWrngtEx9QwSAflPETzPrGibTBBhvEk4mTnfUzE9O+++4bB8Ix2Jz1ksJCqh2D4Zl5hGWsL5smp/qTCiMq+bTAMDj+6quvjtNfTg2OMRVhAuk0YQYziaVpmqcWFWxmjCNtk3UzMxi9jAzEBD01VIKZ1YyeLcb1UDgzCUAKzsvF/gFpcSntjZ8UvtwU0vOlpN4X0s0ICOoaDHHt8D04NlT2aVhgNh2Cwdqoab8QEDF2j9nhaJAgFYBUSSYioSzg+5TzneiZ4Rxg1jU+h3UTRDHeiKm064ogl9SE7Pem4YVUOL4T28yNi/3DOCZmHgQ3a84XngO57Bw/ejw5fziP2FZ69xK2+dxzz61yXJEkTS+4l1E+Zh+U1wQyNGJTTjLJFeUiZTrlKY1qaRw5aDDndcwCTNYQuD+ybsrbdP9knUzGRLlLvYB1cl+79tpr49jT2qSflbonVIWen2++GxRefuOt0H39dUo2kGWRBrjAAgtUfhc1Hg0aBNGlyWQHoOLDFIYJLQKXXnpp2GmnnWLLKdE9s3hRgSDKJ1ihh4jKAykxVJRoHWA6ZU56ECjxGi4I0u44ETmRmRqXIIsLgge/81nZQdqqX+x79jMTUjCLGOOCqCTzP0EozCgE64J1EODSVU2lmh5DCkwmYagPTMxB4EzFlwow58u//vWveO6CQotzksK4V69e8TXMFEbKHy1UtcF34NzOXgv85G+WV9cdz+v4/syIxj7NtqTVBtcH35WAMk1PTWNBTYNGi9W0XzgfCFL222+/eHNiLB+zNTLdNNc5yvlO9AKyvelzaMjgf4/RG0xvU11RZtDiyLmZUObsvffe8RxjmzkuBPGc16nMIVgj1SL1RLIfmJWOvzmPmF594403judVQs8VDQP8lKTpGY3WlJ3ZB/+KBNwbqItRhlOWU6ZTtlP+Z7N0KJ9p4CYwSr059NSTXcTy7GtTnS+tk0Z1ymnWSWNcuUrdE6pCz896a64Wg6H55q7+PkTjHo35NJiZidT4NKuoqJiUemgkKQ9Ie+P/kNHyR+/V1PQQc5PLvp9WSf5fFg04tclJlyT9NUrdE6pqvP3p59HhpHMvCnvt1DMs17XqWeFICSfdj8ZB/j8R2VFqXJwlQFLu0FNFjw3pbUziUVekuJGmSxooKX8EQKTiki5oz7MkNQ3l3BMm/i9QGjnqp3DH/Q+GOdu3C10Wr76MJ7BivC8p/WQyqfExCJKUS6RmkOpGSmBtcsezyPMm/eOOO+6IqaCkbpLewdjGuk7aIEma9orvCcWzCQ8eMjQcfNzJ4YuKr8NBe+0e0/WrwnsZU8o/geWfbk9NtoEajulwknKLlrrHHnssTr6QxipJkvIpe09gLCszp9b2/0sSABH0MBEQsx0zbkmNk0GQJEmSpFwxHU6SJElSrhgESZIkScoVgyBJkiRJuWIQJEmSJClXDIIkSZIk5YpBkCRJkqRcMQiSJEmSlCsGQZIkSZJyxSBIkkr47LPPwh133BH++OOPwhJJkjS9MAjSX+bjjz8Od955Zxg3blxhSd088MAD4cQTTwy//vprYUnT8eWXX4ZevXrFn/WhnH162WWX1cv+yu53AoVHHnkkvPDCC2HSpEmFV0w79XUuZc0///zho48+Cg899FC132nkyJFhjz32CG+++WZhiSRJauwMgvSX+eGHH2JFetSoUYUlmlrF+5SKORV0KuoNaeLEieG9994LL774Yvj9998LSxtGqe/UEOdSy5Ytw7777hvX++mnnxaWNhyCSYJKPk+SJDUsgyD9ZdZff/3Qr1+/MO+88xaWaGr9Vft0pplmCscee2x88Pu01lDfe7755gtrrLFGuPfee8OECRMKSyVJUlNnEKR6QTrXdtttFz744IPCkhBTo3beeecwZMiQwpIQbr311nDkkUeGsWPHxhbvbIs+aVq9e/cOTz31VNhhhx1Ct27dwuGHHx4GDRoUnwdpV/379w+bbrppWGGFFcIFF1wQfvzxx8KzpfFZV199dVh77bXjOg855JCY5pSwHcccc0xMp2K9vIa/Bw8eXHjFn/ib7eNzN9poo/hdshXjtG3bbrtt5ed88cUXhWf/xOceeOCBYeGFF44/s/ur2NTsU3pG6FXo2bNneO6558KKK64Y929Cz81LL71U5X4uVtN+T70Y6TPS3zfccEM47bTTwpZbblmZ8lfTfuS9BDTpWKTjldZZ6jsVn0vIfg7H/sILL5ysp6ic861Zs2ZhzTXXjOl22X1eCs+fdNJJ8fPYdvZXGk/Ed998880nS5nL9vywvEuXLnFfHHHEEfG19ZUiKUmSpmQQpHox11xzhQUXXLCy0s8YinfeeSe8//77lcvGjx8fPvnkk7D00kuHVq1axWXFHn/88fD000+H8847Lw5KHzNmTLj++usrK8kPP/xwuPjii8Nhhx0WHnvssbDooouGG2+8MT5XCpXQa665Jrz22mvxdax/oYUWCqecckr47rvvCq8KcTzL999/H1/Tt2/fWKGl0sznY/jw4eHUU08Ns802W6zcsn1333137CHgu/Jg7AifRUWa77DYYouFk08+OQYkqKioiJVetpkA5IADDgj33HNPXHcpU7NPZ5555tgrw/ehJ4Pt2XvvvQvP1ryfi9V2vyc333xz/B7sB37WtB85Xn369Imfcc4558RtXHbZZWNwQVBT3XfK4tiyrelzbrrppvDNN9+Eiy66aLJxQ+Xsh3nmmSfuz5pS4q644oqw3nrrxXNpr732ivuLAKscyyyzTDwntt9++3DWWWfFYKhz586FZyVJUn0zCFK9oAJORZwZtajI0uJO6/mqq64a3nrrrVjBZRmVdyq1VVlppZXCUUcdFSuAtIzvtNNOsUWcXo7Ro0eHAQMGhP322y/87W9/C3PMMUfYaqutYjBRlZ9//jm8++67sSeCivvcc88dK6g9evSYbOzKJptsEsd/8Dzbd/zxx4cPP/ywsuJLENC8efNw0EEHxRQpWvv333//8Oijj8bvRQX9tttui70W6667btw2eiZmn3328Oqrr8Z1UCGmB4j3pc+hx4nXlDI1+5QeDAKA1q1bhxlnnDF+BmNckur2c7G67Pdkt912i9+Xz+P71LQfv/766xiY/POf/4zfic9iHUsttVQMVqr7Tgn7hfXx3Q499ND4Oex3vi+9agQbSTn7oUWLFjEQ+vzzzwtLSiPo2nDDDWOwR28g59izzz4be3xqQgph27ZtY7A166yzhjZt2oQZZpih8KwkSapvBkGqN1Ra6ZUg8CCliIrqnnvuGSuPtLAPGzYsVvaYdasqHTp0iJXOpF27doXfQnz/t99+G5ZYYolYyQc/qRRXhYoy20Ur/zPPPBMr9Kxz9913j70sCRXPbKUzVZzpUaASSyBCaz2V04SKM8+RgkUQRMV5ySWXLDwb4naxDnogeB2V60UWWWSy7eVzqfhWpT72aSnV7ediddnvCUFMek85+5HeOAKbBRZYoPBsCLPMMks444wzYvBaDtY1cODAGNRkt5HAk6CLQDIpZz/w+QQ29A4RYFWF75pwLq288srx/Pnll18KSyVJUmNhEKR6Q0WcCi+pZMwURmWXFnx6XKjAUwGmN6Z9+/aFd9QeldRsBbomVEYZe8MYi0svvTQGFfvss094++23q63QEljwWaSbsf0EIeeff34MatJjs802iz0LP/30U3ye3xmgn54nHe7KK6+MQQTrQW0H7k+LfVqO2u73UsrZj4wz4pilwKkuCIIISglwsjimU/MdssexHAS4vCc7TkmSJDUOBkGqN1QwaW1nzAqt7cstt1ysPFNpJ32LtC0Gn1MZrSt6P2r7v2Boyd9ll13iuBOCH9LVmEgg2yNQjMouFWl6CVLq1emnnx4HsGcfDNDv2rVrfH611VYLTz755BSvOfrooyt7e2qaxKHYtNin5ajLfi9Wzn4kcCH1r7oAtSYcb9LXilP7OKYEJXXFsajNfqYHiOCUNDdJktS4GASp3lD5JAWJge70XKReDCrujPOgJ4OUqrqac845Y0BAr0GqJPOTCnpVSEFjti3So0BFdosttgidOnWabIwHFVYq3wkBEKlZfAcCISZTYIwQvxOE8KBCT8WeinHHjh3jtjAJQnqeB8EP76FXgF4PZjnLbi+fW9VkBKiPfTq1QUVd9nsp5exHesoItki/S9g/l1xySdwHSXXfiX1G7xhBYnYbhw4dGr8DAWRt0LPEvie1rrpxOtkJLti+119/Pab6kd7HeCjOvWxq3G+//VZyDFb2PJQkSQ3DIEj1inQtBrcTZKQULSq+VEap7DLWpq4YFM/AfGZgY6A+FVMqxldddVXhFVMiOKHiynTIBERUVB988MH4XoKLhNnIbrnllhjEEKiQssWkBGkcDAPeGZtDZZw0NF537bXXxtneGNBP5Z1UOMauMBieFChmpGOiBMYiYYMNNojbwHTdvJ/nmZWMFLHqTM0+JdggoKMnqa5pWXXZ76WUsx8JGjbeeOM4ixsTWnC8GM9FTxGBH2r6TnxO9+7d4z7juPM57Hem9V588cVjj11tpF5B0hurQ7olPYHsH3odmZWO7SAoI9hjvBgz2xGQs23sA6bHTjhPeS3BE/uF4EuSJDUMgyDVKyrktLRT0UypQwQijMVheTmD6avD+BF6dqhw8r9YqEwyUUBV+Dwq2AQQvXr1ioHKiy++GKchprcgYV0EGKyL/xnDQHimY07byyQKTIHMxArM+sV2kFp13HHHxXQnKrBM18yMaVRu+R82TLG94447xop/WgdBEpVgpnimQsz/AcoOqC9lavYp35HxUARjt99+e2Fp7dV2v1elnP3IrHocJ1IW+UkwlD1e5XwneszY1vQ5HHvOAT6ntucgARC9UTX1uB188MEx4GX/8P+ROH/4H0OgR5DZB0n322abbeJ5QkDGlNgJx5ZZ90h7ZCY+gilJktQwmlVUVEyi9VXKK1rjaX0nWKIlXsrin+gSuDKVdnUz+UmSpKbDniBJqgJpafx/J/7vjwGQJEnTD4MgSSqBCRqY4pyUvamZ0EOSJDU+psNJUgn8DyamVGfcTnWzwkmSpKbHIEiSJElSrpgOJ0mSJClXDIIkSZIk5YpBkCRJkqRcMQiSJEmSlCsGQZIkSZJyxSBIkiRJUq4YBEmSJEnKFYMgSZIkSbliEKTp3siRI8Mee+wRHnjggcKS+jctPkOlue8lSVJtGQRJalIIdk488cTw66+/FpZIkiTVjkGQJEmSpFwxCFK9+vTTT8NRRx0VunXrFjbaaKPQp0+fyVrs+Z1lPMdrDjnkkPDFF18Ung3hsssuC7179w5PPfVU2GGHHeJrDj/88DBo0KDCK6b0xx9/hP79+4dtt902LLzwwmHXXXcNb731Vpg0aVLhFVMaNmxYOOuss8IKK6wQH3zm4MGDC8+G+N6XX345rot1sm4+g8+qzi+//BJuvPHGsPbaa8fHVVddVfb3/+GHH8LOO+8cXnrppfg32I7LL788/Otf/woTJkyYYrtq+q5vvvlm2G233cLjjz9e+Z4DDzwwfPTRR/Fz+Xy2g+/32GOPTbYe9gf7hf3Dd7nkkkvC2LFjC89Wf6xYz/XXXx+OPPLIyd7D9my66abh888/LyyZ3KhRo8KFF14YP6/4uKS0tyOOOCLceuutoUuXLpOlwNW077PnSalzj3Udc8wxoW/fvvH9ptdJkjT9MghSvRk4cGCstC6xxBLh6aefjpVZft58882xAsqDCv3zzz8fK6hUzBdaaKFw6qmnhqFDhxbWEuJy3nfeeeeFO+64I4wZMyZWqAkCilHZvuuuu2LllxSp1157LXTv3j2ccMIJcXtKGTduXDj//PPjeqkU33fffXHbzjzzzPDTTz/F1zzxxBNxHdtvv3144403YuX+mmuuCQ899FCVAQf4XjPPPHO4++67477o169fePbZZ+NzNX3/OeecMyy//PKTBTUEBQQOa6yxRlwv3++MM86I28XvW2yxRdxOgs+qvPjii+GZZ56J34/9Ovvss8dAgn2w++67x2XsswsuuKBynxGQEczONddcMTi6+uqrw3vvvRf3Ad8jqepY/fbbb2GllVYKn3zySfj222/ja/lO77zzTgxA5ptvvrgsi33PMfzmm2/CTTfdFI/NbLPNFvfP8OHDQ5s2bWIgRvDK9ydYZLuT6vY9n82xY/s5lmzzYostFk4++eT4XROW8z3PPvvsuP2SJGn6ZBCkekElc8CAAWHZZZcNvXr1CnPMMUf8/bDDDosVZSqa9L58//334dBDDw2LLrpomHvuucPWW28dK7ipogwqn1TAO3fuHFv7d9ppp/Dll19O1qOQENB89tlnYb/99os9B3zu5ptvHn/S21EK2/Lhhx+G7bbbLlbG+Ry2c5VVVomBFpXxe++9N65zq622Cu3btw/rrrtu7Dm45ZZb4neoCr0u9OYQPNDbQyWd7UNN33+GGWYIq6++egx6CH5ArwrbtNRSS8UAg4o9PRlsF9+R33kPQVtVwdnKK68cP5PvyYNt5DvSM8R3Zj1sBz+//vrr+B56SOaff/4YJLGc48B+fffdd8PPP/8cX4PqjhW9TgsuuGAM6sD28zvvadmyZVyW9corr8TenuOPPz6+l2Nz0EEHhebNm4f//ve/8SeB0KyzzhqDnbZt24ZZZpml8O7q9z29Sbfddls8hhxLvhO9SgSEr776anwN2DaCyrXWWqtkoCZJkqYPBkGqFwQjX331VejatWusoCYrrrhi7KmhQkml/6KLLgrLLbdc4dkQmjVrFiu3WR06dAgtWrQo/BVCu3btCr9NqVWrVrE1/29/+1thyZ/rJKCoCtux9NJLx94jenlImWL7qPDTG0NQMmTIkPhdWFfC38j2HBSjcp3eM9NMM8VKe1LO96d3gmCG3hDQ20MA1LFjx9hbVFFREYO99BnsawIqtmn8+PFxWTGChuz+JABhH7M8YT08UqC55pprhnPPPXeyfV9qn1Z3rOjFYT0EdayXgG7EiBEle1j4zvQa8V1ZZ8L+I4gjsMqmtpVS3b4nCGIbllxyycKSEFq3bh2DrbSvUfx9JEnS9MkgSPWC3ooff/yx2uAD3333XUznYswFFVBa7D/++OPCs3VDxZpUKNbFOgm8nnvuucKzUyIIIF2KoOa4446LlWx6MwgwQC8MAUVxbwV/E3RNjZq+PxV5etBS4ECP1WqrrRYr9QQB9JTQg8V704MUMir5VQVBdTFx4sQ49uiAAw6I6Wt8Dil0tcW+Jcigp4teoEUWWSTMO++8hWf/H9tOTxmBC981KxsU1RW9Vx988EFYf/31K/cbAeeVV14ZP7c+950kSWr8DIJUL+hFoLKaHS9SjJ4MUo1InXrwwQdj6z6V/XXWWafwitqjB+qcc86JAQPpTqRxkQZHWlR1SKWigk+qHgP755lnnpiGRboaz9FLUDwGiYo0AVddlfP9CSJXXXXVGDAQHPF59I6A1K9OnTqFe+65J74v+6CHiZ6X+kJqGmOESG1kW9hWevRqix42xj0RlDIeiOAvm8KW0PtCLxyBXvE5VF36YblIeyOYfPLJJ6fYd0cfffRkvZeSJGn6ZxCkekEvCZVdWtuzwQN/M+MW6Vr0BpBqRopUSlWiBZ5Zveoqje9Zb731YiWadCgG5ae0rlJSxZdt4fW8b5tttolBDj0q9MYwDohKe3acDelaVNZJa6uLcr8/6W2///57nBiAcTbp8wgyqcwzbodAjdQzHmwTj+K0wqnBPiL4YqKG1DMzevTo+LM2OC/4vtdee21Ml+T7lMJxIFWNfU7PTMLYJSYqoOcmGzwRKFU1BqoU0gl5PedL2m88CH7YdymNTpIk5YNBkOoFlUjG5TBwnpm9qOzTI3PxxRfHCiyBBhVRKpz0ZFCRZ3YvUrlef/31wlpqj8CA3pE777wzDoLn80877bRqpzemd4LeBSrmjFOhYswMcQQ+CyywQAxQmHCAmcRYD70xzDLGzG49e/Ysmc5VjnK/P9+JGfaYhIFJD1KKIdu12WabhUsvvbRyuwjM6MG6/fbbYwpbfVl88cXjd6anjOCN/UsaX10whon9SlodkxZUhZ4aAhNmZqPniWPzn//8J/b2MSlDQkoigRG9ftlJGqrDMSMVju/A9yKtkPFWTJTAzHmSJClfDIJUb+jBOP3002MgQoWT/xGzwQYbxFm4qMgz2xiV/vQ8lXyeY7auNCtZbREYMJ6Hnh/GyjB9MsEY6XCM8SnVW0DPCqle9Gz06NEjBhZMhMC2E6iAsTpMKc10ywzkZ2pmZovjM+raa1Du908pcQRAjFvJYkrs7HYxTocZ3nbcccd67Qli+/h/QnxvZqJjXA89eoz7qm1KIEEd5wbfqbq0M44lQQpBLWl4HBuOEemO2eCJMV8EVFtuuWW1Y7+y2Kd77713TIHkO7EOpnBnv2244YaFV0mSpLxo9r+K4iTGKEhSQ+AfoxKcEuA47bQkSWoM7AmS1CAYm0WK4nXXXReWWWaZOo+lkiRJqm8GQZIaBJNi7LLLLnFyhD333LNybJMkSdJfzXQ4SZIkSbliT5AkSZKkXDEIkiRJkpQrBkGSJEmScsUgSJIkSVKuGARJkiRJyhWDIEmSJEm5YhAkSZIkKVcMgiRJkiTlikGQJEmSpFwxCJIkSZKUKwZBmi78+uuv4cQTTwwPPPBAYYkkSZJUmkGQJEmSpFwxCJIkSZKUKwZBqjeXXXZZ6N27d3jqqafCDjvsELp16xYOP/zwMGjQoPj8yJEjwx577DFFyhrv44GU1nbLLbeESy65JKy99trxceONN4bRo0eHW2+9NWy00UZhhRVWCCeddFIYMWJEfF/y888/T/E+1plMmjQpvPzyy2HXXXcNCy+8cPz51ltvxeV48803w2677Rbuv//+sOmmm1Zu17Bhw8JZZ50VP5cH33Pw4MHxOUmSJDUtBkGqV48//nh4+umnw3nnnRfuuOOOMGbMmHD99deHCRMmFF5RnptuuiksueSS4b777osBxw033BD22WefGOT07ds3rvPLL7+Mr/vjjz8K7wrhmmuuCfPOO2+4++67w6mnnhp/3nbbbZVBzmuvvRbOOOOMsP3228fft9hii3DCCSeETz/9ND6Pd955JwwYMCAceeSRMRAaN25cOP/88+N36d+/f9wmPvPMM88MP/30U+FdkiRJaioMglSvVlpppXDUUUeFzp07hy5duoSddtopBitjx44tvKI8e+65Z9hkk03CHHPMEXt+unfvHuaff/7YSzP33HOH5ZdfPmy++eZh4MCBMUhJ6GkiwJlrrrnChhtuGHr16hWee+65MGrUqBjE9OvXL2y77bZhq622iuvm99VXXz088cQTlYHSYostFgMjPnfRRRcNP/zwQ/jwww/DdtttF+abb7743Q477LCwyiqr1Dq4kyRJ0l/PIEj1qkOHDqFFixaFv0Jo165d4bfaad26dWjWrFn8faaZZgpt2rQJs846a5hhhhniMrRq1SoGV7///nthSYiBTXoflllmmZgORyre0KFDQ0VFRUxnS6+ZeeaZKwOd8ePHx2Wzzz57/PyEoGvppZeOqXVvvPFGXB/B0O677x7mnHPOwqskSZLUVBgEabpGkEMKHUFQCobo0WE8UHowBonxPSkIKtayZcuYkte1a9dw3HHHhZVXXjn2dhFQSZIkqekxCNJ0jXQ1enXatm0bZpllltCpU6dwzz33xAkQso+LLroozDbbbIV3TYn3H3DAAXHMExM/zDPPPOH4448P33//feEVkiRJaioMgjTN0CtDulx2fBATDGTH9Eyt4cOHV47twXvvvRd7ctq3bx8/m1S3r7/+OgY1pOrxIH2PR/PmpS8HgqSjjz46rps0OlLgttlmm9jD5AxxkiRJTY9BkKYZghEmS2DGNqalZhzOtddeG2d7qy99+vSJ6x8yZEh48skn4+xxTKpA0MO4os022yxceumlcZpuptf+5JNPYo/O7bffHiZOnFhYy+QY/0OPD9vKdN9sNzPEEVgtsMAChVdJkiSpqTAI0jRDLwrjcdZYY4043XXPnj1jDwz/q6e+7LfffjFgYYY4psjeeeed4wxwaSIEpsRmamsCJWayO+KII+IsbzvuuGOVPUFMjHDBBRfE/1PUo0ePGEgRZJ1++umhY8eOhVdJkiSpqWhWUVExiSl/JUmSJCkP7AmSJEmSlCsGQZIkSZJyxSBIkiRJUq4YBEmSJEnKFYMgSZIkSbliECRJkiQpVwyCJEmSJOWKQZAkSZKkXDEIkiRJkpQrBkGSJEmScsUgSJIkSVKuGARJkiRJyhWDIEmSJEm5YhAkSZIkKVcMgiRJkiTlikGQJEmSpFwxCJIkSZKUKwZBkiRJknLFIEiSJElSrhgESZIkScoVgyBJkiRJuWIQJEmSJClXmlVUVEwq/C5JkiRJ070YBHXu3LnwpyRJkiRN30yHkyRJkpQrBkGSJEmScsUgSJIkSVKuGARJkiRJyhWDIEmSJEm5YhAkSZIkKVcMgiRJkiTlikGQJEmSpFwxCJIkSZKUKwZBkiRJknLFIEiSJElSrhgESZIkScoVgyBJkiRJuWIQJEmSJClXDIIkSZIk5YpBkCRJkqRcMQiSJEmSlCsGQZIkSZJypVlFRcWkzp07F/6UJEmS8mnixIlhwoQJ8WdtNG/ePMw888zxp5qG6f5I/fDDD+HLL7+s9cksSZKkfKC+eOWVV4Zff/21TnXGFDwNGTIk3HDDDWHcuHGFZ9RYTddB0Pfffx+OOOKIsNVWW4V33323sFSNCYVNv379wrbbbhsWXnjh+LN///7hjz/+KLyiPAS6vXr1ij/x8ccfhzvvvLNJFELsg7vuuit88MEHhSXTzgMPPBD22GOPMHLkyMKS6Q83pkcffbTyHHvzzTcLz+ivMGrUqHDVVVeFjTbaKB6PXXfdNbz88sth0qRJhVdIamqqu5dcdtll4cQTT4z3usZqxIgR4fTTTw/zzTdfYUndcL+ZY445YjB0880317ouo2mryQVBXERcTNw8ueiq06pVqzD33HOHJZdcMrRv376wVI0FhUOfPn3CY489Fo477rjwxhtvhN133z1cfPHF4amnniq8qm5o0eH8oMLV2P3+++/h+eefD2+99VZhierTF198Ef7973+HbbbZJla2l1pqqcIzmtZolLjoootiI8Xll18eXnvttbDuuuuGE0444S9pBJAkGmCoLyy00EJh8803LyytuxlmmCHstNNO4aOPPgovvfRSYakao+m6J6hNmzaxQk0ru+OeGp/vvvsuBkD7779/WGWVVWKg2qNHj7DpppvGoGD8+PGFV9be+uuvH3uY5p133sKSxqt169bh0ksvjQGg6t/PP/8cc7TXXHPNMNdcc4WWLVsWntG09umnn4bXX389HHLIIbFxihbTnXfeOSy//PLhhRdeKLxKkqYd6iLPPvtszBoigCmFQOmNd94L2+15YFh/m53CVrvvG55+seoebOqfBFR33HFH+OmnnwpL1dg0SBCU7a0hDeWss84KK6ywQqzcUukdOHBgvAl269Yt7LDDDuHtt98uvPPPlsIbb7yxZKoE3awHHHBAuPXWW+NrSXXjc2hV5GSjK5bP43PofuX1LEspMJzoPXv2DKuttlplehyVbbZj7733DsOGDYvLVHe0fKRjyzHkWNEtXEqzZs3ClltuGRZbbLHCkj9bUOi9o0u5uvQYPufAAw+Mx5afxa3IxV3z/H388ceH++67L6ZFsX3HHHNMTJmkB4bzLJ1v2fMRgwcPDr17947ncPF3Iv2Oc++JJ54IF1xwQeVr+JzUDc73YJ377LNP/AyepwcspQak8zTbs8l7SQtMKVzFKUPlfC74DD6L5/jOHBt6RmqjumOarnXyn0877bR4PNk2vgv7t2/fvmHttdeu/G7ZfcnySy65JIwdOzZ+r+uvvz4ceeSR8e+E65br+fPPPy8smRw9fRdeeGFcF+tk3XxGQjnANU8ZwbY39pSM6d2MM84Yz+Vsyskss8wSOnbsGHtEJU3fsveMdO+i/Kbel8rmcl4D7hvcF7P3b+7n6T5Z1X2oGO+hDKouFe7jzwaGS6/tE0444uDw5D39wmnHHBGu63tHePfDjwuvmNJyyy0XxowZEyoqKgpL1Ng0eE/QKaecEisytPLTCnjyySfHQIaKCq2ytAqSHjF06NB4cp933nkxL3P++eePARIVME5iTtIWLVqEDTbYIKy44opx3VtvvXVYddVVKyN3PocLh88phRN8u+22i5/FxTB8+PAYpWPHHXcMc845Z/xddfPJJ5/ESuxaa60VW1U4jnfffXe4//77C6+YXKdOnWLlP7vfqVx/9dVXsUCjclQKBQrHedFFF41dzZxP99xzTzye1XnwwQfD119/Hf7zn//E4/7jjz+GfffdN9x+++1xfQTEtE6n8xGs89RTTw2zzTZbDEo4P/lO9957b2VBCyrzBAmPPPJIHJvEOlJgRtBP5ZxKOCl/7Jf//ve/4bbbbptsHQnLyCVm3MThhx8e37P99tuHM844I6YPZVX3uQRDpBzxvVjX448/Hrv7+T7p+9Wk3GPK9nI9c33zE08//XR47733wtlnnx1WWmmlmKJ41FFHxedpDLn66qvj89dcc00MenkNn/ftt9/G97Mf3nnnnfj9St2caF3juH3zzTfhpptuiseH48T3S+cCjRvcOJdYYom4zccee2wsR/TX4Fjusssuk/XGpUqCaYpSftCYRnnAvYB7DAEPZXT2nljTa7gfcl/k/sjvW2yxRUytzdYBi+9DxX777bfw/vvvx3t/VVkCfN7jz74Q1lhlxbB8t6VjZsFyXbuELTbZIDww4PEw4X/rKKVt27axnuM41MarwYOggw46KKaj8SD3m8oXLeJUpIjOV1555djKy3JuhM8991zsqTn33HPjyb3bbruFQYMGxcouJ+jf//73WKEB6yN9itZF0IJMMMNrqfwUo+eBIIq0mIcffji2MPCze/fuYfXVVy+8SnVF5XvDDTeMwSlBL8eRY0QBlG29qc6rr74aW+032WSTwpIpMV6IIIk0OnqNll122Rgozz777IVXlEYQwnnBe7p06RJzdn/55Zew1157xQKQijaFKQMkU5DA+UGBx3nM87RI8bn0OGbHG9FTwnlEBZ/vv8wyy1S2/hDIs5zn2S+cawQDpAKVav2mx5LPZZwU+4/30E1PrxDBxujRowuvrP5z6dmkp+vQQw+NASPfm9cQIKRAoyblHlOuU/YLNxnG4oHfuSERQLHv6IGicYO0P747x4DeLHplSVnjmC644IKVY6OoHPM76yl1c3rllVdiLxo9fLyXz+A4cbwIMsH7SDdkGT8JkigH1DhQuSCApyGLe4GkfOC+y72LewH3t4MPPniK+2p1r+H+kCZV4jlew+/cX8mQSIFS8X2oGNlHNLwSrFRlzNhx4ZPPvwgrLtNtsvtHl8UXC4MGDwnj/lePKIUGNxp5uSdPTXq/Gk6DB0HkRVIBmXXWWStPQNKfOJE4QVhOhZMThIooFVyifyp13Bip3JSLlkQGP1PZqyqip8uTii6fyexh/E1gRQVJU4f9SuU+9eBwjDn25aLHhAHsjBGgslwKFW/SrRZZZJHJjhnnEfPzV4fK+UwzzVT4K4R27dpN8b70O+cjn/XZZ5/FwILzOGF8Gc+lVDtQACd8ButOqOwzZSZpafRa0EOzxhprxAA+uz1JSufKnvvsS3o96U3Jpm1W97lcB/QM0SWf1PaYlHtM2Q6ey+rQocNkvS40PtC4kd3GbP41AQqvodWMBg0aPwhIS7XecYOj14hrns9JOE5UpjlHyg289deh9faWW24Je+6552TXmKTpW2osA/eOrl27xsaw7H21utekhnMaJtO9h/s3DX7cJ1PQUXwfKkYwxTqz96ViNFY2a94stGs7eRnVulXL0GLmmcKkiVNmdCQEV/Q2ke2gxqfBg6DaoGJDLwAt4ORvUglk3E99o5KUUuoYkE/wpalHKtuAAQMq83N5MDFFOeidOP/888PGG28cNttss8LSP8d0pHXRa0CLDabFhAcUfBSObFfaBh5sHz0k5Q52JOgnuCO4oUdlvfXWi6lg2bEvWbyOwr84kE+9GrVBrxI9qul6ojeMa6xcU3NMi3ETIH+b9EVSHFhX8fXNtUmgSE8VvUAEu6WONTc4gkEqzsWBZDYoUuNFowfppfQgUpGRlF/c32hsq25sYPY1qSGSIQ7p3sSDFGnuoeX2vPC6hv5XGmyPjXKNU6MKgrgpMgbixRdfjIPd6RHi7/pEoEV3asrRJF+UFCxNPXJ1SXtk/AspjrTGl1NhJgCiu5oZohijk+0dIH2NY8WD8yF1WTOep6GRZkmKHeNg0jakB2mbtEqVixROKnyMgSMAogWc8Tq0EBWbZ555YvCRJh9ICLqyrWQ1oaWM/UrPFeOhOB5s+zrrrFN4Rc3qekxLIX2NFFTGLhHgsC7WnUVvMeOW2L+MByJ4KzU2LKUZcGPJTgQBUgDVuFHWMz6Lc4Ee0eJeRElNC/ctGvaKAwrqXDSAkUFQ3XXO/Y1U7zS8oZTsa7gvUB9gPHDx/ZkMCDILykGDY0290HwevT0jR03e8Ema3C+/1hxs0TBXU6aK/hqNKghi7AQ3R3I3SWsj/Seb7lOsuPJTDlJsGG9BZSsFWFTEpkWlenpGZZRxIqRekf5FIEPhR1dzdSgwmR6a9EfGimQDINDyQzc1DwoqCixaezhXsutmbE9x0DC1qGhTIf/www/j72k7CIwoFEulshWj8L/uuuti4MP5yvdj/zCLGj0ypfYPNxOCI1LxEvYlgcMCCyxQ9gQe9KYQYJJilgp5Wr3YV+Wo6zGtCjcn0tcIdtO+y45vAseb7b322mtjrx+fWwo3U3pwCZSy6YHcJNlmzpFSwZP+etleX3p3DYCkpo97I/cGGreySGnmHsp4z2xaWjYTgvsKkxkQLLCepLrX8JN7MZMdMQFBuj/zGTzKTfvmPkFafHUNjC1nnSUsvGCn8MnAyWdWHfjV12GB+eb5X72k9PALkNlAvaW64E5/nUYVBFFxITih1ZpZw5jk4JxzzonPpRZfTm7GOoAW6aOPPnqKilRVeD8zSFEZYyAdeehMv8sgOmbO4iJT3XBcCBjoWaMVn4KJij/TF1eF43HzzTfHQpOB9VTQKYjSo1QvCZjcgvewfnJ/6VWhl4XUtfpE5YxJARh7wixsBNB8HhV0utzL+UesFMT0AjEbHeceNwQCOAbuM6FDqckcGA9Fyh3nPjOy8R5mM2Q2OSZzKLeFi/FuHBdayjgeTBjCdtMbVY66HNPqLL744vH7cK0RoDEmj1S9YqRGEeyRMkdwXBUmaeCmx6w/nA8cH2b+I7Cmcq3GJzV6UCmgISDl9/MggK1Lw5akvx71N+pV3LfItqGxg0lvKJ+5l3K9ZzGpwZNPPhlfR8r1FVdcESdBIKBJqnsNDXvcJylPuD9yn+RezUQ5zPha7hgcGt64zxGsVIUGwI3XXSsMeOrZ8M4HH8W6IgHRvQ8NCJtuuF6YuYoG0ZS2XRwAqvFoVEEQ6UVUZmn9paJIGg8nNKh8EghxMdFLRCWHSk+5rdognYf/o8LAOS5WKqAM/KaySEWR9aluOC4ErcwcRgoWY0jo/mV8F5XnUjm3VIBIkaJyTsHGOK3sgxb9UihQqDzTa8gEA0yBTF5wdb2GdcVnUfASaJO2Q6FLocb3yhbW1aFn88wzz4wzIjLI/7DDDotj0fbbb78per7AvqRXjLEzBF+8h/eSlkcvSbkIpgh6uBHxz2MZgE7jAseIY1KTuhzT6rANpLnynbj+uOkwqx+9sNzAElr4uEbpCa4uhYCbIOcBKREprYrjxE24uuBJfx3KcRqhSLPkushe70yIUs55Kanx4V7GbG7ct5gEiHsc01rTsE0gVHx/5p7N/89jJlj+lyTvY3Y37jtJTa9hSuzsvZUxpnwu961ye4LISqDBjQCqunvasksvFfbZdYdwynkXhw223TkcePSJYfFFFgrLdql6an8aSrnPUb6pcWpWUVExiWBDkhoDGiu44RHgpBklJUlNH43ZlO1MgkNjWCnlvKY+MYEQ/9OSBj4mMqouGJo4aVIYO3ZcGPu/15xz6ZWhVctZw9EH7x/atvn/rA56l0ADL71SNGDWNO5If41G1RMkKb/SOCjGUDEteUp7lSSpodDYRs80aXU1peQ2b9YszNa6VZi745zhjOOPCt3XXye0bvX/U3knjI+ix7tnz54GQI2YQZCkRoFpx3fZZZfYisZ4vVKpgpIk1SfS60izY0gE41/LTaXj/wSts/qqYcYZ//9exXsJpPr27RvHSZGyr8bLdDhJkiTlGmNT77333jg+kWCmtv/glPcwjpVxww899FAcm5RS49Q4GQRJkiRJyhXT4SRJkiTlikGQJEmSpFwxCJIkSZKUKwZBkiRJknLFIEiSJElSrhgESZIkScoVgyBJkiRJuWIQJEmSJClXDII0Xfj111/DiSeeGB544IHCEkmSJKk0gyBJkiRJuWIQJEmSJClXDIJUby677LLQu3fv8NRTT4UddtghdOvWLRx++OFh0KBB8fmRI0eGPfbYY4qUNd7HAymt7ZZbbgmXXHJJWHvttePjxhtvDKNHjw633npr2GijjcIKK6wQTjrppDBixIj4vuTnn3+e4n2sM5k0aVJ4+eWXw6677hoWXnjh+POtt96Ky/Hmm2+G3XbbLdx///1h0003rdyuYcOGhbPOOit+Lg++5+DBg+NzkiRJaloMglSvHn/88fD000+H8847L9xxxx1hzJgx4frrrw8TJkwovKI8N910U1hyySXDfffdFwOOG264Ieyzzz4xyOnbt29c55dffhlf98cffxTeFcI111wT5p133nD33XeHU089Nf687bbbKoOc1157LZxxxhlh++23j79vscUW4YQTTgiffvppfB7vvPNOGDBgQDjyyCNjIDRu3Lhw/vnnx+/Sv3//uE185plnnhl++umnwrskSZLUVBgEqV6ttNJK4aijjgqdO3cOXbp0CTvttFMMVsaOHVt4RXn23HPPsMkmm4Q55pgj9vx07949zD///LGXZu655w7LL7982HzzzcPAgQNjkJLQ00SAM9dcc4UNN9ww9OrVKzz33HNh1KhRMYjp169f2HbbbcNWW20V183vq6++enjiiScqA6XFFlssBkZ87qKLLhp++OGH8OGHH4btttsuzDfffPG7HXbYYWGVVVapdXAnSZKkv55BkOpVhw4dQosWLQp/hdCuXbvCb7XTunXr0KxZs/j7TDPNFNq0aRNmnXXWMMMMM8RlaNWqVQyufv/998KSEAOb9D4ss8wyMR2OVLyhQ4eGioqKmM6WXjPzzDNXBjrjx4+Py2afffb4+QlB19JLLx1T69544424PoKh3XffPcw555yFV0mSJKmpMAjSdI0ghxQ6gqAUDNGjw3ig9GAMEuN7UhBUrGXLljElr2vXruG4444LK6+8cuztIqCSJElS02MQpOka6Wr06rRt2zbMMsssoVOnTuGee+6JEyBkHxdddFGYbbbZCu+aEu8/4IAD4pgnJn6YZ555wvHHHx++//77wiskSZLUVBgEaZqhV4Z0uez4ICYYyI7pmVrDhw+vHNuD9957L/bktG/fPn42qW5ff/11DGpI1eNB+h6P5s1LXw4ESUcffXRcN2l0pMBts802sYfJGeIkSZKaHoMgTTMEI0yWwIxtTEvNOJxrr702zvZWX/r06RPXP2TIkPDkk0/G2eOYVIGgh3FFm222Wbj00kvjNN1Mr/3JJ5/EHp3bb789TJw4sbCWyTH+hx4ftpXpvtluZogjsFpggQUKr5IkSVJTYRCkaYZeFMbjrLHGGnG66549e8YeGP5XT33Zb7/9YsDCDHFMkb3zzjvHGeDSRAhMic3U1gRKzGR3xBFHxFnedtxxxyp7gpgY4YILLoj/p6hHjx4xkCLIOv3000PHjh0Lr5IkSVJT0ayiomISU/5KkiRJUh7YEyRJkiQpVwyCJEmSJOWKQZAkSZKkXDEIkiRJkpQrBkGSJEmScsUgSJIkSVKuGARJkiRJyhWDIEmSJEm5YhAkSZIkKVcMgiRJkiTlikGQJEmSpFwxCJIkSZKUKwZBkiRJknLFIEiSJElSrhgESZIkScoVgyBJkiRJuWIQJEmSJClXDIIkSZIk5YpBkCRJkqRcMQiSJEmSlCsGQZIkSZJyxSBIkiRJUq40q6iomFT4XZIkSZKmezEI6ty5c+FPSZIkSZq+mQ4nSZIkKVcMgiRJkiTlikGQJEmSpFwxCJIkSZKUKwZBkiRJknLFIEiSJElSrhgESZIkScoVgyBJkiRJuWIQJEmSJClXDIIkSZIk5YpBkCRJkqRcMQiSJEmSlCsGQZIkSZJyxSBIkiRJUq4YBEmSJEnKFYMgSZIkSbliECRJkiQpVwyCJEmSJOVKs4qKikmdO3cu/ClJkiTl08SJE8OECRPiz9po3rx5mHnmmeNPNQ0eKUmSJOXaDz/8EK688srw66+/1joAQgqehgwZEm644YYwbty4wjNqrAyClBsPPPBAOPHEE2MB98cff4RHHnkkvPDCC2HSpEmFVzRegwYNCn379g0jRowoLJk22Ffss8suu6ywZPo0bNiwcNJJJ4UVVlih8hzR9OPNN98Me+yxRxg5cmRhieqC/cd+ZH82dtlrmsdZZ50Vl6lhcH+t6hrj/tHYy1XuraeffnqYb775CkvqhkBojjnmiMHQzTffHOsaarwaLAiikFx44YW98ahRoqB67733wosvvhh+//33wtLG66effgq33XZbbKlS/eImRYD5/fffx59HHnlkmGmmmQrPSmpqaIE///zzY0X0vvvuiw/KUJbZOq9iNIQSxC200EJh8803LyytuxlmmCHstNNO4aOPPgovvfRSYakaI3uClEtUco899tj4aAoV3i5duoSHHnoo/lT9+u2338KPP/4Ylltuubh/27VrF29ikpqmL7/8MnzxxRdh//33D4x55sHvLOM5Keu7774Lzz77bNhqq61Klv2///5HOPeyq+KD35N7HhwQ9juyd/hx5KjCkv/Xpk2bGFDdcccdMQBX49QgQRARdc+ePePvzz33XFhxxRUru8/pDu3Xr1/YdtttY0/RrrvuGl5++eUYiafUG5azjmOOOSZ069YtbLrppuGxxx6rTFtK62A5r2Vd/fv3j60+yeDBg0Pv3r0ru8L5nRM9oXuW97KeM888M2y55ZYWjvWAlo9DDjkkHreNNtoo3HrrrZXHJaVS3H777eHGG28Ma6+9dnxcddVVVXaTc0woSJ544olwwQUXxGPJemnZq66bmec4JzhHeA/vpaKbpHMtpXmlv2+55ZZwySWXVG4b2zl69Oj4Pfhc1kWKRTYtjfOSc5hzOZ3Tb731VuX5mtIE6HU68MAD42v23HPP8MEHH8TnQc/Uk08+GXbYYYfJzun0Hbl+2A/ZczR7jrOtF154YRg16v8L43I+F9Uds3Kw7/r06RPfyzpYF5WNhG3fbbfdwv333x+PB/s87W/ypk877bTK6y8dt2z5kPYl2/Svf/0rtuZmjz3fk/UPHTq0sGRy1e0nPnO77baL3/niiy+On9kUUn2aMo59Kr/T+cI5mFR3DmBqyoQ33nij8jrlmsh+LjgvOD/S9U9ZMHbs2MKzU5rabf3222/je0nLTdK1wflY/H3KKUPTa7gusrjuUnmXXvPwww9XpoxxPPgu7INsGcjvxb0njHkofl92W7P7pVSZkO7v9LzyGcXbWqymMqYYz80999xhzjnnLCwJ8XeWVfc+Nbxs2Z+uCc4Bzud0DpfzGpRz7y3nPOM9HTt2rDIVbsYZZwh/33Lz8N5Hn4QPPvk0Lvth6LDwwIDHws7bbhk6tGsblxWjYW3MmDGhoqKisESNTYMEQZ06dQq77757/H3RRRcNhx9+eOjQoUMsGCnIKDzJzSU4evfdd+NJykmYdcQRR8TCasEFFwyffvppvBAGDhwY10GeJeuYa6654rqpQPKTGysnPyfcwQcfHG8UnNQ8+P2www6L68jipnD99ddPcbNR7X3yyScxlWittdaKrSrk1959992x8pvFDZsZVHiOyinHjddXhxsxNz/G8fTq1StcdNFFU1Tms7i5U4ngmBNAcx5SgNbkpptuCksuuWSspLBtFML77LNP+Pnnn2NByrlCxYbXpXPmtddeC2eccUbYfvvt4+9bbLFFOOGEE+J5m1CxJp3t0EMPDU8//XQscK+44orKFqJXXnklBuP77rtvrKjxk+1/6qmn4vPFCOj5brPNNlusbLA933zzTdwv2QpLTZ9b7jGrCvvg8ssvD88//3w8ro8//nhMKTj11FMnC0reeeedMGDAgPhZVJoSrmWu45NPPjlu21133RWPEzdA9mX37t3jvuS65ZxZddVVw9tvvx2GDx8e309gRBnCTZIyplhN+4kWYo4xx+6ggw6K+2uZZZYpvFv1Ld0DuCbPOeeceE4uu+yysTyn3Kb8ru4cyKptmUBjwIMPPhjXy+dyXzjllFMqG8c4H1gH5wfnCdtAyiwDpUvdH+pjWzn3qShRkUufwb2RsoNzvaoeybqUoaWw7Ztttlk8HjvvvHM477zzYo/JvPPOG8tAyjV6oNlvWZQh6623Xvw+e+2112RlFfuF91xzzTXxvsy+XmyxxeI1nk3nZTn79+yzzw4rrbRSYemUyi1jsghc6dHN9vLzO8vUONDwxDXBucd9gXKY+04KYFDTa8q599Z0npEJ8P7778f7fsuWLQtLp7Rgp/nDZhuuF26/v3/45X+BWP/Hngyd/leGrLricoVXTKlt27axPmzDWuPVIEHQ8ssvH3r06BF/pzAlICKYofJ47733hqWWWioWvnfeeWc499xz46BvClNOxoQCjhsMFwFdlNxUvv766xhVv/rqq7FSy8lOIctrifJpVaPwo8Cm0kVL3z333BMvmn/+859xWXGLFdvHDYTPcarwqcNNfcMNNwxbb711aN++fVhttdXCuuuuGwugbOsNrfbccKkA0LJHxeGzzz4rPFsaLX+8jvewfiqqVbWu0HNDhXu//fYLf/vb3+IgRc6hAw44oPCKqtFTsskmm8T3pG2bf/754zbTisi5Tcsu5yOVJs5Hzh9aPPkM3sfvq6++emz9TYU1lQBS70i34jxLPRepd4pCco011ojBCPuObTj66KPDjDPOGJ/PYp2PPvpoXA/BDZU5WsGOOuqoeAyyOcg1fW65x6wqVNgYS8N2cE2yj1gXQQrXY8J2cL2yT3ldwvZQ6eLm1KxZs3gecNwIatiX7Gt+phb7rl27xnLi888/j3/z+dzASlUYy9lPvIe0BSqULVq0mKLipPpFGU4llvKY4IdjyznAPYFKNNdUTedAUpsyAQQbHHsqO5wTfMYss8xSWUHhvvLxxx/H13CecJ4SQBOgsN3F6mNbOe+47rOBPRU4tit7nRRjn9W2DC2FxkLKKrY5bRfXImUYyyiPNt5447ju7P2Z/UK5wefzWu73BGGUGfS80vDCd6YsYT30Os0+++xxHyd8DmUCn8G1WZVyy5isbK+/GieCZ85bzg/unZyLlNfZbIbqXlPuvbem84zr+KuvvorBSnW4P/3tf0HQ6DFjwx33PxieffGV2As06/+u1apwT6EHkmt9/PjxhaVqTKbpmCBuDFQe6QFaYIEF4knFDYkbIMuzaQdUTJhrnQpJq1at4jKen3XWWeMNjNen1iFahWi5o6WJE58bGSiAuclQ0eHCAJUfLp5k/fXXj8/xeVW1uqk8tMZQgeAGDo5vqfnyKax4Dhxf9n1NeE9SU4seN01ujksssUTl5/CzdevW8ffq8JribeOcy54bnI+ci0yoQEBBAUclKL2Pc46bNa2eqeCjApD9fFqcsn9zTVApp/JAqgnroseE87MYFQ3OfwKb7DqoHLAd6fxHTZ9b7jGrCp9JqzYVzKTUOoq3I8meC+xXrmEC14Tnsvuez1tllVUqW865ebFeypBitdlPmjaozHIOUv4nnHu05lLhKeccSGpTJqD4HKTnkEo/PT/g3sB5RI9kwrlCRabU5D71ta20dIPAnnOagIigPpvKVawuZWgp9JAmabs4Huk78JO/uZayjYfZ78NrVl555dij9ssvv8QgiPKRe3vCfiewTPsa7H/2bU3KLWPUtKR6HTieNHCRcZG91qp7Tbn33prOM+qDrLOm8gOkvfXssVm45a77wrprrhaWWrzqhoqE4IoGBDKW1PhM01KEGyBIK+JmQ6FIKxaVEdJayhmHwElOqhARP706pBbQOk9FjsKXimkKprI3I05wPpOC3JOxYXD86IFJ+bk8SJNoSCnnPn1eynnneNe1YlAbVA4okBlXkraBB+kxnI/ltv4QiNNdT0sp1wTfiZ7QUtdEam0tTv+qS2WoPo4ZlR8qsfTG8v50TdcFY61IeWEdrIvgkHGFCdf0mmuuGXt1uQkSDPEa0g6K1ed+Uv2ghZ5jmCotpdR0DtSXVMGn0YGKEPeN7L2JB9clqaqcR6XUx7YSUBBEcC5zTnNu87nV7aPGhoYiGp8oC6lQElDSgJP2Iz3BpBXymrq0iNe2jCm+5otVdd/QX4fGEa7H6mZrzb6mvu69vI7eoNr69dfxZdcl2R62V43PNA2CSD0DBRnjgLIPCrVyW3bmmWeeODiaCiMF6zrrrBPT7K699tp4UqbWg2zLFRcLhSY3PluQGgZph1TcyVGnVZMbTUMHQfQKkspISguPvffeOy6nUlOXgq22KJBp6SHtMm1DetB6mW1prQ4VHlp/qVAxPo4WZnqFGMtWjM/kGkjBfkJhTiWjNqb2mFFpI9WA40AaKu/nu3NN1hbHi3EifC++O2MC6T0m7SeLlj6uYQaTM6aJ8qRUhbE+95PqB5VTyuWUqlKs3HOgPrAdVEzoceGewYOU2eLrmAf3p2L1ta3ck7j2CX4Yt0RAX10qXGNEDxDptGw7PW6k1TLRS/F+JMWXhszaqEsZw7Hknp9N4eO6pzLK/q7qvqG6S2Vt8X2Xa516GWV2dYE941RJZS+VAp5kX1Nf917OlXIbxYb/OCL0u+f+sOv2W4e33/8wfDqwvMm0KPdqe95r2mjwaCB7w1tkkUViqgEn8QYbbBBvOIwHoMWIHN9sF3tVUgsOqRNcCOSLUkBy0+A5LrKUGkOOMi3dbAOtbKA7tVRajqYOlQnGkZCyQPoRNxqOezb1sCHwORRg9PzwoKUozQJEa2Q69xpqWyjcuOkzZoAKQNoOut95lBNwc9NgbFyauYaeClqCuS7IxS9uQaLw53wnWMp+JyoLKaWnHPVxzEg7JDef3pl0I6GyQaWotkhh+PDDD+OAa44h1zKVmOIghueoNDKIm33BeMNS6ms/qf7QEMb5nh3LQRnNxAEM8i/3HKgLeiiy5wG9Upz/nD98zuKLLx7H49DKnK5jrmmu4VLpNPW5rZyLVJLSTFiUKXXFeiiXstvBPbC4cjo10vglsO7XX389BhaUv9zjKUfYP2k/8mC72I/sp9qoSxlDXYP3sQ0J1z2NHxzvUvcNTR32I9cX9bAseku5Ttjv2esoe35yvnDtcd6ynqS619THvRfcJ+jJJGiuDp9/3yOPhQ7t24Udt+kRNlx7jXDzXffGSRKqQwoogVZ1wZ3+Og0WBHEyUrDTskX6Gik3/M0ASVq86MJkOmCmxmXsA7NuVdcNmjBIncKQAIcZ5OjGZlYtcv8ZYErBxgwhVOzoJeJzCLBSTjEDOCkAVb8odBibxUwspINQMF199dVxutlpjRYg8vSZnYjzjnQXKlj0stQ3zjdmV7r00ktjEEOBT+/E8ccfH3txyukuT+Pc2F7Oawpjgnb2JWMWKKSzqEQQ/LOPOf+ZWIQbDxUoKnK0wpajPo4ZFR7WQ2sc72dcE+kIVIpqi5saLXt33nlnDP6Y9Y3ps4unNeX70/vDdVxdhbG+9pPqD+c5A+0pjzm+VG75Pxqcf5TP5Z4DdcF9h2PP9ck5wfXG9UlADVLSqKiTdsV5wrZRbjAJAOdOsfrcVipxDNxGmiSkrqjQ06jBttMAQCBAlgSpfvWF8o6eHspWsjD69+8frzXKKgJdGnDYj6k8Y+YuJkp45plnCmuYHBVFyszsmKGkLmUMjR+UDYwb5ljyvuuuuy6Wp02tl62pIBWNCQroHWXyAq4frgnSvDmfqetlMakB5xCv4z7NjIOcQ1wLSXWvqY97L7heuA+WOveyBn5VEZ587sWw49Y94mQI3ddfJ/w4YmR49qX/n+yjWMo6KA4A1Xg0WBDEzY7eGmbjYPAyFwGVFpbR6kePDIUYrTmkwxEolRMpc5P6xz/+EadUJU+Y1B1a+Jjal1no+AxOOC6WHXfcMd68ePA7F4sFYMPg+LKPmYyCnjnGmHCsjjvuuHgDqs9WyHJQOBIkc8wJstkGZn5rCATdBOJUOqjA8LkM3md/lNMaxb7j/2rRM8q1wbgC0j35j9ME8KXQGMB3o1eVwJ6xcVTI2N/l9nTWxzFjO6iQcLOj4sP/WaKhg3WyjtrgpsbYPlr/aLw466yzYjBLehEDYGmJSyhXqOjVVGGsj/2k+kP5zPnBucKUt/zk3OFYUzbX5hyoLRrPuFapnPO53Bf4v1P0GoN0LipsnB+cJ7yGlGtSRTmPitXntnIOcz4zvpX719RgXWwPjYJM70/ZQgWM67u+MEsXAQ1lK9MWMwMl+xccY9LLsuUZDSuUNcwoVwoNoIwZLtUQWpcyhmCM4JXZ65j8ZZtttonHi1kJixuVVD9S/Y7jzjT43AO5ximrua6KM304R5kEhJlQuXZ4H2O9s+V5Ta+Z2nsvyLxgchICqKruefRW335f/7B8t6VD1yWXiMvm6NA+bLfFpuHu/o+EocNLz0bILHYEV1wDapya/a+wnkTAIklNBa3B5PRzcy0391tqrEgpI1inok5FMm+4nmn1p6LLPtD0izRsGiLoeaXnqJRyXlOfaFDnf4bROMYkHlPbaJvSKzmv6ZWikd7zunFqsJ4gSapv3BxpGSR9loHRBkBqyugtIl2Mf+7Mv3sgzTNvaGUnVZFMDiuK+ivQW0U6Kml1NEjUB8ZHMfEQPbGe142XQZCkJoN/gkeqDakPxTnmUlNDAEBK93/+85+Y5p3HdG1ScA866KDKsVnStEZ6HWl2pMgyPrHcVLpSeC+BFGPwGCdFWqoaL9PhJEmSlGtMrsBEH4zrI5gpd3KFhPcQ1DMZwkMPPRTHJjnzYONmECRJkiQpV0yHkyRJkpQrBkGSJEmScsUgSJIkSVKuGARJkiRJyhWDIEmSJEm5YhAkSZIkKVcMgiRJkiTlikGQJEmSpFwxCNJ04ddffw0nnnhieOCBBwpLJDUVl112WXyAa/muu+4KH3zwQfy7sfv444/DnXfeGcaNG1dYoqpMr/vqzTffDJtvvnn48ssvC0skNQUGQZKkRuP3338Pzz//fHjrrbcKSxq3H374ITa+jBo1qrCkYVDR3mOPPcLIkSMLS5qeabWvJKkcBkGSpEajdevW4dJLLw277757YUnjtv7664d+/fqFeeedt7BEVXFfSWpMDIJUb0hn6d27d3jqqafCDjvsELp16xYOP/zwMGjQoPg8LZi0ZBanrBWnwpDWdsstt4RLLrkkrL322vFx4403htGjR4dbb701bLTRRmGFFVYIJ510UhgxYkR8X/Lzzz9P8T7WmUyaNCm8/PLLYddddw0LL7xw/EmLM8tBa+tuu+0W7r///rDppptWbtewYcPCWWedFT+XB99z8ODB8TlJ5eN65LrMXqPZ9KjiciL9/fDDD8drnuuPa7N///6xRyF7vfN7dl1//PFHfN22224by6NDDjkkfPHFF4Vnay6zMHbs2HD11VfH9ad1fPTRR4VnQ9zObA9NcRnDZ7MNbEtSzucmqUzs2bNneO6558KKK64Y359QDrEu9gtlI2XkhAkT4nOkZ5Gm9cQTT4QLLrig8jX33Xdf5fawvW+//XbYZ5994vbyfJ8+fSYrN7P7MZWbfMdUbqZtvOGGG8Jpp50Wttxyy5KpYcX7auLEieHJJ5+M+6CqfVUs+33TMecYVaWm44dPP/00HHXUUfH5Ut+f31nGc2kd2fOoFD6D16V1Zo9LuftLUsMyCFK9evzxx8PTTz8dzjvvvHDHHXeEMWPGhOuvv76y8C/XTTfdFJZccsl4s+aGx82CmzRBTt++feM6uWnwuuwN85prromtjHfffXc49dRT48/bbrut8mb92muvhTPOOCNsv/328fctttginHDCCfEmmLzzzjthwIAB4cgjj4yVLSpV559/fvwu3KBTBeLMM88MP/30U+FdkmrCdXPzzTfH64gygmuJ9Deu6ZoQLG222WbhscceCzvvvHN8//777x+vd9bDdf3QQw+FBx98ML6ea56/KRMIMCiXFltssXDyySfHtKykujKL7eX9lBV8Pq9daKGFwimnnBK+++67whomR8BBmUIZ88Ybb8TPZh1sSyqHUG5Z2aJFi3DsscfGz19jjTXie/bee+/43PDhw2M5N9tss1XuU8q8e++9d7LPIlCgMv7II4+EXr16hYsuuqhyzNXAgQNjGUtFne09/fTTw3//+9/KcpMHx+yqq66K34XX8N3Y3+yXLF4311xzxX3Mz5q88sorsRzdd99943r5efHFF8fgsBSOG8EK6+Y8ILh577334v4tFTiVc/zS919iiSXivr3wwgvjT74L7+dx+eWXxxRN9kFaB/t96NChcR3FPvnkk3j/WGuttcKzzz4b9ynHhca1rNruL0n1yyBI9WqllVaKN6nOnTuHLl26hJ122ikGK9W11JWy5557hk022STMMccc8ebcvXv3MP/888demrnnnjssv/zysYWTG1i25ZdWRm7Q3FA23HDDeMOn9ZQWYyoZpGLQ2rjVVlvFdfP76quvHisuqdJARYlKDJ+76KKLxhvvhx9+GLbbbrsw33zzxe922GGHhVVWWaXWwZ2UZ1xLVCKPOOKIeN1xDe61116xZ6EmBx98cOV7tt5667DMMsvE8oZrmGVUODfeeOPw2Wefhd9++y32GFCRpzV+3XXXja+hfJh99tnDq6++Wlhr9WUWjS7vvvtubKmnLKDsYXt79OgRg7diNIoQgOy3336xjGnfvn38bLaB3u3vv/++8Mryy8pmzZrFIIc0wRlnnDFuf8uWLeNz9I41b948HHTQQbFsoneEwPDRRx+dbNwNn08ZSrmY9l1FRUV8jh4LlvM828s+ZrvYX3xHggU+57jjjovfhdfw3djvVOLpoU8on/l8vlurVq0KS6tGzzuBHceO9VLmH3300fF7lkLvC/cBUiXZPvYb9wGOEceqWE3HjzKfBq9ll1023itYJ79TvnOecr6SBcBxO/TQQyvXwT4kAP32228LnzQ5AkzuP7yO77XaaqvFfUfAlu1hqu3+klS/DIJUrzp06BBbLpN27doVfqsdbvjc/DHTTDOFNm3ahFlnnTXMMMMMcRm4aVBhyFZGuIml94GbPTcd0i9otePGT0UhvWbmmWeuDHTGjx8fl1HJ4PMTbnpLL710bEmktZL1UeHgRjznnHMWXiWpJuk669SpU2FJiNd0qtRXh0AgoUygbJllllkqywR+8jfXJ633BEGUD/QoJ1zXpF198803hSXVl1mUBVSK6al55plnYoWf57n2F1xwwcKr/h8V4yFDhoSuXbtOVg7xN/j+ydSWlXxPAj7KOMrHhKAqlXkJ5WKS9l1CIME2k+7FfmHfEZgQKPDalPbLfkv4bquuumplkJAUl781IbXvpZdeisEq28B76X1n7FApa665Zjj33HMn2/7sPaFYTcePBrSvvvoqHh/uBQnbxQyFlPOU//ScLbfccoVn//z+BJ9VoSGOQJLzEVW9vrb7S1L9MgjSdI0bG62BVAhSxYAeHW7o6UFuNjf6FAQVo4JGugQ3SlpDV1555XiDSy2pkspHyziV04bGdU+LPBXqdK3Ty3vllVfGintV13sWFewDDzww9jYwWQMVatJyGUOTTTdL6H1hvcVBHX/Xd0s/jT98R1J1s+UZKYN873JTddkn//73v2MZSM/FeuutF9PMUo8Uy9n2Ut8p21hUF/Q6nX322bFnjp539jPBR1U97IwhYizSAQccENP7+L70KlalpuPH5/z444/VBlKgN4z0P8YV8ZlsK9N9V4X10sOUxoXxIM1PUuNiEKTpGjcjbtRt27aNrXK0QN9zzz0xDSP7oKUv29JcjPdz4yVFgnz1eeaZJxx//PGTpbdIqhmV62wKa0Mh0CINiYH3xdc7KVfZlv/qUG7ssssuMc2NyjNpTYz3KFUJppygvCmuxBOsFE/iMrVSahzjTYq/HynAqfepHIyHYTzR66+/HgMgxtAwDoa0Qso6vk/xdyLIyvY21QW9IPQoMdaGCWoYG0Ov0O233154xeQYQ8QED6Su8XrSBwmaqlPd8eMcoEeO3q+qkEFAejQ9bIw34zPZx+uss07hFVNi7A/bRePZ559/Ht9jECQ1PgZBmmbSDSeb887Npz4rRKSjZFtoycGmxZLWZz6bSsPXX38dKyukRfAgJYVHVekN3PCoNLFubtqkwG2zzTaxYpNSRSTVjNQiUClM6rsMSDp27BjLAlK20rXOg3KI672cNCS2k54Gxh6CtDMmU6ExhcptMdKbKGuYXCVbDjFQns9M37+u2FdpvayPAfqMV+T39P0o4wiQSGWrCT0r1113XQx8WDc9IqTHMYaGIIFxlARBBEOk3iVsA0HIAgssUOeUYI45qW1pFkC2l54heu74LHrui1EWL7XUUnFMaPp+2TFJxWo6ftwb2If0nGWDPP4+5phj4rnDuB/KflLxUtohvX2//PJL/L0Y2819h/Q59iX7lP3FvpTUuBgEaZrhhsNNgVlyuIFyg7n22mvLmhmqXOS1s37yy2kBZvY4BvwS9HADI1WEtAhuvLTMUjmhR4eWRyoEpZAXTo8P28oUtmw3s1FR2aESIKk8BAFMXkCrOGlNDVEGJMwaR4WaNCZm6KLXgh4OJglgfEg5CKSoxDIlNRVqKsP0BlC+UJYVo4xhwgBmJEtlDJ9NrwpTXE/N/8ch0KHR5f3334/fhSCOwfeUYcz+lsom9icpvuX8Q1IafugFYswMs8uxvUyUwOxwpI4RUDERAeXmOeecE78Lr+G70WPDZA7V9aBXhzGe9K6wr9Lx4ZxgZjbGOaXxNFmLL754fC098gQnd955Zzy+Vanp+LEP//a3v8XJE7hX8Dzfn/OTFDYCPNbBvieDgAY0xjCxf+k1KyUFp3wPeuR4D0Ems85Vh+9ERkI5aZqS6odBkKYZbjiMx2HQLXnZVAq4YZQzM1S5mJWJgIWBqUxhylS6VEpSqy+tgEzJSqDEjDy0EjLL24477lhlTxAVN1IwaHFksDAVAm6ipKFwg5RUHiqkDErnOqKlvSHKgITPYipp0lgJEhjsTkWUa53goRyktlHhpeeAFCyCqhdffDH+zzAmVCmF8SLZMobPplyi7Cun96kqfB5jWwjiUroYg/uvuOKKycomxjsxdpGGn3IwM1t2e9PMl2wz+5Bt5pil/chreC3lH70jdcV6Of7Z48P4JgIrxiaVwv5njA+vZ4Y6JnLgPGJcT6l0w3KOHz/5LgRCPE+q3AYbbBBnEuT7EwSyjvQ8s/zxHGl1BDjF+F6cYzxPGh3nNr2PHBNeX1WvJ8v5DtkeREkNq1lFRcUkWmMkSZI0bZGKSIYCPW9M4T01wbKk8tkTJEmS9Bchs4CxsvRuGQBJ0449QZIkSZJyxZ4gSZIkSbliECRJkiQpVwyCJEmSJOWKQZAkSZKkXDEIkiRJkpQrBkGSJEmScsUgSJIkSVKuGARJkiRJyhWDIEmSJEm5YhAkSZIkKVcMgiRJkiTlikGQJKnRmzRpUhg4cGA444wzQkVFRWFp7Vx22WXxgV9//TXcdddd4YMPPoh/N3Yff/xxuPPOO8O4ceMKS1QV95WkchgESZIarYkTJ8ZA5R//+EfYZJNNwssvvxyXTa3ff/89PP/88+Gtt94qLGncfvjhh/DAAw+EUaNGFZY0jDfffDPsscceYeTIkYUlTc+02leSmjaDIElSo0Wvz2mnnRaWWGKJyl6c+tC6detw6aWXht13372wpHFbf/31Q79+/cK8885bWKKquK8klcMgSJI0zZCG1qdPn7DRRhuFbt26hUMOOSR88cUXhWenREWWCu1BBx0U5p577sLSmvE5N954Y1h77bXjg9+z6VH0dNDjQY9B9u+HH344nHTSSWGFFVYIm266aejfv3/sUbjkkksq18Xv2XX98ccf8XXbbrttye9E8Na7d+/w1FNPhR122CG+5vDDDw+DBg0qvCKEsWPHhquvvjquP63jo48+Kjwb4nYW99AMHjw4rpdt5X0XXnjhZL0f5Xxuwv468cQTQ8+ePcNzzz0XVlxxxcmCzuxncexuvfXWMGHChPjcl19+GTbffPPwxBNPhAsuuKDyNffdd1/cNyCd8e233w777LNPWHjhhePznAd8bpLdj7xm1113jT1/vBdpG2+44YYYGG+55Zbxs4sV7yt6Dp988sm4D1gv6+dz0raVUrxvOeYcI0nTD4MgSdI0QaXz8ssvj2loV111VXj88cfDQgstFE499dQwdOjQwqsmN8sss4SZZ5658Fd5+Jybb745VnTPO++8WBkn/a1v376FV1SNYGmzzTYLjz32WNh5553j+/fff/8YjLEexiQ99NBD4cEHH4yvp4LO39dcc00MMJ5++umw2GKLhZNPPjmmZSV8V55jfXfccUcYM2ZMuP7662Mgwfby/tdeey1+ftovp5xySvjuu+8Ka5gcyw877LAw22yzxe950003hW+++SZcdNFFkwVo1X1uVosWLcKxxx4bP3+NNdaI79l7773jc8OHD4/HKH0W67r77rvDvffeWxmggECBQOuRRx4JvXr1ituSxlwxnougguDnjTfeCKeffnr473//G2677ba4Dh4cM84L9iOv2X777eP+Zr9k8bq55por7mN+1uSVV14JZ555Zth3333jevl58cUXx+CwFI7bUUcdFdfNeUBw+t5778VjVF3gJKlpMQiSJE0Tw4YNC99//3049NBDw6KLLhp7drbeeutYyf72228Lr5p6VGKp/B9xxBFh9dVXD3PMMUfYa6+9Ys9CTQ4++ODK97BtyyyzTFhppZVi7wHL1lprrbDxxhuHzz77LPz222+xx4CKPD036667bnwNvRCzzz57ePXVVwtrDXEdVKw7d+4cunTpEnbaaafYi0Hvws8//xzefffd2LOR9gvb26NHjxi8FSNgePTRR+O62JfzzTdf7OFg/QQdL730UuGV1X9uVrNmzWKQQ5rgjDPOGLe/ZcuW8Tl6x5o3bx574/gsekcIDNmGbM8T+6B79+4xeEj7Lk1iQa8Wy3m+ffv2cR+zXewvviNBHZ9z3HHHxf3Ia7baaqu43wl6Ro8eHdeD3XbbLX4+361Vq1aFpVVjnBOBHceO9TK27Oijj47fsxR68eaff/6YKsn2sd/o6eIYcawkTR8MgiRJ0wSVe3oHlltuucKSPyvfVLDrE0HQ+PHjQ6dOnQpLQphhhhkqK/XVIRBIZpppptCuXbvYG8X7wU/+JjWLXgGCIAKKJZdcMj4PAgmCEnpmkg4dOsTeloT1JgQcyy67bOypeeaZZ2KFn+ephC+44IKFV/0/PpueFSrnfFbC/iVAYXa0pLrPLQefRcBHQNOmTZvC0hCDKp7LpucRMCRp3yVs65AhQ2IKHPuFfUdgQqDHa9mPYL8lnBurrrpqPJ4E0Amfw3PlIrWPwJBglW3gvaQ6MnaolDXXXDOce+65k21/Ov6Sph8GQZKkaYYWf1KcGGdBhZf0qGylvbbSeBTWxSONY6HFn+CiodEzQO8LFeq0DaTDXXnllbHiTjBWEyrYBx54YPweTNZAQMTYGcbQZNPNEoIPggYCnCyCiWygUh/opeE7nn/++ZXfjwcpg3zvn376qfDK6rFP/v3vf8ftppdovfXWi2lmqUeK5fTqFAeq/J0N9OqCXqezzz479sxxvrGfmR69OCUwYQwRY5EOOOCAmN7H96VXUdL0xSBIkjRNMO7nhBNOiL0IjKkhgCFVaZ111im8ovZYF4P0WQ+PNI6FyvW0+D8xBFqrrbZaHHiftiE9SLkqdzwTvUu77LJLHGdD8ENK2JFHHlkyQOS188wzzxQpbQRc2R6T+pBS4xjDU/z9mECha9euhVfWjBn+GE/0+uuvxwCIsT6MESOtkO9DUFIcmBBkZXub6iL1KDHeiCnRGUtEr9Dtt99eeMXkGEPEBA+Ma+L1nKcETZKmLwZBkqRpgnE/jP8h3Sj1WFBx/+WXX+LvdUEvCusidYkHPQdpFjkqrwnpVw0RFHXs2DH21pCylbaBB8EPaWjlpG2xnfQ0kOIGvs8WW2wR0/k+//zzuCyLIIixQ1TQmeggIcikd2appZYqLKkb9lXqgeI7MEnDhx9+GH9P34/AiACJ3qea0LNy3XXXxcCHdXPMSI9jDBRBHt+BIIhgiNS7hG3gOy6wwAJhzjnnLCytHY45qW1pFkC2l54heu74LHrVihHgsQ+XX375yu+XHZMkafpgECRJmiYIGKhI33PPPeHrr7+O4zSY8piegfpEEMTkBcwARloTAcq1115b1uxwtcWscVSoSfF79tlnY68FPRxMEsD4nnKwXwgMSOUjICJQpKeM8SsEC8UIrJhggH3Ie5jymvfRe7H44ovHnqm64viQmvb+++/H78JnbbjhhuGTTz6Js7/xWWl/cuzK+YekjPmiF4gxT8wuN2LEiDhRArPDkfpHQMVEBKTYnXPOOXE/8hoCF3psmMwhO1arNmadddbYW8jMbun4cE4w+x3jnAgoi7EPeS2TaxC433nnnfH4Spq+GARJkqYJKrpUnJlli8DhlltuiTOpkfpFhb6+EFAwqQCD7o855pj4v2+o3JczO1xt8Vmk4DF+hCCBQfj8v54dd9wxBg/lYMwL+4WeH1Kw2DcvvvhiOOuss2KPTynsS8YP0UPB9+R9vJ/Z1aZmDA2fx5gZgriULsbkDFdccUXlZxGskHbHZ7Vt2za+pibMzMY01UytzaxuTO+9yiqrhP322y/uQ4Itjlnaj7yG15KGR89hXbFejn/2+DC+icCKsUmlsP8Zo8XrmaGOiRw4j3788ccYnEmaPjSrqKiYRCuJJEmSJOWBPUGSJEmScsUgSJIkSVKuGARJkiRJyhWDIEmSJEm5YhAkSZIkKVcMgiRJkiTlikGQJEmSpFwxCJIkSZKUKwZBkiRJknLFIEiSJElSrhgESZIkScoVgyBJkiRJuWIQJEmSJClXDIIkSZIk5YpBkCRpujFy5Miwxx57hDfffLOwRJKkKRkESZIkScoVgyBJUoP7448/wrnnnhsuvvji+HtCj03Pnj3Dt99+G/8eNWpUuPDCC8Paa68dH5dcckkYO3ZsfA6//vpr6NevX9h0001Dt27dwiGHHBI++uij+NwDDzwQVlxxxfDcc8/FddIjRM8QBg8eHHr37h1WWGGFuF4+g89K2I7ddtst3H///XHdl112WeEZSdL0yCBIktTgZphhhrDmmmuG9957L/z8889x2aRJk8LLL78cll122TD33HOHcePGhYsuuih888034aabbgo33nhjfP2VV14ZAyceffr0CY899lg455xzwtNPPx3fe9JJJ4WKiorQvXv3uGyNNdaI7yWAatOmTfjuu+/CYYcdFmabbbbQv3//uG4+g8/iM5N33nknDBgwIBx55JExEJIkTb8MgiRJ08Riiy0WJkyYEL788sv495gxY8LHH38cVltttTDTTDOFV199Nf591FFHhYUXXjgsuuiiMXghUPr666/j4/HHHw///Oc/Y/AzxxxzxN6bpZZaKjz11FNhlllmCbPPPnuYccYZQ+vWrWMA1KxZs/Doo4+Gzp07h0MPPTTMN998cd18xgcffBBeeumluC1g+0444YSw0UYbxc+WJE2/DIIkSdMEQctyyy0Xe1zoBSKoISWNIAYEJfzesWPH+DfoIWrRokVMa/v+++9Dy5YtwwILLFB4NsTA54wzzgh77bVXYcnkSJ8bOHBg6NKlSwyMEtZLahxBV0IAlX2NJGn6ZRAkSZomUkrc22+/HXuBSHVLQc/vv/8ex/707ds3LqO3hsfqq68eXnnllTim58cff4zroHenXARBvLdDhw6FJX+i54meIklSPhkESZKmGdLMfvnll/Dhhx/GHqGUCkcKW6tWrcIBBxwQJykofpCiRiDDuCB6kcpFT9E888wz2eQKGD9+fBg2bFjhL0lS3hgESZKmGQKZrl27xgkKRo8eHWd4SxZffPHw6aefxl6hdu3axUfbtm1D8+bNY0rcvPPOGycySDPJgTFGTIBw9913F5b8Kc1ARxBE4PXWW2/F3qdk6NChlel3kqT8MQiSJE0zpLOtuuqq4b///W9Md2OcULLyyiuHmWeeOY7xYfKE4cOHx+CGyREGDRoUJzfYeOON46xu7777bnz+jjvuiFNiM9YIqUeJFDp6eiZOnBhnjWP8EdNesx7WfcEFF8Sgi54oSVL+GARJkqYpemYIWhjvQ1CUtG/fPpx99tmhU6dOoVevXmH99dePM8bx/33mn3/++Fr+9w/LmcaanwRDZ511VuVsbkyDvc0228Qg67jjjou9P7z30ksvjT1PPXr0iOvmM3jeiRAkKZ+aVVRUTKJ1TZIkSZLywJ4gSZIkSbliECRJkiQpVwyCJEmSJOWKQZAkSZKkXDEIkiRJkpQrBkGSJEmScsUgSJIkSVKuGARJkiRJyhWDIEmSJEm5YhAkSZIkKVcMgiRJkiTlikGQJEmSpFwxCJIkSZKUKwZBkiRJknLFIEiSJElSrhgESZIkScoVgyBJkiRJuWIQJEmSJClXDIIkSZIk5UoMgiZNmhT/kCRJkqTpWwj/Bx6Nx06CgAarAAAAAElFTkSuQmCC)"
   ]
  },
  {
   "cell_type": "code",
   "execution_count": null,
   "metadata": {
    "id": "rNlvUm7nbMY4"
   },
   "outputs": [],
   "source": []
  },
  {
   "cell_type": "markdown",
   "metadata": {
    "id": "Og7mmBLAbcHv"
   },
   "source": [
    "### GETTING COMFORTABLE WITH RANDOM TENSORS\n",
    "\n",
    "Why random tensors?\n",
    "\n",
    "Random tensors are important because the way many neural networks learn is that they start with tensors full of random numbers and then adjust those random numbers to better represent the data."
   ]
  },
  {
   "cell_type": "markdown",
   "metadata": {
    "id": "gS99G5gAbcLy"
   },
   "source": [
    "`Start with random numbers -> look at data -> update random numbers -> look at data -> update random numbers`"
   ]
  },
  {
   "cell_type": "code",
   "execution_count": null,
   "metadata": {
    "colab": {
     "base_uri": "https://localhost:8080/"
    },
    "id": "nZ56VdfpbcPi",
    "outputId": "5054dcf0-0c46-4d5a-eb26-2c9c0cf10864"
   },
   "outputs": [
    {
     "data": {
      "text/plain": [
       "tensor([[0.2464, 0.3748, 0.0263, 0.5489],\n",
       "        [0.0822, 0.6695, 0.4334, 0.4421],\n",
       "        [0.2124, 0.4581, 0.5378, 0.5679]])"
      ]
     },
     "execution_count": 24,
     "metadata": {},
     "output_type": "execute_result"
    }
   ],
   "source": [
    "# Creating a random tensor of size (3,4)\n",
    "random_tensor = torch.rand(3,4)\n",
    "random_tensor"
   ]
  },
  {
   "cell_type": "code",
   "execution_count": null,
   "metadata": {
    "colab": {
     "base_uri": "https://localhost:8080/"
    },
    "id": "8mRZg1cCeDpr",
    "outputId": "015bfb78-7af4-46c9-96f1-3e7d9bb14451"
   },
   "outputs": [
    {
     "data": {
      "text/plain": [
       "2"
      ]
     },
     "execution_count": 25,
     "metadata": {},
     "output_type": "execute_result"
    }
   ],
   "source": [
    "random_tensor.ndim"
   ]
  },
  {
   "cell_type": "code",
   "execution_count": null,
   "metadata": {
    "id": "HdvHcjZJeRQZ"
   },
   "outputs": [],
   "source": []
  },
  {
   "cell_type": "code",
   "execution_count": null,
   "metadata": {
    "id": "aqzqlbWBeoE7"
   },
   "outputs": [],
   "source": [
    "# Craete a random tensor with similar shape to an image sensor\n",
    "random_image_size_tensor = torch.rand(224,224,3)\n",
    "\n",
    "# (224,224,3) => (height, width, colour channels)\n",
    "# Colour channels are RGB"
   ]
  },
  {
   "cell_type": "code",
   "execution_count": null,
   "metadata": {
    "colab": {
     "base_uri": "https://localhost:8080/"
    },
    "id": "DrHSmjJXfDgs",
    "outputId": "391932e1-d447-4a12-bf6a-5f8bee037db7"
   },
   "outputs": [
    {
     "data": {
      "text/plain": [
       "3"
      ]
     },
     "execution_count": 27,
     "metadata": {},
     "output_type": "execute_result"
    }
   ],
   "source": [
    "random_image_size_tensor.ndim"
   ]
  },
  {
   "cell_type": "code",
   "execution_count": null,
   "metadata": {
    "colab": {
     "base_uri": "https://localhost:8080/"
    },
    "id": "kXWiHQJHfF8s",
    "outputId": "c74acde6-eb13-47db-fbba-1a9a07800640"
   },
   "outputs": [
    {
     "data": {
      "text/plain": [
       "torch.Size([224, 224, 3])"
      ]
     },
     "execution_count": 28,
     "metadata": {},
     "output_type": "execute_result"
    }
   ],
   "source": [
    "random_image_size_tensor.shape"
   ]
  },
  {
   "cell_type": "code",
   "execution_count": null,
   "metadata": {
    "id": "jiT8Q5y2fJfX"
   },
   "outputs": [],
   "source": []
  },
  {
   "cell_type": "code",
   "execution_count": null,
   "metadata": {
    "colab": {
     "base_uri": "https://localhost:8080/"
    },
    "id": "utS2p3_FUjEb",
    "outputId": "de82d365-08f5-4c95-a8e3-c8da0cafdb3c"
   },
   "outputs": [
    {
     "data": {
      "text/plain": [
       "tensor([[0.6240, 0.6288, 0.4648],\n",
       "        [0.0295, 0.8456, 0.4094],\n",
       "        [0.1009, 0.8883, 0.0902]])"
      ]
     },
     "execution_count": 29,
     "metadata": {},
     "output_type": "execute_result"
    }
   ],
   "source": [
    "torch.rand(size=(3,3))"
   ]
  },
  {
   "cell_type": "code",
   "execution_count": null,
   "metadata": {
    "id": "avkLJE2DUlug"
   },
   "outputs": [],
   "source": []
  },
  {
   "cell_type": "markdown",
   "metadata": {
    "id": "K73yAx8dVDAh"
   },
   "source": [
    "ZEROS AND ONES"
   ]
  },
  {
   "cell_type": "code",
   "execution_count": null,
   "metadata": {
    "colab": {
     "base_uri": "https://localhost:8080/"
    },
    "id": "BhHzXmUTVDD5",
    "outputId": "3b551b68-4576-4e71-d014-7ee729296449"
   },
   "outputs": [
    {
     "data": {
      "text/plain": [
       "tensor([[0., 0., 0.],\n",
       "        [0., 0., 0.],\n",
       "        [0., 0., 0.]])"
      ]
     },
     "execution_count": 30,
     "metadata": {},
     "output_type": "execute_result"
    }
   ],
   "source": [
    "#Create a tensor with all zeros\n",
    "zeros = torch.zeros(size=(3,3))\n",
    "zeros"
   ]
  },
  {
   "cell_type": "code",
   "execution_count": null,
   "metadata": {
    "colab": {
     "base_uri": "https://localhost:8080/"
    },
    "id": "a3lps_3sVOOs",
    "outputId": "a3e83ece-9ef0-441d-9061-685014f8bde0"
   },
   "outputs": [
    {
     "data": {
      "text/plain": [
       "tensor([[0., 0., 0., 0.],\n",
       "        [0., 0., 0., 0.],\n",
       "        [0., 0., 0., 0.]])"
      ]
     },
     "execution_count": 31,
     "metadata": {},
     "output_type": "execute_result"
    }
   ],
   "source": [
    "zeros = torch.zeros(size=(3,4))\n",
    "zeros"
   ]
  },
  {
   "cell_type": "code",
   "execution_count": null,
   "metadata": {
    "colab": {
     "base_uri": "https://localhost:8080/"
    },
    "id": "JQEQum8XVXXs",
    "outputId": "80f55723-0b28-4526-c161-e184e9d76100"
   },
   "outputs": [
    {
     "data": {
      "text/plain": [
       "tensor([[0., 0., 0., 0.],\n",
       "        [0., 0., 0., 0.],\n",
       "        [0., 0., 0., 0.]])"
      ]
     },
     "execution_count": 32,
     "metadata": {},
     "output_type": "execute_result"
    }
   ],
   "source": [
    "zeros*random_tensor"
   ]
  },
  {
   "cell_type": "code",
   "execution_count": null,
   "metadata": {
    "colab": {
     "base_uri": "https://localhost:8080/"
    },
    "id": "fjJBoW8NVsLU",
    "outputId": "df18de1d-a96c-4b17-df02-1a042f61a85b"
   },
   "outputs": [
    {
     "data": {
      "text/plain": [
       "tensor([[1., 1., 1.],\n",
       "        [1., 1., 1.],\n",
       "        [1., 1., 1.]])"
      ]
     },
     "execution_count": 33,
     "metadata": {},
     "output_type": "execute_result"
    }
   ],
   "source": [
    "#Create a tensor with all ones\n",
    "ones = torch.ones(size=(3,3))\n",
    "ones"
   ]
  },
  {
   "cell_type": "code",
   "execution_count": null,
   "metadata": {
    "colab": {
     "base_uri": "https://localhost:8080/"
    },
    "id": "l43705HPVy7Y",
    "outputId": "51c931f6-c392-41ba-bc4c-3e814c16ea99"
   },
   "outputs": [
    {
     "data": {
      "text/plain": [
       "torch.float32"
      ]
     },
     "execution_count": 34,
     "metadata": {},
     "output_type": "execute_result"
    }
   ],
   "source": [
    "ones.dtype"
   ]
  },
  {
   "cell_type": "code",
   "execution_count": null,
   "metadata": {
    "id": "J46Ot1JyV2dv"
   },
   "outputs": [],
   "source": []
  },
  {
   "cell_type": "markdown",
   "metadata": {
    "id": "3HrtxXdXWF8k"
   },
   "source": [
    "CREATING A RANGE OF TENSORS AND TENSORS-LIKE"
   ]
  },
  {
   "cell_type": "code",
   "execution_count": null,
   "metadata": {
    "colab": {
     "base_uri": "https://localhost:8080/"
    },
    "id": "uQWLG1Y7WMhk",
    "outputId": "fa865a00-1943-4363-c16c-28ffb870ac04"
   },
   "outputs": [
    {
     "data": {
      "text/plain": [
       "tensor([ 1,  2,  3,  4,  5,  6,  7,  8,  9, 10])"
      ]
     },
     "execution_count": 35,
     "metadata": {},
     "output_type": "execute_result"
    }
   ],
   "source": [
    "# Using torch.arange()\n",
    "one_to_ten = torch.arange(1,11)\n",
    "one_to_ten"
   ]
  },
  {
   "cell_type": "code",
   "execution_count": null,
   "metadata": {
    "colab": {
     "base_uri": "https://localhost:8080/"
    },
    "id": "6hbT2Jl1WbGl",
    "outputId": "24f9f25e-724d-4713-c983-f530b23ee8bf"
   },
   "outputs": [
    {
     "data": {
      "text/plain": [
       "tensor([  0,  77, 154, 231, 308, 385, 462, 539, 616, 693, 770, 847, 924])"
      ]
     },
     "execution_count": 36,
     "metadata": {},
     "output_type": "execute_result"
    }
   ],
   "source": [
    "a = torch.arange(start=0,end=1000,step=77)\n",
    "a"
   ]
  },
  {
   "cell_type": "code",
   "execution_count": null,
   "metadata": {
    "colab": {
     "base_uri": "https://localhost:8080/"
    },
    "id": "RKSy3gYWWyZW",
    "outputId": "be8fdf80-d7dd-41e3-d001-d30050400852"
   },
   "outputs": [
    {
     "data": {
      "text/plain": [
       "tensor([ 1,  2,  3,  4,  5,  6,  7,  8,  9, 10])"
      ]
     },
     "execution_count": 37,
     "metadata": {},
     "output_type": "execute_result"
    }
   ],
   "source": [
    "# Using torch.arange()\n",
    "one_to_ten = torch.arange(start=1, end=11, step=1)\n",
    "one_to_ten"
   ]
  },
  {
   "cell_type": "code",
   "execution_count": null,
   "metadata": {
    "colab": {
     "base_uri": "https://localhost:8080/"
    },
    "id": "8Y9xetx4W9jT",
    "outputId": "eb83a930-0a1e-4152-adcd-53d24a3cdebd"
   },
   "outputs": [
    {
     "data": {
      "text/plain": [
       "tensor([0, 0, 0, 0, 0, 0, 0, 0, 0, 0])"
      ]
     },
     "execution_count": 38,
     "metadata": {},
     "output_type": "execute_result"
    }
   ],
   "source": [
    "ten_zeros = torch.zeros_like(input=one_to_ten)  # Tensor like is used to replicate a tensor with a similar shape.\n",
    "ten_zeros"
   ]
  },
  {
   "cell_type": "code",
   "execution_count": null,
   "metadata": {
    "id": "9sTN4Ch6Xdt0"
   },
   "outputs": [],
   "source": []
  },
  {
   "cell_type": "code",
   "execution_count": null,
   "metadata": {
    "id": "F-JBToh0X5J7"
   },
   "outputs": [],
   "source": []
  },
  {
   "cell_type": "markdown",
   "metadata": {
    "id": "Kx89fw-OX5Nc"
   },
   "source": [
    "TENSOR DATATYPES"
   ]
  },
  {
   "cell_type": "markdown",
   "metadata": {
    "id": "75kFXWyuX9wq"
   },
   "source": [
    "![image.png](data:image/png;base64,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)"
   ]
  },
  {
   "cell_type": "markdown",
   "metadata": {
    "id": "svTu4VQpaM1j"
   },
   "source": [
    "![image.png](data:image/png;base64,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)"
   ]
  },
  {
   "cell_type": "markdown",
   "metadata": {
    "id": "PgB1XoxYaTwD"
   },
   "source": [
    " **Note:** Tensor datatypes is one of the 3 big errors you'll run into with PyTorch and Deep Learning:\n",
    "\n",
    "1. Tensors not right datatype.\n",
    "\n",
    "2. Tensors not right shape.\n",
    "\n",
    "3. Tensors not on the right device.\n",
    "\n",
    "Precision in computing - https://en.wikipedia.org/wiki/Precision_(computer_science)"
   ]
  },
  {
   "cell_type": "code",
   "execution_count": null,
   "metadata": {
    "colab": {
     "base_uri": "https://localhost:8080/"
    },
    "id": "PgX6jWsabBQ7",
    "outputId": "280a1331-aab7-4557-ca1d-df36443e7dc1"
   },
   "outputs": [
    {
     "data": {
      "text/plain": [
       "tensor([3., 6., 9.])"
      ]
     },
     "execution_count": 39,
     "metadata": {},
     "output_type": "execute_result"
    }
   ],
   "source": [
    "# Float32 tensor\n",
    "float_32_tensor = torch.tensor([3.0, 6.0, 9.0],\n",
    "                               dtype=None,          # what datatype is the tensor (e.g.: float32 or float16 etc), default is torch.float32\n",
    "                               device=None,         # what device is your tensor on (e.g.: GPU,TPU etc.), default is cpu\n",
    "                               requires_grad=False) # whether or not to track gradients with this tensors operations.\n",
    "float_32_tensor"
   ]
  },
  {
   "cell_type": "code",
   "execution_count": null,
   "metadata": {
    "colab": {
     "base_uri": "https://localhost:8080/"
    },
    "id": "OUapS2j-cX3r",
    "outputId": "70f11ad5-3616-4bf8-997d-5c2e4a123738"
   },
   "outputs": [
    {
     "data": {
      "text/plain": [
       "torch.float32"
      ]
     },
     "execution_count": 40,
     "metadata": {},
     "output_type": "execute_result"
    }
   ],
   "source": [
    "float_32_tensor.dtype  #default of dtype is torch.float32"
   ]
  },
  {
   "cell_type": "code",
   "execution_count": null,
   "metadata": {
    "colab": {
     "base_uri": "https://localhost:8080/"
    },
    "id": "feQVDUGccaXt",
    "outputId": "ca5b1af2-a44b-43fd-9fc7-9304e4e3100c"
   },
   "outputs": [
    {
     "data": {
      "text/plain": [
       "tensor([3., 6., 9.], dtype=torch.float16)"
      ]
     },
     "execution_count": 41,
     "metadata": {},
     "output_type": "execute_result"
    }
   ],
   "source": [
    "# Float16 tensor\n",
    "float_16_tensor = float_32_tensor.type(torch.float16)\n",
    "float_16_tensor"
   ]
  },
  {
   "cell_type": "code",
   "execution_count": null,
   "metadata": {
    "colab": {
     "base_uri": "https://localhost:8080/"
    },
    "id": "RaoVBlDjctAT",
    "outputId": "48279b28-f4cc-4ba7-f0c2-7975fe631aaf"
   },
   "outputs": [
    {
     "data": {
      "text/plain": [
       "tensor([ 9., 36., 81.])"
      ]
     },
     "execution_count": 42,
     "metadata": {},
     "output_type": "execute_result"
    }
   ],
   "source": [
    "mul = float_16_tensor*float_32_tensor\n",
    "mul"
   ]
  },
  {
   "cell_type": "code",
   "execution_count": null,
   "metadata": {
    "colab": {
     "base_uri": "https://localhost:8080/"
    },
    "id": "yIxWl86_c4YJ",
    "outputId": "89275424-4690-4750-9c64-9a385d91d868"
   },
   "outputs": [
    {
     "data": {
      "text/plain": [
       "torch.float32"
      ]
     },
     "execution_count": 43,
     "metadata": {},
     "output_type": "execute_result"
    }
   ],
   "source": [
    "mul.dtype"
   ]
  },
  {
   "cell_type": "code",
   "execution_count": null,
   "metadata": {
    "colab": {
     "base_uri": "https://localhost:8080/"
    },
    "id": "uyy4zmhRc-Oq",
    "outputId": "49de5e5e-0e01-4462-af7f-917b05dda3a1"
   },
   "outputs": [
    {
     "data": {
      "text/plain": [
       "tensor([3, 6, 9], dtype=torch.int32)"
      ]
     },
     "execution_count": 44,
     "metadata": {},
     "output_type": "execute_result"
    }
   ],
   "source": [
    "int_32_tensor = torch.tensor([3,6,9],dtype=torch.int32)\n",
    "int_32_tensor"
   ]
  },
  {
   "cell_type": "code",
   "execution_count": null,
   "metadata": {
    "colab": {
     "base_uri": "https://localhost:8080/"
    },
    "id": "XF29tj6ydXr8",
    "outputId": "ed525c40-8a2b-4081-f10a-324ec18a4e91"
   },
   "outputs": [
    {
     "data": {
      "text/plain": [
       "tensor([ 9., 36., 81.])"
      ]
     },
     "execution_count": 45,
     "metadata": {},
     "output_type": "execute_result"
    }
   ],
   "source": [
    "int_32_tensor*float_32_tensor"
   ]
  },
  {
   "cell_type": "code",
   "execution_count": null,
   "metadata": {
    "colab": {
     "base_uri": "https://localhost:8080/"
    },
    "id": "2hkUptLpdbET",
    "outputId": "11d62f8b-560c-4d32-e65c-cf32b9d7aa86"
   },
   "outputs": [
    {
     "data": {
      "text/plain": [
       "tensor([3, 6, 9])"
      ]
     },
     "execution_count": 46,
     "metadata": {},
     "output_type": "execute_result"
    }
   ],
   "source": [
    "int_64_tensor = torch.tensor([3,6,9],dtype=torch.int64)\n",
    "int_64_tensor"
   ]
  },
  {
   "cell_type": "code",
   "execution_count": null,
   "metadata": {
    "colab": {
     "base_uri": "https://localhost:8080/"
    },
    "id": "oAkiHLjmdkC7",
    "outputId": "47950c72-36b4-456b-8981-154d500b6dc5"
   },
   "outputs": [
    {
     "data": {
      "text/plain": [
       "tensor([ 9., 36., 81.])"
      ]
     },
     "execution_count": 47,
     "metadata": {},
     "output_type": "execute_result"
    }
   ],
   "source": [
    "res = int_64_tensor*float_32_tensor\n",
    "res"
   ]
  },
  {
   "cell_type": "code",
   "execution_count": null,
   "metadata": {
    "colab": {
     "base_uri": "https://localhost:8080/"
    },
    "id": "27Tjw-71dnnh",
    "outputId": "b59054ee-8f60-439f-c8cd-785c705784b2"
   },
   "outputs": [
    {
     "data": {
      "text/plain": [
       "torch.float32"
      ]
     },
     "execution_count": 48,
     "metadata": {},
     "output_type": "execute_result"
    }
   ],
   "source": [
    "res.dtype"
   ]
  },
  {
   "cell_type": "code",
   "execution_count": null,
   "metadata": {
    "id": "AZvTFgaSdxNT"
   },
   "outputs": [],
   "source": []
  },
  {
   "cell_type": "code",
   "execution_count": null,
   "metadata": {
    "id": "ulyX2oyHeG2-"
   },
   "outputs": [],
   "source": []
  },
  {
   "cell_type": "markdown",
   "metadata": {
    "id": "HDOnBCaLeHH2"
   },
   "source": [
    "**Getting information from tensors (tensor attributes)**\n",
    "\n",
    "1. Tensors not right datatype. - to get datatype of a tensor use `tensor.dtype`\n",
    "\n",
    "2. Tensors not right shape. - to get tensor shape use `tensor.shape`\n",
    "\n",
    "3. Tensors not on the right device. - to get device from a tensor use `tensor.device`"
   ]
  },
  {
   "cell_type": "code",
   "execution_count": null,
   "metadata": {
    "colab": {
     "base_uri": "https://localhost:8080/"
    },
    "id": "R_FHNDJfehUE",
    "outputId": "2e707148-2679-4e37-fa32-b8c4e5f16ae1"
   },
   "outputs": [
    {
     "data": {
      "text/plain": [
       "tensor([[0.7152, 0.6791, 0.4745, 0.8184],\n",
       "        [0.6606, 0.3046, 0.4228, 0.3446],\n",
       "        [0.3804, 0.8086, 0.2999, 0.6396]])"
      ]
     },
     "execution_count": 49,
     "metadata": {},
     "output_type": "execute_result"
    }
   ],
   "source": [
    "# Create a tensor\n",
    "some_tensor = torch.rand(3,4)\n",
    "some_tensor"
   ]
  },
  {
   "cell_type": "code",
   "execution_count": null,
   "metadata": {
    "colab": {
     "base_uri": "https://localhost:8080/"
    },
    "id": "qPTVTWEDgNxd",
    "outputId": "60b59f6b-cc59-4256-c93c-3ab762cc07ab"
   },
   "outputs": [
    {
     "name": "stdout",
     "output_type": "stream",
     "text": [
      "tensor([[0.7152, 0.6791, 0.4745, 0.8184],\n",
      "        [0.6606, 0.3046, 0.4228, 0.3446],\n",
      "        [0.3804, 0.8086, 0.2999, 0.6396]])\n",
      "Datatype of tensor: torch.float32\n",
      "Shape of tensor: torch.Size([3, 4])\n",
      "Device tensor is on: cpu\n"
     ]
    }
   ],
   "source": [
    "#Find out the details about some tensor\n",
    "print(some_tensor)\n",
    "print(f\"Datatype of tensor: {some_tensor.dtype}\")\n",
    "print(f\"Shape of tensor: {some_tensor.shape}\")\n",
    "print(f\"Device tensor is on: {some_tensor.device}\")"
   ]
  },
  {
   "cell_type": "code",
   "execution_count": null,
   "metadata": {
    "id": "u3Xr9oIwgqUQ"
   },
   "outputs": [],
   "source": []
  },
  {
   "cell_type": "code",
   "execution_count": null,
   "metadata": {
    "id": "pNx5sjpmhJzf"
   },
   "outputs": [],
   "source": []
  },
  {
   "cell_type": "markdown",
   "metadata": {
    "id": "strlLjUQhKAS"
   },
   "source": [
    "# **Manipulating Tensors (tensor operations)**\n",
    "Tensor operations include:\n",
    "\n",
    "* Addition\n",
    "* Subtraction\n",
    "* Multiplication (element-wise)\n",
    "* Division\n",
    "* Matrix multiplication"
   ]
  },
  {
   "cell_type": "code",
   "execution_count": null,
   "metadata": {
    "colab": {
     "base_uri": "https://localhost:8080/"
    },
    "id": "ZUZsKBzfhTmU",
    "outputId": "d7eddef4-b3a7-4f87-faa6-35850d85bfa1"
   },
   "outputs": [
    {
     "data": {
      "text/plain": [
       "tensor([11, 12, 13])"
      ]
     },
     "execution_count": 51,
     "metadata": {},
     "output_type": "execute_result"
    }
   ],
   "source": [
    "# Create a tensor and add 10 to it\n",
    "tensor = torch.tensor([1,2,3])\n",
    "tensor+10"
   ]
  },
  {
   "cell_type": "code",
   "execution_count": null,
   "metadata": {
    "colab": {
     "base_uri": "https://localhost:8080/"
    },
    "id": "EJk552tLiAR-",
    "outputId": "d2aa9d9e-8523-4f2b-f18f-7090cd69c470"
   },
   "outputs": [
    {
     "data": {
      "text/plain": [
       "tensor([10, 20, 30])"
      ]
     },
     "execution_count": 52,
     "metadata": {},
     "output_type": "execute_result"
    }
   ],
   "source": [
    "# Multiply tensor by 10\n",
    "tensor*10"
   ]
  },
  {
   "cell_type": "code",
   "execution_count": null,
   "metadata": {
    "colab": {
     "base_uri": "https://localhost:8080/"
    },
    "id": "TICGRJI_iLJo",
    "outputId": "d1fcaa42-948e-47f9-fa0e-3119095bffee"
   },
   "outputs": [
    {
     "data": {
      "text/plain": [
       "tensor([-9, -8, -7])"
      ]
     },
     "execution_count": 53,
     "metadata": {},
     "output_type": "execute_result"
    }
   ],
   "source": [
    "# Subtract 10\n",
    "tensor - 10"
   ]
  },
  {
   "cell_type": "code",
   "execution_count": null,
   "metadata": {
    "colab": {
     "base_uri": "https://localhost:8080/"
    },
    "id": "xVPAHQUBiZXQ",
    "outputId": "887b63ee-bb5c-4abe-e5df-8d1661da16d9"
   },
   "outputs": [
    {
     "data": {
      "text/plain": [
       "tensor([0.1000, 0.2000, 0.3000])"
      ]
     },
     "execution_count": 54,
     "metadata": {},
     "output_type": "execute_result"
    }
   ],
   "source": [
    "# Divide by 10\n",
    "tensor/10"
   ]
  },
  {
   "cell_type": "code",
   "execution_count": null,
   "metadata": {
    "colab": {
     "base_uri": "https://localhost:8080/"
    },
    "id": "VKM2X5BQioBb",
    "outputId": "5f1d178a-562a-4041-838c-755f6f22a99d"
   },
   "outputs": [
    {
     "data": {
      "text/plain": [
       "tensor([10, 20, 30])"
      ]
     },
     "execution_count": 55,
     "metadata": {},
     "output_type": "execute_result"
    }
   ],
   "source": [
    "# Trying out PyTorch in-built functions\n",
    "torch.mul(tensor,10)"
   ]
  },
  {
   "cell_type": "code",
   "execution_count": null,
   "metadata": {
    "colab": {
     "base_uri": "https://localhost:8080/"
    },
    "id": "Lug0dRSLi50n",
    "outputId": "7ad22c40-2c56-4a29-be75-6c8547708070"
   },
   "outputs": [
    {
     "data": {
      "text/plain": [
       "tensor([11, 12, 13])"
      ]
     },
     "execution_count": 56,
     "metadata": {},
     "output_type": "execute_result"
    }
   ],
   "source": [
    "torch.add(tensor,10)"
   ]
  },
  {
   "cell_type": "code",
   "execution_count": null,
   "metadata": {
    "colab": {
     "base_uri": "https://localhost:8080/"
    },
    "id": "4geiIw7WjBhH",
    "outputId": "fc3d296e-6124-4b1c-c792-60878d8cfa09"
   },
   "outputs": [
    {
     "data": {
      "text/plain": [
       "tensor([-9, -8, -7])"
      ]
     },
     "execution_count": 57,
     "metadata": {},
     "output_type": "execute_result"
    }
   ],
   "source": [
    "torch.sub(tensor,10)"
   ]
  },
  {
   "cell_type": "code",
   "execution_count": null,
   "metadata": {
    "colab": {
     "base_uri": "https://localhost:8080/"
    },
    "id": "GO5lOGPKjDTu",
    "outputId": "264d0781-2607-447d-a192-0631402e0dfd"
   },
   "outputs": [
    {
     "data": {
      "text/plain": [
       "tensor([0.1000, 0.2000, 0.3000])"
      ]
     },
     "execution_count": 58,
     "metadata": {},
     "output_type": "execute_result"
    }
   ],
   "source": [
    "torch.div(tensor,10)"
   ]
  },
  {
   "cell_type": "code",
   "execution_count": null,
   "metadata": {
    "id": "bVyre8dbjFHD"
   },
   "outputs": [],
   "source": []
  },
  {
   "cell_type": "markdown",
   "metadata": {
    "id": "SW3g5-fE5Dch"
   },
   "source": [
    "**Two main ways of performing multiplication in neural networks and deep learning:**\n",
    "\n",
    "1. Element-wise multiplication\n",
    "2. Matrix Multiplication (dot product)"
   ]
  },
  {
   "cell_type": "markdown",
   "metadata": {
    "id": "ax0pYDA45SSa"
   },
   "source": [
    "[https://www.mathsisfun.com/algebra/matrix-multiplying.html](https://)"
   ]
  },
  {
   "cell_type": "markdown",
   "metadata": {
    "id": "7EF9rwRv-SWS"
   },
   "source": [
    "There are two main rules that performing matrix multiplication (symbol is `@` or can use `matmul`) needs to satisfy:\n",
    "\n",
    "1. The **inner dimensions** must match:\n",
    "\n",
    "* `(3,2) @ (3,2)` won't work\n",
    "* `(2,3) @ (3,2)` will work\n",
    "* `(3,2) @ (2,3)` will work\n",
    "\n",
    ".\n",
    "\n",
    "2. The resulting matrix has the shape of the **outer dimensions**:\n",
    "* (2,3) @ (3,2) -> (2,2)"
   ]
  },
  {
   "cell_type": "code",
   "execution_count": null,
   "metadata": {
    "colab": {
     "base_uri": "https://localhost:8080/"
    },
    "id": "n8Vn6jD5_gre",
    "outputId": "a56abb3a-c6a0-4244-c568-c8c6f633f83b"
   },
   "outputs": [
    {
     "data": {
      "text/plain": [
       "tensor([[2.6170, 2.2037, 1.7969],\n",
       "        [2.0695, 1.7349, 1.3576],\n",
       "        [3.2244, 2.3317, 2.6482]])"
      ]
     },
     "execution_count": 59,
     "metadata": {},
     "output_type": "execute_result"
    }
   ],
   "source": [
    "torch.matmul(torch.rand(3,10),torch.rand(10,3))"
   ]
  },
  {
   "cell_type": "code",
   "execution_count": null,
   "metadata": {
    "colab": {
     "base_uri": "https://localhost:8080/"
    },
    "id": "QqTb-KzZ503p",
    "outputId": "f4ca4e3b-2bed-4c38-fbb8-0cc949cb2727"
   },
   "outputs": [
    {
     "data": {
      "text/plain": [
       "tensor([1, 2, 3])"
      ]
     },
     "execution_count": 60,
     "metadata": {},
     "output_type": "execute_result"
    }
   ],
   "source": [
    "tensor"
   ]
  },
  {
   "cell_type": "code",
   "execution_count": null,
   "metadata": {
    "colab": {
     "base_uri": "https://localhost:8080/"
    },
    "id": "sU2Mq1vc59wO",
    "outputId": "85caa720-1b9b-4b1a-8855-b0b6a4641869"
   },
   "outputs": [
    {
     "name": "stdout",
     "output_type": "stream",
     "text": [
      "tensor([1, 2, 3]) * tensor([1, 2, 3])\n",
      "Equals: tensor([1, 4, 9])\n"
     ]
    }
   ],
   "source": [
    "# Element-wise multiplication\n",
    "print(tensor,'*',tensor)\n",
    "print(f\"Equals: {tensor*tensor}\")"
   ]
  },
  {
   "cell_type": "markdown",
   "metadata": {
    "id": "kcdtrJz56qdI"
   },
   "source": [
    "[ 1 * 1, 2 * 2, 3 * 3]"
   ]
  },
  {
   "cell_type": "code",
   "execution_count": null,
   "metadata": {
    "colab": {
     "base_uri": "https://localhost:8080/"
    },
    "id": "XXqxESt36Qwe",
    "outputId": "e0ebece9-da64-450c-f7c7-5d44e5a446eb"
   },
   "outputs": [
    {
     "data": {
      "text/plain": [
       "tensor(14)"
      ]
     },
     "execution_count": 62,
     "metadata": {},
     "output_type": "execute_result"
    }
   ],
   "source": [
    "# Matrix multiplication\n",
    "torch.matmul(tensor,tensor)"
   ]
  },
  {
   "cell_type": "code",
   "execution_count": null,
   "metadata": {
    "colab": {
     "base_uri": "https://localhost:8080/"
    },
    "id": "OC0hbAdk7Dzv",
    "outputId": "309c7c8a-d693-4471-aec3-dfa3cc94d3c4"
   },
   "outputs": [
    {
     "data": {
      "text/plain": [
       "14"
      ]
     },
     "execution_count": 63,
     "metadata": {},
     "output_type": "execute_result"
    }
   ],
   "source": [
    "1*1+2*2+3*3"
   ]
  },
  {
   "cell_type": "code",
   "execution_count": null,
   "metadata": {
    "id": "KwzVPVT07FA1"
   },
   "outputs": [],
   "source": []
  },
  {
   "cell_type": "markdown",
   "metadata": {
    "id": "KGfsA4UK72fu"
   },
   "source": [
    "**PyTorch built-in library is faster at calculation than loops (manual calculation).**"
   ]
  },
  {
   "cell_type": "code",
   "execution_count": null,
   "metadata": {
    "colab": {
     "base_uri": "https://localhost:8080/"
    },
    "id": "ywCx-FPJ8C0l",
    "outputId": "7127b75e-a8f6-4737-f867-371bc580fc46"
   },
   "outputs": [
    {
     "name": "stdout",
     "output_type": "stream",
     "text": [
      "tensor(14)\n",
      "CPU times: user 360 µs, sys: 0 ns, total: 360 µs\n",
      "Wall time: 367 µs\n"
     ]
    }
   ],
   "source": [
    "%%time\n",
    "value=0\n",
    "for i in range(len(tensor)):\n",
    "  value+=tensor[i]*tensor[i]\n",
    "print(value)"
   ]
  },
  {
   "cell_type": "code",
   "execution_count": null,
   "metadata": {
    "colab": {
     "base_uri": "https://localhost:8080/"
    },
    "id": "LOamlJd_8O43",
    "outputId": "dae628c9-59df-4b6e-9951-bec449ddbfa7"
   },
   "outputs": [
    {
     "name": "stdout",
     "output_type": "stream",
     "text": [
      "CPU times: user 36 µs, sys: 0 ns, total: 36 µs\n",
      "Wall time: 39.1 µs\n"
     ]
    },
    {
     "data": {
      "text/plain": [
       "tensor(14)"
      ]
     },
     "execution_count": 65,
     "metadata": {},
     "output_type": "execute_result"
    }
   ],
   "source": [
    "%%time\n",
    "torch.matmul(tensor,tensor)"
   ]
  },
  {
   "cell_type": "code",
   "execution_count": null,
   "metadata": {
    "id": "u1TGQvo_8UEx"
   },
   "outputs": [],
   "source": []
  },
  {
   "cell_type": "markdown",
   "metadata": {
    "id": "0L3HHqlriri9"
   },
   "source": [
    "**Check out:** `http://matrixmultiplication.xyz/`"
   ]
  },
  {
   "cell_type": "markdown",
   "metadata": {
    "id": "6vsdAH-f-6MS"
   },
   "source": [
    "**One of the most common errors in deep learning: shape errors**"
   ]
  },
  {
   "cell_type": "markdown",
   "metadata": {
    "id": "ICm5RFARiDUv"
   },
   "source": [
    "# Shapes for matrix multiplication\n",
    "\n",
    "tensor_A = torch.tensor([[1,2],\n",
    "                        [3,4],\n",
    "                        [5,6]])\n",
    "\n",
    "tensor_B = torch.tensor([[7,10],\n",
    "                        [8,11],\n",
    "                        [9,12]])\n",
    "\n",
    "torch.mm(tensor_A,tensor_B)            # torch.mm is the same as torch.matmul\n",
    "\n",
    "GIVES SHAPE ERROR"
   ]
  },
  {
   "cell_type": "code",
   "execution_count": null,
   "metadata": {
    "id": "qJlVX5Ko7-yp"
   },
   "outputs": [],
   "source": [
    "\n",
    "tensor_A = torch.tensor([[1,2],\n",
    "                        [3,4],\n",
    "                        [5,6]])\n",
    "\n",
    "tensor_B = torch.tensor([[7,10],\n",
    "                        [8,11],\n",
    "                        [9,12]])"
   ]
  },
  {
   "cell_type": "code",
   "execution_count": null,
   "metadata": {
    "colab": {
     "base_uri": "https://localhost:8080/"
    },
    "id": "mvnecD6kinrb",
    "outputId": "9dd8f5a3-dc2c-42bd-e63f-44afd0546657"
   },
   "outputs": [
    {
     "data": {
      "text/plain": [
       "(torch.Size([3, 2]), torch.Size([3, 2]))"
      ]
     },
     "execution_count": 67,
     "metadata": {},
     "output_type": "execute_result"
    }
   ],
   "source": [
    "tensor_A.shape, tensor_B.shape"
   ]
  },
  {
   "cell_type": "markdown",
   "metadata": {
    "id": "mfreWOPTi5OQ"
   },
   "source": [
    "To fix the tensor shape issue, we can manipulate the shape of one of the tensors using a **transpose**."
   ]
  },
  {
   "cell_type": "markdown",
   "metadata": {
    "id": "6pX_GwDmjRZm"
   },
   "source": [
    "A **transpose** switches the axes or dimensions of a given tensor."
   ]
  },
  {
   "cell_type": "code",
   "execution_count": null,
   "metadata": {
    "colab": {
     "base_uri": "https://localhost:8080/"
    },
    "id": "MrprLBCyjcK4",
    "outputId": "552ee917-c07d-48b3-b0f8-2a104a1d409b"
   },
   "outputs": [
    {
     "data": {
      "text/plain": [
       "tensor([[ 7, 10],\n",
       "        [ 8, 11],\n",
       "        [ 9, 12]])"
      ]
     },
     "execution_count": 68,
     "metadata": {},
     "output_type": "execute_result"
    }
   ],
   "source": [
    "tensor_B"
   ]
  },
  {
   "cell_type": "code",
   "execution_count": null,
   "metadata": {
    "colab": {
     "base_uri": "https://localhost:8080/"
    },
    "id": "ssYeKWW0joxv",
    "outputId": "69145617-c198-450a-e4de-f841a9cdcf13"
   },
   "outputs": [
    {
     "data": {
      "text/plain": [
       "torch.Size([3, 2])"
      ]
     },
     "execution_count": 69,
     "metadata": {},
     "output_type": "execute_result"
    }
   ],
   "source": [
    "tensor_B.shape"
   ]
  },
  {
   "cell_type": "code",
   "execution_count": null,
   "metadata": {
    "colab": {
     "base_uri": "https://localhost:8080/"
    },
    "id": "R8miYHMIjeHo",
    "outputId": "f03df9b3-7d41-4185-ac16-b6bbb13e8a51"
   },
   "outputs": [
    {
     "data": {
      "text/plain": [
       "tensor([[ 7,  8,  9],\n",
       "        [10, 11, 12]])"
      ]
     },
     "execution_count": 70,
     "metadata": {},
     "output_type": "execute_result"
    }
   ],
   "source": [
    "tensor_B.T"
   ]
  },
  {
   "cell_type": "code",
   "execution_count": null,
   "metadata": {
    "colab": {
     "base_uri": "https://localhost:8080/"
    },
    "id": "HCXo5DODjf8X",
    "outputId": "23f93d4b-3fea-438d-9ec1-eb702cebc50d"
   },
   "outputs": [
    {
     "data": {
      "text/plain": [
       "torch.Size([2, 3])"
      ]
     },
     "execution_count": 71,
     "metadata": {},
     "output_type": "execute_result"
    }
   ],
   "source": [
    "tensor_B.T.shape"
   ]
  },
  {
   "cell_type": "code",
   "execution_count": null,
   "metadata": {
    "colab": {
     "base_uri": "https://localhost:8080/"
    },
    "id": "U0I4v-MLjm1D",
    "outputId": "88fb7aa6-35df-4656-abc2-3463ccc35fdf"
   },
   "outputs": [
    {
     "data": {
      "text/plain": [
       "tensor([[ 27,  30,  33],\n",
       "        [ 61,  68,  75],\n",
       "        [ 95, 106, 117]])"
      ]
     },
     "execution_count": 72,
     "metadata": {},
     "output_type": "execute_result"
    }
   ],
   "source": [
    "# Now performing matrix multiplication on tensor A and tensor B transpose.\n",
    "torch.matmul(tensor_A,tensor_B.T)"
   ]
  },
  {
   "cell_type": "code",
   "execution_count": null,
   "metadata": {
    "colab": {
     "base_uri": "https://localhost:8080/"
    },
    "id": "GO1xrsgvj6rs",
    "outputId": "4c677a24-25fe-4128-8240-a80607dbbcf1"
   },
   "outputs": [
    {
     "data": {
      "text/plain": [
       "torch.Size([3, 3])"
      ]
     },
     "execution_count": 73,
     "metadata": {},
     "output_type": "execute_result"
    }
   ],
   "source": [
    "torch.matmul(tensor_A,tensor_B.T).shape"
   ]
  },
  {
   "cell_type": "code",
   "execution_count": null,
   "metadata": {
    "id": "VgLWhlz5kIgg"
   },
   "outputs": [],
   "source": []
  },
  {
   "cell_type": "code",
   "execution_count": null,
   "metadata": {
    "colab": {
     "base_uri": "https://localhost:8080/"
    },
    "id": "WVN68wJGkgot",
    "outputId": "95a56287-5001-4ff0-c3ba-fe4434866402"
   },
   "outputs": [
    {
     "name": "stdout",
     "output_type": "stream",
     "text": [
      "Original shapes: tensor_A = torch.Size([3, 2]), tensor_B = torch.Size([3, 2])\n",
      "New shapes: tensor_A = torch.Size([3, 2]) (same shape as above), tensor_B.T = torch.Size([2, 3])\n",
      "Multiplying: torch.Size([3, 2]) @ torch.Size([2, 3]) <- inner dimensions must match\n",
      "Output:\n",
      "\n",
      "tensor([[ 27,  30,  33],\n",
      "        [ 61,  68,  75],\n",
      "        [ 95, 106, 117]])\n",
      "\n",
      "Output shape: torch.Size([3, 3])\n"
     ]
    }
   ],
   "source": [
    "#The matrix multiplication operation works when tensor_B is transposed.\n",
    "print(f\"Original shapes: tensor_A = {tensor_A.shape}, tensor_B = {tensor_B.shape}\")\n",
    "print(f\"New shapes: tensor_A = {tensor_A.shape} (same shape as above), tensor_B.T = {tensor_B.T.shape}\")\n",
    "print(f\"Multiplying: {tensor_A.shape} @ {tensor_B.T.shape} <- inner dimensions must match\")\n",
    "print(\"Output:\\n\")\n",
    "output=torch.matmul(tensor_A,tensor_B.T)\n",
    "print(output)\n",
    "print(f\"\\nOutput shape: {output.shape}\")"
   ]
  },
  {
   "cell_type": "code",
   "execution_count": null,
   "metadata": {
    "colab": {
     "base_uri": "https://localhost:8080/"
    },
    "id": "Xlp_1uuBlXct",
    "outputId": "6065a645-c40b-43f4-9cae-6dae95d7ec73"
   },
   "outputs": [
    {
     "data": {
      "text/plain": [
       "tensor([[ 27,  30,  33],\n",
       "        [ 61,  68,  75],\n",
       "        [ 95, 106, 117]])"
      ]
     },
     "execution_count": 75,
     "metadata": {},
     "output_type": "execute_result"
    }
   ],
   "source": [
    "tensor_A @ tensor_B.T"
   ]
  },
  {
   "cell_type": "markdown",
   "metadata": {
    "id": "XzAeHmlelybL"
   },
   "source": [
    "[http://matrixmultiplication.xyz/](https://)"
   ]
  },
  {
   "cell_type": "code",
   "execution_count": null,
   "metadata": {
    "id": "cFXFR3wympoS"
   },
   "outputs": [],
   "source": []
  },
  {
   "cell_type": "code",
   "execution_count": null,
   "metadata": {
    "id": "DcNXyS3om4n4"
   },
   "outputs": [],
   "source": []
  },
  {
   "cell_type": "markdown",
   "metadata": {
    "id": "KyZ9_muZm47L"
   },
   "source": [
    "# Tensor Aggregation\n",
    "**Finding the min, max, mean, sum etc.**"
   ]
  },
  {
   "cell_type": "code",
   "execution_count": null,
   "metadata": {
    "colab": {
     "base_uri": "https://localhost:8080/"
    },
    "id": "mKL58AKWnBex",
    "outputId": "69304933-07ce-42bc-f41a-c413b4055996"
   },
   "outputs": [
    {
     "data": {
      "text/plain": [
       "tensor([ 0, 10, 20, 30, 40, 50, 60, 70, 80, 90])"
      ]
     },
     "execution_count": 76,
     "metadata": {},
     "output_type": "execute_result"
    }
   ],
   "source": [
    "# Create a tensor\n",
    "x = torch.arange(0,100,10)\n",
    "x"
   ]
  },
  {
   "cell_type": "code",
   "execution_count": null,
   "metadata": {
    "colab": {
     "base_uri": "https://localhost:8080/"
    },
    "id": "Sc3cDXHbnM7Z",
    "outputId": "b0521e23-d144-41e6-bdf5-90c9bbf8d6c3"
   },
   "outputs": [
    {
     "data": {
      "text/plain": [
       "tensor(0)"
      ]
     },
     "execution_count": 77,
     "metadata": {},
     "output_type": "execute_result"
    }
   ],
   "source": [
    "# Find the min\n",
    "torch.min(x)"
   ]
  },
  {
   "cell_type": "code",
   "execution_count": null,
   "metadata": {
    "colab": {
     "base_uri": "https://localhost:8080/"
    },
    "id": "uiCwq6JFnSq5",
    "outputId": "0e960e46-cb95-4d63-837d-12ad074d6974"
   },
   "outputs": [
    {
     "data": {
      "text/plain": [
       "tensor(0)"
      ]
     },
     "execution_count": 78,
     "metadata": {},
     "output_type": "execute_result"
    }
   ],
   "source": [
    "x.min()"
   ]
  },
  {
   "cell_type": "code",
   "execution_count": null,
   "metadata": {
    "colab": {
     "base_uri": "https://localhost:8080/"
    },
    "id": "pj7ZLAi9nWjO",
    "outputId": "532b1b36-6702-412f-8500-2c3905a41ced"
   },
   "outputs": [
    {
     "data": {
      "text/plain": [
       "tensor(90)"
      ]
     },
     "execution_count": 79,
     "metadata": {},
     "output_type": "execute_result"
    }
   ],
   "source": [
    "# Find the max\n",
    "torch.max(x)"
   ]
  },
  {
   "cell_type": "code",
   "execution_count": null,
   "metadata": {
    "colab": {
     "base_uri": "https://localhost:8080/"
    },
    "id": "5T72by95nayt",
    "outputId": "feb49ba1-7fe2-41a0-bf1c-1bce7ce43dbb"
   },
   "outputs": [
    {
     "data": {
      "text/plain": [
       "tensor(90)"
      ]
     },
     "execution_count": 80,
     "metadata": {},
     "output_type": "execute_result"
    }
   ],
   "source": [
    "x.max()"
   ]
  },
  {
   "cell_type": "markdown",
   "metadata": {
    "id": "6482MaTVncEP"
   },
   "source": [
    "# Find the mean\n",
    "torch.mean(x)\n",
    "\n",
    "GIVES THE FOLLOWING ERROR:\n",
    "---------------------------------------------------------------------------\n",
    "RuntimeError                              Traceback (most recent call last)\n",
    "<ipython-input-81-7519b7c6f2fb> in <cell line: 2>()\n",
    "      1 # Find the mean\n",
    "----> 2 torch.mean(x)\n",
    "\n",
    "RuntimeError: mean(): could not infer output dtype. Input dtype must be either a floating point or complex dtype. Got: Long\n",
    "\n",
    "x.dtype is int64 which is long.\n",
    "\n",
    "For torch.mean we need float or complex dtypes, so we will convert it to float32."
   ]
  },
  {
   "cell_type": "code",
   "execution_count": null,
   "metadata": {
    "colab": {
     "base_uri": "https://localhost:8080/"
    },
    "id": "VyVCbtZ0njvO",
    "outputId": "536f7995-ec65-4972-b8ec-3571104c89d7"
   },
   "outputs": [
    {
     "data": {
      "text/plain": [
       "tensor(45.)"
      ]
     },
     "execution_count": 81,
     "metadata": {},
     "output_type": "execute_result"
    }
   ],
   "source": [
    "# - torch.mean() function requires a tensor of float32 datatype to work\n",
    "torch.mean(x.type(torch.float32))"
   ]
  },
  {
   "cell_type": "code",
   "execution_count": null,
   "metadata": {
    "colab": {
     "base_uri": "https://localhost:8080/"
    },
    "id": "z0dlfmv-n8sC",
    "outputId": "92c58391-db95-43be-f4d3-546ba3748156"
   },
   "outputs": [
    {
     "data": {
      "text/plain": [
       "tensor(45.)"
      ]
     },
     "execution_count": 82,
     "metadata": {},
     "output_type": "execute_result"
    }
   ],
   "source": [
    "x.type(torch.float32).mean()"
   ]
  },
  {
   "cell_type": "code",
   "execution_count": null,
   "metadata": {
    "colab": {
     "base_uri": "https://localhost:8080/"
    },
    "id": "TxAfugTroEMg",
    "outputId": "030be399-aa25-45f8-dd2e-8f786b188cc6"
   },
   "outputs": [
    {
     "data": {
      "text/plain": [
       "tensor(450)"
      ]
     },
     "execution_count": 83,
     "metadata": {},
     "output_type": "execute_result"
    }
   ],
   "source": [
    "# Find the sum\n",
    "torch.sum(x)"
   ]
  },
  {
   "cell_type": "code",
   "execution_count": null,
   "metadata": {
    "colab": {
     "base_uri": "https://localhost:8080/"
    },
    "id": "7TdLa7fDoVtx",
    "outputId": "9ec1e108-4f03-4b78-cb90-4f0c7ccf1653"
   },
   "outputs": [
    {
     "data": {
      "text/plain": [
       "tensor(450)"
      ]
     },
     "execution_count": 84,
     "metadata": {},
     "output_type": "execute_result"
    }
   ],
   "source": [
    "x.sum()"
   ]
  },
  {
   "cell_type": "code",
   "execution_count": null,
   "metadata": {
    "id": "tX44jt2noXGL"
   },
   "outputs": [],
   "source": []
  },
  {
   "cell_type": "markdown",
   "metadata": {
    "id": "ZMH_f23VJ6iu"
   },
   "source": [
    "# Finding the positional min and max\n",
    "\n",
    "They tell the index position of min or max element of the tensor"
   ]
  },
  {
   "cell_type": "code",
   "execution_count": null,
   "metadata": {
    "colab": {
     "base_uri": "https://localhost:8080/"
    },
    "id": "0jIevNg0J_fQ",
    "outputId": "51349dc9-f56f-43d0-ee2d-b872e746bbe5"
   },
   "outputs": [
    {
     "data": {
      "text/plain": [
       "tensor([ 0, 10, 20, 30, 40, 50, 60, 70, 80, 90])"
      ]
     },
     "execution_count": 85,
     "metadata": {},
     "output_type": "execute_result"
    }
   ],
   "source": [
    "x"
   ]
  },
  {
   "cell_type": "code",
   "execution_count": null,
   "metadata": {
    "colab": {
     "base_uri": "https://localhost:8080/"
    },
    "id": "hHp56ORRKBbj",
    "outputId": "18325f81-0fbe-411a-f857-4a8bcb3c6808"
   },
   "outputs": [
    {
     "data": {
      "text/plain": [
       "tensor(0)"
      ]
     },
     "execution_count": 86,
     "metadata": {},
     "output_type": "execute_result"
    }
   ],
   "source": [
    "x.argmin()"
   ]
  },
  {
   "cell_type": "code",
   "execution_count": null,
   "metadata": {
    "colab": {
     "base_uri": "https://localhost:8080/"
    },
    "id": "1Hju1QugKDud",
    "outputId": "20bd784b-db3e-435e-c3ae-8ca99873e64b"
   },
   "outputs": [
    {
     "data": {
      "text/plain": [
       "tensor(0)"
      ]
     },
     "execution_count": 87,
     "metadata": {},
     "output_type": "execute_result"
    }
   ],
   "source": [
    "x[0]"
   ]
  },
  {
   "cell_type": "code",
   "execution_count": null,
   "metadata": {
    "colab": {
     "base_uri": "https://localhost:8080/"
    },
    "id": "jbGE23r4KHJ-",
    "outputId": "2091648f-0deb-4108-b45a-8122815d0d4b"
   },
   "outputs": [
    {
     "data": {
      "text/plain": [
       "tensor(9)"
      ]
     },
     "execution_count": 88,
     "metadata": {},
     "output_type": "execute_result"
    }
   ],
   "source": [
    "x.argmax()"
   ]
  },
  {
   "cell_type": "code",
   "execution_count": null,
   "metadata": {
    "colab": {
     "base_uri": "https://localhost:8080/"
    },
    "id": "vjtGVoz2K0wd",
    "outputId": "9cd88b67-61d3-4bac-cfa7-4fcec8337fce"
   },
   "outputs": [
    {
     "data": {
      "text/plain": [
       "tensor(90)"
      ]
     },
     "execution_count": 89,
     "metadata": {},
     "output_type": "execute_result"
    }
   ],
   "source": [
    "x[9]"
   ]
  },
  {
   "cell_type": "code",
   "execution_count": null,
   "metadata": {
    "id": "6XdNITc0K14d"
   },
   "outputs": [],
   "source": []
  },
  {
   "cell_type": "markdown",
   "metadata": {
    "id": "Yjq4mSEtLSfI"
   },
   "source": [
    "# Reshaping, stacking, squeezing, and unsqueezing tensors"
   ]
  },
  {
   "cell_type": "markdown",
   "metadata": {
    "id": "wuAwvW0CLZRC"
   },
   "source": [
    "* Reshaping - reshapes an input tensor to a defined shape.\n",
    "* View - Return a view of an input tensor of certain shape but keep the same memory as the original tensor.\n",
    "* Stacking - combine multiple tensors on top of each other (vstack) or side by side (hstack).\n",
    "* Squeeze - removes all `1` dimensions from a tensor.\n",
    "* Unsqueeze - add a  `1` dimension to a target tensor.\n",
    "* Permute - Return a view of the input with dimensions permuted (swapped) in a certain way."
   ]
  },
  {
   "cell_type": "code",
   "execution_count": null,
   "metadata": {
    "colab": {
     "base_uri": "https://localhost:8080/"
    },
    "id": "gceODbFvSjB0",
    "outputId": "9ab8c3e3-e078-4ef9-b6d9-c40f27759fd7"
   },
   "outputs": [
    {
     "data": {
      "text/plain": [
       "(tensor([1., 2., 3., 4., 5., 6., 7., 8., 9.]), torch.Size([9]))"
      ]
     },
     "execution_count": 90,
     "metadata": {},
     "output_type": "execute_result"
    }
   ],
   "source": [
    "# Let's create a tensor\n",
    "import torch\n",
    "x = torch.arange(1.,10.)\n",
    "x, x.shape"
   ]
  },
  {
   "cell_type": "code",
   "execution_count": null,
   "metadata": {
    "colab": {
     "base_uri": "https://localhost:8080/"
    },
    "id": "D1eyC5YVS1LW",
    "outputId": "84c20440-e066-4aee-8954-da3aad17c915"
   },
   "outputs": [
    {
     "data": {
      "text/plain": [
       "(tensor([[1., 2., 3.],\n",
       "         [4., 5., 6.],\n",
       "         [7., 8., 9.]]),\n",
       " torch.Size([3, 3]))"
      ]
     },
     "execution_count": 91,
     "metadata": {},
     "output_type": "execute_result"
    }
   ],
   "source": [
    "# Changing the dimension\n",
    "x_reshaped = x.reshape(3,3)\n",
    "x_reshaped, x_reshaped.shape"
   ]
  },
  {
   "cell_type": "code",
   "execution_count": null,
   "metadata": {
    "colab": {
     "base_uri": "https://localhost:8080/"
    },
    "id": "u_qL0c4KTHI_",
    "outputId": "46eac84b-3f38-439a-80ec-bc319f7c89e3"
   },
   "outputs": [
    {
     "data": {
      "text/plain": [
       "(tensor([[1., 2., 3., 4., 5., 6., 7., 8., 9.]]), torch.Size([1, 9]))"
      ]
     },
     "execution_count": 92,
     "metadata": {},
     "output_type": "execute_result"
    }
   ],
   "source": [
    "# Change the view\n",
    "z = x.view(1,9)\n",
    "z, z.shape"
   ]
  },
  {
   "cell_type": "code",
   "execution_count": null,
   "metadata": {
    "colab": {
     "base_uri": "https://localhost:8080/"
    },
    "id": "GjGa89UGbfBy",
    "outputId": "9c844d0f-232d-46f8-828a-a9c4dda60370"
   },
   "outputs": [
    {
     "data": {
      "text/plain": [
       "(tensor([[5., 2., 3., 4., 5., 6., 7., 8., 9.]]),\n",
       " tensor([5., 2., 3., 4., 5., 6., 7., 8., 9.]))"
      ]
     },
     "execution_count": 93,
     "metadata": {},
     "output_type": "execute_result"
    }
   ],
   "source": [
    "# Changing z changes x (because a view of a tensor shares the same memory as the original input.)\n",
    "z[:,0] = 5\n",
    "z,x"
   ]
  },
  {
   "cell_type": "code",
   "execution_count": null,
   "metadata": {
    "colab": {
     "base_uri": "https://localhost:8080/"
    },
    "id": "bZnQ0d2ic7V0",
    "outputId": "0ebf72e2-bc91-46f6-8e23-cda5c32593d8"
   },
   "outputs": [
    {
     "data": {
      "text/plain": [
       "tensor([[5., 2., 3., 4., 5., 6., 7., 8., 9.],\n",
       "        [5., 2., 3., 4., 5., 6., 7., 8., 9.],\n",
       "        [5., 2., 3., 4., 5., 6., 7., 8., 9.],\n",
       "        [5., 2., 3., 4., 5., 6., 7., 8., 9.]])"
      ]
     },
     "execution_count": 94,
     "metadata": {},
     "output_type": "execute_result"
    }
   ],
   "source": [
    "# Stack tensors on top of each other\n",
    "x_stacked = torch.stack([x,x,x,x],dim=0)  #vstack\n",
    "x_stacked"
   ]
  },
  {
   "cell_type": "code",
   "execution_count": null,
   "metadata": {
    "colab": {
     "base_uri": "https://localhost:8080/"
    },
    "id": "5wzAHO5BeYrR",
    "outputId": "a108064c-5286-4120-c6ef-08ad01ea4317"
   },
   "outputs": [
    {
     "data": {
      "text/plain": [
       "tensor([[5., 5., 5., 5.],\n",
       "        [2., 2., 2., 2.],\n",
       "        [3., 3., 3., 3.],\n",
       "        [4., 4., 4., 4.],\n",
       "        [5., 5., 5., 5.],\n",
       "        [6., 6., 6., 6.],\n",
       "        [7., 7., 7., 7.],\n",
       "        [8., 8., 8., 8.],\n",
       "        [9., 9., 9., 9.]])"
      ]
     },
     "execution_count": 95,
     "metadata": {},
     "output_type": "execute_result"
    }
   ],
   "source": [
    "x_stacked = torch.stack([x,x,x,x],dim=1)    #hstack\n",
    "x_stacked"
   ]
  },
  {
   "cell_type": "code",
   "execution_count": null,
   "metadata": {
    "colab": {
     "base_uri": "https://localhost:8080/"
    },
    "id": "OnPNq7C-egHv",
    "outputId": "418a6f23-e309-4bd4-df79-6b85dbba21cd"
   },
   "outputs": [
    {
     "data": {
      "text/plain": [
       "torch.Size([2, 1, 2, 1, 2])"
      ]
     },
     "execution_count": 96,
     "metadata": {},
     "output_type": "execute_result"
    }
   ],
   "source": [
    "# torch.squeeze() - remove all single dimensions from a target tensor\n",
    "x = torch.zeros(2,1,2,1,2)\n",
    "x.size()"
   ]
  },
  {
   "cell_type": "markdown",
   "metadata": {
    "id": "aj3cfK8jjvkm"
   },
   "source": [
    "You created a tensor like this:\n",
    "\n",
    "```python\n",
    "x = torch.zeros(2, 1, 2, 1, 2)\n",
    "```\n",
    "\n",
    "### What Does `torch.zeros(2, 1, 2, 1, 2)` Do?\n",
    "- This creates a tensor filled with zeros.\n",
    "- The numbers `(2, 1, 2, 1, 2)` represent the **shape** of the tensor, meaning:\n",
    "  - The tensor has **5 dimensions**.\n",
    "  - Each dimension has a specific **size** (or count of elements).\n",
    "\n",
    "---\n",
    "\n",
    "### What Do the Numbers in the Shape `[2, 1, 2, 1, 2]` Mean?\n",
    "\n",
    "1. **Dimension 0** (outermost):\n",
    "   - Size = 2 → There are **2 blocks** at the top level.\n",
    "2. **Dimension 1**:\n",
    "   - Size = 1 → Each block contains **1 smaller block**.\n",
    "3. **Dimension 2**:\n",
    "   - Size = 2 → Each smaller block contains **2 rows**.\n",
    "4. **Dimension 3**:\n",
    "   - Size = 1 → Each row contains **1 smaller group**.\n",
    "5. **Dimension 4** (innermost):\n",
    "   - Size = 2 → Each smaller group contains **2 numbers**.\n",
    "\n",
    "---\n",
    "\n",
    "### Visualizing the Tensor\n",
    "\n",
    "Think of this as **boxes within boxes**, where each level (dimension) contains smaller levels.\n",
    "\n",
    "#### Step-by-Step Breakdown\n",
    "\n",
    "1. At the **top level** (Dimension 0), there are **2 big blocks**. These blocks are:\n",
    "   ```\n",
    "   Block 1\n",
    "   Block 2\n",
    "   ```\n",
    "\n",
    "2. Inside each **block** (Dimension 1), there is **1 smaller block**:\n",
    "   ```\n",
    "   Block 1 → [Smaller Block]\n",
    "   Block 2 → [Smaller Block]\n",
    "   ```\n",
    "\n",
    "3. Inside each **smaller block** (Dimension 2), there are **2 rows**:\n",
    "   ```\n",
    "   Smaller Block → [Row 1, Row 2]\n",
    "   ```\n",
    "\n",
    "4. Inside each **row** (Dimension 3), there is **1 group**:\n",
    "   ```\n",
    "   Row → [Group]\n",
    "   ```\n",
    "\n",
    "5. Inside each **group** (Dimension 4), there are **2 numbers**:\n",
    "   ```\n",
    "   Group → [Number 1, Number 2]\n",
    "   ```\n",
    "\n",
    "---\n",
    "\n",
    "### Example Tensor Filled with Zeros\n",
    "\n",
    "If you represent `x` as nested lists, it looks like this:\n",
    "\n",
    "```python\n",
    "x = [\n",
    "    [  # Dimension 0, Block 1\n",
    "        [  # Dimension 1, Smaller Block\n",
    "            [  # Dimension 2, Row 1\n",
    "                [0, 0]  # Dimension 4, 2 numbers\n",
    "            ],\n",
    "            [  # Dimension 2, Row 2\n",
    "                [0, 0]\n",
    "            ]\n",
    "        ]\n",
    "    ],\n",
    "    [  # Dimension 0, Block 2\n",
    "        [  # Dimension 1, Smaller Block\n",
    "            [  # Dimension 2, Row 1\n",
    "                [0, 0]\n",
    "            ],\n",
    "            [  # Dimension 2, Row 2\n",
    "                [0, 0]\n",
    "            ]\n",
    "        ]\n",
    "    ]\n",
    "]\n",
    "```\n",
    "\n",
    "---\n",
    "\n",
    "### Key Points\n",
    "\n",
    "1. The tensor is a **5-dimensional structure**.\n",
    "2. Each dimension adds more layers of nesting:\n",
    "   - Dimension 0: 2 blocks.\n",
    "   - Dimension 1: Each block has 1 smaller block.\n",
    "   - Dimension 2: Each smaller block has 2 rows.\n",
    "   - Dimension 3: Each row has 1 group.\n",
    "   - Dimension 4: Each group has 2 numbers.\n",
    "3. The shape `[2, 1, 2, 1, 2]` describes how many elements exist in each dimension.\n",
    "\n",
    "---"
   ]
  },
  {
   "cell_type": "code",
   "execution_count": null,
   "metadata": {
    "colab": {
     "base_uri": "https://localhost:8080/"
    },
    "id": "wh6gRha4kNtX",
    "outputId": "4aa46555-4669-424d-a5be-7cfdb2e6f666"
   },
   "outputs": [
    {
     "data": {
      "text/plain": [
       "torch.Size([2, 2, 2])"
      ]
     },
     "execution_count": 97,
     "metadata": {},
     "output_type": "execute_result"
    }
   ],
   "source": [
    "y = torch.squeeze(x)\n",
    "y.size()"
   ]
  },
  {
   "cell_type": "code",
   "execution_count": null,
   "metadata": {
    "colab": {
     "base_uri": "https://localhost:8080/"
    },
    "id": "TIVRvnRDkWYy",
    "outputId": "b2837eea-11d9-4894-8829-a72787757d04"
   },
   "outputs": [
    {
     "data": {
      "text/plain": [
       "torch.Size([2, 1, 2, 1, 2])"
      ]
     },
     "execution_count": 98,
     "metadata": {},
     "output_type": "execute_result"
    }
   ],
   "source": [
    "y = torch.squeeze(x,0)\n",
    "y.size()"
   ]
  },
  {
   "cell_type": "code",
   "execution_count": null,
   "metadata": {
    "colab": {
     "base_uri": "https://localhost:8080/"
    },
    "id": "6jdX_h_5kY2G",
    "outputId": "2b3fc8e9-ea5c-4d77-ce37-12d24b965848"
   },
   "outputs": [
    {
     "data": {
      "text/plain": [
       "torch.Size([2, 2, 1, 2])"
      ]
     },
     "execution_count": 99,
     "metadata": {},
     "output_type": "execute_result"
    }
   ],
   "source": [
    "y = torch.squeeze(x,1)\n",
    "y.size()"
   ]
  },
  {
   "cell_type": "code",
   "execution_count": null,
   "metadata": {
    "id": "a00-KOlTqL_n"
   },
   "outputs": [],
   "source": []
  },
  {
   "cell_type": "code",
   "execution_count": null,
   "metadata": {
    "colab": {
     "base_uri": "https://localhost:8080/"
    },
    "id": "n0uklxLKmVjK",
    "outputId": "f1b5de47-abd4-4168-97ef-3b5484e8caf2"
   },
   "outputs": [
    {
     "data": {
      "text/plain": [
       "tensor([1., 2., 3., 4., 5., 6., 7., 8., 9.])"
      ]
     },
     "execution_count": 100,
     "metadata": {},
     "output_type": "execute_result"
    }
   ],
   "source": [
    "x = torch.arange(1.,10.)\n",
    "x"
   ]
  },
  {
   "cell_type": "code",
   "execution_count": null,
   "metadata": {
    "colab": {
     "base_uri": "https://localhost:8080/"
    },
    "id": "zOParZ54qUJv",
    "outputId": "0092ef4c-13fc-42a2-8bbd-f411e7fa15bf"
   },
   "outputs": [
    {
     "data": {
      "text/plain": [
       "tensor([[1., 2., 3., 4., 5., 6., 7., 8., 9.]])"
      ]
     },
     "execution_count": 101,
     "metadata": {},
     "output_type": "execute_result"
    }
   ],
   "source": [
    "x_reshaped = x.reshape(1,9)\n",
    "x_reshaped"
   ]
  },
  {
   "cell_type": "code",
   "execution_count": null,
   "metadata": {
    "colab": {
     "base_uri": "https://localhost:8080/"
    },
    "id": "z8AI5BwmnJfG",
    "outputId": "14b877a5-86c1-428a-b5f9-6b4836a04daf"
   },
   "outputs": [
    {
     "data": {
      "text/plain": [
       "torch.Size([1, 9])"
      ]
     },
     "execution_count": 102,
     "metadata": {},
     "output_type": "execute_result"
    }
   ],
   "source": [
    "x_reshaped.shape"
   ]
  },
  {
   "cell_type": "code",
   "execution_count": null,
   "metadata": {
    "colab": {
     "base_uri": "https://localhost:8080/"
    },
    "id": "TVYHbIeunWEg",
    "outputId": "9b6ad9ca-93f3-4298-b250-73772cecc7fe"
   },
   "outputs": [
    {
     "data": {
      "text/plain": [
       "tensor([1., 2., 3., 4., 5., 6., 7., 8., 9.])"
      ]
     },
     "execution_count": 103,
     "metadata": {},
     "output_type": "execute_result"
    }
   ],
   "source": [
    "x_reshaped.squeeze()"
   ]
  },
  {
   "cell_type": "code",
   "execution_count": null,
   "metadata": {
    "colab": {
     "base_uri": "https://localhost:8080/"
    },
    "id": "fF_o2Y2qnZtF",
    "outputId": "bb7cd87a-2df8-43db-8aac-f2e5e7eac026"
   },
   "outputs": [
    {
     "data": {
      "text/plain": [
       "torch.Size([9])"
      ]
     },
     "execution_count": 104,
     "metadata": {},
     "output_type": "execute_result"
    }
   ],
   "source": [
    "x_reshaped.squeeze().shape"
   ]
  },
  {
   "cell_type": "code",
   "execution_count": null,
   "metadata": {
    "colab": {
     "base_uri": "https://localhost:8080/"
    },
    "id": "J2UjRviEnuKp",
    "outputId": "4ba8e34f-be78-4ac2-95e2-87121e51f08f"
   },
   "outputs": [
    {
     "name": "stdout",
     "output_type": "stream",
     "text": [
      "Previous tensor: tensor([[1., 2., 3., 4., 5., 6., 7., 8., 9.]])\n",
      "Previous shape: torch.Size([1, 9])\n",
      "\n",
      "New tensor: tensor([1., 2., 3., 4., 5., 6., 7., 8., 9.])\n",
      "New shape: torch.Size([9])\n"
     ]
    }
   ],
   "source": [
    "# torch.squueze() - removes all single dimensions from a target tensor\n",
    "print(f\"Previous tensor: {x_reshaped}\")\n",
    "print(f\"Previous shape: {x_reshaped.shape}\")\n",
    "\n",
    "# Remove extra dimensions from x_reshaped\n",
    "x_squeezed = x_reshaped.squeeze()\n",
    "print(f\"\\nNew tensor: {x_squeezed}\")\n",
    "print(f\"New shape: {x_squeezed.shape}\")"
   ]
  },
  {
   "cell_type": "code",
   "execution_count": null,
   "metadata": {
    "colab": {
     "base_uri": "https://localhost:8080/"
    },
    "id": "R9Vuv33JqdV4",
    "outputId": "4f2cf384-584b-482f-9ec8-034541f2ea2a"
   },
   "outputs": [
    {
     "name": "stdout",
     "output_type": "stream",
     "text": [
      "Previous target: tensor([1., 2., 3., 4., 5., 6., 7., 8., 9.])\n",
      "Previous shape: torch.Size([9])\n",
      "\n",
      "New target: tensor([[1., 2., 3., 4., 5., 6., 7., 8., 9.]])\n",
      "New shape: torch.Size([1, 9])\n"
     ]
    }
   ],
   "source": [
    "# torch.unsqueeze() - adds a single dimension to a target tensor at a specific dim (dimension)\n",
    "print(f\"Previous target: {x_squeezed}\")\n",
    "print(f\"Previous shape: {x_squeezed.shape}\")\n",
    "\n",
    "# Add an extra dimension with unsqueeze\n",
    "x_unsqueezed = x_squeezed.unsqueeze(dim=0)\n",
    "print(f\"\\nNew target: {x_unsqueezed}\")\n",
    "print(f\"New shape: {x_unsqueezed.shape}\")"
   ]
  },
  {
   "cell_type": "code",
   "execution_count": null,
   "metadata": {
    "colab": {
     "base_uri": "https://localhost:8080/"
    },
    "id": "rCV5ReBGm9QX",
    "outputId": "c77906aa-dbbb-405a-90c9-29ddc88b9748"
   },
   "outputs": [
    {
     "name": "stdout",
     "output_type": "stream",
     "text": [
      "Previous shape: torch.Size([224, 224, 3])\n",
      "New shape: torch.Size([3, 224, 224])\n"
     ]
    }
   ],
   "source": [
    "# torch.permute - rearranges the dimensions of a target tensor in a specified order.\n",
    "x_original = torch.rand(size=(224,224,3))  #[height, width, colour_channels]\n",
    "\n",
    "# Permute the original tensor to rearrange the axis (or dim)\n",
    "x_permuted = x_original.permute(2,0,1)   # shifts the axis 0->1, 1->2, 2->0\n",
    "\n",
    "print(f\"Previous shape: {x_original.shape}\")\n",
    "print(f\"New shape: {x_permuted.shape}\")  #[colour_channels,height,width]"
   ]
  },
  {
   "cell_type": "code",
   "execution_count": null,
   "metadata": {
    "colab": {
     "base_uri": "https://localhost:8080/"
    },
    "id": "GGgm3cTVwjOK",
    "outputId": "dcb36bb8-19d2-401b-a56b-28c2727efc2d"
   },
   "outputs": [
    {
     "data": {
      "text/plain": [
       "(tensor(11222.), tensor(11222.))"
      ]
     },
     "execution_count": 108,
     "metadata": {},
     "output_type": "execute_result"
    }
   ],
   "source": [
    "x_original[0,0,0] = 11222\n",
    "x_original[0,0,0], x_permuted[0,0,0]"
   ]
  },
  {
   "cell_type": "markdown",
   "metadata": {
    "id": "-fuKLGXHn_jb"
   },
   "source": [
    "### ***Permute returns a different view of the original tensor and view shares memory with the original tensor, so if we change x_original in the above cell, x_permuted is also changed.***"
   ]
  },
  {
   "cell_type": "code",
   "execution_count": null,
   "metadata": {
    "id": "S5oukX5v6pVS"
   },
   "outputs": [],
   "source": []
  },
  {
   "cell_type": "markdown",
   "metadata": {
    "id": "bOFDNUUY6pxU"
   },
   "source": [
    "# Indexing (selecting data from tensors)"
   ]
  },
  {
   "cell_type": "markdown",
   "metadata": {
    "id": "cUB4lmMR6vMJ"
   },
   "source": [
    "Indexing in PyTorch is similar to indexing in NumPy."
   ]
  },
  {
   "cell_type": "code",
   "execution_count": null,
   "metadata": {
    "colab": {
     "base_uri": "https://localhost:8080/"
    },
    "id": "Q6f3fAvB76HM",
    "outputId": "22185ea9-2764-41e7-a70c-9f24c038d319"
   },
   "outputs": [
    {
     "data": {
      "text/plain": [
       "(tensor([[[1, 2, 3],\n",
       "          [4, 5, 6],\n",
       "          [7, 8, 9]]]),\n",
       " torch.Size([1, 3, 3]))"
      ]
     },
     "execution_count": 109,
     "metadata": {},
     "output_type": "execute_result"
    }
   ],
   "source": [
    "# Create a tensor\n",
    "import torch\n",
    "x = torch.arange(1,10).reshape(1,3,3)\n",
    "x,x.shape"
   ]
  },
  {
   "cell_type": "code",
   "execution_count": null,
   "metadata": {
    "colab": {
     "base_uri": "https://localhost:8080/"
    },
    "id": "y3wdl_u28nzg",
    "outputId": "818179b0-f8b8-4682-f72c-f7f6da5788a9"
   },
   "outputs": [
    {
     "data": {
      "text/plain": [
       "tensor([[1, 2, 3],\n",
       "        [4, 5, 6],\n",
       "        [7, 8, 9]])"
      ]
     },
     "execution_count": 110,
     "metadata": {},
     "output_type": "execute_result"
    }
   ],
   "source": [
    "# Indexing our new tensor\n",
    "x[0]"
   ]
  },
  {
   "cell_type": "code",
   "execution_count": null,
   "metadata": {
    "colab": {
     "base_uri": "https://localhost:8080/"
    },
    "id": "skiQmiBQ9HMB",
    "outputId": "48cf092c-97ce-4556-c29e-932e667572a3"
   },
   "outputs": [
    {
     "data": {
      "text/plain": [
       "tensor([1, 2, 3])"
      ]
     },
     "execution_count": 111,
     "metadata": {},
     "output_type": "execute_result"
    }
   ],
   "source": [
    "# Indexing on the middle bracket (dimension=1)\n",
    "x[0][0]"
   ]
  },
  {
   "cell_type": "code",
   "execution_count": null,
   "metadata": {
    "colab": {
     "base_uri": "https://localhost:8080/"
    },
    "id": "MxG4AUyL9RRs",
    "outputId": "7f4e3878-a8a8-4ed7-e6c2-145b798630a5"
   },
   "outputs": [
    {
     "data": {
      "text/plain": [
       "tensor(1)"
      ]
     },
     "execution_count": 112,
     "metadata": {},
     "output_type": "execute_result"
    }
   ],
   "source": [
    "# Indexing on the most inner bracket (last dimension)\n",
    "x[0][0][0]"
   ]
  },
  {
   "cell_type": "code",
   "execution_count": null,
   "metadata": {
    "colab": {
     "base_uri": "https://localhost:8080/"
    },
    "id": "ITGv8c0t9cep",
    "outputId": "e76ff67f-6b59-44f4-c5c3-36a357fecae6"
   },
   "outputs": [
    {
     "data": {
      "text/plain": [
       "tensor(5)"
      ]
     },
     "execution_count": 113,
     "metadata": {},
     "output_type": "execute_result"
    }
   ],
   "source": [
    "x[0][1][1]"
   ]
  },
  {
   "cell_type": "code",
   "execution_count": null,
   "metadata": {
    "colab": {
     "base_uri": "https://localhost:8080/"
    },
    "id": "5iaRsDC99zEE",
    "outputId": "bd5f54b0-5c09-43b1-ff0a-f05846c96781"
   },
   "outputs": [
    {
     "data": {
      "text/plain": [
       "tensor(9)"
      ]
     },
     "execution_count": 114,
     "metadata": {},
     "output_type": "execute_result"
    }
   ],
   "source": [
    "x[0][2][2]"
   ]
  },
  {
   "cell_type": "code",
   "execution_count": null,
   "metadata": {
    "colab": {
     "base_uri": "https://localhost:8080/"
    },
    "id": "p8wX9P-U91UY",
    "outputId": "57ef1fc8-f446-4893-c9f3-d7645720bc46"
   },
   "outputs": [
    {
     "data": {
      "text/plain": [
       "tensor([[1, 2, 3]])"
      ]
     },
     "execution_count": 115,
     "metadata": {},
     "output_type": "execute_result"
    }
   ],
   "source": [
    "# You can also use \":\" to select \"all\" of a target dimension\n",
    "x[:,0]"
   ]
  },
  {
   "cell_type": "code",
   "execution_count": null,
   "metadata": {
    "colab": {
     "base_uri": "https://localhost:8080/"
    },
    "id": "W0khjEAD-tB1",
    "outputId": "9abd6eaa-47c6-4925-c14f-556387bce5d0"
   },
   "outputs": [
    {
     "data": {
      "text/plain": [
       "tensor([[2, 5, 8]])"
      ]
     },
     "execution_count": 116,
     "metadata": {},
     "output_type": "execute_result"
    }
   ],
   "source": [
    "# Get all values of 0th and 1st dimensions but only index 1 of 2nd dimension\n",
    "x[:,:,1]"
   ]
  },
  {
   "cell_type": "code",
   "execution_count": null,
   "metadata": {
    "colab": {
     "base_uri": "https://localhost:8080/"
    },
    "id": "nEsrBGOZ_Y5h",
    "outputId": "64e8dd55-9b0b-401f-84df-7fb9c3948e55"
   },
   "outputs": [
    {
     "data": {
      "text/plain": [
       "tensor([5])"
      ]
     },
     "execution_count": 117,
     "metadata": {},
     "output_type": "execute_result"
    }
   ],
   "source": [
    "# Get all values of the 0th dimension but only the 1st index value of 1st and 2nd dimension\n",
    "x[:,1,1]"
   ]
  },
  {
   "cell_type": "code",
   "execution_count": null,
   "metadata": {
    "colab": {
     "base_uri": "https://localhost:8080/"
    },
    "id": "TIt8caqNABcO",
    "outputId": "89ff525a-ae89-44e9-b66e-60993c18bbfa"
   },
   "outputs": [
    {
     "data": {
      "text/plain": [
       "tensor([1, 2, 3])"
      ]
     },
     "execution_count": 118,
     "metadata": {},
     "output_type": "execute_result"
    }
   ],
   "source": [
    "# Get index 0 of 0th dimension and 1st dimension and all values of 2nd dimension\n",
    "x[0,0,:]"
   ]
  },
  {
   "cell_type": "code",
   "execution_count": null,
   "metadata": {
    "colab": {
     "base_uri": "https://localhost:8080/"
    },
    "id": "WWBGH8u-AUM2",
    "outputId": "8dd0b054-fed1-4a2c-ecfe-dc97c98acad7"
   },
   "outputs": [
    {
     "data": {
      "text/plain": [
       "tensor(9)"
      ]
     },
     "execution_count": 119,
     "metadata": {},
     "output_type": "execute_result"
    }
   ],
   "source": [
    "# Index on x to return 9\n",
    "x[0,2,2]"
   ]
  },
  {
   "cell_type": "code",
   "execution_count": null,
   "metadata": {
    "colab": {
     "base_uri": "https://localhost:8080/"
    },
    "id": "_PlRYnyRAzpH",
    "outputId": "49572dc5-a92a-4830-8a7b-1da59092f45b"
   },
   "outputs": [
    {
     "data": {
      "text/plain": [
       "tensor([[3, 6, 9]])"
      ]
     },
     "execution_count": 120,
     "metadata": {},
     "output_type": "execute_result"
    }
   ],
   "source": [
    "# Index on x to return 3,6,9\n",
    "x[:,:,2]"
   ]
  },
  {
   "cell_type": "code",
   "execution_count": null,
   "metadata": {
    "id": "z1PJqeEVBBL1"
   },
   "outputs": [],
   "source": []
  },
  {
   "cell_type": "markdown",
   "metadata": {
    "id": "n1fd6SYDJJB0"
   },
   "source": [
    "# PyTorch tensors and NumPy\n",
    "### NumPy is a popular scientific Python numerical computing library.\n",
    "And becasue of this, PyTorch has functionality to interact with it."
   ]
  },
  {
   "cell_type": "markdown",
   "metadata": {
    "id": "xtxHUXIBJOmA"
   },
   "source": [
    "* Data in NumPy, want in PyTorch tensor -> `torch.from_numpy(ndarray)`\n",
    "* PyTorch tensor -> NumPy -> `torch.Tensor.numpy()`"
   ]
  },
  {
   "cell_type": "code",
   "execution_count": null,
   "metadata": {
    "id": "O35OuXpoK76g"
   },
   "outputs": [],
   "source": [
    "# NumPy array to tensor\n",
    "import torch\n",
    "import numpy as np"
   ]
  },
  {
   "cell_type": "code",
   "execution_count": null,
   "metadata": {
    "colab": {
     "base_uri": "https://localhost:8080/"
    },
    "id": "OBz3hKgOLKga",
    "outputId": "04a6b91c-c3de-4387-db3a-6feca8110603"
   },
   "outputs": [
    {
     "data": {
      "text/plain": [
       "(array([1., 2., 3., 4., 5., 6., 7.]),\n",
       " tensor([1., 2., 3., 4., 5., 6., 7.], dtype=torch.float64))"
      ]
     },
     "execution_count": 122,
     "metadata": {},
     "output_type": "execute_result"
    }
   ],
   "source": [
    "array = np.arange(1.0,8.0)\n",
    "tensor=torch.from_numpy(array)\n",
    "array, tensor"
   ]
  },
  {
   "cell_type": "code",
   "execution_count": null,
   "metadata": {
    "colab": {
     "base_uri": "https://localhost:8080/"
    },
    "id": "1HCNxDssLUm8",
    "outputId": "4075edfc-8d99-44bc-c4d6-e08efdc929f0"
   },
   "outputs": [
    {
     "data": {
      "text/plain": [
       "dtype('float64')"
      ]
     },
     "execution_count": 123,
     "metadata": {},
     "output_type": "execute_result"
    }
   ],
   "source": [
    "array.dtype"
   ]
  },
  {
   "cell_type": "code",
   "execution_count": null,
   "metadata": {
    "colab": {
     "base_uri": "https://localhost:8080/"
    },
    "id": "PEFt-yczLbf5",
    "outputId": "3471a469-863d-4825-fe06-5bba582dc216"
   },
   "outputs": [
    {
     "data": {
      "text/plain": [
       "torch.float64"
      ]
     },
     "execution_count": 124,
     "metadata": {},
     "output_type": "execute_result"
    }
   ],
   "source": [
    "tensor.dtype"
   ]
  },
  {
   "cell_type": "code",
   "execution_count": null,
   "metadata": {
    "colab": {
     "base_uri": "https://localhost:8080/"
    },
    "id": "QaI3KIf4Lcog",
    "outputId": "4e735e0b-b931-4a40-8257-8530c6e9e5e4"
   },
   "outputs": [
    {
     "data": {
      "text/plain": [
       "torch.float32"
      ]
     },
     "execution_count": 125,
     "metadata": {},
     "output_type": "execute_result"
    }
   ],
   "source": [
    "torch.arange(1.0,8.0).dtype"
   ]
  },
  {
   "cell_type": "markdown",
   "metadata": {
    "id": "n0hanNGxLkTe"
   },
   "source": [
    "From NumPy to PyTorch conversion the datatype is float64 which is NumPy's default datatype unless specified otherwise, while directly creating an array in torch the datatype is float32.\n",
    "\n",
    "`tensor=torch.from_numpy(array).type(torch.float32)`"
   ]
  },
  {
   "cell_type": "markdown",
   "metadata": {
    "id": "eP3QwlRvL7a4"
   },
   "source": [
    "Change the value of array, what will this do to `tensor`?"
   ]
  },
  {
   "cell_type": "code",
   "execution_count": null,
   "metadata": {
    "colab": {
     "base_uri": "https://localhost:8080/"
    },
    "id": "sh_NXHqbMkAN",
    "outputId": "e57e31c7-437c-46b8-a191-0358ccec225c"
   },
   "outputs": [
    {
     "data": {
      "text/plain": [
       "(array([2., 3., 4., 5., 6., 7., 8.]),\n",
       " tensor([1., 2., 3., 4., 5., 6., 7.], dtype=torch.float64))"
      ]
     },
     "execution_count": 126,
     "metadata": {},
     "output_type": "execute_result"
    }
   ],
   "source": [
    "array=array+1\n",
    "array,tensor"
   ]
  },
  {
   "cell_type": "code",
   "execution_count": null,
   "metadata": {
    "colab": {
     "base_uri": "https://localhost:8080/"
    },
    "id": "_P6Rjra2Mn5o",
    "outputId": "1bd79c70-5c1a-44d7-fb3b-a0fab9b96c04"
   },
   "outputs": [
    {
     "data": {
      "text/plain": [
       "tensor([3., 4., 5., 6., 7., 8., 9.], dtype=torch.float64)"
      ]
     },
     "execution_count": 127,
     "metadata": {},
     "output_type": "execute_result"
    }
   ],
   "source": [
    "tensor2=torch.from_numpy(array+1)\n",
    "tensor2"
   ]
  },
  {
   "cell_type": "code",
   "execution_count": null,
   "metadata": {
    "colab": {
     "base_uri": "https://localhost:8080/"
    },
    "id": "MO72ScTdMy1m",
    "outputId": "67e9d2ee-7cfc-4f88-a9b5-4f2342f864c8"
   },
   "outputs": [
    {
     "data": {
      "text/plain": [
       "(tensor([1., 1., 1., 1., 1., 1., 1.]),\n",
       " array([1., 1., 1., 1., 1., 1., 1.], dtype=float32))"
      ]
     },
     "execution_count": 128,
     "metadata": {},
     "output_type": "execute_result"
    }
   ],
   "source": [
    "# Tensor to NumPy array\n",
    "tensor = torch.ones(7)\n",
    "numpy_tensor = tensor.numpy()\n",
    "tensor, numpy_tensor"
   ]
  },
  {
   "cell_type": "code",
   "execution_count": null,
   "metadata": {
    "colab": {
     "base_uri": "https://localhost:8080/"
    },
    "id": "5qAucHGpNsph",
    "outputId": "026cb248-6925-490e-a4b4-11102ad7c9fc"
   },
   "outputs": [
    {
     "data": {
      "text/plain": [
       "dtype('float32')"
      ]
     },
     "execution_count": 129,
     "metadata": {},
     "output_type": "execute_result"
    }
   ],
   "source": [
    "numpy_tensor.dtype"
   ]
  },
  {
   "cell_type": "code",
   "execution_count": null,
   "metadata": {
    "colab": {
     "base_uri": "https://localhost:8080/"
    },
    "id": "F0qoJ8DLN_uW",
    "outputId": "c223b93e-fa27-453b-b279-ebd12f9e2fed"
   },
   "outputs": [
    {
     "data": {
      "text/plain": [
       "(tensor([2., 2., 2., 2., 2., 2., 2.]),\n",
       " array([1., 1., 1., 1., 1., 1., 1.], dtype=float32))"
      ]
     },
     "execution_count": 130,
     "metadata": {},
     "output_type": "execute_result"
    }
   ],
   "source": [
    "# Change the tensor, what happens to numpy tensor?\n",
    "tensor = tensor+1\n",
    "tensor, numpy_tensor"
   ]
  },
  {
   "cell_type": "code",
   "execution_count": null,
   "metadata": {
    "id": "TYaVneXuOOZ7"
   },
   "outputs": [],
   "source": []
  },
  {
   "cell_type": "markdown",
   "metadata": {
    "id": "Gh7kz0gqRbID"
   },
   "source": [
    "## Reproductibility (trying to take random out of random)\n",
    "In short how does a neural network learns:\n",
    "\n",
    "`start with random numbers -> tensor operations -> update random numbers to try and make them better representations of the data -> again -> again -> again....`\n",
    "\n",
    "To reduce the randomness in neural networks and PyTorch comes the concept of a **random seed**.\n",
    "\n",
    "Essentially what the random seed does is \"flavour\" the randomness."
   ]
  },
  {
   "cell_type": "code",
   "execution_count": null,
   "metadata": {
    "colab": {
     "base_uri": "https://localhost:8080/"
    },
    "id": "RaW2KLMWWIP1",
    "outputId": "0624f411-4a16-43d2-af3e-37cbfa2826e6"
   },
   "outputs": [
    {
     "data": {
      "text/plain": [
       "tensor([[0.3173, 0.4389, 0.6645],\n",
       "        [0.0479, 0.1875, 0.3245],\n",
       "        [0.6427, 0.5006, 0.0103]])"
      ]
     },
     "execution_count": 131,
     "metadata": {},
     "output_type": "execute_result"
    }
   ],
   "source": [
    "torch.rand(3,3)"
   ]
  },
  {
   "cell_type": "code",
   "execution_count": null,
   "metadata": {
    "colab": {
     "base_uri": "https://localhost:8080/"
    },
    "id": "MHkm5dF8CFXX",
    "outputId": "d29ef0f9-a926-4792-ae96-0516be7cd2c3"
   },
   "outputs": [
    {
     "name": "stdout",
     "output_type": "stream",
     "text": [
      "tensor([[0.0374, 0.6699, 0.1517, 0.4881],\n",
      "        [0.4101, 0.2074, 0.6105, 0.2373],\n",
      "        [0.1963, 0.0083, 0.3536, 0.7224]])\n",
      "tensor([[0.7588, 0.2050, 0.7219, 0.6797],\n",
      "        [0.4024, 0.1008, 0.4803, 0.8660],\n",
      "        [0.9710, 0.5516, 0.0174, 0.8173]])\n",
      "tensor([[False, False, False, False],\n",
      "        [False, False, False, False],\n",
      "        [False, False, False, False]])\n"
     ]
    }
   ],
   "source": [
    "import torch\n",
    "# Create two random tensors\n",
    "random_tensor_A = torch.rand(3,4)\n",
    "random_tensor_B = torch.rand(3,4)\n",
    "print(random_tensor_A)\n",
    "print(random_tensor_B)\n",
    "print(random_tensor_A==random_tensor_B)"
   ]
  },
  {
   "cell_type": "code",
   "execution_count": null,
   "metadata": {
    "colab": {
     "base_uri": "https://localhost:8080/"
    },
    "id": "uHEzFP1ZEMtU",
    "outputId": "18763f45-a49e-4de6-9c70-862cd93b91da"
   },
   "outputs": [
    {
     "name": "stdout",
     "output_type": "stream",
     "text": [
      "tensor([[0.8823, 0.9150, 0.3829, 0.9593],\n",
      "        [0.3904, 0.6009, 0.2566, 0.7936],\n",
      "        [0.9408, 0.1332, 0.9346, 0.5936]])\n",
      "tensor([[0.8823, 0.9150, 0.3829, 0.9593],\n",
      "        [0.3904, 0.6009, 0.2566, 0.7936],\n",
      "        [0.9408, 0.1332, 0.9346, 0.5936]])\n",
      "tensor([[True, True, True, True],\n",
      "        [True, True, True, True],\n",
      "        [True, True, True, True]])\n"
     ]
    }
   ],
   "source": [
    "# Let's make some random but reproducible tensors\n",
    "import torch\n",
    "\n",
    "# Set the random seed\n",
    "RANDOM_SEED = 42\n",
    "\n",
    "torch.manual_seed(RANDOM_SEED)           # ONLY WOKRS FOR THE NEXT ONE\n",
    "random_tensor_C = torch.rand(3,4)\n",
    "\n",
    "torch.manual_seed(RANDOM_SEED)          # NEED 1 MORE FOR TENSOR_D\n",
    "random_tensor_D = torch.rand(3,4)\n",
    "\n",
    "print(random_tensor_C)\n",
    "print(random_tensor_D)\n",
    "print(random_tensor_C==random_tensor_D)"
   ]
  },
  {
   "cell_type": "markdown",
   "metadata": {
    "id": "TN7d1_gtH68I"
   },
   "source": [
    "# **EXTRA RESOURCES FOR REPRODUCIBILITY:**\n",
    "* [https://pytorch.org/docs/stable/notes/randomness.html](https://)\n",
    "* [LINK - Wikipedia](https://en.wikipedia.org/wiki/Random_seed)"
   ]
  },
  {
   "cell_type": "code",
   "execution_count": null,
   "metadata": {
    "id": "21Tqz2BjJhgu"
   },
   "outputs": [],
   "source": []
  },
  {
   "cell_type": "code",
   "execution_count": null,
   "metadata": {
    "id": "eFlVsnq3Kbo_"
   },
   "outputs": [],
   "source": []
  },
  {
   "cell_type": "markdown",
   "metadata": {
    "id": "eg4S6J2sKb2g"
   },
   "source": [
    "### Different ways of accessing a GPU IN PyTorch"
   ]
  },
  {
   "cell_type": "markdown",
   "metadata": {
    "id": "uhU3bXwsKf0Y"
   },
   "source": [
    "##### Running tensors and PyTorch objects on the GPUs (and making faster computations)\n",
    "GPUs = faster computation on numbers, thanks to CUDA + NVIDIA hardware + PyTorch working behind the scenes to make evrything easy."
   ]
  },
  {
   "cell_type": "markdown",
   "metadata": {
    "id": "jiIMUrxDLIL2"
   },
   "source": [
    "# 1. Getting a GPU\n",
    "1. Easiest - `Use Google Colab for a free GPU` (options to upgrade as well)\n",
    "\n",
    "2. `Use your own GPU` - takes a little bit of setup and requires the investment of purchasing a GPU, there's lot of options... see this post for what option to go with: `https://timdettmers.com/2020/09/07/which-gpu-for-deep-learning/`\n",
    "\n",
    "3. `Use cloud computing - GCP, AWS, Azure`, these services allow you to rent computers on the cloud and then access them.\n",
    "\n",
    "For `2,3 PyTorch + GPU drivers (CUDA) takes a little bit of setting up`, to do this, refer to PyTorch setup documentation: https://pytorch.org/get-started/locally/"
   ]
  },
  {
   "cell_type": "markdown",
   "metadata": {
    "id": "l07ScPgTMOB6"
   },
   "source": [
    "# 2. Check for GPU access with PyTorch"
   ]
  },
  {
   "cell_type": "code",
   "execution_count": null,
   "metadata": {
    "colab": {
     "base_uri": "https://localhost:8080/"
    },
    "id": "v46882OURnds",
    "outputId": "d5ef5c0e-136e-4127-89cf-e14abac6c832"
   },
   "outputs": [
    {
     "data": {
      "text/plain": [
       "True"
      ]
     },
     "execution_count": 134,
     "metadata": {},
     "output_type": "execute_result"
    }
   ],
   "source": [
    "import torch\n",
    "torch.cuda.is_available()"
   ]
  },
  {
   "cell_type": "markdown",
   "metadata": {
    "id": "FFKc75JZRxB0"
   },
   "source": [
    "# 3. Setup device agnostic code"
   ]
  },
  {
   "cell_type": "code",
   "execution_count": null,
   "metadata": {
    "colab": {
     "base_uri": "https://localhost:8080/",
     "height": 36
    },
    "id": "mxzyALnBSItN",
    "outputId": "78127dd7-df26-4678-979d-b924c2aa126a"
   },
   "outputs": [
    {
     "data": {
      "application/vnd.google.colaboratory.intrinsic+json": {
       "type": "string"
      },
      "text/plain": [
       "'cuda'"
      ]
     },
     "execution_count": 135,
     "metadata": {},
     "output_type": "execute_result"
    }
   ],
   "source": [
    "device = \"cuda\" if torch.cuda.is_available() else \"cpu\"\n",
    "device"
   ]
  },
  {
   "cell_type": "code",
   "execution_count": null,
   "metadata": {
    "colab": {
     "base_uri": "https://localhost:8080/"
    },
    "id": "NjZMOtq0SsrK",
    "outputId": "c90afaf7-b711-46b8-9a66-5b9047d6e110"
   },
   "outputs": [
    {
     "data": {
      "text/plain": [
       "1"
      ]
     },
     "execution_count": 136,
     "metadata": {},
     "output_type": "execute_result"
    }
   ],
   "source": [
    "# Count number of devices\n",
    "torch.cuda.device_count()"
   ]
  },
  {
   "cell_type": "markdown",
   "metadata": {
    "id": "LvQM7L9hSysl"
   },
   "source": [
    "### **For PyTorch since it's capable of running on the GPU or CPU, it's best practice to setup device agnostic code:**\n",
    "\n",
    "https://pytorch.org/docs/stable/notes/cuda.html#best-practices\n",
    "\n",
    "E.g. run on GPU if available, else default to CPU."
   ]
  },
  {
   "cell_type": "code",
   "execution_count": null,
   "metadata": {
    "id": "W7s8WZ4uURX3"
   },
   "outputs": [],
   "source": []
  },
  {
   "cell_type": "markdown",
   "metadata": {
    "id": "Uet6Op3QTWWv"
   },
   "source": [
    "##### 3. Putting tensors (and models) on the GPU\n",
    "\n",
    "The reason we want our tensors/models on the GPU is because using a GPU results in faster computations."
   ]
  },
  {
   "cell_type": "code",
   "execution_count": null,
   "metadata": {
    "colab": {
     "base_uri": "https://localhost:8080/"
    },
    "id": "NE-70Wt6UQKD",
    "outputId": "1fe1aed1-0b8c-42d3-aecd-4b02b990d0a9"
   },
   "outputs": [
    {
     "name": "stdout",
     "output_type": "stream",
     "text": [
      "tensor([1, 2, 3]) cpu\n"
     ]
    }
   ],
   "source": [
    "# Create a tensor (default on the CPU)\n",
    "tensor = torch.tensor([1,2,3])\n",
    "\n",
    "# Tensor not on GPU\n",
    "print(tensor, tensor.device)"
   ]
  },
  {
   "cell_type": "code",
   "execution_count": null,
   "metadata": {
    "colab": {
     "base_uri": "https://localhost:8080/"
    },
    "id": "EkTJU8aTXngj",
    "outputId": "40d67802-031c-4cbf-b062-6d8d9e162405"
   },
   "outputs": [
    {
     "data": {
      "text/plain": [
       "tensor([1, 2, 3], device='cuda:0')"
      ]
     },
     "execution_count": 138,
     "metadata": {},
     "output_type": "execute_result"
    }
   ],
   "source": [
    "# Move tensor to GPU (if available)\n",
    "tensor_on_gpu = tensor.to(device)\n",
    "tensor_on_gpu"
   ]
  },
  {
   "cell_type": "markdown",
   "metadata": {
    "id": "FMYnPRHeYJrC"
   },
   "source": [
    "\n",
    "# Moving tensors back to the CPU\n"
   ]
  },
  {
   "cell_type": "markdown",
   "metadata": {
    "id": "KpfPEb3a4-nW"
   },
   "source": [
    "If tensor is on GPU, can't transform it to NumPy\n",
    "\n",
    "tensor_on_gpu.numpy()       # As we learned, 3rd issue is device issue"
   ]
  },
  {
   "cell_type": "markdown",
   "metadata": {
    "id": "lqt1rP6W554-"
   },
   "source": [
    "TypeError\n",
    "Traceback (most recent call last)\n",
    "If tensor is on CPU, can't transform to NumPy\n",
    "TypeError: can't convert cuda:O device type tensor to numpy. Use Tensor.cpu() to copy the tensor to host memory first."
   ]
  },
  {
   "cell_type": "code",
   "execution_count": null,
   "metadata": {
    "colab": {
     "base_uri": "https://localhost:8080/"
    },
    "id": "5zUuPdzT5MQ2",
    "outputId": "c52eb849-dd88-4512-8d2d-593ecff508fd"
   },
   "outputs": [
    {
     "data": {
      "text/plain": [
       "array([1, 2, 3])"
      ]
     },
     "execution_count": 142,
     "metadata": {},
     "output_type": "execute_result"
    }
   ],
   "source": [
    "# To fix the GPU tensor with NumPy issue, we can first set it to the CPU\n",
    "tensor_back_on_cpu = tensor_on_gpu.cpu().numpy()\n",
    "tensor_back_on_cpu"
   ]
  },
  {
   "cell_type": "code",
   "execution_count": null,
   "metadata": {
    "colab": {
     "base_uri": "https://localhost:8080/"
    },
    "id": "mcZpYOlb5nBQ",
    "outputId": "a5fdc28a-a743-4454-d9bd-f8959ade6ae0"
   },
   "outputs": [
    {
     "data": {
      "text/plain": [
       "tensor([1, 2, 3], device='cuda:0')"
      ]
     },
     "execution_count": 143,
     "metadata": {},
     "output_type": "execute_result"
    }
   ],
   "source": [
    "tensor_on_gpu"
   ]
  },
  {
   "cell_type": "markdown",
   "metadata": {
    "id": "BwTkuWlb29jN"
   },
   "source": [
    "#### Manan Kumar"
   ]
  }
 ],
 "metadata": {
  "accelerator": "GPU",
  "colab": {
   "gpuType": "T4",
   "provenance": []
  },
  "kernelspec": {
   "display_name": "Python 3",
   "name": "python3"
  },
  "language_info": {
   "name": "python"
  }
 },
 "nbformat": 4,
 "nbformat_minor": 0
}
